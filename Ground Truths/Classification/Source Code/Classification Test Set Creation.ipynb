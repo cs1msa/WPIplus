{
 "cells": [
  {
   "attachments": {},
   "cell_type": "markdown",
   "id": "9c499c3e",
   "metadata": {},
   "source": [
    "*Licensed under the MIT License. See LICENSE-CODE in the repository root for details.*\n",
    "\n",
    "*Copyright (c) 2025 Eleni Kamateri*\n",
    "\n",
    "### Classification Test Set Creation (Ground Truth)\n",
    "\n",
    "This script generates classification test sets (i.e., ground truth) based on specific criteria, using a CSV file that contains essential data for analyzing patent documents within a specific core vertical (e.g., EP).\n",
    "\n",
    "#### Overview\n",
    "\n",
    "The script is divided into two main parts:\n",
    "\n",
    "- Part I: Processes the available labels from the specific core vertical to determine which will be included in the test sets.\n",
    "- Part II: Selects patents that meet specific criteria to populate the test sets.\n",
    "\n",
    "### Test Set Alternatives (Part I)\n",
    "\n",
    "Four different test set variations can be generated:\n",
    "\n",
    "1. A test set containing all labels.\n",
    "2. A test set excluding outliers (labels within the 5%-95% range).\n",
    "3. A test set with well-represented labels (labels assigned to over 50 or 100 patents).\n",
    "4. A test set with few-shot labels (labels assigned to under 50 or 100 patents).\n",
    "    \n",
    "### Selection Criteria for Test Set (Part II)\n",
    "\n",
    "Patent documents or virtual patents included in the test sets must meet the following criteria:\n",
    "\n",
    "1. Complete textual fields (i.e., abstract, description, and claims).\n",
    "2. B kind code (i.e., B1, B2, B3, B6, B8, B9).\n",
    "3. Submitted in the last quarter of 2015 (after October 1, 2015).\n",
    "4. Contain at least one of the labels assigned to the specific test set.\n",
    "\n",
    "### Important Note\n",
    "\n",
    "To ensure accurate label processing and test set generation, virtual patents were created by merging different kind codes of the same patent, retaining the latest information for each field.\n",
    "\n",
    "### Configurable Parameters\n",
    "\n",
    "Researchers can modify the following parameters to customize the test set generation:\n",
    "\n",
    "**destination_path** – Path to the folder where the generated files will be stored. \n",
    "\n",
    "\n",
    "**csv_file_path** – Path to the CSV file containing data for the specific vertical.\n",
    "\n",
    "**sep** – Defines the separator used in the CSV file:\n",
    "\n",
    "        0: Semicolon (;)\n",
    "        \n",
    "        1: Comma (,)\n",
    "              \n",
    "**kind_code_selection** – Selects the type of documents for the test set:\n",
    "        \n",
    "        0: B documents (default).\n",
    "        \n",
    "        1: A documents (for cases like the WO core vertical, which only has A documents).\n",
    "        \n",
    "**date_selection** – Allows modification of the date criteria for selected documents.\n",
    "\n",
    "        20151000 (default).\n",
    "        \n",
    "**classification_selection** – Specifies the classification system used to create the test set:\n",
    "        \n",
    "        0: Main/Further classification labels\n",
    "        \n",
    "        1: IPCR labels\n",
    "        \n",
    "        2: CPC labels\n",
    "        \n",
    "The code below creates classification test sets for the #EP core vertical and IPCR labels."
   ]
  },
  {
   "cell_type": "markdown",
   "id": "652a3e7d",
   "metadata": {},
   "source": [
    "### Set the required parameters for the script"
   ]
  },
  {
   "cell_type": "code",
   "execution_count": 24,
   "id": "863e56e7",
   "metadata": {},
   "outputs": [],
   "source": [
    "filename1=\"1\"\n",
    "filename2=\"2\"\n",
    "filename3=\"3a\"\n",
    "filename4=\"3b\"\n",
    "filename5=\"4a\"\n",
    "filename6=\"4b\"\n",
    "destination_path=\"/YOUR_PATH/WPI-Dataset/\"\n",
    "csv_file_path='/YOUR_PATH/EP_csv_file_for_wpi_analysis.csv'\n",
    "sep=0\n",
    "kind_code_selection=0\n",
    "date_selection=20151000\n",
    "classification_selection=2"
   ]
  },
  {
   "cell_type": "markdown",
   "id": "hguRr7BD5F3q",
   "metadata": {
    "id": "hguRr7BD5F3q"
   },
   "source": [
    "### Import all required libraries for the script"
   ]
  },
  {
   "cell_type": "code",
   "execution_count": 25,
   "id": "Ab8Fy261ZeM9",
   "metadata": {
    "id": "Ab8Fy261ZeM9"
   },
   "outputs": [],
   "source": [
    "import pandas as pd\n",
    "from collections import Counter\n",
    "import matplotlib.pyplot as plt\n",
    "import numpy as np\n",
    "from sklearn.utils import shuffle\n",
    "from sklearn.preprocessing import MultiLabelBinarizer"
   ]
  },
  {
   "cell_type": "markdown",
   "id": "jlSog7u95S6P",
   "metadata": {
    "id": "jlSog7u95S6P"
   },
   "source": [
    "### Import the CSV file and load its data into a DataFrame"
   ]
  },
  {
   "cell_type": "code",
   "execution_count": 26,
   "id": "266af9c0",
   "metadata": {
    "colab": {
     "base_uri": "https://localhost:8080/",
     "height": 206
    },
    "executionInfo": {
     "elapsed": 2615,
     "status": "ok",
     "timestamp": 1738875912146,
     "user": {
      "displayName": "Eleni Kamateri",
      "userId": "17468520200409985303"
     },
     "user_tz": -120
    },
    "id": "266af9c0",
    "outputId": "1a0de3fe-c730-4c5b-8b6e-494422642c08"
   },
   "outputs": [
    {
     "name": "stdout",
     "output_type": "stream",
     "text": [
      "(552439, 11)\n"
     ]
    },
    {
     "data": {
      "text/html": [
       "<div>\n",
       "<style scoped>\n",
       "    .dataframe tbody tr th:only-of-type {\n",
       "        vertical-align: middle;\n",
       "    }\n",
       "\n",
       "    .dataframe tbody tr th {\n",
       "        vertical-align: top;\n",
       "    }\n",
       "\n",
       "    .dataframe thead th {\n",
       "        text-align: right;\n",
       "    }\n",
       "</style>\n",
       "<table border=\"1\" class=\"dataframe\">\n",
       "  <thead>\n",
       "    <tr style=\"text-align: right;\">\n",
       "      <th></th>\n",
       "      <th>Unnamed: 0</th>\n",
       "      <th>xml_file_name</th>\n",
       "      <th>ucid</th>\n",
       "      <th>date</th>\n",
       "      <th>main_classification</th>\n",
       "      <th>further_classification</th>\n",
       "      <th>classification_ipcr</th>\n",
       "      <th>classification_cpc</th>\n",
       "      <th>abstract_lang_en_exist</th>\n",
       "      <th>description_lang_en_exist</th>\n",
       "      <th>claims_lang_en_exist</th>\n",
       "    </tr>\n",
       "  </thead>\n",
       "  <tbody>\n",
       "    <tr>\n",
       "      <th>0</th>\n",
       "      <td>0</td>\n",
       "      <td>EP-2677851-A1.xml</td>\n",
       "      <td>EP-2677851-A1</td>\n",
       "      <td>20140101</td>\n",
       "      <td>NaN</td>\n",
       "      <td>NaN</td>\n",
       "      <td>A01B  79/02        20060101AFI20120911BHEP    ...</td>\n",
       "      <td>A01B  79/005       20130101 LI20150420BHEP    ...</td>\n",
       "      <td>1.0</td>\n",
       "      <td>1.0</td>\n",
       "      <td>1.0</td>\n",
       "    </tr>\n",
       "  </tbody>\n",
       "</table>\n",
       "</div>"
      ],
      "text/plain": [
       "   Unnamed: 0      xml_file_name           ucid      date main_classification  \\\n",
       "0           0  EP-2677851-A1.xml  EP-2677851-A1  20140101                 NaN   \n",
       "\n",
       "  further_classification                                classification_ipcr  \\\n",
       "0                    NaN  A01B  79/02        20060101AFI20120911BHEP    ...   \n",
       "\n",
       "                                  classification_cpc  abstract_lang_en_exist  \\\n",
       "0  A01B  79/005       20130101 LI20150420BHEP    ...                     1.0   \n",
       "\n",
       "   description_lang_en_exist  claims_lang_en_exist  \n",
       "0                        1.0                   1.0  "
      ]
     },
     "execution_count": 26,
     "metadata": {},
     "output_type": "execute_result"
    }
   ],
   "source": [
    "if sep==0:\n",
    "    DF = pd.read_csv(csv_file_path, header=0, delimiter=\";\") #, nrows=1000)\n",
    "elif sep==1:\n",
    "    DF = pd.read_csv(csv_file_path, header=0) #, nrows=1000)\n",
    "else:\n",
    "    print(\"Please provide a valid value for sep\")\n",
    "\n",
    "print(DF.shape)\n",
    "DF.head(1)"
   ]
  },
  {
   "cell_type": "markdown",
   "id": "08b88b18",
   "metadata": {},
   "source": [
    "### Identify the patent number and kind code, and append these fields to the initial DataFrame"
   ]
  },
  {
   "cell_type": "code",
   "execution_count": 27,
   "id": "0ab9924f",
   "metadata": {},
   "outputs": [],
   "source": [
    "DF['patent_number']=DF['xml_file_name'].str.split(\".\").str[0]\n",
    "DF['patent_number']=DF['patent_number'].str.split(\"-\").str[1:2]\n",
    "DF['patent_number']=DF['patent_number'].str.join('')\n",
    "\n",
    "DF['kind_code']=DF['xml_file_name'].str.split(\".\").str[0]\n",
    "DF['kind_code']=DF['kind_code'].str.split(\"-\").str[2:3]\n",
    "DF['kind_code']=DF['kind_code'].str.join('')\n",
    "\n",
    "DF['kind_code_letter']=DF['kind_code'].str[0]"
   ]
  },
  {
   "cell_type": "markdown",
   "id": "T0KBdSGl5k_B",
   "metadata": {
    "id": "T0KBdSGl5k_B"
   },
   "source": [
    "### Remove unnecessary columns\n",
    "Since we are creating classification test sets for IPCR labels, we delete the columns containing IPC and CPC labels."
   ]
  },
  {
   "cell_type": "code",
   "execution_count": 28,
   "id": "628856b0",
   "metadata": {
    "colab": {
     "base_uri": "https://localhost:8080/",
     "height": 188
    },
    "executionInfo": {
     "elapsed": 9164,
     "status": "ok",
     "timestamp": 1738875921308,
     "user": {
      "displayName": "Eleni Kamateri",
      "userId": "17468520200409985303"
     },
     "user_tz": -120
    },
    "id": "628856b0",
    "outputId": "ac5b993b-8db6-479c-d35e-590fadcde79b"
   },
   "outputs": [
    {
     "data": {
      "text/html": [
       "<div>\n",
       "<style scoped>\n",
       "    .dataframe tbody tr th:only-of-type {\n",
       "        vertical-align: middle;\n",
       "    }\n",
       "\n",
       "    .dataframe tbody tr th {\n",
       "        vertical-align: top;\n",
       "    }\n",
       "\n",
       "    .dataframe thead th {\n",
       "        text-align: right;\n",
       "    }\n",
       "</style>\n",
       "<table border=\"1\" class=\"dataframe\">\n",
       "  <thead>\n",
       "    <tr style=\"text-align: right;\">\n",
       "      <th></th>\n",
       "      <th>Unnamed: 0</th>\n",
       "      <th>xml_file_name</th>\n",
       "      <th>ucid</th>\n",
       "      <th>date</th>\n",
       "      <th>labels</th>\n",
       "      <th>abstract_lang_en_exist</th>\n",
       "      <th>description_lang_en_exist</th>\n",
       "      <th>claims_lang_en_exist</th>\n",
       "      <th>patent_number</th>\n",
       "      <th>kind_code</th>\n",
       "      <th>kind_code_letter</th>\n",
       "    </tr>\n",
       "  </thead>\n",
       "  <tbody>\n",
       "    <tr>\n",
       "      <th>0</th>\n",
       "      <td>0</td>\n",
       "      <td>EP-2677851-A1.xml</td>\n",
       "      <td>EP-2677851-A1</td>\n",
       "      <td>20140101</td>\n",
       "      <td>A01B  79/005       20130101 LI20150420BHEP    ...</td>\n",
       "      <td>1</td>\n",
       "      <td>1</td>\n",
       "      <td>1</td>\n",
       "      <td>2677851</td>\n",
       "      <td>A1</td>\n",
       "      <td>A</td>\n",
       "    </tr>\n",
       "  </tbody>\n",
       "</table>\n",
       "</div>"
      ],
      "text/plain": [
       "   Unnamed: 0      xml_file_name           ucid      date  \\\n",
       "0           0  EP-2677851-A1.xml  EP-2677851-A1  20140101   \n",
       "\n",
       "                                              labels  abstract_lang_en_exist  \\\n",
       "0  A01B  79/005       20130101 LI20150420BHEP    ...                       1   \n",
       "\n",
       "   description_lang_en_exist  claims_lang_en_exist patent_number kind_code  \\\n",
       "0                          1                     1       2677851        A1   \n",
       "\n",
       "  kind_code_letter  \n",
       "0                A  "
      ]
     },
     "execution_count": 28,
     "metadata": {},
     "output_type": "execute_result"
    }
   ],
   "source": [
    "if classification_selection==0:\n",
    "    DF['labels']=DF['main_classification'] + \", \" + DF['further_classification']\n",
    "    if 'classification_ipcr' in df.columns:\n",
    "        del DF['classification_ipcr']\n",
    "    if 'classification_cpc' in df.columns:\n",
    "        del DF['classification_cpc']     \n",
    "elif classification_selection==1:\n",
    "    DF=DF.rename(columns={'classification_ipcr': 'labels'})\n",
    "    if 'main_classification' in DF.columns:\n",
    "        del DF['main_classification']\n",
    "    if 'further_classification' in DF.columns:\n",
    "        del DF['further_classification']\n",
    "    if 'classification_cpc' in DF.columns:\n",
    "        del DF['classification_cpc'] \n",
    "elif classification_selection==2:\n",
    "    DF=DF.rename(columns={'classification_cpc': 'labels'})\n",
    "    if 'main_classification' in DF.columns:\n",
    "        del DF['main_classification']\n",
    "    if 'further_classification' in DF.columns:\n",
    "        del DF['further_classification']\n",
    "    if 'classification_ipcr' in DF.columns:\n",
    "        del DF['classification_ipcr'] \n",
    "else:\n",
    "    print(\"Please provide a valid value for classification_selection\")\n",
    "\n",
    "cols_to_replace = ['abstract_lang_en_exist', 'description_lang_en_exist', 'claims_lang_en_exist']\n",
    "DF[cols_to_replace] = DF[cols_to_replace].astype(int)\n",
    "\n",
    "DF.head(1)"
   ]
  },
  {
   "cell_type": "markdown",
   "id": "-F4fG2ky53cH",
   "metadata": {
    "id": "-F4fG2ky53cH"
   },
   "source": [
    "### Plot the distribution of files per kind code"
   ]
  },
  {
   "cell_type": "code",
   "execution_count": 29,
   "id": "4D_DCMcVGfIF",
   "metadata": {
    "colab": {
     "base_uri": "https://localhost:8080/",
     "height": 468
    },
    "executionInfo": {
     "elapsed": 320,
     "status": "ok",
     "timestamp": 1738875921624,
     "user": {
      "displayName": "Eleni Kamateri",
      "userId": "17468520200409985303"
     },
     "user_tz": -120
    },
    "id": "4D_DCMcVGfIF",
    "outputId": "480f8132-8f7c-4f36-fe96-ede67f6875be"
   },
   "outputs": [
    {
     "name": "stdout",
     "output_type": "stream",
     "text": [
      "Counter({'A1': 235722, 'B1': 133013, 'A4': 97787, 'A2': 47224, 'A3': 34146, 'B2': 1735, 'B8': 1601, 'B9': 529, 'A8': 359, 'A9': 250, 'B3': 73})\n"
     ]
    },
    {
     "data": {
      "image/png": "[encoded data removed]",
      "text/plain": [
       "<Figure size 432x288 with 1 Axes>"
      ]
     },
     "metadata": {
      "needs_background": "light"
     },
     "output_type": "display_data"
    }
   ],
   "source": [
    "print(Counter(DF['kind_code']))\n",
    "\n",
    "plot1 = Counter(DF['kind_code'])\n",
    "plt.bar(plot1.keys(), plot1.values())\n",
    "plt.show()"
   ]
  },
  {
   "cell_type": "markdown",
   "id": "A07h5M346Dqe",
   "metadata": {
    "id": "A07h5M346Dqe"
   },
   "source": [
    "### Find the number of single patents "
   ]
  },
  {
   "cell_type": "code",
   "execution_count": 30,
   "id": "sstNftZVSoxn",
   "metadata": {
    "colab": {
     "base_uri": "https://localhost:8080/"
    },
    "executionInfo": {
     "elapsed": 1591,
     "status": "ok",
     "timestamp": 1738875923213,
     "user": {
      "displayName": "Eleni Kamateri",
      "userId": "17468520200409985303"
     },
     "user_tz": -120
    },
    "id": "sstNftZVSoxn",
    "outputId": "5c1470f8-327b-471e-c7aa-33f50ae2fc6b"
   },
   "outputs": [
    {
     "data": {
      "text/plain": [
       "(469802,)"
      ]
     },
     "execution_count": 30,
     "metadata": {},
     "output_type": "execute_result"
    }
   ],
   "source": [
    "DF.groupby('patent_number').size().shape"
   ]
  },
  {
   "cell_type": "markdown",
   "id": "Y8_foMP-A-dc",
   "metadata": {
    "id": "Y8_foMP-A-dc"
   },
   "source": [
    "# Analysis of labels"
   ]
  },
  {
   "cell_type": "markdown",
   "id": "UL-y_8LZC3Nw",
   "metadata": {
    "id": "UL-y_8LZC3Nw"
   },
   "source": [
    "### Keep the latest kind code for each patent\n",
    "\n",
    "Since all kind codes of the same patent include classification labels, we keep their latest version. This ensures that we work with the most up-to-date classification labels assigned to the most recent kind code of each patent."
   ]
  },
  {
   "cell_type": "code",
   "execution_count": 31,
   "id": "ElcnzuF6DO29",
   "metadata": {
    "colab": {
     "base_uri": "https://localhost:8080/"
    },
    "executionInfo": {
     "elapsed": 2115,
     "status": "ok",
     "timestamp": 1738875925772,
     "user": {
      "displayName": "Eleni Kamateri",
      "userId": "17468520200409985303"
     },
     "user_tz": -120
    },
    "id": "ElcnzuF6DO29",
    "outputId": "fd32cd4f-b805-4f7d-e137-57487c36a577"
   },
   "outputs": [
    {
     "data": {
      "text/plain": [
       "(469744, 11)"
      ]
     },
     "execution_count": 31,
     "metadata": {},
     "output_type": "execute_result"
    }
   ],
   "source": [
    "DF_=DF.copy()\n",
    "DF_['labels']=DF_['labels'].fillna(\"\")\n",
    "DF_=DF_[DF_['labels']!='']\n",
    "DF_=DF_.sort_values(by = 'xml_file_name', ascending=True)\n",
    "DF_ = DF_.drop_duplicates(subset = [\"patent_number\"])\n",
    "DF_.shape"
   ]
  },
  {
   "cell_type": "markdown",
   "id": "ac587fc6",
   "metadata": {},
   "source": [
    "### Example of Label Processing"
   ]
  },
  {
   "cell_type": "code",
   "execution_count": 32,
   "id": "6a9237e6",
   "metadata": {},
   "outputs": [
    {
     "data": {
      "text/plain": [
       "'G01N33'"
      ]
     },
     "execution_count": 32,
     "metadata": {},
     "output_type": "execute_result"
    }
   ],
   "source": [
    "xx='G01N  33/53        20060101ALI20040803BHEP    '\n",
    "xx=xx.strip()\n",
    "xx=xx.rsplit('/')[0]\n",
    "xx=xx.replace(\" \", \"\")\n",
    "xx=xx.strip()\n",
    "xx"
   ]
  },
  {
   "cell_type": "markdown",
   "id": "KGphGlN8VHkB",
   "metadata": {
    "id": "KGphGlN8VHkB"
   },
   "source": [
    "### Find the group labels and their frequencies"
   ]
  },
  {
   "cell_type": "code",
   "execution_count": 33,
   "id": "_KZW58RotGYi",
   "metadata": {
    "colab": {
     "base_uri": "https://localhost:8080/",
     "height": 442
    },
    "executionInfo": {
     "elapsed": 119989,
     "status": "ok",
     "timestamp": 1738876062462,
     "user": {
      "displayName": "Eleni Kamateri",
      "userId": "17468520200409985303"
     },
     "user_tz": -120
    },
    "id": "_KZW58RotGYi",
    "outputId": "bf80e312-f1c0-40b7-eb59-fbe66c99a59f"
   },
   "outputs": [
    {
     "name": "stdout",
     "output_type": "stream",
     "text": [
      "(9706, 2) 3346298\n"
     ]
    },
    {
     "data": {
      "text/html": [
       "<div>\n",
       "<style scoped>\n",
       "    .dataframe tbody tr th:only-of-type {\n",
       "        vertical-align: middle;\n",
       "    }\n",
       "\n",
       "    .dataframe tbody tr th {\n",
       "        vertical-align: top;\n",
       "    }\n",
       "\n",
       "    .dataframe thead th {\n",
       "        text-align: right;\n",
       "    }\n",
       "</style>\n",
       "<table border=\"1\" class=\"dataframe\">\n",
       "  <thead>\n",
       "    <tr style=\"text-align: right;\">\n",
       "      <th></th>\n",
       "      <th>code</th>\n",
       "      <th>freq</th>\n",
       "    </tr>\n",
       "  </thead>\n",
       "  <tbody>\n",
       "    <tr>\n",
       "      <th>9706</th>\n",
       "      <td>A43D27</td>\n",
       "      <td>1</td>\n",
       "    </tr>\n",
       "    <tr>\n",
       "      <th>8361</th>\n",
       "      <td>E01H13</td>\n",
       "      <td>1</td>\n",
       "    </tr>\n",
       "    <tr>\n",
       "      <th>5538</th>\n",
       "      <td>C07G3</td>\n",
       "      <td>1</td>\n",
       "    </tr>\n",
       "    <tr>\n",
       "      <th>9311</th>\n",
       "      <td>C23C20</td>\n",
       "      <td>1</td>\n",
       "    </tr>\n",
       "    <tr>\n",
       "      <th>9308</th>\n",
       "      <td>D05B43</td>\n",
       "      <td>1</td>\n",
       "    </tr>\n",
       "    <tr>\n",
       "      <th>...</th>\n",
       "      <td>...</td>\n",
       "      <td>...</td>\n",
       "    </tr>\n",
       "    <tr>\n",
       "      <th>36</th>\n",
       "      <td>Y10T428</td>\n",
       "      <td>26415</td>\n",
       "    </tr>\n",
       "    <tr>\n",
       "      <th>102</th>\n",
       "      <td>H04N21</td>\n",
       "      <td>27216</td>\n",
       "    </tr>\n",
       "    <tr>\n",
       "      <th>48</th>\n",
       "      <td>G06F3</td>\n",
       "      <td>27749</td>\n",
       "    </tr>\n",
       "    <tr>\n",
       "      <th>452</th>\n",
       "      <td>A61B5</td>\n",
       "      <td>35086</td>\n",
       "    </tr>\n",
       "    <tr>\n",
       "      <th>4</th>\n",
       "      <td>A61K31</td>\n",
       "      <td>39828</td>\n",
       "    </tr>\n",
       "  </tbody>\n",
       "</table>\n",
       "<p>9706 rows × 2 columns</p>\n",
       "</div>"
      ],
      "text/plain": [
       "         code   freq\n",
       "9706   A43D27      1\n",
       "8361   E01H13      1\n",
       "5538    C07G3      1\n",
       "9311   C23C20      1\n",
       "9308   D05B43      1\n",
       "...       ...    ...\n",
       "36    Y10T428  26415\n",
       "102    H04N21  27216\n",
       "48      G06F3  27749\n",
       "452     A61B5  35086\n",
       "4      A61K31  39828\n",
       "\n",
       "[9706 rows x 2 columns]"
      ]
     },
     "execution_count": 33,
     "metadata": {},
     "output_type": "execute_result"
    }
   ],
   "source": [
    "# Split the 'labels' column by commas\n",
    "DF_['labels'] = DF_['labels'].str.split(',')\n",
    "\n",
    "# Extract the first part of each label after splitting by '/'\n",
    "DF_['labels'] = DF_['labels'].apply(lambda x: [item.split('/')[0] for item in x])\n",
    "DF_['labels'] = DF_['labels'].apply(lambda x: [item.replace(\" \", \"\") for item in x])\n",
    "\n",
    "expanded_DF=DF_['labels'].apply(pd.Series)\n",
    "\n",
    "# Transform 'na' values of the expanded table into empty content cells\n",
    "expanded_DF=expanded_DF.fillna(\"\")\n",
    "\n",
    "# Infer the group label (delete the last I/N character and  empty spaces from the beginning/end - if any)\n",
    "nums=expanded_DF.shape[1]\n",
    "for num in range (nums):\n",
    "    expanded_DF[num]=expanded_DF[num].str.strip()\n",
    "\n",
    "# Create a new table with group labels and their frequencies\n",
    "total_counter = Counter()\n",
    "\n",
    "for num in range(nums):\n",
    "    exec(f'counter_{num} = Counter(expanded_DF[num])')\n",
    "    exec(f'total_counter=total_counter+counter_{num}')\n",
    "\n",
    "code_, freq_ = [], []\n",
    "\n",
    "for code, freq in total_counter.items():\n",
    "    code_.append(code)\n",
    "    freq_.append(freq)\n",
    "\n",
    "DF_codes = pd.DataFrame()\n",
    "DF_codes['code'] = code_\n",
    "DF_codes['freq'] = freq_\n",
    "\n",
    "# Delete empty rows\n",
    "DF_codes=DF_codes[DF_codes['code']!='']\n",
    "\n",
    "# Sort based on freq\n",
    "DF_codes=DF_codes.sort_values(by = 'freq', ascending=True)\n",
    "\n",
    "print(DF_codes.shape, DF_codes['freq'].sum())\n",
    "DF_codes"
   ]
  },
  {
   "cell_type": "markdown",
   "id": "4ElGCgVGfqdD",
   "metadata": {
    "id": "4ElGCgVGfqdD"
   },
   "source": [
    "### Find the subclass labels and their frequencies"
   ]
  },
  {
   "cell_type": "code",
   "execution_count": 34,
   "id": "1f94e940",
   "metadata": {
    "colab": {
     "base_uri": "https://localhost:8080/",
     "height": 442
    },
    "executionInfo": {
     "elapsed": 1901,
     "status": "ok",
     "timestamp": 1738876064355,
     "user": {
      "displayName": "Eleni Kamateri",
      "userId": "17468520200409985303"
     },
     "user_tz": -120
    },
    "id": "1f94e940",
    "outputId": "86ba961b-037c-4a7f-9098-72e4e1ef33e4"
   },
   "outputs": [
    {
     "name": "stdout",
     "output_type": "stream",
     "text": [
      "(655, 4) 3346298\n"
     ]
    },
    {
     "data": {
      "text/html": [
       "<div>\n",
       "<style scoped>\n",
       "    .dataframe tbody tr th:only-of-type {\n",
       "        vertical-align: middle;\n",
       "    }\n",
       "\n",
       "    .dataframe tbody tr th {\n",
       "        vertical-align: top;\n",
       "    }\n",
       "\n",
       "    .dataframe thead th {\n",
       "        text-align: right;\n",
       "    }\n",
       "</style>\n",
       "<table border=\"1\" class=\"dataframe\">\n",
       "  <thead>\n",
       "    <tr style=\"text-align: right;\">\n",
       "      <th></th>\n",
       "      <th>code</th>\n",
       "      <th>freq</th>\n",
       "      <th>code_subclass</th>\n",
       "      <th>freq_subclass</th>\n",
       "    </tr>\n",
       "  </thead>\n",
       "  <tbody>\n",
       "    <tr>\n",
       "      <th>0</th>\n",
       "      <td>G06J3</td>\n",
       "      <td>1</td>\n",
       "      <td>G06J</td>\n",
       "      <td>1</td>\n",
       "    </tr>\n",
       "    <tr>\n",
       "      <th>1</th>\n",
       "      <td>C10H17</td>\n",
       "      <td>1</td>\n",
       "      <td>C10H</td>\n",
       "      <td>1</td>\n",
       "    </tr>\n",
       "    <tr>\n",
       "      <th>2</th>\n",
       "      <td>B62C1</td>\n",
       "      <td>2</td>\n",
       "      <td>B62C</td>\n",
       "      <td>2</td>\n",
       "    </tr>\n",
       "    <tr>\n",
       "      <th>3</th>\n",
       "      <td>G10B3</td>\n",
       "      <td>2</td>\n",
       "      <td>G10B</td>\n",
       "      <td>2</td>\n",
       "    </tr>\n",
       "    <tr>\n",
       "      <th>4</th>\n",
       "      <td>G03D13</td>\n",
       "      <td>1</td>\n",
       "      <td>G03D</td>\n",
       "      <td>2</td>\n",
       "    </tr>\n",
       "    <tr>\n",
       "      <th>...</th>\n",
       "      <td>...</td>\n",
       "      <td>...</td>\n",
       "      <td>...</td>\n",
       "      <td>...</td>\n",
       "    </tr>\n",
       "    <tr>\n",
       "      <th>650</th>\n",
       "      <td>G06F2015</td>\n",
       "      <td>2</td>\n",
       "      <td>G06F</td>\n",
       "      <td>92161</td>\n",
       "    </tr>\n",
       "    <tr>\n",
       "      <th>651</th>\n",
       "      <td>H01L2027</td>\n",
       "      <td>3</td>\n",
       "      <td>H01L</td>\n",
       "      <td>111824</td>\n",
       "    </tr>\n",
       "    <tr>\n",
       "      <th>652</th>\n",
       "      <td>H04L15</td>\n",
       "      <td>1</td>\n",
       "      <td>H04L</td>\n",
       "      <td>113106</td>\n",
       "    </tr>\n",
       "    <tr>\n",
       "      <th>653</th>\n",
       "      <td>A61B13</td>\n",
       "      <td>2</td>\n",
       "      <td>A61B</td>\n",
       "      <td>130952</td>\n",
       "    </tr>\n",
       "    <tr>\n",
       "      <th>654</th>\n",
       "      <td>A61K2008</td>\n",
       "      <td>4</td>\n",
       "      <td>A61K</td>\n",
       "      <td>137339</td>\n",
       "    </tr>\n",
       "  </tbody>\n",
       "</table>\n",
       "<p>655 rows × 4 columns</p>\n",
       "</div>"
      ],
      "text/plain": [
       "         code  freq code_subclass  freq_subclass\n",
       "0       G06J3     1          G06J              1\n",
       "1      C10H17     1          C10H              1\n",
       "2       B62C1     2          B62C              2\n",
       "3       G10B3     2          G10B              2\n",
       "4      G03D13     1          G03D              2\n",
       "..        ...   ...           ...            ...\n",
       "650  G06F2015     2          G06F          92161\n",
       "651  H01L2027     3          H01L         111824\n",
       "652    H04L15     1          H04L         113106\n",
       "653    A61B13     2          A61B         130952\n",
       "654  A61K2008     4          A61K         137339\n",
       "\n",
       "[655 rows x 4 columns]"
      ]
     },
     "execution_count": 34,
     "metadata": {},
     "output_type": "execute_result"
    }
   ],
   "source": [
    "DF_subclass=DF_codes.copy()\n",
    "DF_subclass['code_subclass']= None\n",
    "DF_subclass=DF_subclass.reset_index(drop=True)\n",
    "for i in range (DF_subclass['code'].shape[0]):\n",
    "    DF_subclass.loc[i, 'code_subclass']=DF_subclass['code'][i][0:4]\n",
    "DF_subclass['freq_subclass'] = DF_subclass.groupby('code_subclass')['freq'].transform('sum')\n",
    "DF_subclass = DF_subclass.drop_duplicates(subset = [\"code_subclass\"])\n",
    "DF_subclass=DF_subclass.sort_values(by = 'freq_subclass', ascending=True)\n",
    "DF_subclass=DF_subclass.reset_index(drop=True)\n",
    "\n",
    "print(DF_subclass.shape, DF_subclass['freq_subclass'].sum())\n",
    "DF_subclass"
   ]
  },
  {
   "cell_type": "markdown",
   "id": "NPFypa04B9dA",
   "metadata": {
    "id": "NPFypa04B9dA"
   },
   "source": [
    "### Plot the distribution of patents per section label"
   ]
  },
  {
   "cell_type": "code",
   "execution_count": 35,
   "id": "YaYQ37qWW32K",
   "metadata": {
    "colab": {
     "base_uri": "https://localhost:8080/",
     "height": 561
    },
    "executionInfo": {
     "elapsed": 236,
     "status": "ok",
     "timestamp": 1738876064585,
     "user": {
      "displayName": "Eleni Kamateri",
      "userId": "17468520200409985303"
     },
     "user_tz": -120
    },
    "id": "YaYQ37qWW32K",
    "outputId": "b0460d9d-7e6c-4b87-c83c-e05476ea9773"
   },
   "outputs": [
    {
     "name": "stderr",
     "output_type": "stream",
     "text": [
      "No handles with labels found to put in legend.\n"
     ]
    },
    {
     "name": "stdout",
     "output_type": "stream",
     "text": [
      "(9, 6) 3346298\n"
     ]
    },
    {
     "data": {
      "image/png": "[encoded data removed]",
      "text/plain": [
       "<Figure size 360x360 with 1 Axes>"
      ]
     },
     "metadata": {
      "needs_background": "light"
     },
     "output_type": "display_data"
    }
   ],
   "source": [
    "# Prepare the plot: labels_section vs number_patents\n",
    "DF_plot1_c=DF_subclass.copy()\n",
    "DF_plot1_c['code_section']= None\n",
    "DF_plot1_c=DF_plot1_c.reset_index(drop=True)\n",
    "for i in range (DF_plot1_c['code'].shape[0]):\n",
    "    DF_plot1_c.loc[i, 'code_section']=DF_plot1_c['code'][i][0:1]\n",
    "DF_plot1_c['freq_section'] = DF_plot1_c.groupby('code_section')['freq_subclass'].transform('sum')\n",
    "DF_plot1_c = DF_plot1_c.drop_duplicates(subset = [\"code_section\"])\n",
    "DF_plot1_c=DF_plot1_c.sort_values(by = 'code_section', ascending=True)\n",
    "DF_plot1_c=DF_plot1_c.reset_index(drop=True)\n",
    "\n",
    "print(DF_plot1_c.shape, DF_plot1_c['freq_section'].sum())\n",
    "\n",
    "x = DF_plot1_c['code_section']\n",
    "y = DF_plot1_c['freq_section']\n",
    "\n",
    "fig, ax = plt.subplots(figsize=(5,5))         # Sample figsize in inches\n",
    "\n",
    "plt.bar(x,y)#,label=\"\")\n",
    "\n",
    "plt.xlabel(\"section label\")\n",
    "plt.ylabel(\"number of patents\")\n",
    "plt.title(\"\")\n",
    "plt.legend()\n",
    "plt.show()"
   ]
  },
  {
   "cell_type": "markdown",
   "id": "Kto0RQ0uCDAk",
   "metadata": {
    "id": "Kto0RQ0uCDAk"
   },
   "source": [
    "### Define 4 test sets\n",
    "\n",
    "1. **All Labels** – Includes all available labels.\n",
    "2. **Excluding Outliers** – Removes labels in the 5%-95% range.\n",
    "3. **Well-Represented Labels** – Includes labels assigned to more than 50 or 100 patents.\n",
    "4. **Few-Shot Labels** – Includes labels assigned to fewer than 50 or 100 patents."
   ]
  },
  {
   "cell_type": "code",
   "execution_count": 36,
   "id": "2m_rl0_z9ZsD",
   "metadata": {
    "colab": {
     "base_uri": "https://localhost:8080/"
    },
    "executionInfo": {
     "elapsed": 5,
     "status": "ok",
     "timestamp": 1738876064585,
     "user": {
      "displayName": "Eleni Kamateri",
      "userId": "17468520200409985303"
     },
     "user_tz": -120
    },
    "id": "2m_rl0_z9ZsD",
    "outputId": "a8930def-f26e-4ff6-89e0-ad017376a9f7"
   },
   "outputs": [
    {
     "name": "stdout",
     "output_type": "stream",
     "text": [
      "Take all labels\n",
      "TS1 (655, 4)\n",
      "\n",
      "Exclude labels below 33 th element and above 622 th element\n",
      "TS2 (587, 4)\n",
      "\n",
      "Take labels with frequency over 50 and 100\n",
      "TS31 (598, 4)\n",
      "TS32 (566, 4)\n",
      "\n",
      "Take few-shot labels with frequency below 50 and 100\n",
      "TS41 (57, 4)\n",
      "TS42 (89, 4)\n"
     ]
    }
   ],
   "source": [
    "# A testing set with all labels\n",
    "TS1_codes=DF_subclass.copy()\n",
    "print(\"Take all labels\")\n",
    "print(\"TS1\", TS1_codes.shape)\n",
    "print(\"\")\n",
    "\n",
    "# A testing set excluding the outliers, 5%-95% of labels\n",
    "low_threshold_rank=round(DF_subclass.shape[0]*0.05)\n",
    "high_threshold_rank=round(DF_subclass.shape[0]*0.95)\n",
    "low_threshold=DF_subclass['freq_subclass'][low_threshold_rank-1]\n",
    "high_threshold=DF_subclass['freq_subclass'][high_threshold_rank-1]\n",
    "TS2_codes=DF_subclass[(DF_subclass['freq_subclass']>low_threshold) & (DF_subclass['freq_subclass']<high_threshold)]\n",
    "print(\"Exclude labels below\", low_threshold_rank, \"th element and above\", high_threshold_rank, \"th element\")\n",
    "print(\"TS2\", TS2_codes.shape)\n",
    "print(\"\")\n",
    "\n",
    "# A testing set with well-represented labels (over 50 or 100 patents)\n",
    "TS31_codes=DF_subclass[DF_subclass['freq_subclass']>50]\n",
    "TS32_codes=DF_subclass[DF_subclass['freq_subclass']>100]\n",
    "print(\"Take labels with frequency over 50 and 100\")\n",
    "print(\"TS31\", TS31_codes.shape)\n",
    "print(\"TS32\", TS32_codes.shape)\n",
    "print(\"\")\n",
    "\n",
    "# A testing set with few-shot labels (under 50 or 100)\n",
    "TS41_codes=DF_subclass[DF_subclass['freq_subclass']<=50]\n",
    "TS42_codes=DF_subclass[DF_subclass['freq_subclass']<=100]\n",
    "print(\"Take few-shot labels with frequency below 50 and 100\")\n",
    "print(\"TS41\", TS41_codes.shape)\n",
    "print(\"TS42\", TS42_codes.shape)"
   ]
  },
  {
   "cell_type": "markdown",
   "id": "iUk_tQ29gGBm",
   "metadata": {
    "id": "iUk_tQ29gGBm"
   },
   "source": [
    "### Populating the test sets with patents based on the following criteria:\n",
    "1. **Complete Textual Fields** – The patent must have all essential textual fields: abstract, description, and claims.\n",
    "2. **B Kind Code** – The patent must have a B kind code (B1, B2, B3, B6, B8, B9).\n",
    "3. **Submission Date** – The patent must have been submitted in the last quarter of 2015 (after October 1, 2015).\n",
    "4. **Relevant Labels** – The patent must contain at least one of the labels assigned in the specific test set."
   ]
  },
  {
   "cell_type": "markdown",
   "id": "0cQSfh3L91Sv",
   "metadata": {
    "id": "0cQSfh3L91Sv"
   },
   "source": [
    "### Filter patents based on the first and second criteria\n",
    "Retain only the patents that:\n",
    "1. Have all textual fields completed (i.e., abstract, description, and claims).\n",
    "2. Belong to a B kind code (i.e., B1, B2, B3, B6, B8, B9)."
   ]
  },
  {
   "cell_type": "code",
   "execution_count": 37,
   "id": "z0Mhsjv99zZg",
   "metadata": {
    "colab": {
     "base_uri": "https://localhost:8080/"
    },
    "executionInfo": {
     "elapsed": 4309,
     "status": "ok",
     "timestamp": 1738876083958,
     "user": {
      "displayName": "Eleni Kamateri",
      "userId": "17468520200409985303"
     },
     "user_tz": -120
    },
    "id": "z0Mhsjv99zZg",
    "outputId": "80ebee10-1237-4e96-96cf-01155b1cba9f"
   },
   "outputs": [
    {
     "name": "stdout",
     "output_type": "stream",
     "text": [
      "Number of patent documents: (19313, 11) Number of single patents: (9261, 5)\n"
     ]
    }
   ],
   "source": [
    "# Find patent_numbers being \"A\" or \"B\" kind code\n",
    "if kind_code_selection==0:\n",
    "    DF_1=DF[DF['kind_code_letter']=='B']\n",
    "elif kind_code_selection==1:\n",
    "    DF_1=DF[DF['kind_code_letter']=='A']\n",
    "else:\n",
    "    print(\"Please provide a valid value for kind_code_selection\")\n",
    "    \n",
    "DF_1 =DF_1.loc[:, ['patent_number']]\n",
    "\n",
    "# Find patent_numbers having all textual fields completed in any of the kind code documents\n",
    "DF_2=DF.copy()\n",
    "DF_2['adc_exist']= None\n",
    "DF_2['abstract_lang_en_exist'] = DF_2['abstract_lang_en_exist'].replace({0:np.nan})\n",
    "DF_2['description_lang_en_exist'] = DF_2['description_lang_en_exist'].replace({0:np.nan})\n",
    "DF_2['claims_lang_en_exist'] = DF_2['claims_lang_en_exist'].replace({0:np.nan})\n",
    "DF_2=DF_2.groupby('patent_number').agg({'abstract_lang_en_exist':'last', 'description_lang_en_exist': 'last', \\\n",
    "                                     'claims_lang_en_exist':'last', 'patent_number':'last'})\n",
    "DF_2 = DF_2.reset_index(drop=True)\n",
    "DF_2['adc_exist']=DF_2['abstract_lang_en_exist']+DF_2['description_lang_en_exist']+DF_2['claims_lang_en_exist']\n",
    "DF_2=DF_2[DF_2['adc_exist']==3]\n",
    "DF_2 =DF_2.loc[:, ['patent_number']]\n",
    "\n",
    "# Find patent_numbers satisfying both above criteria\n",
    "# Specifically, merge the two dataframes and since a patent_number may appear more than one time, delete duplicates.\n",
    "DF_12 = pd.merge(DF_1, DF_2, on=['patent_number'])\n",
    "DF_12 = DF_12.drop_duplicates(subset = [\"patent_number\"])\n",
    "DF_12=DF_12.sort_values(by = 'patent_number', ascending=True)\n",
    "\n",
    "# Create a list with the detected patent_numbers and remove from the initial dataframe the patent_numbers not listed in this list\n",
    "doc_number_list=DF_12['patent_number'].tolist()\n",
    "DF_subpart = DF[DF['patent_number'].isin(doc_number_list)]\n",
    "\n",
    "# In case of more than one kind codes for a patent, group them and keep the latest non empty field\n",
    "DF_subpart_merged=DF_subpart.groupby('patent_number').agg({'xml_file_name':'last', 'ucid':'last', 'date':'last', 'labels':'last', 'patent_number':'last'})\n",
    "DF_subpart_merged = DF_subpart_merged.reset_index(drop=True)\n",
    "print(\"Number of patent documents:\",DF_subpart.shape, \"Number of single patents:\", DF_subpart_merged.shape)"
   ]
  },
  {
   "cell_type": "markdown",
   "id": "DEED0Ge-FNxo",
   "metadata": {
    "id": "DEED0Ge-FNxo"
   },
   "source": [
    "### Filter patents based on the third criterion\n",
    "Retain only the patent documents that:\n",
    "- Were submitted in the last quarter of 2015 (i.e., after October 1, 2015)."
   ]
  },
  {
   "cell_type": "code",
   "execution_count": 38,
   "id": "D0P9lZC0v7UC",
   "metadata": {
    "colab": {
     "base_uri": "https://localhost:8080/"
    },
    "executionInfo": {
     "elapsed": 3,
     "status": "ok",
     "timestamp": 1738876083959,
     "user": {
      "displayName": "Eleni Kamateri",
      "userId": "17468520200409985303"
     },
     "user_tz": -120
    },
    "id": "D0P9lZC0v7UC",
    "outputId": "9cf5ce84-24e8-49f9-e372-705a847dce80"
   },
   "outputs": [
    {
     "name": "stdout",
     "output_type": "stream",
     "text": [
      "Number of patent documents: (2855, 11) Number of single patents: (2847, 5)\n"
     ]
    }
   ],
   "source": [
    "DF_subpart_2=DF_subpart[DF_subpart['date']>date_selection]\n",
    "DF_subpart_2_merged=DF_subpart_merged[DF_subpart_merged['date']>date_selection]\n",
    "print(\"Number of patent documents:\",DF_subpart_2.shape, \"Number of single patents:\", DF_subpart_2_merged.shape)"
   ]
  },
  {
   "cell_type": "code",
   "execution_count": 39,
   "id": "03f982aa",
   "metadata": {},
   "outputs": [],
   "source": [
    "#DF_subpart_2=DF_subpart_2_merged"
   ]
  },
  {
   "cell_type": "markdown",
   "id": "F1CH6FI-FeHJ",
   "metadata": {
    "id": "F1CH6FI-FeHJ"
   },
   "source": [
    "### Filter patents based on test set labels\n",
    "Retain only patents that:\n",
    "- Contain at least one label assigned in the specific test set."
   ]
  },
  {
   "cell_type": "code",
   "execution_count": 40,
   "id": "cXJlDspRaYs7",
   "metadata": {
    "colab": {
     "base_uri": "https://localhost:8080/"
    },
    "executionInfo": {
     "elapsed": 166998,
     "status": "ok",
     "timestamp": 1738876264475,
     "user": {
      "displayName": "Eleni Kamateri",
      "userId": "17468520200409985303"
     },
     "user_tz": -120
    },
    "id": "cXJlDspRaYs7",
    "outputId": "58660ead-bbcb-4e32-b6b2-ca589565bc4b"
   },
   "outputs": [
    {
     "name": "stdout",
     "output_type": "stream",
     "text": [
      "Creating test set 1\n"
     ]
    },
    {
     "name": "stderr",
     "output_type": "stream",
     "text": [
      "C:\\Users\\User\\.conda\\envs\\tensorflow_3_6_13_basic\\lib\\site-packages\\ipykernel_launcher.py:1: SettingWithCopyWarning: \n",
      "A value is trying to be set on a copy of a slice from a DataFrame.\n",
      "Try using .loc[row_indexer,col_indexer] = value instead\n",
      "\n",
      "See the caveats in the documentation: https://pandas.pydata.org/pandas-docs/stable/user_guide/indexing.html#returning-a-view-versus-a-copy\n",
      "  \"\"\"Entry point for launching an IPython kernel.\n"
     ]
    },
    {
     "name": "stdout",
     "output_type": "stream",
     "text": [
      "(2847, 2)\n",
      "\n",
      "Creating test set 2\n",
      "(2179, 2)\n",
      "\n",
      "Creating test sets 3.1 and 3.2\n",
      "(2846, 2) (2846, 2)\n",
      "\n",
      "Creating test sets 4.1 and 4.2\n",
      "(6, 2) (13, 2)\n"
     ]
    }
   ],
   "source": [
    "DF_subpart_2['labels']=DF_subpart_2['labels'].str.split(',')\n",
    "\n",
    "def remove_patents(gt_DF,patent_DF):\n",
    "\n",
    "    codes, doc_number = [], []\n",
    "    patent_number=0\n",
    "\n",
    "    patent_number= patent_DF.shape[0]\n",
    "    selected_codes=gt_DF['code_subclass'].tolist()\n",
    "    for i in range (len(selected_codes)):\n",
    "        code=selected_codes[i]\n",
    "        for j in range(patent_number):\n",
    "            for label in patent_DF['labels'][j]:\n",
    "                if str(code) in str(label):\n",
    "                    codes.append(code)\n",
    "                    doc_number.append(patent_DF['patent_number'][j])\n",
    "\n",
    "    newDF = pd.DataFrame()\n",
    "    newDF['patent_number'] = doc_number\n",
    "    newDF['labels'] = codes\n",
    "\n",
    "    return newDF\n",
    "\n",
    "DF_subpart_2=DF_subpart_2.reset_index(drop=True)\n",
    "\n",
    "print(\"Creating test set 1\")\n",
    "TS1 = remove_patents(TS1_codes,DF_subpart_2)\n",
    "TS1 = TS1.drop_duplicates(subset = [\"patent_number\", \"labels\"])\n",
    "TS1 = TS1.groupby('patent_number').agg(','.join)\n",
    "TS1=TS1.reset_index()\n",
    "print(TS1.shape)\n",
    "print(\"\")\n",
    "\n",
    "print(\"Creating test set 2\")\n",
    "TS2 = remove_patents(TS2_codes,DF_subpart_2)\n",
    "TS2 = TS2.drop_duplicates(subset = [\"patent_number\", \"labels\"])\n",
    "TS2 = TS2.groupby('patent_number').agg(','.join)\n",
    "TS2=TS2.reset_index()\n",
    "print(TS2.shape)\n",
    "print(\"\")\n",
    "\n",
    "print(\"Creating test sets 3.1 and 3.2\")\n",
    "TS31 = remove_patents(TS31_codes,DF_subpart_2)\n",
    "TS31 = TS31.drop_duplicates(subset = [\"patent_number\", \"labels\"])\n",
    "TS31 = TS31.groupby('patent_number').agg(','.join)\n",
    "TS31=TS31.reset_index()\n",
    "TS32 = remove_patents(TS32_codes,DF_subpart_2)\n",
    "TS32 = TS32.drop_duplicates(subset = [\"patent_number\", \"labels\"])\n",
    "TS32 = TS32.groupby('patent_number').agg(','.join)\n",
    "TS32=TS32.reset_index()\n",
    "print(TS31.shape, TS32.shape)\n",
    "print(\"\")\n",
    "\n",
    "print(\"Creating test sets 4.1 and 4.2\")\n",
    "TS41 = remove_patents(TS41_codes,DF_subpart_2)\n",
    "TS41 = TS41.drop_duplicates(subset = [\"patent_number\", \"labels\"])\n",
    "TS41 = TS41.groupby('patent_number').agg(','.join)\n",
    "TS41 = TS41.reset_index()\n",
    "TS42 = remove_patents(TS42_codes,DF_subpart_2)\n",
    "TS42 = TS42.drop_duplicates(subset = [\"patent_number\", \"labels\"])\n",
    "TS42 = TS42.groupby('patent_number').agg(','.join)\n",
    "TS42=TS42.reset_index()\n",
    "print(TS41.shape, TS42.shape)"
   ]
  },
  {
   "cell_type": "markdown",
   "id": "IlvajogBJeq8",
   "metadata": {
    "id": "IlvajogBJeq8"
   },
   "source": [
    "### Count matching labels in the specific test set"
   ]
  },
  {
   "cell_type": "code",
   "execution_count": 41,
   "id": "uDgjGz6uJ_6e",
   "metadata": {
    "colab": {
     "base_uri": "https://localhost:8080/"
    },
    "executionInfo": {
     "elapsed": 5,
     "status": "ok",
     "timestamp": 1738876264476,
     "user": {
      "displayName": "Eleni Kamateri",
      "userId": "17468520200409985303"
     },
     "user_tz": -120
    },
    "id": "uDgjGz6uJ_6e",
    "outputId": "61f3bd12-4133-41c8-f01e-42419da1b34a"
   },
   "outputs": [
    {
     "name": "stdout",
     "output_type": "stream",
     "text": [
      "In TS1, there are 488 labels out of 655 included in the test set labels\n",
      "In TS2, there are 453 labels out of 587 included in the test set labels\n",
      "In TS31, there are 483 labels out of 598 included in the test set labels\n",
      "In TS32, there are 476 labels out of 566 included in the test set labels\n",
      "In TS41, there are 5 labels out of 57 included in the test set labels\n",
      "In TS42, there are 12 labels out of 89 included in the test set labels\n"
     ]
    }
   ],
   "source": [
    "TS1['labels'] = TS1['labels'].str.split(',')\n",
    "TS2['labels'] = TS2['labels'].str.split(',')\n",
    "TS31['labels'] = TS31['labels'].str.split(',')\n",
    "TS32['labels'] = TS32['labels'].str.split(',')\n",
    "TS41['labels'] = TS41['labels'].str.split(',')\n",
    "TS42['labels'] = TS42['labels'].str.split(',')\n",
    "\n",
    "def encode_multilabels(trainDF):\n",
    "\n",
    "    labels=trainDF['labels']\n",
    "    multihop_encoder = MultiLabelBinarizer()\n",
    "    multihop_encoded = multihop_encoder.fit_transform(labels)\n",
    "    return np.shape(multihop_encoded)[1]\n",
    "\n",
    "print(\"In TS1, there are\", encode_multilabels(TS1), \"labels out of\", TS1_codes.shape[0],\"included in the test set labels\")\n",
    "print(\"In TS2, there are\", encode_multilabels(TS2), \"labels out of\", TS2_codes.shape[0],\"included in the test set labels\")\n",
    "print(\"In TS31, there are\", encode_multilabels(TS31), \"labels out of\", TS31_codes.shape[0],\"included in the test set labels\")\n",
    "print(\"In TS32, there are\", encode_multilabels(TS32), \"labels out of\", TS32_codes.shape[0],\"included in the test set labels\")\n",
    "print(\"In TS41, there are\", encode_multilabels(TS41), \"labels out of\", TS41_codes.shape[0],\"included in the test set labels\")\n",
    "print(\"In TS42, there are\", encode_multilabels(TS42), \"labels out of\", TS42_codes.shape[0],\"included in the test set labels\")"
   ]
  },
  {
   "cell_type": "markdown",
   "id": "h1lhXshIVIVG",
   "metadata": {
    "id": "h1lhXshIVIVG"
   },
   "source": [
    "### Retieve all available labels for each patent\n",
    "\n",
    "Return to the original dataset and extract all classification labels assigned to each patent, not just those included in the specific test set."
   ]
  },
  {
   "cell_type": "code",
   "execution_count": 42,
   "id": "LgYuQupBVIzU",
   "metadata": {
    "colab": {
     "base_uri": "https://localhost:8080/"
    },
    "executionInfo": {
     "elapsed": 1303,
     "status": "ok",
     "timestamp": 1738881525535,
     "user": {
      "displayName": "Eleni Kamateri",
      "userId": "17468520200409985303"
     },
     "user_tz": -120
    },
    "id": "LgYuQupBVIzU",
    "outputId": "c023bb71-a466-4acd-c724-b865d28b8b60"
   },
   "outputs": [
    {
     "name": "stdout",
     "output_type": "stream",
     "text": [
      "(6181, 5) (2847, 5)\n",
      "(4708, 5) (2179, 5)\n",
      "(6179, 5) (2846, 5)\n",
      "(6179, 5) (2846, 5)\n",
      "(13, 5) (6, 5)\n",
      "(29, 5) (13, 5)\n"
     ]
    }
   ],
   "source": [
    "def retrieve_TS_patent(TS, DF):\n",
    "    doc_number_list=TS['patent_number'].tolist()\n",
    "    DF_subpart_TS_pat_docs = DF[DF['patent_number'].isin(doc_number_list)]\n",
    "    DF_subpart_TS_pat_docs=DF_subpart_TS_pat_docs[['xml_file_name', 'ucid', 'date', 'labels', 'patent_number']]\n",
    "    DF_subpart_TS_pat=DF_subpart_TS_pat_docs.groupby('patent_number').agg({'xml_file_name':'last', 'ucid':'last', 'date':'last', 'labels':'last',\\\n",
    "    'patent_number':'last'})\n",
    "    DF_subpart_TS_pat_docs = DF_subpart_TS_pat_docs.reset_index(drop=True)\n",
    "    DF_subpart_TS_pat = DF_subpart_TS_pat.reset_index(drop=True)\n",
    "    print(DF_subpart_TS_pat_docs.shape, DF_subpart_TS_pat.shape)\n",
    "\n",
    "    return DF_subpart_TS_pat_docs, DF_subpart_TS_pat\n",
    "\n",
    "DF_TS1_pat_docs, DF_TS1_pat=retrieve_TS_patent(TS1, DF)\n",
    "DF_TS2_pat_docs, DF_TS2_pat=retrieve_TS_patent(TS2, DF)\n",
    "DF_TS31_pat_docs, DF_TS31_pat=retrieve_TS_patent(TS31, DF)\n",
    "DF_TS32_pat_docs, DF_TS32_pat=retrieve_TS_patent(TS32, DF)\n",
    "DF_TS41_pat_docs, DF_TS41_pat=retrieve_TS_patent(TS41, DF)\n",
    "DF_TS42_pat_docs, DF_TS42_pat=retrieve_TS_patent(TS42, DF)"
   ]
  },
  {
   "cell_type": "markdown",
   "id": "ByO4Jp8bgz0m",
   "metadata": {
    "id": "ByO4Jp8bgz0m"
   },
   "source": [
    "### Count additional labels in the test set\n",
    "Calculate the total number of labels present in the test set."
   ]
  },
  {
   "cell_type": "code",
   "execution_count": 43,
   "id": "IA_YHAaSZF3U",
   "metadata": {
    "id": "IA_YHAaSZF3U"
   },
   "outputs": [
    {
     "name": "stdout",
     "output_type": "stream",
     "text": [
      "In TS1, there are 488 labels included in the test set labels and  0 labels not included in the test set codes\n",
      "In TS2, there are 453 labels included in the test set labels and  35 labels not included in the test set codes\n",
      "In TS31, there are 483 labels included in the test set labels and  4 labels not included in the test set codes\n",
      "In TS32, there are 476 labels included in the test set labels and  11 labels not included in the test set codes\n",
      "In TS41, there are 5 labels included in the test set labels and  13 labels not included in the test set codes\n",
      "In TS42, there are 12 labels included in the test set labels and  24 labels not included in the test set codes\n"
     ]
    }
   ],
   "source": [
    "def expand(DF_TS):\n",
    "\n",
    "    # Expand\n",
    "    DF_TS['labels']=DF_TS['labels'].str.split(',')\n",
    "    expanded=DF_TS['labels'].apply(pd.Series)\n",
    "    expanded=expanded.fillna(\"\")\n",
    "\n",
    "    # Keep subgroup labels\n",
    "    nums=expanded.shape[1]\n",
    "    for num in range (nums):\n",
    "        expanded[num]=expanded[num].str[0:-1]\n",
    "        expanded[num]=expanded[num].str.strip()\n",
    "\n",
    "    #Create a new table with group labels and their frequences\n",
    "    total_counter = Counter()\n",
    "    for num in range(nums):\n",
    "        total_counter=total_counter+Counter(expanded[num])\n",
    "\n",
    "    code_, freq_ = [], []\n",
    "    for code, freq in total_counter.items():\n",
    "        code_.append(code)\n",
    "        freq_.append(freq)\n",
    "\n",
    "    final_DF = pd.DataFrame()\n",
    "    final_DF['code'] = code_\n",
    "    final_DF['freq'] = freq_\n",
    "\n",
    "    final_DF=final_DF[final_DF['code']!='']\n",
    "    final_DF=final_DF.drop_duplicates(subset = [\"code\"])\n",
    "\n",
    "    #Create a new table with subclass labels and their frequences\n",
    "    final_DF['code_subclass']= None\n",
    "    final_DF=final_DF.reset_index(drop=True)\n",
    "    for i in range (final_DF['code'].shape[0]):\n",
    "        final_DF.loc[i, 'code_subclass']=final_DF['code'][i][0:4]\n",
    "    final_DF['freq_subclass'] = final_DF.groupby('code_subclass')['freq'].transform('sum')\n",
    "    final_DF = final_DF.drop_duplicates(subset = [\"code_subclass\"])\n",
    "    final_DF=final_DF.sort_values(by = 'freq_subclass', ascending=True)\n",
    "    final_DF=final_DF.reset_index(drop=True)\n",
    "\n",
    "    return final_DF\n",
    "\n",
    "DF_TS1_codes=expand(DF_TS1_pat)\n",
    "DF_TS2_codes=expand(DF_TS2_pat)\n",
    "DF_TS31_codes=expand(DF_TS31_pat)\n",
    "DF_TS32_codes=expand(DF_TS32_pat)\n",
    "DF_TS41_codes=expand(DF_TS41_pat)\n",
    "DF_TS42_codes=expand(DF_TS42_pat)\n",
    "print(\"In TS1, there are\", encode_multilabels(TS1), \"labels included in the test set labels and \", DF_TS1_codes.shape[0]-encode_multilabels(TS1), \"labels not included in the test set codes\")\n",
    "print(\"In TS2, there are\", encode_multilabels(TS2), \"labels included in the test set labels and \", DF_TS2_codes.shape[0]-encode_multilabels(TS2), \"labels not included in the test set codes\")\n",
    "print(\"In TS31, there are\", encode_multilabels(TS31), \"labels included in the test set labels and \", DF_TS31_codes.shape[0]-encode_multilabels(TS31), \"labels not included in the test set codes\")\n",
    "print(\"In TS32, there are\", encode_multilabels(TS32), \"labels included in the test set labels and \", DF_TS32_codes.shape[0]-encode_multilabels(TS32), \"labels not included in the test set codes\")\n",
    "print(\"In TS41, there are\", encode_multilabels(TS41), \"labels included in the test set labels and \", DF_TS41_codes.shape[0]-encode_multilabels(TS41), \"labels not included in the test set codes\")\n",
    "print(\"In TS42, there are\", encode_multilabels(TS42), \"labels included in the test set labels and \", DF_TS42_codes.shape[0]-encode_multilabels(TS42), \"labels not included in the test set codes\")"
   ]
  },
  {
   "cell_type": "markdown",
   "id": "YHBsxdL4cW-o",
   "metadata": {
    "id": "YHBsxdL4cW-o"
   },
   "source": [
    "### Plot the distribution of patents per section label for all test sets"
   ]
  },
  {
   "cell_type": "code",
   "execution_count": 44,
   "id": "Jhz1Fw4yTA7i",
   "metadata": {
    "colab": {
     "base_uri": "https://localhost:8080/",
     "height": 1000
    },
    "executionInfo": {
     "elapsed": 1954,
     "status": "ok",
     "timestamp": 1738883503222,
     "user": {
      "displayName": "Eleni Kamateri",
      "userId": "17468520200409985303"
     },
     "user_tz": -120
    },
    "id": "Jhz1Fw4yTA7i",
    "outputId": "9c8cd8ff-dbcf-459f-b81c-4a3f4f5fad17"
   },
   "outputs": [
    {
     "name": "stderr",
     "output_type": "stream",
     "text": [
      "No handles with labels found to put in legend.\n"
     ]
    },
    {
     "data": {
      "image/png": "[encoded data removed]",
      "text/plain": [
       "<Figure size 360x360 with 1 Axes>"
      ]
     },
     "metadata": {
      "needs_background": "light"
     },
     "output_type": "display_data"
    },
    {
     "name": "stderr",
     "output_type": "stream",
     "text": [
      "No handles with labels found to put in legend.\n"
     ]
    },
    {
     "data": {
      "image/png": "[encoded data removed]",
      "text/plain": [
       "<Figure size 360x360 with 1 Axes>"
      ]
     },
     "metadata": {
      "needs_background": "light"
     },
     "output_type": "display_data"
    },
    {
     "name": "stderr",
     "output_type": "stream",
     "text": [
      "No handles with labels found to put in legend.\n"
     ]
    },
    {
     "data": {
      "image/png": "[encoded data removed]",
      "text/plain": [
       "<Figure size 360x360 with 1 Axes>"
      ]
     },
     "metadata": {
      "needs_background": "light"
     },
     "output_type": "display_data"
    },
    {
     "name": "stderr",
     "output_type": "stream",
     "text": [
      "No handles with labels found to put in legend.\n"
     ]
    },
    {
     "data": {
      "image/png": "[encoded data removed]",
      "text/plain": [
       "<Figure size 360x360 with 1 Axes>"
      ]
     },
     "metadata": {
      "needs_background": "light"
     },
     "output_type": "display_data"
    },
    {
     "name": "stderr",
     "output_type": "stream",
     "text": [
      "No handles with labels found to put in legend.\n"
     ]
    },
    {
     "data": {
      "image/png": "[encoded data removed]",
      "text/plain": [
       "<Figure size 360x360 with 1 Axes>"
      ]
     },
     "metadata": {
      "needs_background": "light"
     },
     "output_type": "display_data"
    },
    {
     "name": "stderr",
     "output_type": "stream",
     "text": [
      "No handles with labels found to put in legend.\n"
     ]
    },
    {
     "data": {
      "image/png": "[encoded data removed]",
      "text/plain": [
       "<Figure size 360x360 with 1 Axes>"
      ]
     },
     "metadata": {
      "needs_background": "light"
     },
     "output_type": "display_data"
    }
   ],
   "source": [
    "def plot_section(DF_TS_codes):# Prepare the plot: labels_section vs number_patents\n",
    "    DF_plot1_b=DF_TS_codes.copy()\n",
    "    DF_plot1_b['code_section']= None\n",
    "    DF_plot1_b=DF_plot1_b.reset_index(drop=True)\n",
    "    for i in range (DF_plot1_b['code'].shape[0]):\n",
    "        DF_plot1_b.loc[i, 'code_section']=DF_plot1_b['code'][i][0:1]\n",
    "    DF_plot1_b['freq_section'] = DF_plot1_b.groupby('code_section')['freq_subclass'].transform('sum')\n",
    "    DF_plot1_b = DF_plot1_b.drop_duplicates(subset = [\"code_section\"])\n",
    "    DF_plot1_b=DF_plot1_b.sort_values(by = 'code_section', ascending=True)\n",
    "    DF_plot1_b=DF_plot1_b.reset_index(drop=True)\n",
    "\n",
    "    x = DF_plot1_b['code_section']\n",
    "    y = DF_plot1_b['freq_section']\n",
    "\n",
    "    fig, ax = plt.subplots(figsize=(5,5))         # Sample figsize in inches\n",
    "\n",
    "    plt.bar(x,y)#,label=\"\")\n",
    "\n",
    "    plt.xlabel(\"section label\")\n",
    "    plt.ylabel(\"number of patents\")\n",
    "    plt.title(\"Bar\")\n",
    "    plt.legend()\n",
    "    plt.show()\n",
    "\n",
    "plot_section(DF_TS1_codes)\n",
    "plot_section(DF_TS2_codes)\n",
    "plot_section(DF_TS31_codes)\n",
    "plot_section(DF_TS32_codes)\n",
    "plot_section(DF_TS41_codes)\n",
    "plot_section(DF_TS42_codes)"
   ]
  },
  {
   "cell_type": "markdown",
   "id": "a6bfc009",
   "metadata": {},
   "source": [
    "### Store patent documents and single patents belonging to the test sets"
   ]
  },
  {
   "cell_type": "code",
   "execution_count": 45,
   "id": "ceb923a4",
   "metadata": {},
   "outputs": [],
   "source": [
    "#prefix\n",
    "if classification_selection==0:\n",
    "    prefix=\"ipc_\"\n",
    "elif classification_selection==1:\n",
    "    prefix=\"ipcr_\"\n",
    "if classification_selection==2:\n",
    "    prefix=\"cpc_\"\n",
    "#sufix\n",
    "suffix=\".csv\"    \n",
    "\n",
    "filename1=prefix+filename1+suffix\n",
    "filename2=prefix+filename2+suffix\n",
    "filename3=prefix+filename3+suffix\n",
    "filename4=prefix+filename4+suffix\n",
    "filename5=prefix+filename5+suffix\n",
    "filename6=prefix+filename6+suffix"
   ]
  },
  {
   "cell_type": "code",
   "execution_count": 46,
   "id": "oNpEc6fEi-SB",
   "metadata": {
    "id": "oNpEc6fEi-SB"
   },
   "outputs": [],
   "source": [
    "#Single patents\n",
    "CLTSname=\"CLTSep_VP_\"\n",
    "DF_TS1_pat.to_csv(destination_path+CLTSname+filename1, index=False)\n",
    "DF_TS2_pat.to_csv(destination_path+CLTSname+filename2, index=False)\n",
    "DF_TS31_pat.to_csv(destination_path+CLTSname+filename3, index=False)\n",
    "DF_TS32_pat.to_csv(destination_path+CLTSname+filename4, index=False)\n",
    "DF_TS41_pat.to_csv(destination_path+CLTSname+filename5, index=False)\n",
    "DF_TS42_pat.to_csv(destination_path+CLTSname+filename6, index=False)\n",
    "\n",
    "#All patent documents \n",
    "CLTSname=\"CLTSep_PatDocs_\"\n",
    "DF_TS1_pat_docs.to_csv(destination_path+CLTSname+filename1, index=False)\n",
    "DF_TS2_pat_docs.to_csv(destination_path+CLTSname+filename2, index=False)\n",
    "DF_TS31_pat_docs.to_csv(destination_path+CLTSname+filename3, index=False)\n",
    "DF_TS32_pat_docs.to_csv(destination_path+CLTSname+filename4, index=False)\n",
    "DF_TS41_pat_docs.to_csv(destination_path+CLTSname+filename5, index=False)\n",
    "DF_TS42_pat_docs.to_csv(destination_path+CLTSname+filename6, index=False)"
   ]
  }
 ],
 "metadata": {
  "colab": {
   "provenance": [
    {
     "file_id": "1zGbAMn-XSm6d8IebnDcsFzs0Tzayw7Ea",
     "timestamp": 1738226091508
    },
    {
     "file_id": "1osBOU0-CVQo6a77vQTFPjv_O7gDdgh_-",
     "timestamp": 1737980282687
    },
    {
     "file_id": "1mr4EiAzpelueg6H1MNvENO3257L_4qlb",
     "timestamp": 1737933478756
    }
   ]
  },
  "kernelspec": {
   "display_name": "Python 3",
   "language": "python",
   "name": "python3"
  },
  "language_info": {
   "codemirror_mode": {
    "name": "ipython",
    "version": 3
   },
   "file_extension": ".py",
   "mimetype": "text/x-python",
   "name": "python",
   "nbconvert_exporter": "python",
   "pygments_lexer": "ipython3",
   "version": "3.6.13"
  }
 },
 "nbformat": 4,
 "nbformat_minor": 5
}
