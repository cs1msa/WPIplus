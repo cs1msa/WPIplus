{
 "cells": [
  {
   "cell_type": "markdown",
   "id": "9c499c3e",
   "metadata": {},
   "source": [
    "*Licensed under the MIT License. See LICENSE-CODE in the repository root for details.*\n",
    "\n",
    "*Copyright (c) 2025 Eleni Kamateri*\n",
    "\n",
    "This script plots the number of single patents per section label (IPCR and CPC). It uses a CSV file containing essential data for analyzing patent documents within a specific core vertical (e.g., EP). "
   ]
  },
  {
   "cell_type": "markdown",
   "id": "652a3e7d",
   "metadata": {},
   "source": [
    "### Set the required parameters for the script"
   ]
  },
  {
   "cell_type": "code",
   "execution_count": 1,
   "id": "863e56e7",
   "metadata": {},
   "outputs": [],
   "source": [
    "csv_file_path='/YOUR_PATH/EP_csv_file_for_wpi_analysis.csv'\n",
    "sep=0\n",
    "classification_selection=1"
   ]
  },
  {
   "cell_type": "markdown",
   "id": "hguRr7BD5F3q",
   "metadata": {
    "id": "hguRr7BD5F3q"
   },
   "source": [
    "### Import all required libraries for the script"
   ]
  },
  {
   "cell_type": "code",
   "execution_count": 2,
   "id": "Ab8Fy261ZeM9",
   "metadata": {
    "id": "Ab8Fy261ZeM9"
   },
   "outputs": [],
   "source": [
    "import pandas as pd\n",
    "from collections import Counter\n",
    "import matplotlib.pyplot as plt\n",
    "import numpy as np\n",
    "from sklearn.utils import shuffle\n",
    "from sklearn.preprocessing import MultiLabelBinarizer"
   ]
  },
  {
   "cell_type": "markdown",
   "id": "jlSog7u95S6P",
   "metadata": {
    "id": "jlSog7u95S6P"
   },
   "source": [
    "### Import the CSV file and load its data into a DataFrame"
   ]
  },
  {
   "cell_type": "code",
   "execution_count": 3,
   "id": "266af9c0",
   "metadata": {
    "colab": {
     "base_uri": "https://localhost:8080/",
     "height": 206
    },
    "executionInfo": {
     "elapsed": 2615,
     "status": "ok",
     "timestamp": 1738875912146,
     "user": {
      "displayName": "Eleni Kamateri",
      "userId": "17468520200409985303"
     },
     "user_tz": -120
    },
    "id": "266af9c0",
    "outputId": "1a0de3fe-c730-4c5b-8b6e-494422642c08"
   },
   "outputs": [
    {
     "name": "stdout",
     "output_type": "stream",
     "text": [
      "(552439, 11)\n"
     ]
    },
    {
     "data": {
      "text/html": [
       "<div>\n",
       "<style scoped>\n",
       "    .dataframe tbody tr th:only-of-type {\n",
       "        vertical-align: middle;\n",
       "    }\n",
       "\n",
       "    .dataframe tbody tr th {\n",
       "        vertical-align: top;\n",
       "    }\n",
       "\n",
       "    .dataframe thead th {\n",
       "        text-align: right;\n",
       "    }\n",
       "</style>\n",
       "<table border=\"1\" class=\"dataframe\">\n",
       "  <thead>\n",
       "    <tr style=\"text-align: right;\">\n",
       "      <th></th>\n",
       "      <th>Unnamed: 0</th>\n",
       "      <th>xml_file_name</th>\n",
       "      <th>ucid</th>\n",
       "      <th>date</th>\n",
       "      <th>main_classification</th>\n",
       "      <th>further_classification</th>\n",
       "      <th>classification_ipcr</th>\n",
       "      <th>classification_cpc</th>\n",
       "      <th>abstract_lang_en_exist</th>\n",
       "      <th>description_lang_en_exist</th>\n",
       "      <th>claims_lang_en_exist</th>\n",
       "    </tr>\n",
       "  </thead>\n",
       "  <tbody>\n",
       "    <tr>\n",
       "      <th>0</th>\n",
       "      <td>0</td>\n",
       "      <td>EP-2677851-A1.xml</td>\n",
       "      <td>EP-2677851-A1</td>\n",
       "      <td>20140101</td>\n",
       "      <td>NaN</td>\n",
       "      <td>NaN</td>\n",
       "      <td>A01B  79/02        20060101AFI20120911BHEP    ...</td>\n",
       "      <td>A01B  79/005       20130101 LI20150420BHEP    ...</td>\n",
       "      <td>1.0</td>\n",
       "      <td>1.0</td>\n",
       "      <td>1.0</td>\n",
       "    </tr>\n",
       "  </tbody>\n",
       "</table>\n",
       "</div>"
      ],
      "text/plain": [
       "   Unnamed: 0      xml_file_name           ucid      date main_classification  \\\n",
       "0           0  EP-2677851-A1.xml  EP-2677851-A1  20140101                 NaN   \n",
       "\n",
       "  further_classification                                classification_ipcr  \\\n",
       "0                    NaN  A01B  79/02        20060101AFI20120911BHEP    ...   \n",
       "\n",
       "                                  classification_cpc  abstract_lang_en_exist  \\\n",
       "0  A01B  79/005       20130101 LI20150420BHEP    ...                     1.0   \n",
       "\n",
       "   description_lang_en_exist  claims_lang_en_exist  \n",
       "0                        1.0                   1.0  "
      ]
     },
     "execution_count": 3,
     "metadata": {},
     "output_type": "execute_result"
    }
   ],
   "source": [
    "if sep==0:\n",
    "    DF = pd.read_csv(csv_file_path, header=0, delimiter=\";\") #, nrows=1000)\n",
    "elif sep==1:\n",
    "    DF = pd.read_csv(csv_file_path, header=0) #, nrows=1000)\n",
    "else:\n",
    "    print(\"Please provide a valid value for sep\")\n",
    "\n",
    "print(DF.shape)\n",
    "DF.head(1)"
   ]
  },
  {
   "cell_type": "markdown",
   "id": "08b88b18",
   "metadata": {},
   "source": [
    "### Identify the patent number and kind code, and append these fields to the initial DataFrame"
   ]
  },
  {
   "cell_type": "code",
   "execution_count": 4,
   "id": "0ab9924f",
   "metadata": {},
   "outputs": [],
   "source": [
    "DF['patent_number']=DF['xml_file_name'].str.split(\".\").str[0]\n",
    "DF['patent_number']=DF['patent_number'].str.split(\"-\").str[1:2]\n",
    "DF['patent_number']=DF['patent_number'].str.join('')\n",
    "\n",
    "DF['kind_code']=DF['xml_file_name'].str.split(\".\").str[0]\n",
    "DF['kind_code']=DF['kind_code'].str.split(\"-\").str[2:3]\n",
    "DF['kind_code']=DF['kind_code'].str.join('')\n",
    "\n",
    "DF['kind_code_letter']=DF['kind_code'].str[0]"
   ]
  },
  {
   "cell_type": "markdown",
   "id": "T0KBdSGl5k_B",
   "metadata": {
    "id": "T0KBdSGl5k_B"
   },
   "source": [
    "### Remove unnecessary columns\n",
    "Since we are creating classification test sets for IPCR labels, we delete the columns containing IPC and CPC labels."
   ]
  },
  {
   "cell_type": "code",
   "execution_count": 5,
   "id": "628856b0",
   "metadata": {
    "colab": {
     "base_uri": "https://localhost:8080/",
     "height": 188
    },
    "executionInfo": {
     "elapsed": 9164,
     "status": "ok",
     "timestamp": 1738875921308,
     "user": {
      "displayName": "Eleni Kamateri",
      "userId": "17468520200409985303"
     },
     "user_tz": -120
    },
    "id": "628856b0",
    "outputId": "ac5b993b-8db6-479c-d35e-590fadcde79b"
   },
   "outputs": [
    {
     "data": {
      "text/html": [
       "<div>\n",
       "<style scoped>\n",
       "    .dataframe tbody tr th:only-of-type {\n",
       "        vertical-align: middle;\n",
       "    }\n",
       "\n",
       "    .dataframe tbody tr th {\n",
       "        vertical-align: top;\n",
       "    }\n",
       "\n",
       "    .dataframe thead th {\n",
       "        text-align: right;\n",
       "    }\n",
       "</style>\n",
       "<table border=\"1\" class=\"dataframe\">\n",
       "  <thead>\n",
       "    <tr style=\"text-align: right;\">\n",
       "      <th></th>\n",
       "      <th>Unnamed: 0</th>\n",
       "      <th>xml_file_name</th>\n",
       "      <th>ucid</th>\n",
       "      <th>date</th>\n",
       "      <th>labels</th>\n",
       "      <th>abstract_lang_en_exist</th>\n",
       "      <th>description_lang_en_exist</th>\n",
       "      <th>claims_lang_en_exist</th>\n",
       "      <th>patent_number</th>\n",
       "      <th>kind_code</th>\n",
       "      <th>kind_code_letter</th>\n",
       "    </tr>\n",
       "  </thead>\n",
       "  <tbody>\n",
       "    <tr>\n",
       "      <th>0</th>\n",
       "      <td>0</td>\n",
       "      <td>EP-2677851-A1.xml</td>\n",
       "      <td>EP-2677851-A1</td>\n",
       "      <td>20140101</td>\n",
       "      <td>A01B  79/02        20060101AFI20120911BHEP    ...</td>\n",
       "      <td>1</td>\n",
       "      <td>1</td>\n",
       "      <td>1</td>\n",
       "      <td>2677851</td>\n",
       "      <td>A1</td>\n",
       "      <td>A</td>\n",
       "    </tr>\n",
       "  </tbody>\n",
       "</table>\n",
       "</div>"
      ],
      "text/plain": [
       "   Unnamed: 0      xml_file_name           ucid      date  \\\n",
       "0           0  EP-2677851-A1.xml  EP-2677851-A1  20140101   \n",
       "\n",
       "                                              labels  abstract_lang_en_exist  \\\n",
       "0  A01B  79/02        20060101AFI20120911BHEP    ...                       1   \n",
       "\n",
       "   description_lang_en_exist  claims_lang_en_exist patent_number kind_code  \\\n",
       "0                          1                     1       2677851        A1   \n",
       "\n",
       "  kind_code_letter  \n",
       "0                A  "
      ]
     },
     "execution_count": 5,
     "metadata": {},
     "output_type": "execute_result"
    }
   ],
   "source": [
    "if classification_selection==0:\n",
    "    DF['labels']=DF['main_classification'] + \", \" + DF['further_classification']\n",
    "    if 'classification_ipcr' in df.columns:\n",
    "        del DF['classification_ipcr']\n",
    "    if 'classification_cpc' in df.columns:\n",
    "        del DF['classification_cpc']     \n",
    "elif classification_selection==1:\n",
    "    DF=DF.rename(columns={'classification_ipcr': 'labels'})\n",
    "    if 'main_classification' in DF.columns:\n",
    "        del DF['main_classification']\n",
    "    if 'further_classification' in DF.columns:\n",
    "        del DF['further_classification']\n",
    "    if 'classification_cpc' in DF.columns:\n",
    "        del DF['classification_cpc'] \n",
    "elif classification_selection==2:\n",
    "    DF=DF.rename(columns={'classification_cpc': 'labels'})\n",
    "    if 'main_classification' in DF.columns:\n",
    "        del DF['main_classification']\n",
    "    if 'further_classification' in DF.columns:\n",
    "        del DF['further_classification']\n",
    "    if 'classification_ipcr' in DF.columns:\n",
    "        del DF['classification_ipcr'] \n",
    "else:\n",
    "    print(\"Please provide a valid value for classification_selection\")\n",
    "\n",
    "cols_to_replace = ['abstract_lang_en_exist', 'description_lang_en_exist', 'claims_lang_en_exist']\n",
    "DF[cols_to_replace] = DF[cols_to_replace].astype(int)\n",
    "\n",
    "DF.head(1)"
   ]
  },
  {
   "cell_type": "markdown",
   "id": "Y8_foMP-A-dc",
   "metadata": {
    "id": "Y8_foMP-A-dc"
   },
   "source": [
    "# Analysis of labels"
   ]
  },
  {
   "cell_type": "markdown",
   "id": "UL-y_8LZC3Nw",
   "metadata": {
    "id": "UL-y_8LZC3Nw"
   },
   "source": [
    "### Keep the latest kind code for each patent\n",
    "\n",
    "Since all kind codes of the same patent include classification labels, we keep their latest version. This ensures that we work with the most up-to-date classification labels assigned to the most recent kind code of each patent."
   ]
  },
  {
   "cell_type": "code",
   "execution_count": 6,
   "id": "ElcnzuF6DO29",
   "metadata": {
    "colab": {
     "base_uri": "https://localhost:8080/"
    },
    "executionInfo": {
     "elapsed": 2115,
     "status": "ok",
     "timestamp": 1738875925772,
     "user": {
      "displayName": "Eleni Kamateri",
      "userId": "17468520200409985303"
     },
     "user_tz": -120
    },
    "id": "ElcnzuF6DO29",
    "outputId": "fd32cd4f-b805-4f7d-e137-57487c36a577"
   },
   "outputs": [
    {
     "data": {
      "text/plain": [
       "(469757, 11)"
      ]
     },
     "execution_count": 6,
     "metadata": {},
     "output_type": "execute_result"
    }
   ],
   "source": [
    "DF_=DF.copy()\n",
    "DF_['labels']=DF_['labels'].fillna(\"\")\n",
    "DF_=DF_[DF_['labels']!='']\n",
    "DF_=DF_.sort_values(by = 'xml_file_name', ascending=True)\n",
    "DF_ = DF_.drop_duplicates(subset = [\"patent_number\"])\n",
    "DF_.shape"
   ]
  },
  {
   "cell_type": "markdown",
   "id": "ac587fc6",
   "metadata": {},
   "source": [
    "### Example of Label Processing"
   ]
  },
  {
   "cell_type": "code",
   "execution_count": 7,
   "id": "6a9237e6",
   "metadata": {},
   "outputs": [
    {
     "data": {
      "text/plain": [
       "'G01N33'"
      ]
     },
     "execution_count": 7,
     "metadata": {},
     "output_type": "execute_result"
    }
   ],
   "source": [
    "xx='G01N  33/53        20060101ALI20040803BHEP    '\n",
    "xx=xx.strip()\n",
    "xx=xx.rsplit('/')[0]\n",
    "xx=xx.replace(\" \", \"\")\n",
    "xx=xx.strip()\n",
    "xx"
   ]
  },
  {
   "cell_type": "markdown",
   "id": "KGphGlN8VHkB",
   "metadata": {
    "id": "KGphGlN8VHkB"
   },
   "source": [
    "### Find the group labels and their frequencies"
   ]
  },
  {
   "cell_type": "code",
   "execution_count": 8,
   "id": "_KZW58RotGYi",
   "metadata": {
    "colab": {
     "base_uri": "https://localhost:8080/",
     "height": 442
    },
    "executionInfo": {
     "elapsed": 119989,
     "status": "ok",
     "timestamp": 1738876062462,
     "user": {
      "displayName": "Eleni Kamateri",
      "userId": "17468520200409985303"
     },
     "user_tz": -120
    },
    "id": "_KZW58RotGYi",
    "outputId": "bf80e312-f1c0-40b7-eb59-fbe66c99a59f"
   },
   "outputs": [
    {
     "name": "stdout",
     "output_type": "stream",
     "text": [
      "(7163, 2) 1618015\n"
     ]
    },
    {
     "data": {
      "text/html": [
       "<div>\n",
       "<style scoped>\n",
       "    .dataframe tbody tr th:only-of-type {\n",
       "        vertical-align: middle;\n",
       "    }\n",
       "\n",
       "    .dataframe tbody tr th {\n",
       "        vertical-align: top;\n",
       "    }\n",
       "\n",
       "    .dataframe thead th {\n",
       "        text-align: right;\n",
       "    }\n",
       "</style>\n",
       "<table border=\"1\" class=\"dataframe\">\n",
       "  <thead>\n",
       "    <tr style=\"text-align: right;\">\n",
       "      <th></th>\n",
       "      <th>code</th>\n",
       "      <th>freq</th>\n",
       "    </tr>\n",
       "  </thead>\n",
       "  <tbody>\n",
       "    <tr>\n",
       "      <th>7163</th>\n",
       "      <td>B29K73</td>\n",
       "      <td>1</td>\n",
       "    </tr>\n",
       "    <tr>\n",
       "      <th>6575</th>\n",
       "      <td>F22D7</td>\n",
       "      <td>1</td>\n",
       "    </tr>\n",
       "    <tr>\n",
       "      <th>6570</th>\n",
       "      <td>G05B24</td>\n",
       "      <td>1</td>\n",
       "    </tr>\n",
       "    <tr>\n",
       "      <th>6569</th>\n",
       "      <td>C25B7</td>\n",
       "      <td>1</td>\n",
       "    </tr>\n",
       "    <tr>\n",
       "      <th>5363</th>\n",
       "      <td>F16M9</td>\n",
       "      <td>1</td>\n",
       "    </tr>\n",
       "    <tr>\n",
       "      <th>...</th>\n",
       "      <td>...</td>\n",
       "      <td>...</td>\n",
       "    </tr>\n",
       "    <tr>\n",
       "      <th>10</th>\n",
       "      <td>A61K8</td>\n",
       "      <td>13155</td>\n",
       "    </tr>\n",
       "    <tr>\n",
       "      <th>112</th>\n",
       "      <td>H04N21</td>\n",
       "      <td>13724</td>\n",
       "    </tr>\n",
       "    <tr>\n",
       "      <th>14</th>\n",
       "      <td>G06F3</td>\n",
       "      <td>15448</td>\n",
       "    </tr>\n",
       "    <tr>\n",
       "      <th>109</th>\n",
       "      <td>H04L12</td>\n",
       "      <td>16618</td>\n",
       "    </tr>\n",
       "    <tr>\n",
       "      <th>143</th>\n",
       "      <td>A61K31</td>\n",
       "      <td>34223</td>\n",
       "    </tr>\n",
       "  </tbody>\n",
       "</table>\n",
       "<p>7163 rows × 2 columns</p>\n",
       "</div>"
      ],
      "text/plain": [
       "        code   freq\n",
       "7163  B29K73      1\n",
       "6575   F22D7      1\n",
       "6570  G05B24      1\n",
       "6569   C25B7      1\n",
       "5363   F16M9      1\n",
       "...      ...    ...\n",
       "10     A61K8  13155\n",
       "112   H04N21  13724\n",
       "14     G06F3  15448\n",
       "109   H04L12  16618\n",
       "143   A61K31  34223\n",
       "\n",
       "[7163 rows x 2 columns]"
      ]
     },
     "execution_count": 8,
     "metadata": {},
     "output_type": "execute_result"
    }
   ],
   "source": [
    "# Split the 'labels' column by commas\n",
    "DF_['labels'] = DF_['labels'].str.split(',')\n",
    "\n",
    "# Extract the first part of each label after splitting by '/'\n",
    "DF_['labels'] = DF_['labels'].apply(lambda x: [item.split('/')[0] for item in x])\n",
    "DF_['labels'] = DF_['labels'].apply(lambda x: [item.replace(\" \", \"\") for item in x])\n",
    "\n",
    "expanded_DF=DF_['labels'].apply(pd.Series)\n",
    "\n",
    "# Transform 'na' values of the expanded table into empty content cells\n",
    "expanded_DF=expanded_DF.fillna(\"\")\n",
    "\n",
    "# Infer the group label (delete the last I/N character and  empty spaces from the beginning/end - if any)\n",
    "nums=expanded_DF.shape[1]\n",
    "for num in range (nums):\n",
    "    expanded_DF[num]=expanded_DF[num].str.strip()\n",
    "\n",
    "# Create a new table with group labels and their frequencies\n",
    "total_counter = Counter()\n",
    "\n",
    "for num in range(nums):\n",
    "    exec(f'counter_{num} = Counter(expanded_DF[num])')\n",
    "    exec(f'total_counter=total_counter+counter_{num}')\n",
    "\n",
    "code_, freq_ = [], []\n",
    "\n",
    "for code, freq in total_counter.items():\n",
    "    code_.append(code)\n",
    "    freq_.append(freq)\n",
    "\n",
    "DF_codes = pd.DataFrame()\n",
    "DF_codes['code'] = code_\n",
    "DF_codes['freq'] = freq_\n",
    "\n",
    "# Delete empty rows\n",
    "DF_codes=DF_codes[DF_codes['code']!='']\n",
    "\n",
    "# Sort based on freq\n",
    "DF_codes=DF_codes.sort_values(by = 'freq', ascending=True)\n",
    "\n",
    "print(DF_codes.shape, DF_codes['freq'].sum())\n",
    "DF_codes"
   ]
  },
  {
   "cell_type": "markdown",
   "id": "4ElGCgVGfqdD",
   "metadata": {
    "id": "4ElGCgVGfqdD"
   },
   "source": [
    "### Find the subclass labels and their frequencies"
   ]
  },
  {
   "cell_type": "code",
   "execution_count": 9,
   "id": "1f94e940",
   "metadata": {
    "colab": {
     "base_uri": "https://localhost:8080/",
     "height": 442
    },
    "executionInfo": {
     "elapsed": 1901,
     "status": "ok",
     "timestamp": 1738876064355,
     "user": {
      "displayName": "Eleni Kamateri",
      "userId": "17468520200409985303"
     },
     "user_tz": -120
    },
    "id": "1f94e940",
    "outputId": "86ba961b-037c-4a7f-9098-72e4e1ef33e4"
   },
   "outputs": [
    {
     "name": "stdout",
     "output_type": "stream",
     "text": [
      "(632, 4) 1618015\n"
     ]
    },
    {
     "data": {
      "text/html": [
       "<div>\n",
       "<style scoped>\n",
       "    .dataframe tbody tr th:only-of-type {\n",
       "        vertical-align: middle;\n",
       "    }\n",
       "\n",
       "    .dataframe tbody tr th {\n",
       "        vertical-align: top;\n",
       "    }\n",
       "\n",
       "    .dataframe thead th {\n",
       "        text-align: right;\n",
       "    }\n",
       "</style>\n",
       "<table border=\"1\" class=\"dataframe\">\n",
       "  <thead>\n",
       "    <tr style=\"text-align: right;\">\n",
       "      <th></th>\n",
       "      <th>code</th>\n",
       "      <th>freq</th>\n",
       "      <th>code_subclass</th>\n",
       "      <th>freq_subclass</th>\n",
       "    </tr>\n",
       "  </thead>\n",
       "  <tbody>\n",
       "    <tr>\n",
       "      <th>0</th>\n",
       "      <td>B62C1</td>\n",
       "      <td>1</td>\n",
       "      <td>B62C</td>\n",
       "      <td>1</td>\n",
       "    </tr>\n",
       "    <tr>\n",
       "      <th>1</th>\n",
       "      <td>F24T10</td>\n",
       "      <td>1</td>\n",
       "      <td>F24T</td>\n",
       "      <td>1</td>\n",
       "    </tr>\n",
       "    <tr>\n",
       "      <th>2</th>\n",
       "      <td>C06F3</td>\n",
       "      <td>1</td>\n",
       "      <td>C06F</td>\n",
       "      <td>1</td>\n",
       "    </tr>\n",
       "    <tr>\n",
       "      <th>3</th>\n",
       "      <td>G09D3</td>\n",
       "      <td>2</td>\n",
       "      <td>G09D</td>\n",
       "      <td>2</td>\n",
       "    </tr>\n",
       "    <tr>\n",
       "      <th>4</th>\n",
       "      <td>B41B11</td>\n",
       "      <td>1</td>\n",
       "      <td>B41B</td>\n",
       "      <td>2</td>\n",
       "    </tr>\n",
       "    <tr>\n",
       "      <th>...</th>\n",
       "      <td>...</td>\n",
       "      <td>...</td>\n",
       "      <td>...</td>\n",
       "      <td>...</td>\n",
       "    </tr>\n",
       "    <tr>\n",
       "      <th>627</th>\n",
       "      <td>H04N20060101SI20070224RMEP</td>\n",
       "      <td>1</td>\n",
       "      <td>H04N</td>\n",
       "      <td>44094</td>\n",
       "    </tr>\n",
       "    <tr>\n",
       "      <th>628</th>\n",
       "      <td>H04L21</td>\n",
       "      <td>1</td>\n",
       "      <td>H04L</td>\n",
       "      <td>46569</td>\n",
       "    </tr>\n",
       "    <tr>\n",
       "      <th>629</th>\n",
       "      <td>H04W99</td>\n",
       "      <td>21</td>\n",
       "      <td>H04W</td>\n",
       "      <td>48527</td>\n",
       "    </tr>\n",
       "    <tr>\n",
       "      <th>630</th>\n",
       "      <td>G06F20060101AFI20130516BHEP</td>\n",
       "      <td>1</td>\n",
       "      <td>G06F</td>\n",
       "      <td>50155</td>\n",
       "    </tr>\n",
       "    <tr>\n",
       "      <th>631</th>\n",
       "      <td>A61K135</td>\n",
       "      <td>1</td>\n",
       "      <td>A61K</td>\n",
       "      <td>89857</td>\n",
       "    </tr>\n",
       "  </tbody>\n",
       "</table>\n",
       "<p>632 rows × 4 columns</p>\n",
       "</div>"
      ],
      "text/plain": [
       "                            code  freq code_subclass  freq_subclass\n",
       "0                          B62C1     1          B62C              1\n",
       "1                         F24T10     1          F24T              1\n",
       "2                          C06F3     1          C06F              1\n",
       "3                          G09D3     2          G09D              2\n",
       "4                         B41B11     1          B41B              2\n",
       "..                           ...   ...           ...            ...\n",
       "627   H04N20060101SI20070224RMEP     1          H04N          44094\n",
       "628                       H04L21     1          H04L          46569\n",
       "629                       H04W99    21          H04W          48527\n",
       "630  G06F20060101AFI20130516BHEP     1          G06F          50155\n",
       "631                      A61K135     1          A61K          89857\n",
       "\n",
       "[632 rows x 4 columns]"
      ]
     },
     "execution_count": 9,
     "metadata": {},
     "output_type": "execute_result"
    }
   ],
   "source": [
    "DF_subclass=DF_codes.copy()\n",
    "DF_subclass['code_subclass']= None\n",
    "DF_subclass=DF_subclass.reset_index(drop=True)\n",
    "for i in range (DF_subclass['code'].shape[0]):\n",
    "    DF_subclass.loc[i, 'code_subclass']=DF_subclass['code'][i][0:4]\n",
    "DF_subclass['freq_subclass'] = DF_subclass.groupby('code_subclass')['freq'].transform('sum')\n",
    "DF_subclass = DF_subclass.drop_duplicates(subset = [\"code_subclass\"])\n",
    "DF_subclass=DF_subclass.sort_values(by = 'freq_subclass', ascending=True)\n",
    "DF_subclass=DF_subclass.reset_index(drop=True)\n",
    "\n",
    "print(DF_subclass.shape, DF_subclass['freq_subclass'].sum())\n",
    "DF_subclass"
   ]
  },
  {
   "cell_type": "markdown",
   "id": "NPFypa04B9dA",
   "metadata": {
    "id": "NPFypa04B9dA"
   },
   "source": [
    "### Plot the distribution of patents per section label"
   ]
  },
  {
   "cell_type": "code",
   "execution_count": 11,
   "id": "YaYQ37qWW32K",
   "metadata": {
    "colab": {
     "base_uri": "https://localhost:8080/",
     "height": 561
    },
    "executionInfo": {
     "elapsed": 236,
     "status": "ok",
     "timestamp": 1738876064585,
     "user": {
      "displayName": "Eleni Kamateri",
      "userId": "17468520200409985303"
     },
     "user_tz": -120
    },
    "id": "YaYQ37qWW32K",
    "outputId": "b0460d9d-7e6c-4b87-c83c-e05476ea9773"
   },
   "outputs": [
    {
     "name": "stdout",
     "output_type": "stream",
     "text": [
      "(8, 6) 1618015\n"
     ]
    },
    {
     "name": "stderr",
     "output_type": "stream",
     "text": [
      "No handles with labels found to put in legend.\n"
     ]
    },
    {
     "data": {
      "image/png": "[encoded data removed]",
      "text/plain": [
       "<Figure size 360x360 with 1 Axes>"
      ]
     },
     "metadata": {
      "needs_background": "light"
     },
     "output_type": "display_data"
    }
   ],
   "source": [
    "# Prepare the plot: labels_section vs number_patents\n",
    "DF_plot1_c=DF_subclass.copy()\n",
    "DF_plot1_c['code_section']= None\n",
    "DF_plot1_c=DF_plot1_c.reset_index(drop=True)\n",
    "for i in range (DF_plot1_c['code'].shape[0]):\n",
    "    DF_plot1_c.loc[i, 'code_section']=DF_plot1_c['code'][i][0:1]\n",
    "DF_plot1_c['freq_section'] = DF_plot1_c.groupby('code_section')['freq_subclass'].transform('sum')\n",
    "DF_plot1_c = DF_plot1_c.drop_duplicates(subset = [\"code_section\"])\n",
    "DF_plot1_c=DF_plot1_c.sort_values(by = 'code_section', ascending=True)\n",
    "DF_plot1_c=DF_plot1_c.reset_index(drop=True)\n",
    "\n",
    "print(DF_plot1_c.shape, DF_plot1_c['freq_section'].sum())\n",
    "\n",
    "x = DF_plot1_c['code_section']\n",
    "y = DF_plot1_c['freq_section']\n",
    "\n",
    "fig, ax = plt.subplots(figsize=(5,5))         # Sample figsize in inches\n",
    "\n",
    "plt.bar(x,y)#,label=\"\")\n",
    "\n",
    "plt.xlabel(\"section label\")\n",
    "plt.ylabel(\"number of patents\")\n",
    "plt.title(\"\")\n",
    "plt.legend()\n",
    "plt.show()"
   ]
  },
  {
   "cell_type": "code",
   "execution_count": null,
   "id": "a5148ca6",
   "metadata": {},
   "outputs": [],
   "source": []
  }
 ],
 "metadata": {
  "colab": {
   "provenance": [
    {
     "file_id": "1zGbAMn-XSm6d8IebnDcsFzs0Tzayw7Ea",
     "timestamp": 1738226091508
    },
    {
     "file_id": "1osBOU0-CVQo6a77vQTFPjv_O7gDdgh_-",
     "timestamp": 1737980282687
    },
    {
     "file_id": "1mr4EiAzpelueg6H1MNvENO3257L_4qlb",
     "timestamp": 1737933478756
    }
   ]
  },
  "kernelspec": {
   "display_name": "Python 3",
   "language": "python",
   "name": "python3"
  },
  "language_info": {
   "codemirror_mode": {
    "name": "ipython",
    "version": 3
   },
   "file_extension": ".py",
   "mimetype": "text/x-python",
   "name": "python",
   "nbconvert_exporter": "python",
   "pygments_lexer": "ipython3",
   "version": "3.6.13"
  }
 },
 "nbformat": 4,
 "nbformat_minor": 5
}
