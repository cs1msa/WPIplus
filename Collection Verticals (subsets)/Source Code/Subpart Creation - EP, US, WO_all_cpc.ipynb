{
 "cells": [
  {
   "cell_type": "markdown",
   "id": "hguRr7BD5F3q",
   "metadata": {
    "id": "hguRr7BD5F3q"
   },
   "source": [
    "### Import required libraries"
   ]
  },
  {
   "cell_type": "code",
   "execution_count": 1,
   "id": "Ab8Fy261ZeM9",
   "metadata": {
    "id": "Ab8Fy261ZeM9"
   },
   "outputs": [],
   "source": [
    "import pandas as pd\n",
    "import numpy as np\n",
    "from collections import Counter\n",
    "import matplotlib.pyplot as plt\n",
    "from sklearn.utils import shuffle\n",
    "from sklearn.preprocessing import MultiLabelBinarizer"
   ]
  },
  {
   "cell_type": "markdown",
   "id": "652a3e7d",
   "metadata": {},
   "source": [
    "### Set required parameters"
   ]
  },
  {
   "cell_type": "code",
   "execution_count": 2,
   "id": "863e56e7",
   "metadata": {},
   "outputs": [],
   "source": [
    "csv_file_path_EP='/PATH/WPI-Dataset/EP_csv_file_for_wpi_analysis.csv'\n",
    "csv_file_path_US='/PATH/WPI-Dataset/US_csv_file_for_wpi_analysis.csv'\n",
    "csv_file_path_WO='/PATH/WPI-Dataset/WO_csv_file_for_wpi_analysis.csv'\n",
    "sep=0 #0:semicolon (;), 1: comma (,)\n",
    "classification_selection=2 #1: ipcr, 2:cpc"
   ]
  },
  {
   "cell_type": "markdown",
   "id": "jlSog7u95S6P",
   "metadata": {
    "id": "jlSog7u95S6P"
   },
   "source": [
    "### Import CSV files for EP, US, WO and concat them\n",
    "\n",
    "Each CSV file contains the XML file name, UCID, date, and classification labels for each patent, along with boolean indicators (1 or 0) specifying whether the patent includes an abstract, description, or claims section."
   ]
  },
  {
   "cell_type": "code",
   "execution_count": 3,
   "id": "266af9c0",
   "metadata": {
    "colab": {
     "base_uri": "https://localhost:8080/",
     "height": 206
    },
    "executionInfo": {
     "elapsed": 2615,
     "status": "ok",
     "timestamp": 1738875912146,
     "user": {
      "displayName": "Eleni Kamateri",
      "userId": "17468520200409985303"
     },
     "user_tz": -120
    },
    "id": "266af9c0",
    "outputId": "1a0de3fe-c730-4c5b-8b6e-494422642c08"
   },
   "outputs": [
    {
     "name": "stderr",
     "output_type": "stream",
     "text": [
      "C:\\Users\\User\\.conda\\envs\\tensorflow_3_6_13_basic\\lib\\site-packages\\IPython\\core\\interactiveshell.py:3072: DtypeWarning: Columns (4,5) have mixed types.Specify dtype option on import or set low_memory=False.\n",
      "  interactivity=interactivity, compiler=compiler, result=result)\n",
      "C:\\Users\\User\\.conda\\envs\\tensorflow_3_6_13_basic\\lib\\site-packages\\IPython\\core\\interactiveshell.py:3072: DtypeWarning: Columns (4) have mixed types.Specify dtype option on import or set low_memory=False.\n",
      "  interactivity=interactivity, compiler=compiler, result=result)\n"
     ]
    },
    {
     "name": "stdout",
     "output_type": "stream",
     "text": [
      "Patents from EP: 552439\n",
      "Patents from US: 1397703\n",
      "Patents from WO: 462789\n",
      "Patents from EP, US and WO are 2412931\n"
     ]
    }
   ],
   "source": [
    "if sep==0:\n",
    "    DF1 = pd.read_csv(csv_file_path_EP, header=0, delimiter=\";\") #, nrows=1000)\n",
    "    DF2 = pd.read_csv(csv_file_path_US, header=0, delimiter=\";\") #, nrows=1000)\n",
    "    DF3 = pd.read_csv(csv_file_path_WO, header=0, delimiter=\";\") #, nrows=1000)\n",
    "elif sep==1:\n",
    "    DF1 = pd.read_csv(csv_file_path_EP, header=0) #, nrows=1000)\n",
    "    DF2 = pd.read_csv(csv_file_path_US, header=0) #, nrows=1000)\n",
    "    DF3 = pd.read_csv(csv_file_path_WO, header=0) #, nrows=1000)\n",
    "else:\n",
    "    print(\"Please provide a valid value for sep\")\n",
    "\n",
    "DF=pd.concat([DF1, DF2], axis=0)\n",
    "DF=pd.concat([DF, DF3], axis=0)\n",
    "print(\"Patents from EP:\", DF1.shape[0])\n",
    "print(\"Patents from US:\",DF2.shape[0])\n",
    "print(\"Patents from WO:\", DF3.shape[0])\n",
    "print(\"Patents from EP, US and WO are\", DF.shape[0])\n",
    "del DF1, DF2, DF3    "
   ]
  },
  {
   "cell_type": "markdown",
   "id": "08b88b18",
   "metadata": {},
   "source": [
    "### Expand the concatenated DataFrame with the patent number and patent office"
   ]
  },
  {
   "cell_type": "code",
   "execution_count": 4,
   "id": "0ab9924f",
   "metadata": {},
   "outputs": [
    {
     "data": {
      "text/html": [
       "<div>\n",
       "<style scoped>\n",
       "    .dataframe tbody tr th:only-of-type {\n",
       "        vertical-align: middle;\n",
       "    }\n",
       "\n",
       "    .dataframe tbody tr th {\n",
       "        vertical-align: top;\n",
       "    }\n",
       "\n",
       "    .dataframe thead th {\n",
       "        text-align: right;\n",
       "    }\n",
       "</style>\n",
       "<table border=\"1\" class=\"dataframe\">\n",
       "  <thead>\n",
       "    <tr style=\"text-align: right;\">\n",
       "      <th></th>\n",
       "      <th>Unnamed: 0</th>\n",
       "      <th>xml_file_name</th>\n",
       "      <th>ucid</th>\n",
       "      <th>date</th>\n",
       "      <th>main_classification</th>\n",
       "      <th>further_classification</th>\n",
       "      <th>classification_ipcr</th>\n",
       "      <th>classification_cpc</th>\n",
       "      <th>abstract_lang_en_exist</th>\n",
       "      <th>description_lang_en_exist</th>\n",
       "      <th>claims_lang_en_exist</th>\n",
       "      <th>patent_number</th>\n",
       "      <th>patent_office</th>\n",
       "    </tr>\n",
       "  </thead>\n",
       "  <tbody>\n",
       "    <tr>\n",
       "      <th>0</th>\n",
       "      <td>0</td>\n",
       "      <td>EP-2677851-A1.xml</td>\n",
       "      <td>EP-2677851-A1</td>\n",
       "      <td>20140101.0</td>\n",
       "      <td>NaN</td>\n",
       "      <td>NaN</td>\n",
       "      <td>A01B  79/02        20060101AFI20120911BHEP    ...</td>\n",
       "      <td>A01B  79/005       20130101 LI20150420BHEP    ...</td>\n",
       "      <td>1.0</td>\n",
       "      <td>1.0</td>\n",
       "      <td>1.0</td>\n",
       "      <td>2677851</td>\n",
       "      <td>EP</td>\n",
       "    </tr>\n",
       "  </tbody>\n",
       "</table>\n",
       "</div>"
      ],
      "text/plain": [
       "   Unnamed: 0      xml_file_name           ucid        date  \\\n",
       "0           0  EP-2677851-A1.xml  EP-2677851-A1  20140101.0   \n",
       "\n",
       "  main_classification further_classification  \\\n",
       "0                 NaN                    NaN   \n",
       "\n",
       "                                 classification_ipcr  \\\n",
       "0  A01B  79/02        20060101AFI20120911BHEP    ...   \n",
       "\n",
       "                                  classification_cpc  abstract_lang_en_exist  \\\n",
       "0  A01B  79/005       20130101 LI20150420BHEP    ...                     1.0   \n",
       "\n",
       "   description_lang_en_exist  claims_lang_en_exist patent_number patent_office  \n",
       "0                        1.0                   1.0       2677851            EP  "
      ]
     },
     "execution_count": 4,
     "metadata": {},
     "output_type": "execute_result"
    }
   ],
   "source": [
    "DF['patent_number']=DF['xml_file_name'].str.split(\".\").str[0]\n",
    "DF['patent_number']=DF['patent_number'].str.split(\"-\").str[1:2]\n",
    "DF['patent_number']=DF['patent_number'].str.join('')\n",
    "\n",
    "DF['patent_office']=DF['xml_file_name'].str[:2]\n",
    "\n",
    "DF.head(1)"
   ]
  },
  {
   "cell_type": "code",
   "execution_count": 5,
   "id": "c2414d1d",
   "metadata": {},
   "outputs": [
    {
     "name": "stdout",
     "output_type": "stream",
     "text": [
      "Counter({'US': 1397703, 'EP': 552439, 'WO': 462789})\n"
     ]
    },
    {
     "data": {
      "image/png": "[encoded data removed]",
      "text/plain": [
       "<Figure size 432x288 with 1 Axes>"
      ]
     },
     "metadata": {
      "needs_background": "light"
     },
     "output_type": "display_data"
    }
   ],
   "source": [
    "print(Counter(DF['patent_office']))\n",
    "plot1 = Counter(DF['patent_office'])\n",
    "plt.bar(plot1.keys(), plot1.values())\n",
    "plt.show()"
   ]
  },
  {
   "cell_type": "markdown",
   "id": "T0KBdSGl5k_B",
   "metadata": {
    "id": "T0KBdSGl5k_B"
   },
   "source": [
    "### Remove label column which is not needed"
   ]
  },
  {
   "cell_type": "code",
   "execution_count": 6,
   "id": "628856b0",
   "metadata": {
    "colab": {
     "base_uri": "https://localhost:8080/",
     "height": 188
    },
    "executionInfo": {
     "elapsed": 9164,
     "status": "ok",
     "timestamp": 1738875921308,
     "user": {
      "displayName": "Eleni Kamateri",
      "userId": "17468520200409985303"
     },
     "user_tz": -120
    },
    "id": "628856b0",
    "outputId": "ac5b993b-8db6-479c-d35e-590fadcde79b",
    "scrolled": true
   },
   "outputs": [
    {
     "data": {
      "text/html": [
       "<div>\n",
       "<style scoped>\n",
       "    .dataframe tbody tr th:only-of-type {\n",
       "        vertical-align: middle;\n",
       "    }\n",
       "\n",
       "    .dataframe tbody tr th {\n",
       "        vertical-align: top;\n",
       "    }\n",
       "\n",
       "    .dataframe thead th {\n",
       "        text-align: right;\n",
       "    }\n",
       "</style>\n",
       "<table border=\"1\" class=\"dataframe\">\n",
       "  <thead>\n",
       "    <tr style=\"text-align: right;\">\n",
       "      <th></th>\n",
       "      <th>Unnamed: 0</th>\n",
       "      <th>xml_file_name</th>\n",
       "      <th>ucid</th>\n",
       "      <th>date</th>\n",
       "      <th>labels</th>\n",
       "      <th>abstract_lang_en_exist</th>\n",
       "      <th>description_lang_en_exist</th>\n",
       "      <th>claims_lang_en_exist</th>\n",
       "      <th>patent_number</th>\n",
       "      <th>patent_office</th>\n",
       "    </tr>\n",
       "  </thead>\n",
       "  <tbody>\n",
       "    <tr>\n",
       "      <th>0</th>\n",
       "      <td>0</td>\n",
       "      <td>EP-2677851-A1.xml</td>\n",
       "      <td>EP-2677851-A1</td>\n",
       "      <td>20140101.0</td>\n",
       "      <td>A01B  79/005       20130101 LI20150420BHEP    ...</td>\n",
       "      <td>1.0</td>\n",
       "      <td>1.0</td>\n",
       "      <td>1.0</td>\n",
       "      <td>2677851</td>\n",
       "      <td>EP</td>\n",
       "    </tr>\n",
       "  </tbody>\n",
       "</table>\n",
       "</div>"
      ],
      "text/plain": [
       "   Unnamed: 0      xml_file_name           ucid        date  \\\n",
       "0           0  EP-2677851-A1.xml  EP-2677851-A1  20140101.0   \n",
       "\n",
       "                                              labels  abstract_lang_en_exist  \\\n",
       "0  A01B  79/005       20130101 LI20150420BHEP    ...                     1.0   \n",
       "\n",
       "   description_lang_en_exist  claims_lang_en_exist patent_number patent_office  \n",
       "0                        1.0                   1.0       2677851            EP  "
      ]
     },
     "execution_count": 6,
     "metadata": {},
     "output_type": "execute_result"
    }
   ],
   "source": [
    "if classification_selection==1:\n",
    "    DF=DF.rename(columns={'classification_ipcr': 'labels'})\n",
    "    if 'main_classification' in DF.columns:\n",
    "        del DF['main_classification']\n",
    "    if 'further_classification' in DF.columns:\n",
    "        del DF['further_classification']\n",
    "    if 'classification_cpc' in DF.columns:\n",
    "        del DF['classification_cpc'] \n",
    "elif classification_selection==2:\n",
    "    DF=DF.rename(columns={'classification_cpc': 'labels'})\n",
    "    if 'main_classification' in DF.columns:\n",
    "        del DF['main_classification']\n",
    "    if 'further_classification' in DF.columns:\n",
    "        del DF['further_classification']\n",
    "    if 'classification_ipcr' in DF.columns:\n",
    "        del DF['classification_ipcr'] \n",
    "else:\n",
    "    print(\"Please provide a valid value for classification_selection\")\n",
    "DF.head(1)"
   ]
  },
  {
   "cell_type": "code",
   "execution_count": 7,
   "id": "122b48bf",
   "metadata": {},
   "outputs": [],
   "source": [
    "#pd.set_option(\"max_colwidth\",None)\n",
    "#pd.set_option(\"max_rows\", None)"
   ]
  },
  {
   "cell_type": "markdown",
   "id": "714caea8",
   "metadata": {},
   "source": [
    "### VP - Unify all different versions of a patent into one single patent"
   ]
  },
  {
   "cell_type": "code",
   "execution_count": 8,
   "id": "69379dd7",
   "metadata": {},
   "outputs": [
    {
     "data": {
      "text/plain": [
       "(1806834, 8)"
      ]
     },
     "execution_count": 8,
     "metadata": {},
     "output_type": "execute_result"
    }
   ],
   "source": [
    "# make abstract, description and claims values int\n",
    "cols_to_replace = ['abstract_lang_en_exist', 'description_lang_en_exist', 'claims_lang_en_exist']\n",
    "DF[cols_to_replace] = DF[cols_to_replace].astype(int)\n",
    "\n",
    "# if these columns have a zero, make it an empty cell, \n",
    "#then, group according to the patent number keeping the latest non empty entry\n",
    "DF['abstract_lang_en_exist'] = DF['abstract_lang_en_exist'].replace({0:np.nan})\n",
    "DF['description_lang_en_exist'] = DF['description_lang_en_exist'].replace({0:np.nan})\n",
    "DF['claims_lang_en_exist'] = DF['claims_lang_en_exist'].replace({0:np.nan})\n",
    "DF=DF.groupby('patent_number').agg({'ucid': lambda x: ','.join(map(str, x)), 'date':'first', \\\n",
    "                                    'labels':'last','abstract_lang_en_exist':'last', 'description_lang_en_exist': 'last', \\\n",
    "                                        'claims_lang_en_exist':'last', 'patent_number':'last', 'patent_office': 'last'})\n",
    "\n",
    "# create a help column and keep patents having all textual sections completed\n",
    "DF['adc_exist']= None\n",
    "DF['adc_exist']=DF['abstract_lang_en_exist']+DF['description_lang_en_exist']+DF['claims_lang_en_exist']\n",
    "DF=DF[DF['adc_exist']==3]\n",
    "DF = DF.reset_index(drop=True)\n",
    "del DF['adc_exist']\n",
    "\n",
    "DF.shape"
   ]
  },
  {
   "cell_type": "code",
   "execution_count": 9,
   "id": "8c512edd",
   "metadata": {},
   "outputs": [],
   "source": [
    "# confirmed that same patent numbers do not contain across different patent officies\n",
    "# Counter(DF['patent_office'])"
   ]
  },
  {
   "cell_type": "markdown",
   "id": "9fee74e1",
   "metadata": {},
   "source": [
    "### Remove single patents that do not have labels"
   ]
  },
  {
   "cell_type": "code",
   "execution_count": 10,
   "id": "09261862",
   "metadata": {},
   "outputs": [
    {
     "data": {
      "text/plain": [
       "(1806774, 8)"
      ]
     },
     "execution_count": 10,
     "metadata": {},
     "output_type": "execute_result"
    }
   ],
   "source": [
    "DF['labels']=DF['labels'].fillna(\"\")\n",
    "DF=DF[DF['labels']!='']\n",
    "DF.shape"
   ]
  },
  {
   "cell_type": "markdown",
   "id": "7fe5a97d",
   "metadata": {},
   "source": [
    "### Suffle the remaining patents"
   ]
  },
  {
   "cell_type": "code",
   "execution_count": 11,
   "id": "5a3b5ab2",
   "metadata": {},
   "outputs": [],
   "source": [
    "DF = shuffle(DF, random_state=42)"
   ]
  },
  {
   "cell_type": "markdown",
   "id": "2623692d",
   "metadata": {},
   "source": [
    "### Transform labels into groups and remove duplicates"
   ]
  },
  {
   "cell_type": "code",
   "execution_count": 12,
   "id": "57d73075",
   "metadata": {},
   "outputs": [
    {
     "data": {
      "text/html": [
       "<div>\n",
       "<style scoped>\n",
       "    .dataframe tbody tr th:only-of-type {\n",
       "        vertical-align: middle;\n",
       "    }\n",
       "\n",
       "    .dataframe tbody tr th {\n",
       "        vertical-align: top;\n",
       "    }\n",
       "\n",
       "    .dataframe thead th {\n",
       "        text-align: right;\n",
       "    }\n",
       "</style>\n",
       "<table border=\"1\" class=\"dataframe\">\n",
       "  <thead>\n",
       "    <tr style=\"text-align: right;\">\n",
       "      <th></th>\n",
       "      <th>ucid</th>\n",
       "      <th>date</th>\n",
       "      <th>labels</th>\n",
       "      <th>abstract_lang_en_exist</th>\n",
       "      <th>description_lang_en_exist</th>\n",
       "      <th>claims_lang_en_exist</th>\n",
       "      <th>patent_number</th>\n",
       "      <th>patent_office</th>\n",
       "    </tr>\n",
       "  </thead>\n",
       "  <tbody>\n",
       "    <tr>\n",
       "      <th>64635</th>\n",
       "      <td>US-20140060989-A1</td>\n",
       "      <td>20140306.0</td>\n",
       "      <td>[A45C13, A45C5, A45C9]</td>\n",
       "      <td>1.0</td>\n",
       "      <td>1.0</td>\n",
       "      <td>1.0</td>\n",
       "      <td>20140060989</td>\n",
       "      <td>US</td>\n",
       "    </tr>\n",
       "    <tr>\n",
       "      <th>143230</th>\n",
       "      <td>US-20140135764-A1</td>\n",
       "      <td>20140515.0</td>\n",
       "      <td>[A61F5, A61B17]</td>\n",
       "      <td>1.0</td>\n",
       "      <td>1.0</td>\n",
       "      <td>1.0</td>\n",
       "      <td>20140135764</td>\n",
       "      <td>US</td>\n",
       "    </tr>\n",
       "    <tr>\n",
       "      <th>330280</th>\n",
       "      <td>US-20140313921-A1</td>\n",
       "      <td>20141023.0</td>\n",
       "      <td>[H04W72, H04L1, G01D21, H04W84, H04W28, H04W88...</td>\n",
       "      <td>1.0</td>\n",
       "      <td>1.0</td>\n",
       "      <td>1.0</td>\n",
       "      <td>20140313921</td>\n",
       "      <td>US</td>\n",
       "    </tr>\n",
       "    <tr>\n",
       "      <th>135472</th>\n",
       "      <td>US-20140128458-A1</td>\n",
       "      <td>20140508.0</td>\n",
       "      <td>[C07D493, C07D307, A61K31, C07D405]</td>\n",
       "      <td>1.0</td>\n",
       "      <td>1.0</td>\n",
       "      <td>1.0</td>\n",
       "      <td>20140128458</td>\n",
       "      <td>US</td>\n",
       "    </tr>\n",
       "    <tr>\n",
       "      <th>1212635</th>\n",
       "      <td>US-8626610-B2</td>\n",
       "      <td>20140107.0</td>\n",
       "      <td>[G06Q10, G06Q30]</td>\n",
       "      <td>1.0</td>\n",
       "      <td>1.0</td>\n",
       "      <td>1.0</td>\n",
       "      <td>8626610</td>\n",
       "      <td>US</td>\n",
       "    </tr>\n",
       "  </tbody>\n",
       "</table>\n",
       "</div>"
      ],
      "text/plain": [
       "                      ucid        date  \\\n",
       "64635    US-20140060989-A1  20140306.0   \n",
       "143230   US-20140135764-A1  20140515.0   \n",
       "330280   US-20140313921-A1  20141023.0   \n",
       "135472   US-20140128458-A1  20140508.0   \n",
       "1212635      US-8626610-B2  20140107.0   \n",
       "\n",
       "                                                    labels  \\\n",
       "64635                               [A45C13, A45C5, A45C9]   \n",
       "143230                                     [A61F5, A61B17]   \n",
       "330280   [H04W72, H04L1, G01D21, H04W84, H04W28, H04W88...   \n",
       "135472                 [C07D493, C07D307, A61K31, C07D405]   \n",
       "1212635                                   [G06Q10, G06Q30]   \n",
       "\n",
       "         abstract_lang_en_exist  description_lang_en_exist  \\\n",
       "64635                       1.0                        1.0   \n",
       "143230                      1.0                        1.0   \n",
       "330280                      1.0                        1.0   \n",
       "135472                      1.0                        1.0   \n",
       "1212635                     1.0                        1.0   \n",
       "\n",
       "         claims_lang_en_exist patent_number patent_office  \n",
       "64635                     1.0   20140060989            US  \n",
       "143230                    1.0   20140135764            US  \n",
       "330280                    1.0   20140313921            US  \n",
       "135472                    1.0   20140128458            US  \n",
       "1212635                   1.0       8626610            US  "
      ]
     },
     "execution_count": 12,
     "metadata": {},
     "output_type": "execute_result"
    }
   ],
   "source": [
    "DF['labels'] = DF['labels'].str.split(',')\n",
    "DF['labels'] = DF['labels'].apply(lambda x: [item.split('/')[0] for item in x])\n",
    "DF['labels'] = DF['labels'].apply(lambda x: [item.replace(\" \", \"\") for item in x])\n",
    "DF['labels'] = DF['labels'].apply(lambda x: list(dict.fromkeys(x)))\n",
    "DF.head(5)"
   ]
  },
  {
   "cell_type": "markdown",
   "id": "1cc61e65",
   "metadata": {},
   "source": [
    "### Transform labels containing only the subclass part into subclasses"
   ]
  },
  {
   "cell_type": "code",
   "execution_count": 13,
   "id": "0c7ce427",
   "metadata": {},
   "outputs": [
    {
     "data": {
      "text/html": [
       "<div>\n",
       "<style scoped>\n",
       "    .dataframe tbody tr th:only-of-type {\n",
       "        vertical-align: middle;\n",
       "    }\n",
       "\n",
       "    .dataframe tbody tr th {\n",
       "        vertical-align: top;\n",
       "    }\n",
       "\n",
       "    .dataframe thead th {\n",
       "        text-align: right;\n",
       "    }\n",
       "</style>\n",
       "<table border=\"1\" class=\"dataframe\">\n",
       "  <thead>\n",
       "    <tr style=\"text-align: right;\">\n",
       "      <th></th>\n",
       "      <th>ucid</th>\n",
       "      <th>date</th>\n",
       "      <th>labels</th>\n",
       "      <th>abstract_lang_en_exist</th>\n",
       "      <th>description_lang_en_exist</th>\n",
       "      <th>claims_lang_en_exist</th>\n",
       "      <th>patent_number</th>\n",
       "      <th>patent_office</th>\n",
       "    </tr>\n",
       "  </thead>\n",
       "  <tbody>\n",
       "  </tbody>\n",
       "</table>\n",
       "</div>"
      ],
      "text/plain": [
       "Empty DataFrame\n",
       "Columns: [ucid, date, labels, abstract_lang_en_exist, description_lang_en_exist, claims_lang_en_exist, patent_number, patent_office]\n",
       "Index: []"
      ]
     },
     "execution_count": 13,
     "metadata": {},
     "output_type": "execute_result"
    }
   ],
   "source": [
    "#E.g. A01N20060101SI20051110RMEP comes from A01N 20060101S I20051110RMEP which contains only a subclass\n",
    "target_substring = \"RMEP\" \n",
    "DF[DF['labels'].apply(lambda label_list: any(target_substring in str(item) for item in label_list))].head(1)"
   ]
  },
  {
   "cell_type": "code",
   "execution_count": 14,
   "id": "9c18b7f2",
   "metadata": {},
   "outputs": [
    {
     "data": {
      "text/html": [
       "<div>\n",
       "<style scoped>\n",
       "    .dataframe tbody tr th:only-of-type {\n",
       "        vertical-align: middle;\n",
       "    }\n",
       "\n",
       "    .dataframe tbody tr th {\n",
       "        vertical-align: top;\n",
       "    }\n",
       "\n",
       "    .dataframe thead th {\n",
       "        text-align: right;\n",
       "    }\n",
       "</style>\n",
       "<table border=\"1\" class=\"dataframe\">\n",
       "  <thead>\n",
       "    <tr style=\"text-align: right;\">\n",
       "      <th></th>\n",
       "      <th>ucid</th>\n",
       "      <th>date</th>\n",
       "      <th>labels</th>\n",
       "      <th>abstract_lang_en_exist</th>\n",
       "      <th>description_lang_en_exist</th>\n",
       "      <th>claims_lang_en_exist</th>\n",
       "      <th>patent_number</th>\n",
       "      <th>patent_office</th>\n",
       "    </tr>\n",
       "  </thead>\n",
       "  <tbody>\n",
       "  </tbody>\n",
       "</table>\n",
       "</div>"
      ],
      "text/plain": [
       "Empty DataFrame\n",
       "Columns: [ucid, date, labels, abstract_lang_en_exist, description_lang_en_exist, claims_lang_en_exist, patent_number, patent_office]\n",
       "Index: []"
      ]
     },
     "execution_count": 14,
     "metadata": {},
     "output_type": "execute_result"
    }
   ],
   "source": [
    "def tranform_into_subclass(label_string):\n",
    "    if \"RMEP\" in label_string:\n",
    "        return label_string[:4]\n",
    "    else:\n",
    "        return label_string\n",
    "    \n",
    "DF['labels'] = DF['labels'].apply(lambda label_list: [tranform_into_subclass(item) for item in label_list])\n",
    "\n",
    "target_substring = \"RMEP\" \n",
    "DF[DF['labels'].apply(lambda label_list: any(target_substring in str(item) for item in label_list))].head(1)"
   ]
  },
  {
   "cell_type": "markdown",
   "id": "feaeaf0e",
   "metadata": {},
   "source": [
    "### Explode and wrap each label in a list"
   ]
  },
  {
   "cell_type": "code",
   "execution_count": 16,
   "id": "490a1e34",
   "metadata": {},
   "outputs": [
    {
     "data": {
      "text/html": [
       "<div>\n",
       "<style scoped>\n",
       "    .dataframe tbody tr th:only-of-type {\n",
       "        vertical-align: middle;\n",
       "    }\n",
       "\n",
       "    .dataframe tbody tr th {\n",
       "        vertical-align: top;\n",
       "    }\n",
       "\n",
       "    .dataframe thead th {\n",
       "        text-align: right;\n",
       "    }\n",
       "</style>\n",
       "<table border=\"1\" class=\"dataframe\">\n",
       "  <thead>\n",
       "    <tr style=\"text-align: right;\">\n",
       "      <th></th>\n",
       "      <th>ucid</th>\n",
       "      <th>date</th>\n",
       "      <th>labels</th>\n",
       "      <th>abstract_lang_en_exist</th>\n",
       "      <th>description_lang_en_exist</th>\n",
       "      <th>claims_lang_en_exist</th>\n",
       "      <th>patent_number</th>\n",
       "      <th>patent_office</th>\n",
       "    </tr>\n",
       "  </thead>\n",
       "  <tbody>\n",
       "    <tr>\n",
       "      <th>0</th>\n",
       "      <td>US-20140060989-A1</td>\n",
       "      <td>20140306.0</td>\n",
       "      <td>A45C13</td>\n",
       "      <td>1.0</td>\n",
       "      <td>1.0</td>\n",
       "      <td>1.0</td>\n",
       "      <td>20140060989</td>\n",
       "      <td>US</td>\n",
       "    </tr>\n",
       "    <tr>\n",
       "      <th>1</th>\n",
       "      <td>US-20140060989-A1</td>\n",
       "      <td>20140306.0</td>\n",
       "      <td>A45C5</td>\n",
       "      <td>1.0</td>\n",
       "      <td>1.0</td>\n",
       "      <td>1.0</td>\n",
       "      <td>20140060989</td>\n",
       "      <td>US</td>\n",
       "    </tr>\n",
       "    <tr>\n",
       "      <th>2</th>\n",
       "      <td>US-20140060989-A1</td>\n",
       "      <td>20140306.0</td>\n",
       "      <td>A45C9</td>\n",
       "      <td>1.0</td>\n",
       "      <td>1.0</td>\n",
       "      <td>1.0</td>\n",
       "      <td>20140060989</td>\n",
       "      <td>US</td>\n",
       "    </tr>\n",
       "    <tr>\n",
       "      <th>3</th>\n",
       "      <td>US-20140135764-A1</td>\n",
       "      <td>20140515.0</td>\n",
       "      <td>A61F5</td>\n",
       "      <td>1.0</td>\n",
       "      <td>1.0</td>\n",
       "      <td>1.0</td>\n",
       "      <td>20140135764</td>\n",
       "      <td>US</td>\n",
       "    </tr>\n",
       "    <tr>\n",
       "      <th>4</th>\n",
       "      <td>US-20140135764-A1</td>\n",
       "      <td>20140515.0</td>\n",
       "      <td>A61B17</td>\n",
       "      <td>1.0</td>\n",
       "      <td>1.0</td>\n",
       "      <td>1.0</td>\n",
       "      <td>20140135764</td>\n",
       "      <td>US</td>\n",
       "    </tr>\n",
       "    <tr>\n",
       "      <th>5</th>\n",
       "      <td>US-20140313921-A1</td>\n",
       "      <td>20141023.0</td>\n",
       "      <td>H04W72</td>\n",
       "      <td>1.0</td>\n",
       "      <td>1.0</td>\n",
       "      <td>1.0</td>\n",
       "      <td>20140313921</td>\n",
       "      <td>US</td>\n",
       "    </tr>\n",
       "  </tbody>\n",
       "</table>\n",
       "</div>"
      ],
      "text/plain": [
       "                ucid        date  labels  abstract_lang_en_exist  \\\n",
       "0  US-20140060989-A1  20140306.0  A45C13                     1.0   \n",
       "1  US-20140060989-A1  20140306.0   A45C5                     1.0   \n",
       "2  US-20140060989-A1  20140306.0   A45C9                     1.0   \n",
       "3  US-20140135764-A1  20140515.0   A61F5                     1.0   \n",
       "4  US-20140135764-A1  20140515.0  A61B17                     1.0   \n",
       "5  US-20140313921-A1  20141023.0  H04W72                     1.0   \n",
       "\n",
       "   description_lang_en_exist  claims_lang_en_exist patent_number patent_office  \n",
       "0                        1.0                   1.0   20140060989            US  \n",
       "1                        1.0                   1.0   20140060989            US  \n",
       "2                        1.0                   1.0   20140060989            US  \n",
       "3                        1.0                   1.0   20140135764            US  \n",
       "4                        1.0                   1.0   20140135764            US  \n",
       "5                        1.0                   1.0   20140313921            US  "
      ]
     },
     "execution_count": 16,
     "metadata": {},
     "output_type": "execute_result"
    }
   ],
   "source": [
    "DF = DF.explode('labels').reset_index(drop=True)\n",
    "DF['labels'] = DF['labels'].astype(str)\n",
    "DF.head(6)"
   ]
  },
  {
   "cell_type": "markdown",
   "id": "d7d55903",
   "metadata": {},
   "source": [
    "### Remove labels of Y section (starting from \"Y\")"
   ]
  },
  {
   "cell_type": "code",
   "execution_count": 17,
   "id": "fa11eb8f",
   "metadata": {},
   "outputs": [
    {
     "name": "stdout",
     "output_type": "stream",
     "text": [
      "Before removing Y labels: 7233913\n",
      "After removing Y labels: 6858119\n"
     ]
    }
   ],
   "source": [
    "print(\"Before removing Y labels:\", DF.shape[0])\n",
    "DF=DF[~DF['labels'].str.startswith(\"Y\")]\n",
    "print(\"After removing Y labels:\", DF.shape[0])"
   ]
  },
  {
   "cell_type": "markdown",
   "id": "309bba0e",
   "metadata": {},
   "source": [
    "### Remove codes under a threshold and keep a portion\n",
    "Follows the \"Take at least 1\" strategy for low-frequency labels"
   ]
  },
  {
   "cell_type": "code",
   "execution_count": 18,
   "id": "531ad84e",
   "metadata": {},
   "outputs": [],
   "source": [
    "def remove_rare_codes(trainDF, down_threshold, portion):\n",
    "    \n",
    "    print(\"Size of initial data:\", trainDF.shape)\n",
    "    \n",
    "    label_counts=Counter(trainDF['labels'])\n",
    "    \n",
    "    valid_labels = {label for label, count in label_counts.items() if count >= down_threshold}\n",
    "    filtered_df = trainDF[trainDF['labels'].isin(valid_labels)].copy()    \n",
    "    label_counts_valid=Counter(filtered_df['labels'])\n",
    "\n",
    "    trainDF = pd.DataFrame()\n",
    "\n",
    "    for code, freq in label_counts_valid.items():    \n",
    "        label_sum=0                      \n",
    "        new_freq=int(freq*portion)\n",
    "        \n",
    "        # Take at least 1 strategy\n",
    "        if new_freq==0:\n",
    "            new_freq=1\n",
    "\n",
    "        code_specific_rows = filtered_df[filtered_df['labels'] == code]\n",
    "        code_specific_rows =code_specific_rows.head(new_freq)\n",
    "                \n",
    "        trainDF=pd.concat([trainDF, code_specific_rows])\n",
    "        #print(trainDF.shape)\n",
    "    \n",
    "    print(\"Size of final data:\", trainDF.shape)\n",
    "    \n",
    "    label_counts_validated=Counter(trainDF['labels'])\n",
    "    print(label_counts_validated) \n",
    "    \n",
    "    return trainDF"
   ]
  },
  {
   "cell_type": "markdown",
   "id": "d1e62adf",
   "metadata": {},
   "source": [
    "### The down threshold was set to 20 and 5% sampling portion was applied."
   ]
  },
  {
   "cell_type": "code",
   "execution_count": 19,
   "id": "6ddb3d26",
   "metadata": {},
   "outputs": [
    {
     "name": "stdout",
     "output_type": "stream",
     "text": [
      "Size of initial data: (6858119, 8)\n",
      "Size of final data: (337846, 8)\n",
      "Counter({'G06F3': 3937, 'G06F17': 3928, 'A61K31': 2614, 'H01L21': 2483, 'H04L67': 2409, 'H01L27': 1948, 'H04W4': 1868, 'G06Q30': 1818, 'H04N5': 1774, 'H04L63': 1766, 'H01L2924': 1747, 'G06F9': 1733, 'A61B5': 1730, 'G01N33': 1694, 'G06F21': 1655, 'G06Q10': 1630, 'H01L29': 1586, 'H04N21': 1465, 'G06F1': 1412, 'A61B17': 1406, 'H04W72': 1386, 'G06F11': 1369, 'A61K9': 1369, 'G06K9': 1333, 'H01L23': 1299, 'H04L12': 1194, 'H01L2224': 1184, 'A61B2017': 1148, 'G06F19': 1108, 'A61K45': 1070, 'C12Q1': 1059, 'A61K38': 1057, 'H04L5': 1036, 'C12N15': 1006, 'G02F1': 995, 'G06Q50': 989, 'H04L41': 979, 'A61K47': 973, 'H04W88': 969, 'G06T7': 952, 'H04M1': 952, 'A61F2': 932, 'G06T2207': 915, 'C07K14': 908, 'H04L1': 902, 'H04W84': 864, 'H04L65': 862, 'H04B7': 857, 'H04W76': 852, 'G02B6': 840, 'H01M10': 817, 'H04N7': 801, 'H04W24': 791, 'G01N21': 786, 'C07K16': 784, 'G06Q20': 777, 'H04N1': 756, 'H04W12': 754, 'G06F12': 750, 'H04B1': 742, 'H01L51': 738, 'H04W52': 736, 'H01L24': 735, 'H01L31': 711, 'G09G3': 704, 'H04L43': 692, 'H04L47': 680, 'H02J7': 671, 'A61K39': 664, 'H01L33': 658, 'H04L9': 655, 'A61K2039': 655, 'H04N19': 653, 'H04W8': 653, 'G06F2203': 652, 'G02B27': 647, 'H04L45': 643, 'G06F8': 635, 'H04W28': 632, 'H04W36': 629, 'G03G15': 629, 'H04W48': 626, 'A61K8': 617, 'A61N1': 608, 'H05K1': 606, 'H04L27': 602, 'A61F2002': 589, 'C07K2317': 588, 'H01R13': 586, 'G06F13': 576, 'G01R31': 556, 'H04L51': 555, 'C12N9': 555, 'A61M2205': 553, 'H05B33': 537, 'B41J2': 526, 'G06F2221': 521, 'H01M4': 520, 'A61M5': 520, 'H01L25': 519, 'G03F7': 514, 'H04M3': 512, 'H04L69': 511, 'H05K3': 508, 'A61B2090': 506, 'C08K5': 504, 'H05K2201': 500, 'G09G5': 496, 'G02F2001': 495, 'H04L25': 494, 'H04L29': 488, 'G11C11': 486, 'G06Q40': 486, 'C07D401': 474, 'H04N9': 472, 'G01N2333': 471, 'B29L2031': 471, 'B60L11': 469, 'F21Y2115': 462, 'G02B5': 462, 'H04N13': 459, 'H01M2': 459, 'B32B2307': 449, 'G01C21': 447, 'B01D53': 438, 'H05K7': 436, 'C12Q2600': 431, 'G06T11': 430, 'C08K3': 422, 'G01N27': 421, 'H01Q1': 419, 'A61B18': 417, 'G09G2320': 415, 'A61B6': 412, 'E21B43': 412, 'B32B27': 411, 'A61M25': 410, 'H02M3': 410, 'G06F2212': 409, 'A61B2018': 404, 'C02F1': 400, 'A61K35': 398, 'H04L61': 394, 'G05B2219': 386, 'G01N2800': 377, 'G07F17': 376, 'A61K2800': 369, 'H01J37': 368, 'H04B10': 366, 'A61B1': 365, 'B01L3': 361, 'C07D471': 358, 'H01M8': 357, 'H04W16': 355, 'C12N5': 355, 'A63F13': 353, 'A23V2002': 352, 'F02D41': 347, 'G01R33': 343, 'C07K2319': 343, 'H04N2201': 342, 'A61B90': 337, 'G11C16': 336, 'B82Y30': 331, 'G05B19': 331, 'A61B8': 328, 'A61B2562': 328, 'B60W10': 324, 'G11C7': 324, 'A61Q19': 323, 'H04M2250': 323, 'C23C16': 320, 'C07D405': 317, 'G06T5': 316, 'H04R1': 316, 'B01L2300': 315, 'G08G1': 315, 'A61M1': 312, 'C07D413': 311, 'H04W74': 310, 'B32B37': 307, 'G09G2300': 306, 'G06K7': 305, 'F21K9': 304, 'C07D487': 304, 'H04L2209': 303, 'F01D5': 300, 'A61L27': 298, 'C07D403': 297, 'G01S7': 293, 'H02M2001': 293, 'H04W64': 290, 'A61F13': 289, 'A23L33': 288, 'H02M1': 286, 'C07D417': 285, 'G01N2021': 284, 'H03F3': 284, 'B32B7': 283, 'H05B37': 282, 'H02J3': 282, 'F04D29': 281, 'H03K17': 280, 'G01B11': 280, 'G11B27': 278, 'B60W30': 278, 'G06K19': 278, 'H04L49': 277, 'F01N3': 276, 'G03G2215': 276, 'C12N2310': 274, 'G06F15': 274, 'E21B47': 273, 'F05D2260': 271, 'G06F2201': 267, 'H02M7': 267, 'G01S5': 266, 'C23C14': 266, 'G06T19': 265, 'G09G2310': 265, 'B60L2240': 265, 'A61N5': 264, 'A61M2025': 263, 'F02C7': 261, 'G11B5': 260, 'H05K5': 260, 'H04B17': 260, 'G10L15': 258, 'A61B34': 257, 'H02J50': 256, 'B01J19': 256, 'A01N43': 255, 'F01D25': 254, 'B29C45': 252, 'G06T15': 250, 'A61F2250': 250, 'A61M2005': 250, 'B60N2': 248, 'G05B15': 248, 'A61K36': 248, 'B01L2200': 244, 'C08J5': 244, 'A61M16': 243, 'C12P7': 243, 'C09D5': 241, 'H01M2220': 241, 'B32B5': 241, 'G09G2340': 240, 'B01J2219': 240, 'E21B33': 239, 'B82Y40': 238, 'B01J23': 237, 'A61B19': 237, 'G16H50': 236, 'B29K2105': 236, 'B01J37': 235, 'G02B26': 232, 'A23L1': 232, 'H01L2225': 232, 'G06T3': 232, 'G01N1': 232, 'H04B5': 231, 'G02B1': 229, 'E04B1': 228, 'B01J35': 227, 'G16H40': 227, 'C09K11': 226, 'H04W40': 226, 'A61K33': 225, 'G05D1': 223, 'A61B2034': 222, 'G06N5': 222, 'G08B21': 221, 'G11C29': 221, 'B23K26': 221, 'A61B2560': 220, 'H03F1': 220, 'G03G21': 218, 'C04B35': 218, 'C08G18': 216, 'C08L23': 216, 'A61F5': 215, 'G06F2009': 215, 'G06T1': 214, 'B01D2257': 214, 'H03M13': 214, 'G02B7': 213, 'H02K7': 212, 'A01H5': 212, 'H01L2251': 211, 'C11D3': 211, 'G01S19': 210, 'C09K8': 210, 'F21V23': 209, 'H05K2203': 208, 'B29C65': 207, 'F05D2220': 207, 'H04W56': 207, 'G06K15': 205, 'B41J11': 204, 'B32B3': 204, 'C09D11': 203, 'C07D213': 202, 'B29C47': 202, 'G09G2330': 201, 'A61L2300': 201, 'C07D409': 201, 'B60K6': 200, 'F21Y2101': 200, 'G01S13': 199, 'B29C70': 198, 'B01L2400': 197, 'C04B2235': 197, 'C08L2205': 197, 'B32B15': 196, 'A63F2300': 196, 'H01J2237': 195, 'G01N2201': 195, 'F16C33': 194, 'F21V29': 194, 'H01B1': 193, 'H04R3': 193, 'A61L31': 192, 'C02F2103': 192, 'B65D85': 190, 'G01J3': 189, 'H01S5': 189, 'H01R12': 188, 'C10G2300': 188, 'B82Y10': 187, 'B60W20': 187, 'A61K49': 187, 'G01D5': 186, 'B05D1': 186, 'H04W92': 184, 'G06N99': 183, 'B25J9': 183, 'C01P2004': 182, 'H03F2200': 182, 'E02F9': 181, 'A61B2019': 181, 'G08B13': 181, 'B32B38': 181, 'A61B3': 180, 'G01V1': 180, 'G16H10': 180, 'B60L3': 179, 'B65D81': 178, 'A61N2005': 177, 'H04J3': 177, 'H01L22': 177, 'G02B2027': 176, 'G11C5': 176, 'C01B32': 176, 'F05D2240': 176, 'B32B2250': 176, 'F16K31': 175, 'A61F2230': 175, 'B01J20': 175, 'A61L2': 175, 'A61Q5': 174, 'H01Q9': 174, 'C07K7': 173, 'G09G2360': 173, 'A61F9': 173, 'G06F2217': 173, 'E21B17': 173, 'G11C13': 172, 'C01P2006': 169, 'F16M13': 169, 'F16H61': 169, 'C08G77': 169, 'H03K19': 169, 'C08J3': 168, 'G05F1': 168, 'B60R21': 168, 'H02K1': 167, 'A61H2201': 167, 'B29C66': 167, 'A01N25': 167, 'G02B13': 166, 'H04M2203': 166, 'H04L7': 166, 'H01L2933': 166, 'H01L41': 166, 'H01R24': 165, 'G06T17': 163, 'G01N35': 163, 'H01Q21': 163, 'H01F27': 162, 'H01M2300': 162, 'G11B20': 162, 'G01T1': 162, 'H01L45': 161, 'H04B3': 161, 'H01S3': 161, 'G01S17': 161, 'A61M2202': 160, 'A61F2220': 160, 'B05D3': 160, 'H02J5': 159, 'G03B21': 159, 'H04J11': 159, 'H01L28': 158, 'F16M11': 158, 'G07C9': 158, 'G01N15': 157, 'C12N1': 156, 'C12P19': 156, 'G10L19': 156, 'H04M15': 155, 'A61M39': 155, 'A61K2300': 155, 'C01B3': 155, 'A61L2430': 155, 'C22C38': 154, 'C12N7': 154, 'G02F2201': 154, 'H01R43': 154, 'H04J14': 154, 'H02G3': 154, 'C07F9': 154, 'H03L7': 153, 'C09D7': 153, 'G06T2200': 152, 'G06F2209': 152, 'B60R16': 152, 'C08F220': 152, 'B32B2457': 151, 'A63B21': 151, 'G01N2500': 149, 'H01M2008': 149, 'F02D2200': 149, 'B29K2995': 148, 'F05D2230': 148, 'A61F2013': 148, 'G06F7': 147, 'F16J15': 147, 'A63B71': 147, 'B60Q1': 147, 'H04L2012': 146, 'B23K2101': 146, 'H04W80': 145, 'B65D25': 145, 'C12N2501': 145, 'H01R4': 145, 'B60L15': 145, 'G07C5': 145, 'F21V7': 144, 'G09B19': 144, 'H04M7': 144, 'G10L21': 144, 'C07C2601': 144, 'G09G2370': 144, 'B32B2262': 143, 'F21V21': 143, 'G01N23': 143, 'H03M1': 143, 'C07D239': 142, 'H04R25': 142, 'G02B21': 142, 'C30B29': 141, 'C07F7': 141, 'B60W2710': 140, 'B81C1': 140, 'G06F2200': 139, 'E21B34': 139, 'H01M2004': 139, 'A63B2225': 138, 'A61K48': 138, 'H03K3': 138, 'C12N2320': 138, 'G01F1': 138, 'H01J49': 138, 'H04H60': 138, 'B01D46': 137, 'G03B17': 137, 'H02K5': 136, 'G02B3': 136, 'C08K2003': 135, 'B65H2701': 135, 'A61J1': 135, 'C02F2101': 135, 'C07D307': 134, 'F05B2240': 134, 'G01R19': 134, 'C07D491': 134, 'F24F11': 133, 'B60W2510': 133, 'H02J2007': 133, 'B23K2103': 133, 'A63B69': 132, 'B65D83': 132, 'G01N29': 132, 'B60W50': 131, 'G01J1': 130, 'F01N13': 130, 'A61M2210': 130, 'H01L2221': 129, 'C07D209': 129, 'F21S8': 129, 'A61B10': 129, 'A63B2071': 128, 'F01D9': 128, 'A23L2': 128, 'C04B2111': 127, 'G01N2035': 127, 'E05Y2900': 127, 'B60T8': 126, 'F04C2270': 126, 'C09J7': 126, 'B01F3': 126, 'C02F2303': 126, 'F21V5': 126, 'B01D61': 126, 'H04H20': 126, 'C08L33': 125, 'C08L83': 125, 'B22F3': 125, 'B29C64': 125, 'G06K2209': 125, 'G10K11': 125, 'F02D2041': 124, 'G10L25': 124, 'C10L1': 124, 'C01P2002': 124, 'B01J21': 124, 'H04W68': 124, 'A01N37': 123, 'H04W60': 123, 'H04L2463': 123, 'G06T2210': 122, 'B60L2210': 122, 'F16C19': 121, 'G06K2009': 121, 'C09K2211': 121, 'E21B7': 121, 'C07B2200': 121, 'B01D2258': 121, 'A61L2400': 121, 'A61F2210': 121, 'C08J9': 120, 'B65H2301': 120, 'C07C29': 120, 'G08C17': 120, 'F05D2250': 120, 'H01F38': 119, 'B41J29': 119, 'B82Y20': 119, 'B23P15': 119, 'F01D11': 118, 'B41J2002': 118, 'B41M5': 118, 'B60H1': 118, 'B60Y2200': 118, 'B60L2200': 117, 'A47J31': 117, 'F23R3': 117, 'C08F2': 117, 'C04B28': 117, 'G02C7': 116, 'C07D207': 116, 'B32B2255': 116, 'G11C8': 115, 'A61M15': 115, 'H02P6': 115, 'H02H3': 115, 'H01L43': 115, 'C07D498': 115, 'B01J31': 114, 'G01N2015': 114, 'G01V3': 114, 'H01F41': 114, 'B01D71': 114, 'F16H57': 114, 'G01R1': 114, 'H03K5': 113, 'C02F2209': 113, 'C21D9': 112, 'B41J3': 112, 'A61L15': 112, 'B29C33': 112, 'A61Q17': 112, 'H05B3': 112, 'H04N2005': 112, 'B65D5': 112, 'G01L1': 112, 'B01J8': 112, 'E21B41': 111, 'B60W2550': 111, 'C08G63': 111, 'H01H9': 111, 'H03G3': 111, 'B05B1': 111, 'H02K3': 110, 'C07C51': 110, 'C09D133': 110, 'G01N30': 110, 'C10N2230': 110, 'B01F15': 110, 'G08B25': 109, 'H04Q11': 109, 'C07K1': 109, 'B23K9': 109, 'C08K7': 108, 'B65D1': 108, 'C07D495': 108, 'C01B2203': 108, 'G01S15': 108, 'F21Y2105': 107, 'B29C67': 107, 'B62D25': 107, 'B65H2801': 107, 'G03F1': 107, 'G05D23': 107, 'C08L67': 107, 'E06B9': 107, 'B60W2540': 107, 'A63B2220': 106, 'E21B21': 106, 'F05D2300': 106, 'C02F2201': 106, 'H04R2499': 106, 'H01Q3': 106, 'H04R5': 106, 'F02M25': 106, 'A61K51': 106, 'G09B5': 105, 'B65G47': 105, 'B60R1': 105, 'H04B2001': 105, 'C07C67': 104, 'E02F3': 104, 'H01G9': 104, 'A61M2230': 104, 'H01G11': 104, 'A61M2039': 104, 'F01N2610': 103, 'H02K11': 103, 'B01D2255': 103, 'F02C3': 103, 'H03K2217': 103, 'H03H7': 102, 'B01J29': 102, 'F16B5': 101, 'B65D75': 101, 'C12P21': 101, 'E21B49': 101, 'B29D11': 101, 'A61F2310': 101, 'B05D5': 101, 'H01L2223': 100, 'H01G4': 100, 'B60L2250': 100, 'A61G7': 100, 'F02B37': 100, 'B60R2021': 100, 'B29C43': 100, 'A23K20': 100, 'H05K13': 100, 'A61M2016': 99, 'H02H7': 99, 'B81B2201': 99, 'H03F2203': 99, 'A61L9': 98, 'G01N2001': 98, 'B60T7': 98, 'B01D15': 98, 'G05B23': 98, 'G11C2213': 97, 'B64D11': 97, 'C07C69': 97, 'A41D13': 97, 'A63B2209': 97, 'C08G73': 97, 'A63B23': 97, 'C03C17': 97, 'C10G2400': 97, 'C01B31': 97, 'H02J17': 97, 'B65D51': 96, 'B01D69': 96, 'G01B7': 96, 'F21V33': 96, 'H02K15': 96, 'G02B23': 95, 'F04D25': 95, 'F03D9': 95, 'B05B7': 95, 'B60K2350': 95, 'C09D175': 95, 'C07D231': 95, 'B01F5': 95, 'G11C2029': 95, 'A63B24': 95, 'F21Y2103': 95, 'G01N2291': 95, 'A23L29': 95, 'F16H3': 94, 'B60W2050': 94, 'G01P15': 94, 'H05B6': 94, 'B32B2605': 94, 'C10N2240': 94, 'C09K3': 94, 'F02M26': 94, 'H01Q5': 94, 'G06N3': 94, 'B33Y80': 93, 'E06B3': 93, 'F01L1': 93, 'A47C7': 93, 'G01F23': 93, 'F21W2131': 93, 'G01R27': 93, 'C07D295': 92, 'B60W2520': 92, 'E21B23': 92, 'H04R2201': 92, 'E21B19': 92, 'C23C18': 92, 'C07D519': 91, 'F16F15': 91, 'G07F7': 91, 'C07D211': 91, 'C08J2323': 91, 'G10L2015': 91, 'H02H9': 91, 'B33Y10': 91, 'G01J5': 91, 'B05D7': 91, 'E21B10': 91, 'B65H2404': 91, 'B08B3': 91, 'F05B2260': 91, 'B63B35': 91, 'B01D2251': 90, 'G03G9': 90, 'B64C1': 90, 'C12Y302': 90, 'A61N7': 90, 'C08G65': 90, 'F03D1': 90, 'H04L2025': 90, 'F21V3': 89, 'H02J9': 89, 'C08G59': 89, 'C07D277': 89, 'B29K2023': 88, 'B05B15': 88, 'B29C2045': 87, 'G09G2354': 87, 'B60R11': 87, 'F16H2061': 87, 'F03D7': 87, 'B29C49': 87, 'B01D2253': 87, 'G02F2202': 87, 'C08K2201': 87, 'H02J1': 87, 'H04N17': 87, 'H01B7': 87, 'B23K35': 87, 'H05K9': 87, 'C12M23': 87, 'B01F13': 87, 'B32B17': 87, 'H03M7': 87, 'G01V2210': 86, 'C12N2710': 86, 'A47L9': 86, 'G05B13': 86, 'B60L2260': 86, 'A43B13': 86, 'F16L55': 86, 'D06F39': 86, 'E04B2': 86, 'B62D5': 85, 'H01B3': 85, 'C22C1': 85, 'C08L63': 85, 'B60L1': 85, 'A23K50': 85, 'F21V13': 85, 'A61Q11': 85, 'C09C1': 84, 'F25D23': 84, 'B60T13': 84, 'C07K5': 84, 'B32B2439': 84, 'A45C11': 84, 'A63B53': 84, 'B01D2259': 84, 'B65D43': 84, 'F21V17': 84, 'A01H1': 83, 'C21D8': 83, 'F24F13': 83, 'F16F9': 83, 'G01B9': 83, 'C08K9': 83, 'F02N11': 83, 'B22F1': 83, 'F21V19': 83, 'H02J13': 83, 'G05D2201': 83, 'E04C2': 83, 'B65H2511': 83, 'C21D1': 82, 'H04Q9': 82, 'H01F1': 82, 'C03C3': 82, 'C07D215': 82, 'H04M11': 81, 'C11D17': 81, 'F21V9': 81, 'H03H9': 81, 'B60W40': 81, 'F28F9': 81, 'B60K17': 81, 'H04L2001': 81, 'C25D5': 81, 'D04H1': 81, 'B65H5': 81, 'B60R25': 81, 'C08J7': 80, 'C11D1': 80, 'C07D333': 80, 'G06N7': 80, 'H04M2201': 80, 'G06T13': 80, 'G08C2201': 80, 'H01Q7': 80, 'H04R2225': 80, 'F01N2900': 80, 'C07C45': 80, 'H01R9': 80, 'G02B19': 80, 'C02F3': 80, 'C22F1': 80, 'G01B21': 80, 'B65D47': 80, 'G06T2219': 80, 'C25B1': 80, 'C09D183': 80, 'F03D80': 79, 'A01N47': 79, 'C08B37': 79, 'F16D65': 79, 'B01D29': 79, 'B01D67': 79, 'A23L27': 79, 'C08F4': 79, 'F02C6': 79, 'H04S7': 79, 'B06B1': 79, 'A45C13': 78, 'H01F7': 78, 'F02M35': 78, 'A61M11': 78, 'C12Y304': 78, 'C08F210': 78, 'C07D233': 78, 'H01R2201': 78, 'A01N59': 78, 'A61L2202': 78, 'F04B49': 78, 'A23L5': 78, 'B32B2305': 78, 'G10H1': 78, 'B01J2208': 78, 'A63B60': 78, 'B60L2270': 77, 'E03C1': 77, 'H02K9': 77, 'H04Q2011': 77, 'B41J2202': 77, 'A61F7': 77, 'C23C28': 77, 'G09G2380': 77, 'B82Y5': 77, 'H05H1': 77, 'H02S20': 77, 'C07F15': 77, 'G09F3': 77, 'B60L7': 76, 'G11B2220': 76, 'C08G2261': 76, 'C07C1': 76, 'H02S40': 76, 'B23P19': 76, 'B60K35': 76, 'E04F15': 76, 'H01P1': 76, 'C10M2207': 76, 'C12N2760': 76, 'E04B2001': 76, 'A46B2200': 76, 'H04R2420': 76, 'F02C9': 76, 'A61M2209': 75, 'A24F47': 75, 'C07D513': 75, 'A47L15': 75, 'A01K67': 75, 'B05B11': 75, 'B23K1': 75, 'B32B1': 75, 'B01F2215': 75, 'B01D3': 75, 'G03G2221': 75, 'C07H21': 75, 'A43B3': 74, 'B65D77': 74, 'G02F2203': 74, 'C01B33': 74, 'B81B7': 74, 'E04F13': 74, 'B01D63': 74, 'H01H13': 74, 'B64C27': 74, 'A23L3': 74, 'B23K2201': 74, 'F16K1': 73, 'G06T9': 73, 'F04B53': 73, 'A61L29': 73, 'G01M3': 73, 'B01D35': 73, 'D01D5': 73, 'C11D11': 73, 'G08G5': 73, 'F25B49': 73, 'C07C2': 73, 'F16H2200': 72, 'C08L77': 72, 'B60C1': 72, 'H04R29': 72, 'F16H59': 72, 'C08L71': 72, 'B26D7': 72, 'B60L2220': 71, 'A61M37': 71, 'H04N2013': 71, 'F28D15': 71, 'F28D2021': 71, 'A63B22': 71, 'C08F8': 71, 'B01J27': 71, 'G01L5': 71, 'E06B2009': 71, 'H01M2250': 71, 'C08L2203': 71, 'C10G1': 71, 'F05D2270': 71, 'B29K2101': 70, 'D21H17': 70, 'G05D7': 70, 'H02J2003': 70, 'G10L17': 70, 'H04B15': 70, 'F16B2': 70, 'C09K5': 70, 'C12Y301': 70, 'B60R13': 70, 'F16K11': 70, 'F15B2211': 70, 'F25B2600': 70, 'G01C19': 70, 'A47J37': 69, 'B25F5': 69, 'F16C17': 69, 'H01B13': 69, 'F03D13': 69, 'B81B3': 68, 'F21Y2113': 68, 'B60C11': 68, 'C08L9': 68, 'F25B2400': 68, 'F28D7': 68, 'B01D2325': 68, 'A61F2007': 68, 'F28F1': 68, 'B29D99': 68, 'G11B7': 68, 'C10L2290': 68, 'C08J2367': 68, 'F04C18': 68, 'D21H21': 68, 'F23R2900': 68, 'H01M2010': 68, 'B01L7': 68, 'G01M15': 67, 'F21S41': 67, 'A61C8': 67, 'A42B3': 67, 'B60K15': 67, 'B32B2260': 67, 'F04B39': 67, 'B01J2231': 67, 'C10N2220': 67, 'C10G3': 67, 'G01N2223': 67, 'B60K1': 67, 'C08L2666': 66, 'C07C233': 66, 'C08F10': 66, 'C10G45': 66, 'C08L2201': 66, 'F28D1': 66, 'H02M5': 66, 'A61Q1': 66, 'C12R1': 66, 'B32B2264': 66, 'A23K10': 66, 'C09K19': 66, 'A63B2053': 66, 'C12N2506': 66, 'B01F7': 66, 'B29L2009': 66, 'B29C35': 66, 'C10J3': 66, 'B32B2037': 66, 'B41J13': 66, 'G01S3': 66, 'B05B12': 66, 'C07D241': 66, 'A01N63': 65, 'B60P3': 65, 'A61K41': 65, 'F01D17': 65, 'C09K2208': 65, 'B62D1': 65, 'F21S48': 65, 'F03B13': 65, 'C10L2200': 65, 'F24F3': 65, 'F28F3': 65, 'B01J2531': 65, 'B01D2256': 65, 'F24S25': 65, 'B08B9': 65, 'H01L35': 65, 'C07D493': 64, 'A01K1': 64, 'G02B9': 64, 'B60G2204': 64, 'A01K2267': 64, 'H04R2460': 64, 'C12N2533': 64, 'C07F5': 64, 'A61B50': 64, 'C12M21': 64, 'B24B37': 64, 'C21D2211': 64, 'H01M6': 64, 'G01K13': 64, 'G01N2030': 64, 'C12N2500': 64, 'A61B2503': 63, 'B60K37': 63, 'B42D25': 63, 'B65D33': 63, 'B29D30': 63, 'C07D311': 63, 'B29C44': 63, 'C08L51': 63, 'A47F5': 63, 'H02P27': 63, 'H02P29': 63, 'F16F1': 63, 'B60C23': 63, 'A43B7': 63, 'E05F15': 63, 'F24C15': 63, 'G01N3': 63, 'A47G19': 63, 'G01K7': 63, 'G11C2013': 62, 'F16L3': 62, 'H01Q13': 62, 'B65B3': 62, 'A45F5': 62, 'F16K27': 62, 'F16K15': 62, 'C08G61': 62, 'G02B15': 62, 'G06F2213': 62, 'F21V15': 62, 'C09J2201': 62, 'C09J133': 62, 'H01H3': 62, 'A01K2227': 62, 'F16H1': 62, 'H01H1': 62, 'G09B7': 62, 'C10J2300': 62, 'A47J43': 62, 'B23K20': 62, 'B25J15': 62, 'G09B23': 61, 'E05B65': 61, 'B01D21': 61, 'B22F2998': 61, 'B62D21': 61, 'B29C59': 61, 'B60G17': 61, 'A61C13': 61, 'D01F6': 61, 'B25B23': 61, 'F02D19': 61, 'G11B2005': 60, 'B60L2230': 60, 'C07C2603': 60, 'A01D34': 60, 'B29K2067': 60, 'C07D249': 60, 'G02B2006': 60, 'B33Y30': 60, 'F24J2': 60, 'C08L75': 60, 'A61B2576': 60, 'G10L13': 60, 'C12M41': 60, 'G01B5': 60, 'F16L37': 60, 'A01K2217': 60, 'C12N2740': 60, 'A43B23': 59, 'G01R15': 59, 'H04Q2209': 59, 'F02K3': 59, 'B62D15': 59, 'B60K2015': 59, 'C07C7': 59, 'G11C2211': 59, 'C08G69': 59, 'F15B15': 59, 'G03B13': 59, 'B65H29': 59, 'F04B43': 59, 'B65H3': 59, 'C08F110': 59, 'A61H1': 59, 'B60R2300': 59, 'B67D1': 59, 'C30B25': 58, 'F04D13': 58, 'B60T17': 58, 'C04B38': 58, 'G21K1': 58, 'G05F3': 58, 'B01D2323': 58, 'F01N2560': 58, 'G11B2020': 58, 'B21D53': 58, 'F17C2221': 58, 'C25D7': 58, 'C07C5': 58, 'F17C2270': 58, 'B64C39': 58, 'G01L9': 58, 'H04J13': 58, 'C03C2217': 58, 'H02P9': 58, 'H01M2200': 58, 'H02K21': 58, 'A63H33': 58, 'A61C19': 58, 'C08F222': 58, 'C07C211': 57, 'B60R2011': 57, 'B22F9': 57, 'A63B2210': 57, 'B65D21': 57, 'B01D2252': 57, 'A23L7': 57, 'B65D88': 57, 'E05Y2201': 57, 'B65H7': 57, 'B65D90': 57, 'E04D13': 57, 'F16C2360': 56, 'F01N2240': 56, 'B60K2006': 56, 'D06M15': 56, 'B67D7': 56, 'G09F13': 56, 'A61G5': 56, 'H05B1': 56, 'C23C4': 56, 'F04C2': 56, 'C07H19': 56, 'H04S2400': 56, 'G11B19': 56, 'A01G9': 56, 'A47L13': 56, 'A23K1': 56, 'C02F2001': 56, 'F17C2223': 56, 'A61B2010': 56, 'B01D2313': 56, 'A63B2208': 56, 'B60S1': 56, 'F02D29': 56, 'H01H33': 55, 'F05B2270': 55, 'H05B2203': 55, 'A45F3': 55, 'A63B2024': 55, 'H02N2': 55, 'F01N11': 55, 'F01N9': 55, 'B82Y15': 55, 'G01R21': 55, 'C10M2215': 55, 'F02D13': 55, 'C25B9': 55, 'F04D17': 55, 'A63F9': 55, 'C12Y207': 55, 'A45C2011': 55, 'H05B41': 55, 'B26D1': 55, 'B01D39': 54, 'F16H55': 54, 'B64D45': 54, 'B01D2201': 54, 'D06F58': 54, 'F16C35': 54, 'G08B29': 54, 'C08L1': 54, 'H04R2430': 54, 'B62B3': 54, 'G01L19': 54, 'F16K17': 54, 'C12N2770': 54, 'B65B5': 54, 'A61L2420': 53, 'C07D263': 53, 'G07C2009': 53, 'C12N2510': 53, 'F23D14': 53, 'B33Y50': 53, 'F16M2200': 53, 'C07C2529': 53, 'B32B2419': 53, 'F16H63': 53, 'H02P21': 53, 'A01N1': 53, 'C25D3': 53, 'C10M2203': 53, 'C08L5': 53, 'G01D11': 53, 'H01Q19': 53, 'F24H9': 53, 'B32B2270': 53, 'C04B41': 53, 'F16H25': 53, 'H01P5': 53, 'G09F9': 53, 'G01M11': 53, 'B65D65': 53, 'G11C2207': 53, 'F04D27': 52, 'G08B5': 52, 'B23K31': 52, 'C11B1': 52, 'F16L9': 52, 'A61M2207': 52, 'B65B7': 52, 'H01F17': 52, 'C07C41': 52, 'A61K2035': 52, 'E21B44': 52, 'F16C2326': 52, 'G01G19': 52, 'G01P3': 52, 'F04C29': 52, 'A61C17': 52, 'F25B2700': 52, 'F41H5': 52, 'A61B2217': 51, 'C07D407': 51, 'C08L79': 51, 'A61G2203': 51, 'C22C19': 51, 'F02K1': 51, 'G01M17': 51, 'A23D9': 51, 'F28F13': 51, 'B65D41': 51, 'A61N2007': 51, 'C07C229': 51, 'H01R31': 51, 'B64C2201': 51, 'F02D2250': 51, 'F24F2110': 51, 'C11D7': 51, 'C08L69': 51, 'B65H2405': 51, 'G01K1': 51, 'H02K2213': 51, 'B65B61': 51, 'B29C2035': 51, 'F03G7': 51, 'H04N2213': 50, 'A63B37': 50, 'C21D6': 50, 'A61M29': 50, 'G07F11': 50, 'A41D1': 50, 'B23K37': 50, 'A43B5': 50, 'H04R19': 50, 'F21S4': 50, 'G07F19': 50, 'B64G1': 50, 'D21H27': 50, 'G01V5': 50, 'C10L3': 50, 'B01J13': 50, 'H02G1': 50, 'B62B5': 50, 'A23C9': 50, 'C08L53': 50, 'B60K2001': 50, 'A45D40': 50, 'F01L2001': 50, 'A61H23': 50, 'B66F9': 49, 'H04N2101': 49, 'C07C17': 49, 'F16B21': 49, 'G07D7': 49, 'H04B2203': 49, 'D06F37': 49, 'E21B2034': 49, 'A61M31': 49, 'A61H2205': 49, 'C09K2019': 49, 'H01Q15': 49, 'A61C5': 49, 'B60P1': 49, 'C07H15': 49, 'E04H12': 49, 'F02B75': 49, 'C09J5': 49, 'F16B7': 49, 'F16D3': 49, 'H04M2242': 49, 'F01D21': 48, 'B65G1': 48, 'F16H2059': 48, 'G11B33': 48, 'B29C2049': 48, 'G01S2013': 48, 'H02B1': 48, 'B22F7': 48, 'C07C235': 48, 'A43B1': 48, 'G01R29': 48, 'B60G2202': 48, 'B60Y2400': 48, 'B60R19': 48, 'A61M27': 48, 'B01L9': 48, 'G02B17': 48, 'G01N25': 48, 'B23P6': 48, 'B65H2402': 48, 'C02F2301': 48, 'A46B9': 48, 'G11C19': 48, 'B65H75': 48, 'B01J2229': 48, 'H02G15': 48, 'A61B2218': 48, 'G16H15': 48, 'A61K6': 48, 'B41J15': 48, 'H05H2001': 48, 'A61F2240': 48, 'F24F1': 48, 'A47J36': 48, 'B65H1': 48, 'B05C5': 47, 'C07C255': 47, 'A47B96': 47, 'G03B15': 47, 'C02F2305': 47, 'F02M21': 47, 'A61J7': 47, 'B01D19': 47, 'B23K2203': 47, 'H04S2420': 47, 'B29D2030': 47, 'G01F15': 47, 'C22C21': 47, 'H01L2227': 47, 'H02J4': 47, 'F02M37': 47, 'G03H1': 47, 'F17C2205': 47, 'F03D11': 47, 'A47K10': 47, 'C07C2602': 47, 'B29C53': 47, 'C02F9': 47, 'C08L2207': 47, 'B25B13': 47, 'C10G2': 47, 'G06F2211': 47, 'H03B5': 47, 'C12P13': 47, 'C09B57': 46, 'H04M2215': 46, 'B81B2203': 46, 'A47C1': 46, 'B29C39': 46, 'A61B7': 46, 'A61N2': 46, 'C08J2201': 46, 'B22F2003': 46, 'B01J2220': 46, 'C09J2203': 46, 'B60R22': 46, 'B62D6': 46, 'C08J2375': 46, 'B81C2201': 46, 'B01J2523': 46, 'F24S23': 46, 'B65B51': 46, 'B41M7': 46, 'C10M2205': 46, 'C07D235': 46, 'A61L24': 46, 'G10H2220': 46, 'B64F5': 46, 'B60W2720': 46, 'A47C27': 46, 'B23Q3': 46, 'H02M2007': 46, 'C07C2101': 46, 'B60B2900': 46, 'A61C1': 46, 'F04C2240': 46, 'F24D19': 46, 'H04Q2213': 45, 'C08G2101': 45, 'A45D34': 45, 'B01D17': 45, 'E06B7': 45, 'B60H2001': 45, 'C08L27': 45, 'H02P25': 45, 'B81C2203': 45, 'B01D65': 45, 'C09D163': 45, 'B63B21': 45, 'F16L11': 45, 'C12P5': 45, 'C12M29': 45, 'B32B2266': 45, 'C12M47': 45, 'F15B11': 45, 'G05G1': 45, 'F22B1': 45, 'F02M2200': 45, 'G10L2021': 45, 'H01M12': 45, 'C07C323': 45, 'H01H71': 45, 'B60K11': 45, 'A61F2009': 45, 'A47J27': 45, 'G09B29': 45, 'B32B9': 45, 'A61M35': 44, 'B60C2011': 44, 'B22F2999': 44, 'B41M3': 44, 'B22F5': 44, 'F16B37': 44, 'F02M61': 44, 'F25D17': 44, 'E05D15': 44, 'E05Y2800': 44, 'E04C3': 44, 'F04D19': 44, 'A61C7': 44, 'A47L11': 44, 'G01C15': 44, 'F17C13': 44, 'C07C309': 44, 'C04B24': 44, 'B65H31': 44, 'A23G3': 44, 'A63F3': 44, 'C04B2103': 44, 'B64C25': 44, 'C03C2218': 44, 'F01K23': 44, 'G01J2003': 43, 'C07D309': 43, 'G01D4': 43, 'E05B47': 43, 'C07C311': 43, 'C07C43': 43, 'B60G2300': 43, 'C08J2333': 43, 'C07C231': 43, 'C04B2237': 43, 'B29C51': 43, 'A47G9': 43, 'E04G21': 43, 'F17C2201': 43, 'G03B2205': 43, 'F02B29': 43, 'G01S1': 43, 'F16F7': 43, 'C07D473': 43, 'F25B13': 43, 'F25B41': 43, 'F21V14': 43, 'B32B2038': 43, 'F24H1': 43, 'C12N2800': 43, 'B32B2309': 43, 'F21L4': 43, 'H04M2207': 43, 'B25J19': 43, 'D21H19': 43, 'F16K3': 43, 'B05C11': 42, 'A61Q15': 42, 'G07G1': 42, 'C07C271': 42, 'F01C21': 42, 'F25B1': 42, 'C09J175': 42, 'C10M2209': 42, 'C10M2219': 42, 'B32B25': 42, 'B60J5': 42, 'C08L101': 42, 'B65G2201': 42, 'B44C1': 42, 'F04B17': 42, 'B60Q9': 42, 'H03M3': 42, 'G05D16': 42, 'A41D27': 42, 'F16H37': 42, 'C07C237': 42, 'H02P23': 42, 'A61H3': 42, 'F41G1': 42, 'F21V31': 41, 'H01R25': 41, 'B22C9': 41, 'A45F2200': 41, 'A45D2200': 41, 'G11C17': 41, 'H04S3': 41, 'C12N2502': 41, 'F28D20': 41, 'G01R35': 41, 'H04M19': 41, 'C05G3': 41, 'B01D1': 41, 'B23P11': 41, 'B03C2201': 41, 'F24F7': 41, 'H04R9': 41, 'C07C2523': 41, 'E21B4': 41, 'F28F21': 41, 'B29C55': 41, 'B60N3': 41, 'G01N2203': 41, 'F16C11': 41, 'B65D2543': 41, 'C10M169': 41, 'B65H2403': 41, 'C07C209': 41, 'A61L2209': 41, 'F24S20': 41, 'H01R2103': 41, 'F16L1': 41, 'E04H4': 41, 'B65G15': 41, 'F25B2500': 41, 'H01R2107': 40, 'F21S43': 40, 'B60Q3': 40, 'B60G2206': 40, 'B23C5': 40, 'B62K11': 40, 'B01D45': 40, 'C09J2433': 40, 'B01D2311': 40, 'A61G13': 40, 'C08J2203': 40, 'B65G17': 40, 'A61B2505': 40, 'B21D22': 40, 'C10M2223': 40, 'C10L2270': 40, 'C07D317': 40, 'D04H3': 40, 'F15B13': 40, 'G01N31': 40, 'B31B50': 40, 'A63F2009': 40, 'B65F1': 40, 'B25J11': 40, 'F02D35': 40, 'F16D2121': 40, 'B60D1': 40, 'B26D3': 40, 'F28D9': 40, 'B08B1': 40, 'F16D1': 40, 'A63B2102': 39, 'G03B35': 39, 'B25B27': 39, 'B60N2002': 39, 'C08L25': 39, 'B02C23': 39, 'C23C24': 39, 'C11C3': 39, 'C07D217': 39, 'H04R7': 39, 'F16D48': 39, 'G01K11': 39, 'A47L5': 39, 'H04B2201': 39, 'A01G25': 39, 'E05B17': 39, 'F24S2025': 39, 'B65H2513': 39, 'F02N2200': 39, 'B66C23': 39, 'A01N57': 39, 'G08B17': 38, 'B05B13': 38, 'C07C49': 38, 'C23C2': 38, 'G06F2003': 38, 'C07C217': 38, 'H01P3': 38, 'C01B13': 38, 'F16D13': 38, 'D21H11': 38, 'B60Y2300': 38, 'H04R31': 38, 'C09J2205': 38, 'G07D11': 38, 'B66C1': 38, 'B65B55': 38, 'H01S2301': 38, 'C12M25': 38, 'C08J2300': 38, 'A23G9': 38, 'F16C2240': 38, 'A01C7': 38, 'F04C23': 38, 'B60K28': 38, 'C12N2750': 38, 'A23V2200': 38, 'H02K41': 38, 'B23Q11': 38, 'C22B3': 38, 'B65D71': 38, 'B29L2023': 38, 'A47F7': 38, 'B24D3': 38, 'C04B40': 38, 'B64C3': 38, 'G01V11': 38, 'G07B15': 38, 'G01C3': 38, 'B60J7': 37, 'B29C2043': 37, 'B07C5': 37, 'G02C11': 37, 'C08G64': 37, 'C02F11': 37, 'A01N31': 37, 'G03B3': 37, 'B60P7': 37, 'B60R9': 37, 'B65B9': 37, 'B65D2203': 37, 'C08F2220': 37, 'F15B21': 37, 'B25G1': 37, 'F04B35': 37, 'F17C2260': 37, 'C12Y101': 37, 'F25D2400': 37, 'G03G5': 37, 'G01S11': 37, 'B26F1': 37, 'G01V99': 37, 'A46B15': 37, 'G06T2211': 37, 'B64C13': 37, 'C09D4': 37, 'G03H2001': 37, 'C04B14': 36, 'F21Y2107': 36, 'F01K13': 36, 'G05B11': 36, 'G01V8': 36, 'A23L19': 36, 'B60T2201': 36, 'B01D11': 36, 'C09B67': 36, 'H02H1': 36, 'F01L13': 36, 'H02M2003': 36, 'E04H15': 36, 'B29K2075': 36, 'F16D2500': 36, 'B23Q1': 36, 'G10H2210': 36, 'C07D261': 36, 'H03H11': 36, 'A47C31': 36, 'F42B12': 36, 'B81B2207': 36, 'C12N2830': 36, 'A61C9': 36, 'H01J35': 36, 'B26D5': 36, 'B29C2947': 36, 'B05C17': 36, 'B25J13': 36, 'C10K1': 36, 'E21B29': 36, 'F04B1': 36, 'H01H50': 36, 'F16C32': 35, 'B65D23': 35, 'G07F9': 35, 'A61M2037': 35, 'C23C30': 35, 'C07B59': 35, 'F16K37': 35, 'C25D11': 35, 'F25D11': 35, 'C07C59': 35, 'C23F1': 35, 'C10L10': 35, 'G16H20': 35, 'C09D167': 35, 'B23B31': 35, 'G01C23': 35, 'B60G2200': 35, 'B60G11': 35, 'B23B27': 35, 'C08L2312': 35, 'B33Y70': 35, 'A61L26': 35, 'F04C15': 35, 'A63B2022': 35, 'F25B39': 35, 'A23P10': 35, 'H01R11': 35, 'F16B19': 35, 'C07C2521': 35, 'D01F1': 35, 'E04B5': 35, 'E05D11': 35, 'E05B85': 35, 'F25B21': 35, 'F16H2057': 35, 'A47B88': 35, 'A01M1': 35, 'A24D3': 35, 'C22C9': 35, 'G06F5': 35, 'C09J11': 35, 'B29C41': 35, 'A01N2300': 35, 'C01B39': 35, 'B29B7': 35, 'C10B53': 35, 'F01P7': 35, 'F21S9': 35, 'B65B43': 35, 'A63B2243': 34, 'A61M2021': 34, 'B60R7': 34, 'F01K25': 34, 'C07C317': 34, 'F16D41': 34, 'A41D19': 34, 'C01G53': 34, 'B05B9': 34, 'A61J3': 34, 'C12P17': 34, 'B09B3': 34, 'A47K5': 34, 'F16B39': 34, 'C07D265': 34, 'B42D15': 34, 'B62D33': 34, 'H04R27': 34, 'G09B9': 34, 'G06Q2220': 34, 'H01F2027': 34, 'F01N2550': 34, 'F01D15': 34, 'B08B7': 34, 'C08L97': 34, 'A47F3': 34, 'C01B25': 34, 'C10L5': 34, 'A61F2005': 34, 'F02M63': 34, 'H04Q3': 34, 'A24B15': 34, 'B60C9': 34, 'B01D2239': 34, 'F02F1': 34, 'B29C63': 34, 'A61K2236': 34, 'E04C5': 34, 'A01D41': 34, 'E01C19': 34, 'H04R17': 34, 'E04B2002': 34, 'B29C37': 34, 'F23N5': 34, 'A45F2005': 33, 'C01B21': 33, 'C10G11': 33, 'B65B1': 33, 'B62K25': 33, 'H01J9': 33, 'C08J2205': 33, 'B28B1': 33, 'B62D55': 33, 'A61B2050': 33, 'F16D55': 33, 'F17C2203': 33, 'E02D27': 33, 'F03B17': 33, 'F21S2': 33, 'A23B7': 33, 'C07H1': 33, 'B65D19': 33, 'C03C4': 33, 'F16H7': 33, 'D02G3': 33, 'F16L59': 33, 'H01T13': 33, 'B01F11': 33, 'A01N65': 33, 'A63B2230': 33, 'F24F2011': 33, 'F05B2220': 33, 'B63B2035': 33, 'F28F27': 33, 'A41D2400': 33, 'E05D7': 33, 'B23K11': 33, 'F02B39': 33, 'C08L21': 33, 'C25B15': 33, 'F01N2590': 32, 'C08J2327': 32, 'A61M21': 32, 'D03D15': 32, 'C23C8': 32, 'E05C19': 32, 'F23J15': 32, 'C09D179': 32, 'G09B21': 32, 'H03K2017': 32, 'C10G47': 32, 'B63H21': 32, 'G08C19': 32, 'G08C23': 32, 'B03C1': 32, 'H05G1': 32, 'C08G2650': 32, 'C09D1': 32, 'F26B3': 32, 'H01G2': 32, 'H01J61': 32, 'A61N2001': 32, 'B29L2007': 32, 'A23V2250': 32, 'G01M13': 32, 'B60K7': 32, 'B66B1': 32, 'B32B2310': 32, 'E04F2201': 32, 'F25B2313': 32, 'F24S30': 32, 'A46B5': 32, 'A01K15': 32, 'G01J2005': 32, 'G03F9': 32, 'A63B59': 32, 'H01F5': 32, 'F03D15': 32, 'F16L21': 32, 'A01N33': 32, 'H04R2410': 32, 'B64F1': 32, 'F01P3': 32, 'C08L7': 32, 'B66C13': 32, 'B62D29': 32, 'F28D21': 32, 'B63B1': 31, 'B65B31': 31, 'H01R23': 31, 'B22D11': 31, 'D06M13': 31, 'F21W2121': 31, 'B60T1': 31, 'C01G23': 31, 'C22C33': 31, 'E05B15': 31, 'B30B15': 31, 'A47K3': 31, 'F24S10': 31, 'C04B37': 31, 'G11C14': 31, 'F01M11': 31, 'B07B1': 31, 'B32B29': 31, 'F25B9': 31, 'A23F5': 31, 'C07C31': 31, 'G03B5': 31, 'B25B21': 31, 'F16D25': 31, 'A63B2069': 31, 'C09J163': 31, 'F24F5': 31, 'F25J3': 31, 'C10G65': 31, 'A01G1': 31, 'H01F10': 31, 'B29C2793': 31, 'C13K1': 31, 'B65H2553': 31, 'G09F7': 31, 'E04H9': 31, 'F03D3': 31, 'G02C5': 31, 'F02P5': 31, 'C03C21': 31, 'B65B25': 31, 'H02P3': 30, 'C07D271': 30, 'B62K19': 30, 'H05G2': 30, 'B01F2003': 30, 'E05B2047': 30, 'D04B1': 30, 'A23G1': 30, 'F01N5': 30, 'A63F1': 30, 'F16H48': 30, 'A62C3': 30, 'G01C11': 30, 'H04L2027': 30, 'C08C19': 30, 'F15B1': 30, 'H01C7': 30, 'F17C1': 30, 'C25D17': 30, 'A61H9': 30, 'E05B63': 30, 'C10N2210': 30, 'B31F1': 30, 'G01F25': 30, 'F02M51': 30, 'B41J25': 30, 'C12P2203': 30, 'C12P2201': 30, 'G21K5': 30, 'C25B11': 30, 'B29B11': 30, 'C08L91': 30, 'B65H9': 30, 'B65H2220': 30, 'A01G7': 30, 'H02K16': 30, 'B05B3': 30, 'B60J1': 30, 'A44B11': 30, 'F25D29': 30, 'D06F33': 30, 'C08G75': 30, 'F16D2125': 30, 'G06T2215': 30, 'B29L2011': 30, 'C08J2423': 30, 'D10B2331': 30, 'B02C18': 30, 'B01J38': 29, 'F16C41': 29, 'D21C9': 29, 'D03D1': 29, 'F04D15': 29, 'A47B47': 29, 'C11B9': 29, 'D06M2101': 29, 'F21S10': 29, 'B29K2077': 29, 'B60T2270': 29, 'H03H3': 29, 'C08L61': 29, 'F23D2900': 29, 'B60G2500': 29, 'F16K5': 29, 'C12N2330': 29, 'H02S50': 29, 'B24B49': 29, 'D01F9': 29, 'A23P30': 29, 'F24F2003': 29, 'G02C2202': 29, 'G01B2210': 29, 'C08F212': 29, 'B65D2519': 29, 'F21S45': 29, 'F23G5': 29, 'H01B11': 29, 'C07D319': 29, 'A23K40': 29, 'B32B2607': 29, 'B65B11': 29, 'C09K21': 29, 'A61M3': 29, 'H01H2221': 29, 'H01F2017': 29, 'C09G1': 29, 'E02B3': 29, 'F05B2230': 29, 'H02S30': 29, 'E01C23': 29, 'G08B6': 29, 'G01W1': 29, 'F25D25': 29, 'B60B27': 29, 'F26B21': 29, 'F41G3': 29, 'G01N24': 29, 'F01C1': 29, 'G10K2210': 29, 'C07C213': 29, 'G01M5': 29, 'B64D13': 29, 'F02B2075': 28, 'A47C3': 28, 'B63B27': 28, 'A47B81': 28, 'C07C215': 28, 'C02F2307': 28, 'B41C1': 28, 'C03B37': 28, 'A01K2207': 28, 'A45F2003': 28, 'B65B57': 28, 'B62K3': 28, 'C08J2363': 28, 'E21B37': 28, 'F25D3': 28, 'C11B3': 28, 'C07D237': 28, 'C07C57': 28, 'E05B81': 28, 'A01K29': 28, 'E04B9': 28, 'C10N2250': 28, 'B60G2400': 28, 'F02D9': 28, 'H01R27': 28, 'H04Q1': 28, 'F16H2037': 28, 'F16C43': 28, 'G10H2240': 28, 'H04M9': 28, 'B25B5': 28, 'B64D33': 28, 'A21D13': 28, 'F16D2300': 28, 'B24D18': 28, 'B64D27': 28, 'C08H8': 28, 'E05D3': 28, 'G01N2469': 28, 'C23C22': 28, 'C08F290': 28, 'G09F2003': 28, 'F04B9': 28, 'C09C3': 28, 'B65B35': 28, 'F25D21': 28, 'C07C37': 28, 'E06B1': 28, 'B60R2022': 28, 'F23G7': 28, 'A61B46': 28, 'A45C5': 27, 'G01D21': 27, 'B60C2200': 27, 'C09J123': 27, 'A42B1': 27, 'B62M6': 27, 'C03C8': 27, 'C08J2433': 27, 'F16C2226': 27, 'F24S40': 27, 'C09J2400': 27, 'H02P7': 27, 'F16B35': 27, 'C12N11': 27, 'H04H2201': 27, 'C07C253': 27, 'F16C2300': 27, 'C07D221': 27, 'A47C21': 27, 'G09C1': 27, 'F17C2227': 27, 'B65H2601': 27, 'F02D11': 27, 'B05B17': 27, 'B65D2251': 27, 'B62D35': 27, 'H01F3': 27, 'G01C22': 27, 'C04B7': 27, 'E05F1': 27, 'A01K5': 27, 'A61F11': 27, 'F17C2250': 27, 'B29C73': 27, 'F17D1': 27, 'G01J2001': 27, 'B01J2': 27, 'B29B9': 27, 'B65G43': 27, 'E04H17': 27, 'E04H1': 27, 'H01L39': 27, 'B65H23': 27, 'A63H3': 27, 'F25C5': 27, 'G01L3': 27, 'B29B17': 27, 'F02B33': 27, 'B66B5': 27, 'F16C29': 27, 'G01R23': 27, 'F16L23': 27, 'B60K13': 27, 'F24D2200': 27, 'G01B3': 27, 'H04N3': 27, 'B62D7': 27, 'A23B4': 27, 'E21B36': 27, 'G01M99': 27, 'B28D1': 27, 'H04H40': 27, 'B60J10': 26, 'A62C35': 26, 'B23B51': 26, 'C09D123': 26, 'C01G49': 26, 'B23B2260': 26, 'C10G9': 26, 'C08J2325': 26, 'F01P11': 26, 'B60K23': 26, 'A44C5': 26, 'A61H2230': 26, 'B64D37': 26, 'B32B2555': 26, 'G07C2209': 26, 'C07C227': 26, 'E05F5': 26, 'C08J11': 26, 'B21D51': 26, 'B29C2791': 26, 'G01N2400': 26, 'C10K3': 26, 'G06F2206': 26, 'G06Q90': 26, 'A61M2206': 26, 'B41M2205': 26, 'A62B18': 26, 'C04B20': 26, 'C04B26': 26, 'B01D2321': 26, 'F02B63': 26, 'B60T11': 26, 'A01N53': 26, 'H03D7': 26, 'E04F21': 26, 'B25H3': 26, 'B21D39': 26, 'E05Y2600': 26, 'H01Q25': 26, 'F01K7': 26, 'F41C23': 26, 'C12N13': 26, 'A01N55': 26, 'B62B2202': 26, 'F28F2275': 26, 'D06M11': 26, 'A61Q7': 26, 'G05B17': 26, 'B66D1': 26, 'F23N1': 26, 'F01N2470': 25, 'C09B69': 25, 'D10B2401': 25, 'D07B1': 25, 'G09F19': 25, 'G02B2207': 25, 'C07D257': 25, 'A47G23': 25, 'B60G7': 25, 'F16C2361': 25, 'C22B7': 25, 'B32B43': 25, 'E03F5': 25, 'C10M2201': 25, 'B26B21': 25, 'E02D29': 25, 'C08F20': 25, 'B41M1': 25, 'C12M33': 25, 'F41A9': 25, 'C07C2531': 25, 'B05B5': 25, 'C10L9': 25, 'B67D3': 25, 'B62D65': 25, 'G08B3': 25, 'C09J4': 25, 'H02G11': 25, 'B22D19': 25, 'F24C3': 25, 'B65C9': 25, 'F23C2900': 25, 'C07D301': 25, 'G03B37': 25, 'A47L2201': 25, 'A41D31': 25, 'G01N11': 25, 'A23P20': 25, 'B01J3': 25, 'H04R2227': 25, 'C12M27': 25, 'G03B33': 25, 'F25B30': 25, 'F24C7': 25, 'F04B19': 25, 'F15D1': 25, 'C09B23': 24, 'E05C1': 24, 'F24F2221': 24, 'D10B2403': 24, 'F25D2323': 24, 'A47D13': 24, 'B21B1': 24, 'F03D17': 24, 'B64C11': 24, 'B29D22': 24, 'B29K2027': 24, 'B30B11': 24, 'C07C251': 24, 'F02F3': 24, 'B64D2045': 24, 'C12Y203': 24, 'G01C25': 24, 'H01H47': 24, 'A47B13': 24, 'C08F214': 24, 'F25B2339': 24, 'F16C27': 24, 'C03C25': 24, 'E05B77': 24, 'C07D251': 24, 'G01T7': 24, 'F16L33': 24, 'G01N17': 24, 'C12Q2565': 24, 'F17C2265': 24, 'G01S2007': 24, 'H02S10': 24, 'A01F15': 24, 'B62B7': 24, 'B65D17': 24, 'A01K97': 24, 'C07D285': 24, 'C12Y402': 24, 'G01N2458': 24, 'C08F283': 24, 'B32B21': 24, 'B62K21': 24, 'C02F5': 24, 'B22D25': 24, 'C22C5': 24, 'B09C1': 24, 'A21D2': 24, 'E05B73': 24, 'B64D47': 24, 'B65H2515': 24, 'F25J1': 24, 'F24S80': 24, 'A47G1': 24, 'B65G65': 24, 'B01J39': 24, 'C08F236': 24, 'F16B33': 24, 'F01M1': 24, 'B62K5': 24, 'E02D5': 24, 'H02K29': 24, 'F05B2250': 24, 'H01R33': 24, 'A01M31': 24, 'H04S1': 24, 'F41A3': 24, 'F41A21': 24, 'F41B5': 24, 'B22D17': 24, 'H01M16': 24, 'F26B5': 24, 'H01J2235': 24, 'B01D5': 24, 'H02K2201': 24, 'B65G21': 24, 'F01N2260': 23, 'B63G8': 23, 'F16H2003': 23, 'A47C4': 23, 'C01F11': 23, 'D10B2501': 23, 'B60W2420': 23, 'C30B15': 23, 'B30B9': 23, 'B82Y25': 23, 'B62D27': 23, 'B29K2021': 23, 'F16L25': 23, 'B44C5': 23, 'C07C303': 23, 'C10N2270': 23, 'C10G69': 23, 'C08L65': 23, 'F16C3': 23, 'B60R2019': 23, 'E05B83': 23, 'B23Q17': 23, 'B62B9': 23, 'D10B2509': 23, 'F24H3': 23, 'B60C5': 23, 'G01P5': 23, 'B31B1': 23, 'C03B23': 23, 'H01H11': 23, 'F27D3': 23, 'C10G29': 23, 'F25B31': 23, 'A43B17': 23, 'B23C2210': 23, 'B29K2307': 23, 'C10J2200': 23, 'B63C11': 23, 'F03G6': 23, 'G01P13': 23, 'B32B2551': 23, 'F22B37': 23, 'F01N2510': 23, 'B29C71': 23, 'B01J4': 23, 'B62B1': 23, 'C08F230': 23, 'B28B7': 23, 'C30B33': 23, 'C01B17': 23, 'A61Q13': 23, 'F16L19': 23, 'A47G25': 23, 'F41A17': 23, 'F16H19': 23, 'B32B2597': 23, 'F04B23': 23, 'A45D44': 23, 'B82Y99': 23, 'B60G3': 23, 'B32B2405': 23, 'B23K3': 23, 'F02M59': 23, 'C08L3': 23, 'C09K2205': 23, 'A61H7': 23, 'B03C3': 23, 'F21S6': 23, 'E04C2003': 23, 'H03L1': 22, 'C22C30': 22, 'B22F2005': 22, 'C07D205': 22, 'F01D1': 22, 'C10G21': 22, 'E05C3': 22, 'F16L41': 22, 'A43C11': 22, 'B65H45': 22, 'G06K2017': 22, 'H03G1': 22, 'A63F2003': 22, 'F24S50': 22, 'B65G37': 22, 'B23C3': 22, 'G01P21': 22, 'B65D55': 22, 'A47F1': 22, 'B42D2035': 22, 'F16L27': 22, 'H01J1': 22, 'C05F11': 22, 'B32B2311': 22, 'B23P2700': 22, 'B21D5': 22, 'B65H35': 22, 'C04B18': 22, 'C03C23': 22, 'G21C19': 22, 'C08L95': 22, 'A23L13': 22, 'C08F265': 22, 'B65D35': 22, 'C01F7': 22, 'G01N19': 22, 'C08J2377': 22, 'A01N35': 22, 'B32B2571': 22, 'F01N1': 22, 'C08F2500': 22, 'C03B33': 22, 'B62B2205': 22, 'G01F11': 22, 'G09F23': 22, 'G21F9': 22, 'A47K2010': 22, 'E06B5': 22, 'B65D11': 22, 'D10B2505': 22, 'C08L81': 22, 'H04K3': 22, 'D06F35': 22, 'A47G21': 22, 'G06G7': 22, 'G10H3': 22, 'A46B13': 22, 'B60Q2300': 22, 'H02P1': 22, 'F16L2201': 22, 'C07C6': 22, 'A01N41': 22, 'C30B23': 22, 'B21C37': 22, 'A01G22': 22, 'G11C15': 22, 'B61L15': 22, 'B24C1': 22, 'A46B11': 22, 'G04G21': 22, 'B60W2030': 22, 'G11B15': 22, 'F01M13': 22, 'B65H37': 22, 'C09J183': 22, 'F16C23': 21, 'C07C15': 21, 'A47B57': 21, 'H01P11': 21, 'H03F2201': 21, 'D06M2200': 21, 'C22C29': 21, 'F04C14': 21, 'C01G45': 21, 'B23K10': 21, 'F02N15': 21, 'C22C32': 21, 'C40B30': 21, 'B31B70': 21, 'H01H2219': 21, 'B32B18': 21, 'B25J5': 21, 'C09D127': 21, 'B29D23': 21, 'C07C275': 21, 'C08L29': 21, 'G01T3': 21, 'F02M69': 21, 'E04B7': 21, 'G06Q99': 21, 'C22C26': 21, 'C10M105': 21, 'F25D2317': 21, 'D21C3': 21, 'C25B3': 21, 'B60K2007': 21, 'B05C1': 21, 'C21D7': 21, 'A24D1': 21, 'C07D223': 21, 'A01K63': 21, 'C08B15': 21, 'B01D33': 21, 'B29D35': 21, 'F16K99': 21, 'A23L11': 21, 'C12M45': 21, 'A01K13': 21, 'A63B43': 21, 'G21C17': 21, 'G05B9': 21, 'F24F2120': 21, 'H03H17': 21, 'G06F2207': 21, 'C01B2202': 21, 'B64D2011': 21, 'A23J3': 21, 'G09F2013': 21, 'A62B7': 21, 'B08B5': 21, 'A23D7': 21, 'C07D451': 21, 'F25D2700': 21, 'C07D303': 21, 'F16K7': 21, 'C23F11': 21, 'B64C9': 21, 'G11B17': 21, 'G05G5': 21, 'B21J15': 21, 'B63H20': 21, 'B63H25': 21, 'A45C2013': 21, 'C09J2423': 21, 'A01K27': 21, 'D06P5': 21, 'G10D13': 21, 'B32B2471': 21, 'A61F6': 21, 'B32B2553': 21, 'E04F11': 21, 'A61C3': 21, 'F16L15': 21, 'F28F2265': 21, 'B41F13': 21, 'F41H1': 21, 'G10D3': 21, 'G01D3': 21, 'C08G81': 21, 'A61J2200': 21, 'E04D1': 21, 'C07C4': 21, 'F16H2025': 21, 'C08J2379': 21, 'D06M23': 21, 'H01J27': 21, 'F26B25': 21, 'B61L27': 21, 'B64D2013': 21, 'G01Q60': 20, 'G01N2440': 20, 'B25B11': 20, 'C07K2316': 20, 'B67C3': 20, 'G06T2201': 20, 'C08L15': 20, 'G01P1': 20, 'B42D2033': 20, 'F25B2341': 20, 'B25J18': 20, 'A61J2205': 20, 'A45C2200': 20, 'F41A19': 20, 'B62M9': 20, 'B23K15': 20, 'B33Y40': 20, 'F01P2060': 20, 'B02C19': 20, 'B01F2005': 20, 'F16F13': 20, 'B60W2530': 20, 'F16B12': 20, 'C08F6': 20, 'H04R2205': 20, 'F16L58': 20, 'A62B35': 20, 'B24B7': 20, 'B32B2535': 20, 'E03D9': 20, 'C10M141': 20, 'F17C2225': 20, 'C10M133': 20, 'B62J1': 20, 'F21V11': 20, 'G09F21': 20, 'B26F3': 20, 'F16B11': 20, 'H01H85': 20, 'F04C28': 20, 'F02M55': 20, 'B01D2315': 20, 'C12Y204': 20, 'F01N2570': 20, 'A63B57': 20, 'H01R39': 20, 'B32B2367': 20, 'F02D17': 20, 'E21B3': 20, 'C10G31': 20, 'C40B40': 20, 'E01F9': 20, 'A62B9': 20, 'C12Q2525': 20, 'F25C1': 20, 'C09J9': 20, 'B64C2027': 20, 'B21D37': 20, 'F17C5': 20, 'B65D31': 20, 'B65D2101': 20, 'G11B2007': 20, 'F16D27': 20, 'H04N2209': 20, 'G01D18': 20, 'H03L2207': 20, 'F01N2330': 20, 'C30B11': 20, 'C08L89': 20, 'B65H43': 20, 'D06N3': 20, 'E06C7': 20, 'A61Q3': 20, 'C07D453': 20, 'B24B23': 20, 'A24C5': 20, 'C08F293': 20, 'G01N9': 20, 'C07H17': 20, 'H03K7': 20, 'E06B2003': 20, 'B28B11': 20, 'B01F17': 20, 'B65D2571': 20, 'B21K1': 20, 'B32B2437': 20, 'B28D5': 20, 'F41G11': 20, 'B60K31': 20, 'B60G21': 20, 'F28F19': 20, 'H02K33': 20, 'G01H1': 20, 'E02B17': 20, 'D07B2201': 19, 'B03D1': 19, 'A23G4': 19, 'G03B27': 19, 'A61G2200': 19, 'A62C37': 19, 'C08K13': 19, 'G01B2290': 19, 'B29K2705': 19, 'C12Y114': 19, 'G01N2033': 19, 'C22B1': 19, 'B65D2585': 19, 'F16H21': 19, 'G08B27': 19, 'G06K17': 19, 'B29K2063': 19, 'F04B47': 19, 'C08J2369': 19, 'G01R22': 19, 'H04S5': 19, 'D06F2058': 19, 'A63C17': 19, 'G03B2215': 19, 'G08B7': 19, 'B60C19': 19, 'E05Y2400': 19, 'D21C5': 19, 'B65H2406': 19, 'G06K1': 19, 'C10L2230': 19, 'B62J6': 19, 'C25D21': 19, 'A21D8': 19, 'A45C3': 19, 'F21W2111': 19, 'A01J5': 19, 'G01H9': 19, 'F24F2013': 19, 'B32B2323': 19, 'H02N1': 19, 'C07C2103': 19, 'F25B2321': 19, 'A61J15': 19, 'C03B5': 19, 'C01G51': 19, 'C23C26': 19, 'F23D11': 19, 'E01C11': 19, 'C12N2810': 19, 'A47J47': 19, 'H01B17': 19, 'B01D2279': 19, 'B65H20': 19, 'A63H27': 19, 'F04B27': 19, 'H04B13': 19, 'H01C17': 19, 'A23C19': 19, 'G01P2015': 19, 'B65G53': 19, 'D06P1': 19, 'F23J2215': 19, 'B32B2451': 19, 'F24D3': 19, 'F41H7': 19, 'H02K2203': 19, 'B60C2009': 19, 'C08F2438': 19, 'B60G15': 19, 'C08J2301': 19, 'B64C19': 19, 'F25B25': 19, 'G09F15': 19, 'C12M35': 19, 'B29B13': 19, 'C10M171': 19, 'F25D31': 19, 'F16L13': 19, 'C12Y401': 19, 'C30B7': 19, 'A41C3': 19, 'A23J1': 19, 'B63H5': 19, 'B32B2274': 19, 'C07F1': 19, 'C09D151': 19, 'G01C9': 19, 'B65G2207': 19, 'A61H2203': 19, 'B66B7': 18, 'G07F13': 18, 'E04G23': 18, 'F23J2219': 18, 'F16D2065': 18, 'F41B11': 18, 'A63B45': 18, 'B25C1': 18, 'B64C2001': 18, 'G01G23': 18, 'B29K2033': 18, 'F01M2011': 18, 'B29K2083': 18, 'H01F6': 18, 'E04F19': 18, 'G03B9': 18, 'A01M29': 18, 'D04B21': 18, 'C07C47': 18, 'A61H31': 18, 'B65D2575': 18, 'C10G49': 18, 'B24B9': 18, 'C08L2314': 18, 'A01K61': 18, 'C10M129': 18, 'C10M107': 18, 'B44D3': 18, 'E21C35': 18, 'A47L2501': 18, 'A01D43': 18, 'B65H39': 18, 'D10B2321': 18, 'B60W2300': 18, 'C03B19': 18, 'H01B9': 18, 'C07C2527': 18, 'F16L57': 18, 'D06F2204': 18, 'B01F2015': 18, 'B24B27': 18, 'B24B41': 18, 'A63B67': 18, 'B64D2033': 18, 'F17D3': 18, 'C09K13': 18, 'C10G67': 18, 'A23Y2220': 18, 'A63B63': 18, 'B26B19': 18, 'B64D15': 18, 'F16J1': 18, 'H03G5': 18, 'H01P7': 18, 'B41F17': 18, 'F04D1': 18, 'F24F2140': 18, 'F02B43': 18, 'B32B2315': 18, 'B21J5': 18, 'A61H2003': 18, 'A01G31': 18, 'C10B57': 18, 'F16G11': 18, 'B64D2027': 18, 'B64D29': 18, 'G11C27': 18, 'F28D2020': 18, 'B67D2001': 18, 'B41F33': 18, 'H04J2203': 18, 'B65G67': 18, 'F24S2030': 18, 'H05B39': 18, 'A01C21': 18, 'B60S2001': 18, 'C03C15': 18, 'H04B11': 18, 'A44B19': 18, 'C07C53': 18, 'C03C2204': 18, 'F04C2230': 18, 'B63B17': 18, 'H02H5': 18, 'F02B77': 18, 'G21C3': 17, 'G02C2200': 17, 'H01B5': 17, 'A22C17': 17, 'A47B97': 17, 'C09D171': 17, 'C09D125': 17, 'A47L2401': 17, 'B23B2251': 17, 'F01L2820': 17, 'B29D7': 17, 'B29K2069': 17, 'F02G5': 17, 'B29K2309': 17, 'H05H7': 17, 'F16B43': 17, 'B29K2025': 17, 'A45C7': 17, 'A61H33': 17, 'B04B5': 17, 'A23F3': 17, 'B29C31': 17, 'H01H2223': 17, 'H01H2009': 17, 'C10G50': 17, 'F41C33': 17, 'G01L7': 17, 'E04H3': 17, 'A01B63': 17, 'D21C11': 17, 'C08L55': 17, 'C07K17': 17, 'C03C10': 17, 'A01C1': 17, 'B25B15': 17, 'F16H2007': 17, 'F25B40': 17, 'B65G23': 17, 'F01K3': 17, 'A01B79': 17, 'G03B11': 17, 'F02K9': 17, 'D06F2202': 17, 'B23Q5': 17, 'G03B7': 17, 'C22C45': 17, 'C01C1': 17, 'C07K19': 17, 'H02P5': 17, 'C12Q2563': 17, 'F01P5': 17, 'C21C5': 17, 'C08F226': 17, 'F23L7': 17, 'F24D17': 17, 'C22C14': 17, 'B60K5': 17, 'H04K2203': 17, 'F02D31': 17, 'B60C15': 17, 'E04C1': 17, 'B66B11': 17, 'B66B9': 17, 'H03K2005': 17, 'B64D41': 17, 'B60G2800': 17, 'B65G49': 17, 'G09G2350': 17, 'C13K13': 17, 'B64D43': 17, 'F25B27': 17, 'G01K3': 17, 'C12Y102': 17, 'C10B49': 17, 'B67D2210': 17, 'B25J17': 17, 'A63G31': 17, 'C05D9': 17, 'F02B23': 17, 'B23B29': 17, 'F25J2205': 17, 'B60R2001': 17, 'A61M13': 17, 'B60B33': 17, 'D06M16': 17, 'B63C9': 17, 'B25H1': 17, 'D21H13': 17, 'F02M31': 17, 'D04C1': 17, 'B01J41': 17, 'F16H2063': 17, 'G10H2230': 17, 'B62K23': 17, 'B65G69': 17, 'B21D28': 17, 'H02K49': 16, 'B22D21': 16, 'G03B2217': 16, 'H02K19': 16, 'F25B5': 16, 'B24B19': 16, 'C07C39': 16, 'B62J2099': 16, 'B41N1': 16, 'C25C7': 16, 'B23B2200': 16, 'G03G13': 16, 'H04R23': 16, 'B60W2040': 16, 'B04C5': 16, 'A44B18': 16, 'F16H2048': 16, 'C12N2799': 16, 'B81C99': 16, 'F42B10': 16, 'B41J19': 16, 'B28B3': 16, 'B60Q5': 16, 'C07H3': 16, 'A61L17': 16, 'B05C9': 16, 'E01H5': 16, 'E02F5': 16, 'E02D3': 16, 'H01H19': 16, 'E21B31': 16, 'H04M17': 16, 'C07F17': 16, 'C25D1': 16, 'B32B2317': 16, 'B32B2519': 16, 'A47B3': 16, 'B22D27': 16, 'A63B2023': 16, 'A61H19': 16, 'F16H15': 16, 'C08F297': 16, 'F02C1': 16, 'H04R2400': 16, 'C08F36': 16, 'E05D5': 16, 'G06K13': 16, 'F42B3': 16, 'B63B39': 16, 'F16B13': 16, 'E01H1': 16, 'F42B5': 16, 'B60L9': 16, 'C07C269': 16, 'D21H23': 16, 'B01D50': 16, 'F04F5': 16, 'H01H2300': 16, 'H03H2001': 16, 'B29L2030': 16, 'C12N2840': 16, 'C09J2475': 16, 'B01D2265': 16, 'G01R3': 16, 'B62D63': 16, 'G01N2560': 16, 'G21C15': 16, 'C08J2383': 16, 'C07F3': 16, 'C03C27': 16, 'B61L25': 16, 'F16B2200': 16, 'A43C15': 16, 'B03C5': 16, 'C07C319': 16, 'E21B15': 16, 'C08H6': 16, 'B24B1': 16, 'H01R35': 16, 'C03B17': 16, 'F02B67': 16, 'C08G83': 16, 'F02D37': 16, 'H02J2001': 16, 'C07H13': 16, 'E04D3': 16, 'F16B1': 16, 'F02P3': 16, 'A45D7': 16, 'F25B43': 16, 'F16D11': 16, 'H01H51': 16, 'F01M2013': 16, 'B65H19': 16, 'G01M1': 16, 'G01M7': 16, 'B82Y35': 15, 'B61C17': 15, 'D10B2101': 15, 'F41H11': 15, 'G02C13': 15, 'F02B61': 15, 'B65B63': 15, 'H02G5': 15, 'A63H17': 15, 'A61H39': 15, 'E05B1': 15, 'F16H2045': 15, 'A47B2210': 15, 'F16K47': 15, 'G01D7': 15, 'C12Y305': 15, 'B23D45': 15, 'B23B2231': 15, 'A43C1': 15, 'B60C13': 15, 'E03B7': 15, 'F41C27': 15, 'F16F2230': 15, 'F16D2250': 15, 'F24J2002': 15, 'F16P3': 15, 'B63B25': 15, 'F05B2280': 15, 'C05F17': 15, 'G10K15': 15, 'E02B2017': 15, 'B62D57': 15, 'F16D69': 15, 'C08F2810': 15, 'F16C25': 15, 'G06K5': 15, 'F16C2208': 15, 'B41F15': 15, 'C08F12': 15, 'B23H7': 15, 'C07D305': 15, 'C07C205': 15, 'A47D15': 15, 'A45D2': 15, 'B31B2160': 15, 'G04B19': 15, 'C07C11': 15, 'C01B2204': 15, 'G01K15': 15, 'B24D11': 15, 'C07C279': 15, 'F04B45': 15, 'F16K2099': 15, 'B21C23': 15, 'B23C2200': 15, 'G01N22': 15, 'C25D9': 15, 'B65B59': 15, 'B65H18': 15, 'B65H2557': 15, 'F24F6': 15, 'F42B6': 15, 'G08B1': 15, 'B29C69': 15, 'B01J7': 15, 'F16D7': 15, 'F03B3': 15, 'F25J2270': 15, 'C12N2795': 15, 'H01G5': 15, 'H02G7': 15, 'A47B21': 15, 'H02P31': 15, 'C25D13': 15, 'A01K85': 15, 'B63H1': 15, 'F16C2370': 15, 'F04B7': 15, 'G09G2356': 15, 'B62D53': 15, 'F25B45': 15, 'A63F2001': 15, 'B65G39': 15, 'C09J2467': 15, 'A45D19': 15, 'G10H2250': 15, 'A63H30': 15, 'B32B33': 15, 'F02P23': 15, 'A47B87': 15, 'A47B23': 15, 'H04J1': 15, 'B29C2059': 15, 'C22B11': 15, 'G01C17': 15, 'B62D3': 15, 'B29B2017': 15, 'B61L23': 15, 'A23L23': 15, 'B63B22': 15, 'F16J9': 15, 'H01H2239': 15, 'G05G9': 15, 'H03L5': 15, 'B29C2945': 15, 'D21F1': 15, 'B65G57': 15, 'A01K11': 15, 'B60T2210': 15, 'B60K25': 15, 'A01M7': 15, 'C10G33': 15, 'F02D23': 15, 'F16B2001': 15, 'A45D29': 15, 'C09J2483': 15, 'B23D59': 15, 'B65D39': 15, 'B65D7': 15, 'C25F3': 15, 'F16C1': 15, 'F17C2209': 15, 'C04B22': 15, 'B61L3': 15, 'C22C2202': 15, 'H02B13': 14, 'C04B16': 14, 'C07C13': 14, 'H01Q23': 14, 'F16H2312': 14, 'B65D2501': 14, 'B29B2911': 14, 'F16K25': 14, 'F16H45': 14, 'F16D2055': 14, 'B08B17': 14, 'B23D47': 14, 'C01G25': 14, 'C09K15': 14, 'E05C17': 14, 'B60G9': 14, 'G01J9': 14, 'B60Y2306': 14, 'C08J2207': 14, 'F24D2220': 14, 'E02B15': 14, 'B22F2301': 14, 'F04D7': 14, 'B62K2204': 14, 'A01G23': 14, 'F16B31': 14, 'F16B45': 14, 'C08F14': 14, 'C40B50': 14, 'F24S2023': 14, 'H01H2215': 14, 'B04B7': 14, 'A63C2203': 14, 'B25D17': 14, 'C08J2467': 14, 'C10M2217': 14, 'C08F120': 14, 'G01C5': 14, 'B64D1': 14, 'H02P2101': 14, 'B65B13': 14, 'B29K2509': 14, 'B65D2517': 14, 'C07C201': 14, 'B60B3': 14, 'C08L2555': 14, 'G16H80': 14, 'F16H47': 14, 'H05B2214': 14, 'D01F8': 14, 'B01J47': 14, 'B23Q7': 14, 'H02G9': 14, 'B65D79': 14, 'F41H13': 14, 'A01C23': 14, 'B29B15': 14, 'A47K13': 14, 'C09D17': 14, 'A24B13': 14, 'B60B35': 14, 'B23B2270': 14, 'A63B2207': 14, 'H01H37': 14, 'B22D41': 14, 'F01N2430': 14, 'F01L3': 14, 'H04K1': 14, 'F25J2200': 14, 'F25J2290': 14, 'F24F2001': 14, 'A45C15': 14, 'A61J9': 14, 'B65D53': 14, 'F16G13': 14, 'A47B2200': 14, 'F28F2255': 14, 'E05F3': 14, 'H04B2210': 14, 'F02D2400': 14, 'B60R3': 14, 'C08F299': 14, 'H03M5': 14, 'H01C1': 14, 'F24T10': 14, 'F27B9': 14, 'H02K35': 14, 'E06C1': 14, 'F02F7': 14, 'B25F1': 14, 'A63B2244': 14, 'F16L47': 14, 'B23B5': 14, 'B64C23': 14, 'B65G13': 14, 'A01H4': 14, 'F16L5': 14, 'B62M1': 14, 'A47C20': 14, 'F17C11': 14, 'G09F2007': 14, 'G09F1': 14, 'B66F11': 14, 'B66F3': 14, 'F27D1': 14, 'C10G35': 14, 'A47L7': 14, 'H03K21': 14, 'F25J2210': 14, 'A46B3': 14, 'C10G7': 14, 'F16D23': 14, 'A47C17': 14, 'B63H23': 14, 'C12P3': 14, 'B65F2210': 14, 'B65B69': 14, 'C07G1': 14, 'C02F2203': 14, 'F16F3': 14, 'E05B67': 14, 'B66F7': 14, 'A46B7': 14, 'B26D2007': 14, 'B23D61': 14, 'A61G1': 14, 'A47C19': 14, 'C07D489': 14, 'B60B2310': 14, 'F02N2300': 14, 'A01F12': 14, 'A61H15': 14, 'B25G3': 14, 'C09D101': 14, 'H03D2200': 14, 'C07C2102': 14, 'E05B79': 14, 'H01F2007': 13, 'D03D13': 13, 'H01H59': 13, 'B05C3': 13, 'F02B25': 13, 'A61Q9': 13, 'B29L2022': 13, 'B01D2221': 13, 'A47C9': 13, 'C25C3': 13, 'B62K15': 13, 'C01B19': 13, 'B22F2009': 13, 'B01D36': 13, 'F16C2220': 13, 'B60G13': 13, 'C08G2170': 13, 'A63F2250': 13, 'F01L9': 13, 'H04N2007': 13, 'A62D3': 13, 'F01M2001': 13, 'G04F10': 13, 'E01C5': 13, 'B60L5': 13, 'F42B33': 13, 'B60K26': 13, 'B62M3': 13, 'F25D2331': 13, 'C08F2222': 13, 'B64C29': 13, 'F41A23': 13, 'C23G1': 13, 'G08B19': 13, 'B23H1': 13, 'B66B2201': 13, 'C03B2201': 13, 'E01F15': 13, 'F16C2202': 13, 'F17D5': 13, 'H01B12': 13, 'A45D33': 13, 'A47G29': 13, 'B65H16': 13, 'B01D24': 13, 'C09J153': 13, 'C07C21': 13, 'A01G13': 13, 'C10G53': 13, 'C10G25': 13, 'A62B23': 13, 'B27B5': 13, 'E04D5': 13, 'B65B2220': 13, 'B65B29': 13, 'F16B17': 13, 'F25C2400': 13, 'E04G5': 13, 'B60C25': 13, 'H01J65': 13, 'C09K9': 13, 'B05C13': 13, 'A62C99': 13, 'A62C2': 13, 'B01D9': 13, 'C08B1': 13, 'F27D17': 13, 'B01D27': 13, 'F16K24': 13, 'F01N2450': 13, 'B65D45': 13, 'B06B2201': 13, 'D06M10': 13, 'F16H9': 13, 'F25J2220': 13, 'G05D3': 13, 'H01H2231': 13, 'B25D2250': 13, 'F16H2055': 13, 'H03B2200': 13, 'C12Q2537': 13, 'B25B7': 13, 'B29K2071': 13, 'F26B17': 13, 'D21B1': 13, 'B65B39': 13, 'E03D5': 13, 'B31D5': 13, 'G09F27': 13, 'B63B2001': 13, 'B27B17': 13, 'H01H2033': 13, 'B63B3': 13, 'F16D43': 13, 'F16D2023': 13, 'G07C3': 13, 'C07D279': 13, 'D21H25': 13, 'F27B3': 13, 'A01D75': 13, 'C01D15': 13, 'C25C1': 13, 'C22B23': 13, 'B64B1': 13, 'C12N2730': 13, 'F01P2003': 13, 'A23P1': 13, 'F25B29': 13, 'G01D9': 13, 'C08F22': 13, 'H01J3': 13, 'F25B2309': 13, 'C08F216': 13, 'B26D2001': 13, 'G11B21': 13, 'A41B9': 13, 'F25J2230': 13, 'D04H13': 13, 'A01B69': 13, 'B01D47': 13, 'F02M27': 13, 'F23C99': 13, 'G21F5': 13, 'F16D2200': 13, 'B01D2317': 13, 'A01K89': 13, 'G01N2570': 13, 'B61F5': 13, 'E03D11': 13, 'B24B53': 13, 'G08B23': 13, 'E03C2001': 13, 'A61H2015': 13, 'G11B13': 13, 'C08G8': 13, 'A63B26': 13, 'F02P9': 13, 'B60Q2400': 13, 'B62M25': 13, 'B41F31': 13, 'C22C13': 13, 'B21D43': 13, 'A01C5': 13, 'H03D3': 13, 'F02B47': 13, 'B60J3': 13, 'A01G27': 13, 'F28F2250': 13, 'F01N2340': 12, 'G01Q30': 12, 'C09B11': 12, 'D07B2205': 12, 'D07B2501': 12, 'C07K2299': 12, 'H04L2212': 12, 'B65H49': 12, 'A62C31': 12, 'G01L27': 12, 'C22C18': 12, 'A41F1': 12, 'G01V13': 12, 'F25B47': 12, 'F04B41': 12, 'A63B47': 12, 'F01L2800': 12, 'C08J2305': 12, 'F02N19': 12, 'F24D11': 12, 'C03C13': 12, 'A47D1': 12, 'A61G2210': 12, 'C05C9': 12, 'B65D63': 12, 'A61F15': 12, 'A44C15': 12, 'A22C21': 12, 'A63B5': 12, 'C08L31': 12, 'B07C3': 12, 'C08F255': 12, 'F01L2105': 12, 'F42B15': 12, 'H05F3': 12, 'F16C13': 12, 'F17C7': 12, 'G02F2413': 12, 'E01C13': 12, 'C10M2229': 12, 'C01F17': 12, 'F16C9': 12, 'A63H2200': 12, 'B01J12': 12, 'G09B15': 12, 'G01R25': 12, 'B62D11': 12, 'B65H85': 12, 'F16C2204': 12, 'B64D9': 12, 'A63B2060': 12, 'G11B25': 12, 'F04C27': 12, 'F27D11': 12, 'A21B3': 12, 'H01Q17': 12, 'B23B2226': 12, 'G04G17': 12, 'B32B13': 12, 'F16D21': 12, 'B31B2100': 12, 'B67B7': 12, 'H01H2071': 12, 'A47B83': 12, 'C22B15': 12, 'C07C225': 12, 'C08J2475': 12, 'B65C3': 12, 'A41D2600': 12, 'C07C33': 12, 'F25J2240': 12, 'B08B15': 12, 'C30B35': 12, 'A01D45': 12, 'F16L53': 12, 'A47B9': 12, 'C21D2201': 12, 'A61G3': 12, 'C08F2410': 12, 'B60N2205': 12, 'C08J2483': 12, 'E01F13': 12, 'F16B41': 12, 'G21C1': 12, 'A46B17': 12, 'F02G1': 12, 'F24B1': 12, 'B62D61': 12, 'B44F1': 12, 'B65D50': 12, 'C22B9': 12, 'B02C13': 12, 'D06N7': 12, 'F41G7': 12, 'F02B1': 12, 'B43K23': 12, 'C12P1': 12, 'G03H2210': 12, 'H01M14': 12, 'B01D2275': 12, 'F02B3': 12, 'C12H1': 12, 'F01L2013': 12, 'E02D7': 12, 'F23G2201': 12, 'B60S5': 12, 'C11C1': 12, 'G07C1': 12, 'E04G11': 12, 'A61C15': 12, 'B02C17': 12, 'H01J29': 12, 'H04R2307': 12, 'C01B37': 12, 'F16D2048': 12, 'A24F15': 12, 'C08J2371': 12, 'H03G9': 12, 'B62L3': 12, 'B63G2008': 12, 'B63B2021': 12, 'C08L35': 12, 'G05D11': 12, 'C09D129': 12, 'B60B7': 12, 'A63B55': 12, 'H01T21': 12, 'C21B13': 12, 'C12N2503': 12, 'H01H35': 12, 'B65B67': 12, 'F23K5': 12, 'F04B15': 12, 'C07J41': 12, 'B32B23': 12, 'G11B23': 12, 'F16D2001': 12, 'B60B2360': 12, 'B24B55': 12, 'F04B2203': 12, 'B60L8': 12, 'C22C27': 12, 'G01R13': 12, 'F42D1': 12, 'G01V9': 12, 'B65D73': 12, 'B60S3': 12, 'C22B26': 12, 'F23N2035': 12, 'F16K35': 11, 'B25B1': 11, 'F25D27': 11, 'H01F2038': 11, 'C07D275': 11, 'C07C259': 11, 'C07C65': 11, 'B04B11': 11, 'C07C63': 11, 'C09D177': 11, 'E05B19': 11, 'F01N2410': 11, 'B60K2023': 11, 'B66D3': 11, 'B65D2205': 11, 'F16B25': 11, 'F25D2303': 11, 'G03B2206': 11, 'A62B1': 11, 'C08F2800': 11, 'F21V1': 11, 'G06K2215': 11, 'G21D3': 11, 'A01K39': 11, 'F16D2069': 11, 'C10M159': 11, 'B64D31': 11, 'H01F30': 11, 'B05D2202': 11, 'G01B15': 11, 'A23L17': 11, 'A61L33': 11, 'H01H2003': 11, 'G04G9': 11, 'F02M47': 11, 'F02M43': 11, 'E05B13': 11, 'C05B17': 11, 'A47K7': 11, 'F25D2201': 11, 'G01Q10': 11, 'B07B13': 11, 'C12M43': 11, 'A01N51': 11, 'H01L2029': 11, 'G01H3': 11, 'A61D7': 11, 'H02K53': 11, 'H01H83': 11, 'A63F7': 11, 'G03B42': 11, 'G21D1': 11, 'H04R2217': 11, 'G09C5': 11, 'C01G9': 11, 'B60R5': 11, 'E04C2002': 11, 'C09D161': 11, 'A45D20': 11, 'H03K23': 11, 'G06F2216': 11, 'H02K17': 11, 'A01K91': 11, 'F15B2201': 11, 'A61G2005': 11, 'G01K17': 11, 'G09G2358': 11, 'G10K9': 11, 'G16H30': 11, 'E05G1': 11, 'E05F11': 11, 'H03J2200': 11, 'H01H21': 11, 'F04C13': 11, 'F27D99': 11, 'B62B2206': 11, 'E01C7': 11, 'F26B2200': 11, 'H01R29': 11, 'B65H2407': 11, 'C09D143': 11, 'C07C327': 11, 'C03C14': 11, 'D06N2209': 11, 'F02M57': 11, 'G01L23': 11, 'F23Q7': 11, 'F02D15': 11, 'D21F7': 11, 'G03H2222': 11, 'C07C25': 11, 'A01B49': 11, 'B27N3': 11, 'F27B17': 11, 'A41B11': 11, 'C04B33': 11, 'F23N2041': 11, 'C22B34': 11, 'B62B2301': 11, 'B60G2600': 11, 'F16C7': 11, 'F16D63': 11, 'B62B2203': 11, 'E02D17': 11, 'B30B1': 11, 'E03F1': 11, 'E04D2001': 11, 'A01G3': 11, 'G01G21': 11, 'A63C5': 11, 'A62B17': 11, 'B62J11': 11, 'G04B37': 11, 'H03G7': 11, 'D06F25': 11, 'H01G13': 11, 'B65H54': 11, 'F23C9': 11, 'C10M2227': 11, 'A46D1': 11, 'B64D25': 11, 'C12G3': 11, 'H01H25': 11, 'G07C13': 11, 'F16N7': 11, 'B27K3': 11, 'F05B2210': 11, 'A43B21': 11, 'B63B59': 11, 'F03D5': 11, 'G01L25': 11, 'F16L39': 11, 'C09D201': 11, 'C08J2400': 11, 'B60R2325': 11, 'B62K2202': 11, 'B65D2581': 11, 'G10H7': 11, 'G10D1': 11, 'E05C9': 11, 'B65G33': 11, 'F26B9': 11, 'C25B13': 11, 'B21D26': 11, 'F04B37': 11, 'B32B41': 11, 'F41A35': 11, 'G05F5': 11, 'B01D2271': 11, 'C01F5': 11, 'G11B31': 11, 'A44C27': 11, 'A61J2001': 11, 'F41A5': 11, 'H02P2207': 11, 'C21C7': 11, 'B66F17': 10, 'G07F15': 10, 'B62J17': 10, 'H03H2009': 10, 'E04G3': 10, 'C09B47': 10, 'B01D2046': 10, 'B23B2250': 10, 'F04C2210': 10, 'A47B95': 10, 'F16K41': 10, 'H01M2002': 10, 'C08J2321': 10, 'B28B17': 10, 'C09D135': 10, 'G21F3': 10, 'H04N11': 10, 'B24B5': 10, 'A47B2220': 10, 'B65H57': 10, 'B61B13': 10, 'H03K4': 10, 'F27B7': 10, 'B32B2398': 10, 'B31F2201': 10, 'C10M135': 10, 'C10M145': 10, 'A01B73': 10, 'C10M177': 10, 'C10M2213': 10, 'A61J11': 10, 'B60B21': 10, 'A01G20': 10, 'A47G33': 10, 'B81C3': 10, 'C03B2203': 10, 'F27D21': 10, 'A21B1': 10, 'C07F11': 10, 'C07B53': 10, 'B23B3': 10, 'H02K13': 10, 'C08B11': 10, 'A22B5': 10, 'B31B2120': 10, 'D05B19': 10, 'B63B9': 10, 'H03H2003': 10, 'C09J2463': 10, 'B22C7': 10, 'E04F10': 10, 'A41F9': 10, 'B64C2025': 10, 'F04C11': 10, 'E04B2103': 10, 'E04G1': 10, 'B24D5': 10, 'F23C7': 10, 'F04B13': 10, 'E01C9': 10, 'B01J49': 10, 'B23P17': 10, 'G21K2201': 10, 'F25J2245': 10, 'B44C3': 10, 'B60C2015': 10, 'C22C23': 10, 'C12Q2521': 10, 'F16L17': 10, 'H02B11': 10, 'G06T2213': 10, 'C07D243': 10, 'F28F2215': 10, 'B21D35': 10, 'A47G27': 10, 'C08J2329': 10, 'G01J4': 10, 'H01H23': 10, 'G05B1': 10, 'H05B2213': 10, 'B63B43': 10, 'E21B27': 10, 'C07C381': 10, 'F24F12': 10, 'C23C10': 10, 'B23H9': 10, 'F17C3': 10, 'H01F37': 10, 'B65B65': 10, 'F23G2900': 10, 'E01D19': 10, 'B23B2215': 10, 'A01C15': 10, 'C03C1': 10, 'F24S70': 10, 'G21C13': 10, 'F28C3': 10, 'D01F2': 10, 'D21F11': 10, 'C09K17': 10, 'A21C11': 10, 'F25B6': 10, 'H02N11': 10, 'B65G19': 10, 'F16H2001': 10, 'B01D2053': 10, 'G01G3': 10, 'H03C3': 10, 'C12M1': 10, 'B01D37': 10, 'H01L2023': 10, 'C40B60': 10, 'B63B29': 10, 'B65D2590': 10, 'C07C407': 10, 'C07C55': 10, 'B61D17': 10, 'F24S60': 10, 'C09D105': 10, 'E04H6': 10, 'E02D31': 10, 'A01N27': 10, 'B65D2313': 10, 'G21G1': 10, 'B05B14': 10, 'H01H2085': 10, 'F26B23': 10, 'F16G5': 10, 'F04B51': 10, 'A47J19': 10, 'F01L2103': 10, 'H01H2227': 10, 'H01H2205': 10, 'C08F136': 10, 'G07C2205': 10, 'C07J43': 10, 'B62D13': 10, 'F21V25': 10, 'E03D1': 10, 'A01N39': 10, 'D03D3': 10, 'B28B23': 10, 'A63B49': 10, 'C12Y113': 10, 'H05H2007': 10, 'F41A33': 10, 'F04B2205': 10, 'B24D99': 10, 'F17C9': 10, 'B60B1': 10, 'G01L13': 10, 'B64C21': 10, 'G04R20': 10, 'B21D11': 10, 'C23F4': 10, 'F02P15': 10, 'F27D19': 10, 'C07K2318': 10, 'F25D19': 10, 'G11C2216': 10, 'A44C17': 10, 'B62K2025': 10, 'F16H35': 10, 'F16B9': 10, 'B26B29': 10, 'E21B25': 10, 'B41F23': 10, 'B28C5': 10, 'C10B47': 10, 'C09D153': 10, 'G04F5': 10, 'F03B11': 9, 'D21C1': 9, 'B63H11': 9, 'B29C61': 9, 'A47D9': 9, 'B29K2079': 9, 'A45B25': 9, 'G07D9': 9, 'B04B1': 9, 'E05B2015': 9, 'E05B9': 9, 'A63B41': 9, 'B23B2205': 9, 'H03J1': 9, 'B03B5': 9, 'H05H13': 9, 'G21F1': 9, 'A61G12': 9, 'B62M7': 9, 'A47C5': 9, 'B66B13': 9, 'H01G7': 9, 'H02P8': 9, 'H04R2209': 9, 'C10N2260': 9, 'G04B17': 9, 'C07H5': 9, 'A61P35': 9, 'B60T2260': 9, 'C01B7': 9, 'B43K29': 9, 'B05C21': 9, 'A01F2015': 9, 'F02D2009': 9, 'G21Y2002': 9, 'F16C2223': 9, 'G01D13': 9, 'B29K2001': 9, 'A45D1': 9, 'B01J10': 9, 'C21B7': 9, 'A43B9': 9, 'C08B30': 9, 'B60T15': 9, 'B24B3': 9, 'G10L2025': 9, 'A47K11': 9, 'F15B20': 9, 'F16C2380': 9, 'H01H2217': 9, 'B23C2220': 9, 'C12Y111': 9, 'F24S2020': 9, 'A23C11': 9, 'E03B3': 9, 'F25D2500': 9, 'F25J2215': 9, 'B02C4': 9, 'B60B19': 9, 'B26B1': 9, 'G03C1': 9, 'H03H2007': 9, 'B32B2375': 9, 'G01K2013': 9, 'C23F13': 9, 'F05D2210': 9, 'H04R11': 9, 'B05C19': 9, 'B60C2001': 9, 'F27B14': 9, 'B22C1': 9, 'H01H2001': 9, 'C12N2509': 9, 'F01K17': 9, 'A23N1': 9, 'H02K23': 9, 'F23D1': 9, 'A47B91': 9, 'C08H1': 9, 'C10G75': 9, 'B01D2319': 9, 'F02B53': 9, 'B42C1': 9, 'D01D10': 9, 'B65G11': 9, 'B02C25': 9, 'H01J5': 9, 'G21K4': 9, 'F28F17': 9, 'G01H11': 9, 'D10B2201': 9, 'B21B37': 9, 'B65D2577': 9, 'B63B7': 9, 'F01M5': 9, 'F28F2009': 9, 'D06P3': 9, 'C22B21': 9, 'A01D69': 9, 'F02P13': 9, 'C21D2221': 9, 'E21B2049': 9, 'A41G5': 9, 'B65B41': 9, 'F28F7': 9, 'F23N2025': 9, 'C22B59': 9, 'H03H1': 9, 'E04F2011': 9, 'B65G59': 9, 'B60S9': 9, 'F27D7': 9, 'G03B29': 9, 'F01P2025': 9, 'C08B31': 9, 'A47G2009': 9, 'A62D1': 9, 'A41B2400': 9, 'F21S11': 9, 'C09D165': 9, 'F25B7': 9, 'D06F23': 9, 'H04J2011': 9, 'B65B2210': 9, 'A22C11': 9, 'A41D15': 9, 'F02B41': 9, 'A41D2300': 9, 'C03B35': 9, 'F22B35': 9, 'F23N2037': 9, 'B32B2425': 9, 'B01F9': 9, 'F16H41': 9, 'F04B2201': 9, 'H01T23': 9, 'H01H2203': 9, 'C07J9': 9, 'B60C7': 9, 'B60R2013': 9, 'C12Q3': 9, 'B31B2110': 9, 'G10L2019': 9, 'B21D19': 9, 'B65H2408': 9, 'A45D24': 9, 'H02H11': 9, 'A01J7': 9, 'H01L37': 9, 'G01F22': 9, 'B62J9': 9, 'B01F1': 9, 'C08G2190': 9, 'G02C1': 9, 'F42D5': 9, 'B24B13': 9, 'E05B27': 9, 'F16H2306': 9, 'C10L2250': 9, 'A01K7': 9, 'B66C19': 9, 'F23C6': 9, 'B60W2600': 9, 'B31B2155': 9, 'H01Q11': 9, 'C09J151': 9, 'G01B17': 9, 'C22C28': 9, 'A63C9': 9, 'A45D8': 9, 'G01N2405': 9, 'F05C2253': 9, 'C07F13': 9, 'A41D3': 9, 'F01M9': 9, 'B41C2210': 9, 'B62D9': 9, 'B21B27': 9, 'G09G1': 9, 'D06N2211': 9, 'C08J2309': 9, 'B02C2018': 9, 'G08B15': 9, 'B64C2230': 9, 'F02B19': 9, 'A61B42': 9, 'A01K31': 9, 'A45C9': 8, 'B03D2203': 8, 'G21C7': 8, 'A44D2203': 8, 'A41B1': 8, 'C07C273': 8, 'A63G21': 8, 'F16B47': 8, 'A62C13': 8, 'H04B14': 8, 'C07D475': 8, 'C07C35': 8, 'B04C3': 8, 'C08L39': 8, 'B62K2207': 8, 'B60H3': 8, 'B62M11': 8, 'C07K9': 8, 'B03B9': 8, 'G11B11': 8, 'F02N2011': 8, 'A61G11': 8, 'A61H35': 8, 'C08G71': 8, 'A44C25': 8, 'A62D2101': 8, 'C11B13': 8, 'A47B43': 8, 'A61H2033': 8, 'B04B9': 8, 'E21D20': 8, 'E21D21': 8, 'A63C11': 8, 'B65B19': 8, 'F27B1': 8, 'C10M125': 8, 'C10M161': 8, 'F16D66': 8, 'F16D2066': 8, 'G04C3': 8, 'B32B2603': 8, 'C08J2463': 8, 'B60T2230': 8, 'B23K33': 8, 'E04F2015': 8, 'C07C19': 8, 'A01D57': 8, 'F02D21': 8, 'C07D335': 8, 'B05D2252': 8, 'G21Y2004': 8, 'G01F5': 8, 'H01H73': 8, 'A01B12': 8, 'C03B32': 8, 'G01N5': 8, 'B42F7': 8, 'F16C37': 8, 'F16C2206': 8, 'G01Q70': 8, 'B29K2905': 8, 'F16B15': 8, 'B62J99': 8, 'F21V2200': 8, 'C07D339': 8, 'B22D23': 8, 'A21D10': 8, 'D06B1': 8, 'C08L2308': 8, 'C08G79': 8, 'A45C1': 8, 'F16K51': 8, 'F42C19': 8, 'F23L15': 8, 'H01K1': 8, 'E05D13': 8, 'B60C29': 8, 'B23P23': 8, 'B65G45': 8, 'C09J171': 8, 'A61G17': 8, 'F04C2250': 8, 'A63C19': 8, 'D04B15': 8, 'A45D2040': 8, 'B65B27': 8, 'C12Q2527': 8, 'B31D1': 8, 'H01H31': 8, 'B64C5': 8, 'B02C2': 8, 'C09B29': 8, 'F28B1': 8, 'A47J45': 8, 'C07C243': 8, 'E21C27': 8, 'G01R11': 8, 'B23B47': 8, 'A23Y2300': 8, 'B63H9': 8, 'F23C10': 8, 'G01N7': 8, 'B21C1': 8, 'B64D2221': 8, 'C12Y201': 8, 'G03H2223': 8, 'C12Y503': 8, 'C07C321': 8, 'B24C3': 8, 'A01D2101': 8, 'B21J1': 8, 'B25C5': 8, 'A01G24': 8, 'B65G2203': 8, 'C12M37': 8, 'A47H1': 8, 'F25J2235': 8, 'H01J31': 8, 'F41J5': 8, 'B62D37': 8, 'B63H2025': 8, 'C09J167': 8, 'A23L21': 8, 'C07D313': 8, 'G02B25': 8, 'B65H59': 8, 'B32B2479': 8, 'B67C2003': 8, 'G03B19': 8, 'C08F218': 8, 'A61D19': 8, 'B65F2240': 8, 'A46D3': 8, 'B41F19': 8, 'C07J1': 8, 'A47B77': 8, 'E04D2013': 8, 'B65G35': 8, 'D04C3': 8, 'C07C219': 8, 'C10M101': 8, 'C09D191': 8, 'B26D2210': 8, 'C07K2': 8, 'B65D3': 8, 'B65H51': 8, 'G07B17': 8, 'G07B2017': 8, 'B31B2105': 8, 'C08B3': 8, 'C10G55': 8, 'C08J2353': 8, 'F23G2209': 8, 'B23D51': 8, 'A47B46': 8, 'F05C2251': 8, 'F05C2201': 8, 'B28B19': 8, 'E04H5': 8, 'B65D2215': 8, 'A47C23': 8, 'A41B13': 8, 'D21H15': 8, 'H01B19': 8, 'B02C21': 8, 'F16D2127': 8, 'H01H36': 8, 'H01F29': 8, 'C09K2200': 8, 'F03C1': 8, 'B60B5': 8, 'E21B28': 8, 'H01T4': 8, 'B60J11': 8, 'B42D1': 8, 'G03H2225': 8, 'H01L2027': 8, 'C08L47': 8, 'B32B2327': 8, 'D01F11': 8, 'B65G51': 8, 'F02M65': 8, 'F16D2003': 8, 'B21B45': 8, 'A47F10': 8, 'B05D2203': 8, 'B41F5': 8, 'F04B11': 8, 'B24D15': 8, 'E01C2301': 8, 'A61K2121': 8, 'B64C7': 8, 'D02J1': 8, 'H03M9': 8, 'B26B5': 8, 'B21D7': 8, 'A23C3': 8, 'C12Y603': 8, 'C12N2513': 8, 'C30B19': 8, 'G01G17': 8, 'C10M173': 8, 'F28F2280': 8, 'A45D2019': 8, 'C12C5': 8, 'C12Y306': 8, 'A44C9': 8, 'H05K999': 8, 'E04G17': 8, 'E21D9': 8, 'H01R2101': 8, 'B65G41': 8, 'B23B45': 8, 'G01L11': 8, 'C09B1': 7, 'H02J15': 7, 'G02C3': 7, 'F24F2130': 7, 'D07B5': 7, 'D03D11': 7, 'G21C21': 7, 'A47B55': 7, 'D07B2401': 7, 'B24D7': 7, 'C01G39': 7, 'B22F2201': 7, 'B06B3': 7, 'B65G29': 7, 'A01M23': 7, 'F23D2203': 7, 'C12N2535': 7, 'C08J2425': 7, 'B09B5': 7, 'F01C19': 7, 'A61G10': 7, 'G06K2207': 7, 'B22F2302': 7, 'F16B23': 7, 'F28F2013': 7, 'B32B2432': 7, 'B60C17': 7, 'E01C2201': 7, 'B04B13': 7, 'H01J2201': 7, 'E05B37': 7, 'G05D9': 7, 'H01H2229': 7, 'G01R17': 7, 'B27G19': 7, 'B62K2208': 7, 'C08F122': 7, 'D01D1': 7, 'B65H2555': 7, 'B66B19': 7, 'D06F75': 7, 'B60Q2900': 7, 'H01F2003': 7, 'C25F7': 7, 'F27D2003': 7, 'B25D9': 7, 'F16C2352': 7, 'E21B1': 7, 'D21F3': 7, 'C07C335': 7, 'B23Q39': 7, 'B65B53': 7, 'A01N45': 7, 'B65G2249': 7, 'F02D45': 7, 'C08F2420': 7, 'B23Q15': 7, 'F24F2007': 7, 'F24F2005': 7, 'C01B35': 7, 'B25F3': 7, 'F23C3': 7, 'C10G27': 7, 'G09B17': 7, 'A23Y2240': 7, 'B08B2203': 7, 'C01G19': 7, 'B60M7': 7, 'F03B15': 7, 'F01P2050': 7, 'A45F4': 7, 'F26B2210': 7, 'C08G12': 7, 'B32B2313': 7, 'H03B19': 7, 'B62H3': 7, 'F23L2900': 7, 'H02J2009': 7, 'F24H4': 7, 'A47L25': 7, 'F28F25': 7, 'F01N2490': 7, 'F15B7': 7, 'C12G1': 7, 'C09D139': 7, 'B07B4': 7, 'F01B7': 7, 'D07B7': 7, 'C09J2453': 7, 'C08L43': 7, 'A01H3': 7, 'G01N2011': 7, 'B65B21': 7, 'B43K7': 7, 'F01K9': 7, 'B64D35': 7, 'B09B1': 7, 'B01J2203': 7, 'B61K9': 7, 'B60K2026': 7, 'F42B39': 7, 'A01G33': 7, 'F04D3': 7, 'C10G32': 7, 'C12Q2535': 7, 'C08J2361': 7, 'A01N61': 7, 'H03B1': 7, 'B43K8': 7, 'F23M5': 7, 'H02K2205': 7, 'E02B7': 7, 'F41A11': 7, 'F02P19': 7, 'F01P2007': 7, 'F02F11': 7, 'B82B3': 7, 'B64G2001': 7, 'F24S2080': 7, 'E21C25': 7, 'F01N2250': 7, 'F42B30': 7, 'F24J3': 7, 'C07H7': 7, 'A24B3': 7, 'F16J3': 7, 'B22F2001': 7, 'A45D26': 7, 'A63B2021': 7, 'A01B1': 7, 'B65F3': 7, 'F23M2900': 7, 'B42C19': 7, 'H01F19': 7, 'B31B2201': 7, 'H01H2235': 7, 'C08J2381': 7, 'B29K2081': 7, 'G06M1': 7, 'C07C68': 7, 'A47G7': 7, 'G07G5': 7, 'H04L23': 7, 'B23D57': 7, 'C07H23': 7, 'A47J39': 7, 'G01D1': 7, 'F02D28': 7, 'A45D2034': 7, 'F25B2345': 7, 'F16C39': 7, 'F23G2206': 7, 'B21J13': 7, 'G01N13': 7, 'B65D2231': 7, 'C10M111': 7, 'G21F7': 7, 'C08J2427': 7, 'F23C5': 7, 'B65H33': 7, 'E04H7': 7, 'G21C9': 7, 'F28D5': 7, 'F02B2275': 7, 'F01L2101': 7, 'A43D8': 7, 'C08F26': 7, 'B01D57': 7, 'F03G3': 7, 'F26B11': 7, 'C08K11': 7, 'C01B15': 7, 'H01H2201': 7, 'B41F9': 7, 'A63H18': 7, 'B67B3': 7, 'H03H21': 7, 'E21B2010': 7, 'B24B47': 7, 'F02B17': 7, 'H01R2105': 7, 'B21C47': 7, 'B21B31': 7, 'F01K5': 7, 'C09D195': 7, 'B23P21': 7, 'F04C25': 7, 'C07C263': 7, 'C09D103': 7, 'F01P1': 7, 'F02M53': 7, 'G01F3': 7, 'F16K39': 7, 'F24D5': 7, 'D21D1': 7, 'F16G1': 7, 'A61M19': 7, 'H01F21': 7, 'E04D12': 7, 'A47F11': 7, 'B05D2401': 7, 'B01J6': 7, 'F05C2225': 7, 'H05B2206': 7, 'G01S2015': 7, 'G10G5': 7, 'C07J63': 7, 'B60B2200': 7, 'F15B19': 7, 'C07C315': 7, 'C23C2222': 7, 'D06F29': 7, 'H05H2245': 7, 'F23J2900': 7, 'B25J1': 7, 'E05B35': 7, 'C07C249': 7, 'C03B11': 7, 'F25B15': 7, 'G10C3': 7, 'F26B13': 7, 'E21B12': 7, 'G05G2009': 7, 'C09J201': 7, 'A43D1': 7, 'A61L12': 7, 'F25B17': 7, 'B62D49': 7, 'B63H2005': 7, 'C09D131': 7, 'B60W2750': 7, 'G01H17': 7, 'G01C1': 7, 'A45D2007': 7, 'A47L1': 7, 'B24C7': 7, 'C21D11': 7, 'F01N2370': 7, 'F01K27': 7, 'E06B11': 7, 'B32B2333': 7, 'H01H2050': 7, 'B41F7': 7, 'G01K2205': 7, 'A01B59': 7, 'C12Y205': 7, 'C10M137': 7, 'H01T19': 7, 'G01Q20': 7, 'B41J2029': 7, 'F42C15': 7, 'A21C9': 7, 'B60K2025': 7, 'C12Y103': 7, 'G04G13': 7, 'C22B5': 7, 'F01B9': 7, 'C08L93': 7, 'B60F3': 6, 'F27D2099': 6, 'B21B3': 6, 'B65G7': 6, 'A62C5': 6, 'B63B2029': 6, 'C01D7': 6, 'B60K2310': 6, 'F16D51': 6, 'B23B2222': 6, 'G04B15': 6, 'C01G1': 6, 'C01G41': 6, 'F24V30': 6, 'C06D5': 6, 'B63H2021': 6, 'E21B2033': 6, 'B61D3': 6, 'F41H3': 6, 'E05D1': 6, 'B29K2055': 6, 'H03D1': 6, 'C12F3': 6, 'F16H53': 6, 'C22C37': 6, 'G06K2007': 6, 'E02B9': 6, 'C10M163': 6, 'C10G57': 6, 'C12P41': 6, 'B64D17': 6, 'E21C2035': 6, 'E04D11': 6, 'B65D2565': 6, 'C12N2015': 6, 'B60Y2304': 6, 'F24H2250': 6, 'A22C7': 6, 'C08F279': 6, 'A47K17': 6, 'E05B53': 6, 'E03B1': 6, 'G01N2510': 6, 'C12Y602': 6, 'C12Q2531': 6, 'B41F35': 6, 'H03C5': 6, 'A23C2210': 6, 'B01L99': 6, 'C12C11': 6, 'E21B2023': 6, 'A24F23': 6, 'B26B13': 6, 'B60M1': 6, 'B29K2029': 6, 'F24F2006': 6, 'C07D219': 6, 'C05C3': 6, 'H01H69': 6, 'A47B37': 6, 'A45B2023': 6, 'E02F7': 6, 'A47B73': 6, 'B24D13': 6, 'F28F2260': 6, 'G10G7': 6, 'B29C2071': 6, 'C06B45': 6, 'C10B1': 6, 'B62K13': 6, 'B65C2009': 6, 'F23K2900': 6, 'B21D41': 6, 'H02G13': 6, 'A47B2021': 6, 'B01D2273': 6, 'C08J2471': 6, 'B68G7': 6, 'A01D46': 6, 'C30B13': 6, 'B41F27': 6, 'C12P39': 6, 'C09J109': 6, 'A47J42': 6, 'A01K87': 6, 'B25D16': 6, 'B64D2041': 6, 'A01K23': 6, 'E04H2017': 6, 'A01N49': 6, 'F23J2217': 6, 'C03C11': 6, 'B23Q9': 6, 'C03C2214': 6, 'B31D2205': 6, 'E04H2001': 6, 'H03J7': 6, 'H01H15': 6, 'B65G27': 6, 'H01F13': 6, 'C09J179': 6, 'B23B41': 6, 'B43L1': 6, 'B23D21': 6, 'H01J25': 6, 'B65H27': 6, 'C01B11': 6, 'H02N13': 6, 'F23M20': 6, 'F02F2001': 6, 'B23C1': 6, 'B42F13': 6, 'C30B1': 6, 'A45B3': 6, 'F28F2225': 6, 'A01G17': 6, 'B24C9': 6, 'H03M2201': 6, 'C03B25': 6, 'A47G2200': 6, 'C05B7': 6, 'G01V7': 6, 'F16C2322': 6, 'B60C3': 6, 'G01V2200': 6, 'B23K28': 6, 'A23L25': 6, 'A61J17': 6, 'B28B13': 6, 'C09J131': 6, 'B32B2581': 6, 'A63C10': 6, 'B29K2305': 6, 'C07D267': 6, 'F02K7': 6, 'B28D7': 6, 'G04B47': 6, 'E04F2203': 6, 'F42B8': 6, 'G01V15': 6, 'B62H5': 6, 'F16K21': 6, 'B23B49': 6, 'H01J23': 6, 'B67C7': 6, 'A47J41': 6, 'F01B3': 6, 'G04C10': 6, 'A61C2008': 6, 'F23K3': 6, 'B29C2033': 6, 'B60T2220': 6, 'C03B29': 6, 'C25D15': 6, 'B42B5': 6, 'C07B63': 6, 'A61M2001': 6, 'C07J71': 6, 'C21B2100': 6, 'F01D19': 6, 'H01J7': 6, 'H03H2210': 6, 'E04F17': 6, 'B65B47': 6, 'B66B23': 6, 'G03H2260': 6, 'B05B16': 6, 'C09K2219': 6, 'C11D9': 6, 'C09J103': 6, 'C08F232': 6, 'B29D29': 6, 'A01D61': 6, 'G21B1': 6, 'H02P2201': 6, 'B60Q11': 6, 'B60C2005': 6, 'C09J2427': 6, 'B62D23': 6, 'C08J2477': 6, 'C03B27': 6, 'B65D27': 6, 'C07C247': 6, 'F23N2027': 6, 'A23L15': 6, 'A01K45': 6, 'F28F2245': 6, 'F16N29': 6, 'B21D47': 6, 'A61P25': 6, 'A47B61': 6, 'B60G2401': 6, 'C09J2421': 6, 'A21C15': 6, 'H05H3': 6, 'G21K2207': 6, 'B27M3': 6, 'B25D11': 6, 'A45B9': 6, 'C08J2351': 6, 'D04H5': 6, 'F23K2201': 6, 'B01L1': 6, 'B23B2228': 6, 'F02P17': 6, 'B63C2009': 6, 'A61F2011': 6, 'E05D2015': 6, 'B04B2005': 6, 'F16D2011': 6, 'B07B2201': 6, 'B63H16': 6, 'H01L2021': 6, 'A47K1': 6, 'E21F13': 6, 'E21C41': 6, 'B44F9': 6, 'F27D2019': 6, 'F23C2201': 6, 'G07D3': 6, 'C01B2210': 6, 'D21C7': 6, 'B05D2350': 6, 'F01B1': 6, 'G09B25': 6, 'B22D29': 6, 'E04F2290': 6, 'B65G54': 6, 'B63B49': 6, 'F16D28': 6, 'A63B31': 6, 'B02C1': 6, 'B41J17': 6, 'F21Y2111': 6, 'B41F16': 6, 'E02B11': 6, 'B65B23': 6, 'E05F2015': 6, 'B21D31': 6, 'B42D3': 6, 'B63J4': 6, 'A47B2230': 6, 'C08F112': 6, 'B21D1': 6, 'H01S2304': 6, 'G01F13': 6, 'B01D25': 6, 'B62K9': 6, 'B24C5': 6, 'C12N2720': 6, 'G06F2205': 6, 'F16G15': 6, 'C30B9': 6, 'B21J9': 6, 'B65B37': 6, 'F02M2025': 6, 'A47F9': 6, 'C08L19': 6, 'A61G2007': 6, 'G01F17': 6, 'D06L4': 6, 'G09F17': 6, 'F16F2226': 6, 'F28C1': 6, 'F23N3': 6, 'B21D24': 6, 'C21B5': 6, 'C08F228': 6, 'C01G3': 6, 'B22F2304': 6, 'C01D3': 6, 'G09G2352': 6, 'F16F2224': 6, 'H01L49': 6, 'C05F3': 6, 'C07C9': 6, 'H03G11': 6, 'B22D7': 6, 'A61M2240': 6, 'C12Y206': 6, 'B28C7': 6, 'A61H2209': 6, 'C08J2429': 5, 'B03D2201': 5, 'B62J35': 5, 'G08C15': 5, 'A47B2088': 5, 'F16H49': 5, 'B04C2009': 5, 'C01G33': 5, 'C09D109': 5, 'G02C9': 5, 'C08L59': 5, 'C12P23': 5, 'C07C403': 5, 'H03C1': 5, 'C08J2409': 5, 'C07D253': 5, 'A47B5': 5, 'B22F2007': 5, 'F16N13': 5, 'C08G2150': 5, 'G04R60': 5, 'C12C7': 5, 'C08J2307': 5, 'H04B2215': 5, 'C10M149': 5, 'H01J47': 5, 'F02M45': 5, 'A43C7': 5, 'B43K24': 5, 'A61M2250': 5, 'F28F2270': 5, 'C22C49': 5, 'G01H13': 5, 'H02K55': 5, 'E05B3': 5, 'B64D39': 5, 'A01B71': 5, 'A01B33': 5, 'A01B61': 5, 'C05F5': 5, 'B23Q16': 5, 'B42P2241': 5, 'A63F11': 5, 'B32B19': 5, 'C12Q2523': 5, 'F02B2037': 5, 'F23D3': 5, 'A61G15': 5, 'B32B2509': 5, 'G01F19': 5, 'B23P13': 5, 'B29K2009': 5, 'B24B21': 5, 'B29C2037': 5, 'F01C11': 5, 'A23B9': 5, 'A21D6': 5, 'A47B45': 5, 'F25J2260': 5, 'C08L45': 5, 'G07F5': 5, 'B41J23': 5, 'C10B55': 5, 'C11B5': 5, 'E05B45': 5, 'C07D327': 5, 'B65G25': 5, 'B29C2063': 5, 'C23F2213': 5, 'F41F3': 5, 'F16H39': 5, 'B23C2226': 5, 'C05D3': 5, 'F04B2027': 5, 'A47C15': 5, 'A22C25': 5, 'B60K20': 5, 'H04Q7': 5, 'C08G2105': 5, 'H03B2201': 5, 'B63H2020': 5, 'F16J13': 5, 'E01H2001': 5, 'A01K3': 5, 'H02K37': 5, 'B04B15': 5, 'A01B45': 5, 'H04R2440': 5, 'A44B17': 5, 'F16L43': 5, 'B29K2709': 5, 'B25B17': 5, 'C10G15': 5, 'H04R2203': 5, 'F24H2240': 5, 'B62D51': 5, 'G01K2207': 5, 'G09G2230': 5, 'B66C15': 5, 'A24F1': 5, 'A01B76': 5, 'F21V27': 5, 'C22B60': 5, 'B01J14': 5, 'G03H2240': 5, 'G01L15': 5, 'F16J10': 5, 'B65H15': 5, 'B21K25': 5, 'C21D2251': 5, 'F02M39': 5, 'F24H8': 5, 'B29B2009': 5, 'E01C3': 5, 'H05B7': 5, 'F22D1': 5, 'D21G9': 5, 'F16J2015': 5, 'B62D31': 5, 'F24S90': 5, 'G09B1': 5, 'G08G3': 5, 'F02N2250': 5, 'H01C10': 5, 'A45B2200': 5, 'B07C2501': 5, 'G01M9': 5, 'E06B2001': 5, 'B65G63': 5, 'B65F2001': 5, 'A47H5': 5, 'G09F11': 5, 'F16L2101': 5, 'F01L2250': 5, 'F27D9': 5, 'F27B5': 5, 'G03B31': 5, 'A63H13': 5, 'B60G5': 5, 'A41D2500': 5, 'C09B5': 5, 'B61L29': 5, 'C01C3': 5, 'B42D5': 5, 'C10M103': 5, 'B32B2435': 5, 'B29K2507': 5, 'B29K2505': 5, 'B62L1': 5, 'B29K2311': 5, 'D10B2503': 5, 'A01F29': 5, 'A47J2037': 5, 'C10C3': 5, 'B63J2099': 5, 'C08J2389': 5, 'B65G2812': 5, 'F25B23': 5, 'A23L9': 5, 'B66D5': 5, 'F02B27': 5, 'G01K5': 5, 'B66B3': 5, 'H01J11': 5, 'G01G11': 5, 'A47J2027': 5, 'A63F2011': 5, 'C07C409': 5, 'A01B15': 5, 'F41B7': 5, 'B65D29': 5, 'C07B41': 5, 'C11B7': 5, 'G03G7': 5, 'C04B2201': 5, 'C22C12': 5, 'C07D321': 5, 'B23B35': 5, 'F02B31': 5, 'F16D47': 5, 'F16D33': 5, 'B62M27': 5, 'B62M2027': 5, 'G01B2003': 5, 'E01C21': 5, 'H01H2211': 5, 'A63B15': 5, 'B32B2272': 5, 'F02M17': 5, 'B44B5': 5, 'F23N2900': 5, 'A23L35': 5, 'F23G2203': 5, 'C12N2537': 5, 'B23D49': 5, 'C12Y601': 5, 'C01B2201': 5, 'F16N31': 5, 'A47G2019': 5, 'E04D15': 5, 'A24F13': 5, 'C09J101': 5, 'B23P9': 5, 'B62J7': 5, 'C07C265': 5, 'B65H2551': 5, 'B65G61': 5, 'F02M1': 5, 'B66F5': 5, 'A47B67': 5, 'H03H19': 5, 'C12Y403': 5, 'C08F30': 5, 'F23K1': 5, 'B22D18': 5, 'B41F3': 5, 'F16K19': 5, 'A01N3': 5, 'F26B15': 5, 'B05D2601': 5, 'C03C19': 5, 'F23N2023': 5, 'B23B2240': 5, 'F02D33': 5, 'E21D11': 5, 'B31F5': 5, 'B25J3': 5, 'B09C2101': 5, 'C08C1': 5, 'E03C2201': 5, 'B41N3': 5, 'F01K15': 5, 'F27D27': 5, 'E04G9': 5, 'C03B9': 5, 'F42C11': 5, 'C09J161': 5, 'C05F7': 5, 'A47B31': 5, 'C22C2204': 5, 'C10G19': 5, 'C08F257': 5, 'A23N15': 5, 'H01J43': 5, 'A61B2046': 5, 'C08L57': 5, 'G06K2019': 5, 'H01T1': 5, 'F27D5': 5, 'C07J17': 5, 'B41J35': 5, 'F16L29': 5, 'H03J3': 5, 'D06N2205': 5, 'G02F2': 5, 'C03C12': 5, 'F16P1': 5, 'F42B1': 5, 'A63H2027': 5, 'B21B39': 5, 'F16M1': 5, 'B01D2247': 5, 'B07B9': 5, 'A63H29': 5, 'F16M7': 5, 'B63C2011': 5, 'E03B9': 5, 'A41D7': 5, 'B64D7': 5, 'F21K2': 5, 'B21D3': 5, 'C05D1': 5, 'B26B3': 5, 'F01C17': 5, 'F42D3': 5, 'B61L2205': 5, 'C03B40': 5, 'B65D15': 5, 'F01K11': 5, 'B41J33': 5, 'F16D49': 5, 'G08G9': 5, 'D03D25': 5, 'C22C2026': 5, 'B23F23': 5, 'C07D273': 5, 'F02D43': 5, 'B64C31': 5, 'C08F292': 5, 'G05D19': 5, 'C08F285': 5, 'B24B57': 5, 'C07D455': 5, 'B63B2017': 5, 'F23Q3': 5, 'C07F19': 5, 'A47D7': 5, 'C12M31': 5, 'B61L1': 5, 'D06L1': 5, 'A41C1': 5, 'F01L2810': 5, 'C03B2215': 5, 'B62B2501': 5, 'C07C27': 5, 'B42B4': 5, 'B60L13': 5, 'A47C13': 5, 'C07D411': 5, 'F21W2101': 5, 'B60B25': 5, 'B64D2203': 5, 'B26B27': 5, 'B81B1': 5, 'H02P2203': 5, 'A01D90': 5, 'F04B33': 5, 'G07G3': 5, 'F16D2123': 5, 'E05B41': 5, 'A43D2200': 5, 'C23G5': 5, 'B21B13': 5, 'C22B4': 5, 'C07J31': 5, 'B60B9': 5, 'B21B38': 5, 'A47L23': 5, 'B01D59': 5, 'E21B45': 5, 'C07B37': 5, 'E01B9': 5, 'B22F2202': 5, 'A23N12': 5, 'G21G4': 5, 'F41A15': 5, 'B05D2201': 5, 'F25D2600': 5, 'B63C7': 5, 'F16D2021': 5, 'F01D7': 5, 'H01L2031': 5, 'B25D1': 5, 'B61C3': 4, 'E21B2021': 4, 'H01H49': 4, 'A62B3': 4, 'A61G2205': 4, 'A47K2201': 4, 'B62J23': 4, 'C01D1': 4, 'E06C9': 4, 'B01J45': 4, 'C01G31': 4, 'C01G55': 4, 'C09D181': 4, 'C03B2207': 4, 'C06B23': 4, 'C09B61': 4, 'A47C16': 4, 'C08J2401': 4, 'C03C2201': 4, 'F16F2228': 4, 'F01P2001': 4, 'F41H9': 4, 'G08B31': 4, 'G04B45': 4, 'G01J11': 4, 'A63B29': 4, 'A47L17': 4, 'D06F95': 4, 'B24B29': 4, 'B24B51': 4, 'C08F114': 4, 'G01G13': 4, 'F16B3': 4, 'C03B2205': 4, 'E03D13': 4, 'B62J25': 4, 'D21G1': 4, 'H01J19': 4, 'C10N2280': 4, 'A61L11': 4, 'G10G1': 4, 'F21W2107': 4, 'C08L99': 4, 'B22D13': 4, 'B31B2150': 4, 'C07C281': 4, 'A45C2003': 4, 'B23C2215': 4, 'C05C1': 4, 'B65F2003': 4, 'C21B15': 4, 'F41A27': 4, 'A01B29': 4, 'C05C11': 4, 'A01K99': 4, 'D05C5': 4, 'A01M21': 4, 'A45B23': 4, 'C03B2211': 4, 'C12Y104': 4, 'H03B28': 4, 'A44B1': 4, 'A43B11': 4, 'A44B13': 4, 'E05B5': 4, 'D04B9': 4, 'C06B25': 4, 'B27M1': 4, 'B62K1': 4, 'A45C2001': 4, 'F24F2203': 4, 'H01H89': 4, 'H01G2009': 4, 'H01K3': 4, 'C12Y202': 4, 'A63J5': 4, 'E05D2007': 4, 'B65G5': 4, 'C07C307': 4, 'B41F21': 4, 'B23K7': 4, 'F25C2700': 4, 'H02P2209': 4, 'B25B9': 4, 'F02B21': 4, 'B62J27': 4, 'C09J105': 4, 'F04D5': 4, 'E02D13': 4, 'A63H5': 4, 'B63H2023': 4, 'C12Q2545': 4, 'C01B6': 4, 'C04B11': 4, 'F02N2019': 4, 'C07C245': 4, 'G04B1': 4, 'A47J2043': 4, 'F24D12': 4, 'F02B55': 4, 'B62H1': 4, 'B61H13': 4, 'F28G15': 4, 'F28G1': 4, 'E03D3': 4, 'A61F17': 4, 'C12N2517': 4, 'H04J2013': 4, 'E05D2005': 4, 'A61M2029': 4, 'B26B11': 4, 'C09J2477': 4, 'B25J21': 4, 'C09C2200': 4, 'H01H2213': 4, 'A61C2201': 4, 'G21K2004': 4, 'B02C2013': 4, 'A63H23': 4, 'F22B29': 4, 'C07K4': 4, 'F15B9': 4, 'B65H26': 4, 'H02M2005': 4, 'C22C47': 4, 'F16L35': 4, 'C07C62': 4, 'F01C20': 4, 'H03M11': 4, 'B24C11': 4, 'B05D2254': 4, 'B32B2377': 4, 'C08L13': 4, 'A63B17': 4, 'B32B11': 4, 'E04D7': 4, 'G10D7': 4, 'G10D9': 4, 'F04B25': 4, 'F23N2031': 4, 'C22B19': 4, 'F42B7': 4, 'B63J3': 4, 'E01B29': 4, 'C30B28': 4, 'E01D15': 4, 'B23B1': 4, 'B23B2220': 4, 'C09J177': 4, 'F23C13': 4, 'F02B2043': 4, 'E06C5': 4, 'B02C7': 4, 'H03K9': 4, 'C08J2331': 4, 'B32B2369': 4, 'B60C2013': 4, 'F25J2280': 4, 'D05B1': 4, 'E02B8': 4, 'D21F9': 4, 'C07C313': 4, 'C08J2303': 4, 'A63B2213': 4, 'C07K11': 4, 'F25D2325': 4, 'C12N2539': 4, 'B63B2211': 4, 'C09J125': 4, 'F25C2500': 4, 'F24C1': 4, 'H01J63': 4, 'E01B25': 4, 'C12N2511': 4, 'F02C5': 4, 'A01K83': 4, 'F03G5': 4, 'A61K2123': 4, 'A45D27': 4, 'A63C1': 4, 'E05B55': 4, 'H05H2240': 4, 'C08J2365': 4, 'A01K79': 4, 'C08G2230': 4, 'C11C5': 4, 'B21K21': 4, 'F01L7': 4, 'F23G2202': 4, 'F23J1': 4, 'G01N2013': 4, 'C08F291': 4, 'B64D2231': 4, 'F41B3': 4, 'F02D2700': 4, 'A45D2029': 4, 'B60Y2410': 4, 'B43K5': 4, 'A43D95': 4, 'B29K2883': 4, 'B82B1': 4, 'H05H9': 4, 'G21G2001': 4, 'C09J189': 4, 'H01H5': 4, 'H01J17': 4, 'C01G15': 4, 'E05B39': 4, 'C03C2203': 4, 'G07C11': 4, 'A63B2037': 4, 'B63B15': 4, 'C12P33': 4, 'B32B2379': 4, 'B60T2250': 4, 'F28D17': 4, 'H01H2209': 4, 'C10G51': 4, 'B31B3': 4, 'C07B57': 4, 'F24D13': 4, 'E04H13': 4, 'E03F3': 4, 'F16D67': 4, 'H04J2211': 4, 'F23K2203': 4, 'F04C2220': 4, 'B23C2250': 4, 'G06Q2240': 4, 'C13B20': 4, 'B22D1': 4, 'C12P9': 4, 'B62D12': 4, 'C09J129': 4, 'F02B2023': 4, 'F23C1': 4, 'F23G2207': 4, 'F16N39': 4, 'C08J2479': 4, 'G21B3': 4, 'D21F5': 4, 'E21F17': 4, 'B21F45': 4, 'D06F31': 4, 'B32B2556': 4, 'B25H7': 4, 'F23D17': 4, 'B24B45': 4, 'B32B2363': 4, 'B07C1': 4, 'C12Y106': 4, 'A63G9': 4, 'B65H63': 4, 'A61H5': 4, 'B01J2540': 4, 'D03D47': 4, 'B62J15': 4, 'G01C13': 4, 'B03C7': 4, 'C07C405': 4, 'G01L21': 4, 'B66C17': 4, 'B27K5': 4, 'C06B21': 4, 'D01F4': 4, 'A61D1': 4, 'C08J2451': 4, 'E03F7': 4, 'F03H1': 4, 'B29C57': 4, 'C10L2300': 4, 'D06B3': 4, 'D06C7': 4, 'F16D57': 4, 'A61D9': 4, 'B24B31': 4, 'A61P9': 4, 'B63B2003': 4, 'B63B19': 4, 'B63B2039': 4, 'H02K2211': 4, 'F23C2202': 4, 'G07F1': 4, 'B29D24': 4, 'C07C257': 4, 'C04B2': 4, 'F23D2207': 4, 'B65B49': 4, 'F23N2029': 4, 'G07D1': 4, 'F16G3': 4, 'D06N2203': 4, 'G03H2226': 4, 'D06Q1': 4, 'H01F2005': 4, 'E05C7': 4, 'B65D37': 4, 'B21F3': 4, 'H02J11': 4, 'B42C9': 4, 'F23L9': 4, 'A47B2003': 4, 'B63B2027': 4, 'C08J2453': 4, 'F41C3': 4, 'B41P2233': 4, 'B65C1': 4, 'C07D501': 4, 'B21C51': 4, 'F23J7': 4, 'B08B13': 4, 'C07C221': 4, 'E04G15': 4, 'B31B19': 4, 'A45B2009': 4, 'A63B2063': 4, 'B64C2003': 4, 'B26B25': 4, 'G04G19': 4, 'C09B31': 4, 'B61C5': 4, 'F01K21': 4, 'F04D9': 4, 'G03H2250': 4, 'E04G7': 4, 'C07D255': 4, 'F25D13': 4, 'B42F1': 4, 'B21D13': 4, 'A63J1': 4, 'A45D2044': 4, 'F42B14': 4, 'D06F2222': 4, 'F16H13': 4, 'B60K16': 4, 'F16N2250': 4, 'B23D65': 4, 'D02G1': 4, 'B25D2217': 4, 'B61L5': 4, 'B23B39': 4, 'F28B9': 4, 'G01S2205': 4, 'F41J1': 4, 'B60K2031': 4, 'C07J7': 4, 'F23N2021': 4, 'C21B3': 4, 'B61D15': 4, 'E04H2015': 4, 'A63F2007': 4, 'G06G1': 4, 'B60C27': 4, 'B02C15': 4, 'A41D2200': 4, 'B60D2001': 4, 'B60B2380': 4, 'B65H69': 4, 'A47B2097': 4, 'B07B7': 4, 'B64C15': 4, 'D06N2201': 4, 'G01L17': 4, 'A63H11': 4, 'A47G2400': 4, 'G07D5': 4, 'A43D3': 4, 'C10B7': 4, 'A45C2005': 4, 'A63B65': 4, 'D06F57': 4, 'B21F1': 4, 'C03B7': 4, 'A22B3': 4, 'F16C21': 4, 'C07D419': 4, 'B21K23': 4, 'C10G5': 4, 'B26B9': 4, 'A47K2005': 4, 'A63F5': 4, 'B65H2401': 4, 'A45C2009': 4, 'B23F21': 4, 'B23F5': 4, 'C12C12': 4, 'C23F17': 4, 'A63B33': 4, 'C07D225': 4, 'C07J51': 4, 'A01F25': 4, 'B63C3': 4, 'B65G2814': 4, 'G01F9': 4, 'B65F2220': 4, 'A01C19': 4, 'B65D2525': 4, 'H03B27': 4, 'B65D9': 4, 'B60B15': 4, 'F21W2102': 4, 'G03B43': 4, 'B42F3': 4, 'B64C37': 4, 'A62B25': 4, 'G03H2227': 4, 'C40B20': 4, 'F02F2003': 4, 'B63B45': 4, 'A23C21': 4, 'B60W2560': 4, 'C12Q2561': 4, 'B60C2007': 4, 'B61B3': 4, 'A21C1': 4, 'C21D10': 4, 'B63B23': 4, 'B60B29': 4, 'B41C2201': 4, 'B65D59': 4, 'H01H2037': 4, 'H04J4': 4, 'A47D5': 4, 'C10G70': 4, 'B26F2001': 4, 'G04F1': 4, 'C08F251': 4, 'B31B2219': 4, 'B62K27': 4, 'A61C11': 4, 'B41J32': 4, 'D06F17': 4, 'G21C5': 4, 'E05D2011': 4, 'A63G7': 4, 'E04G13': 4, 'H03J5': 4, 'D03D41': 3, 'B23D31': 3, 'C01G35': 3, 'C09D169': 3, 'F41A1': 3, 'C06B47': 3, 'C06B31': 3, 'B29K2711': 3, 'C08G2': 3, 'C08G16': 3, 'A01M25': 3, 'F24J1': 3, 'C03C2213': 3, 'F16F2222': 3, 'B60H2003': 3, 'F21L14': 3, 'A41D23': 3, 'A01G2': 3, 'A47L19': 3, 'B24B39': 3, 'G04G5': 3, 'A47C11': 3, 'F16C2316': 3, 'B60R99': 3, 'E03F2005': 3, 'C10M175': 3, 'C10M139': 3, 'F25D5': 3, 'B60T2240': 3, 'C08F224': 3, 'A01D67': 3, 'H01H77': 3, 'A01G29': 3, 'H02P2009': 3, 'C21C2005': 3, 'G04C17': 3, 'C08F259': 3, 'C07C277': 3, 'B21C25': 3, 'C05G1': 3, 'C04B2290': 3, 'C21B2300': 3, 'F03G1': 3, 'H02P4': 3, 'C07D515': 3, 'B60C2019': 3, 'G05B5': 3, 'B63B2009': 3, 'B23Q2220': 3, 'B29C2795': 3, 'H01H2233': 3, 'C08G14': 3, 'G01J2009': 3, 'A45B19': 3, 'C07C291': 3, 'F23D2201': 3, 'A23C20': 3, 'A62B19': 3, 'B08B11': 3, 'A23L31': 3, 'F16H29': 3, 'F25C2305': 3, 'E01B7': 3, 'B63J2': 3, 'F28D19': 3, 'B60T3': 3, 'A01K93': 3, 'F03C2': 3, 'B23C2240': 3, 'C07D291': 3, 'F25C2600': 3, 'B07B11': 3, 'E05B49': 3, 'E02D1': 3, 'B62K2005': 3, 'C09J2409': 3, 'F04D23': 3, 'E02D19': 3, 'B22C3': 3, 'B23D77': 3, 'H01H2207': 3, 'A41G1': 3, 'C07D323': 3, 'B25D2211': 3, 'B63H2001': 3, 'A43C5': 3, 'A21D15': 3, 'F16B4': 3, 'B25B31': 3, 'H01H2225': 3, 'B32B2383': 3, 'D01H1': 3, 'B61D27': 3, 'A61F4': 3, 'A23G2200': 3, 'B22D35': 3, 'B31D3': 3, 'B29K2313': 3, 'C09J193': 3, 'F23J13': 3, 'A01M17': 3, 'B23D55': 3, 'B44F7': 3, 'B27B9': 3, 'B29K2277': 3, 'F03B7': 3, 'H02K47': 3, 'H02K99': 3, 'H01J33': 3, 'C10B19': 3, 'B21K3': 3, 'G01N2496': 3, 'C09J2479': 3, 'D06M14': 3, 'B43L19': 3, 'C08J2397': 3, 'A63B2059': 3, 'C12N2531': 3, 'F22B21': 3, 'B01D41': 3, 'F41F1': 3, 'F23Q2007': 3, 'B63B5': 3, 'F02M2037': 3, 'G05B21': 3, 'B21F27': 3, 'C04B30': 3, 'B04C9': 3, 'B61G7': 3, 'H02M11': 3, 'C07C61': 3, 'D06F73': 3, 'D21D5': 3, 'B27N7': 3, 'A63D15': 3, 'B62D47': 3, 'A63B7': 3, 'A63B9': 3, 'A61K2201': 3, 'C30B31': 3, 'H04J2014': 3, 'F23G2205': 3, 'E04G2023': 3, 'B63J2003': 3, 'B25C7': 3, 'F24T2010': 3, 'G11B9': 3, 'A47H13': 3, 'A47H23': 3, 'B29K2623': 3, 'A47G2001': 3, 'A62C27': 3, 'F27B2014': 3, 'F27D2009': 3, 'H04L2007': 3, 'B01B1': 3, 'B23H3': 3, 'E01F8': 3, 'B66F13': 3, 'B05D2451': 3, 'C09B3': 3, 'C09B35': 3, 'A63H37': 3, 'F04F1': 3, 'B63B13': 3, 'A22B7': 3, 'C10M2211': 3, 'B61D7': 3, 'B22C21': 3, 'F02D2011': 3, 'B27N1': 3, 'C07C305': 3, 'C09D189': 3, 'C08G2350': 3, 'B22F2207': 3, 'C08F28': 3, 'F25D2321': 3, 'C07C331': 3, 'A21B5': 3, 'E05F17': 3, 'F41J3': 3, 'B60G99': 3, 'C08J2335': 3, 'B63J99': 3, 'B21B35': 3, 'F01N2310': 3, 'A61H2023': 3, 'A01K47': 3, 'E05B7': 3, 'B27B31': 3, 'B65D13': 3, 'E05B71': 3, 'B42D9': 3, 'F28F2240': 3, 'G01B13': 3, 'G01V2001': 3, 'C12Y208': 3, 'C10B21': 3, 'H04M2001': 3, 'B67C11': 3, 'F21V35': 3, 'B29K2003': 3, 'F42B35': 3, 'B29K2909': 3, 'B01J25': 3, 'F22G5': 3, 'A43C19': 3, 'C10G63': 3, 'C08J2469': 3, 'G05D22': 3, 'G05D27': 3, 'G09B3': 3, 'E05C21': 3, 'F02B51': 3, 'C30B30': 3, 'A45D31': 3, 'H01H2011': 3, 'B43K1': 3, 'B04B3': 3, 'B01D2011': 3, 'F28D3': 3, 'D06C15': 3, 'D06C3': 3, 'H04R15': 3, 'E03D2201': 3, 'C01B23': 3, 'C12N2527': 3, 'F02D2013': 3, 'C09J2425': 3, 'C09J2431': 3, 'B32B2554': 3, 'B62B13': 3, 'B29K2827': 3, 'C07C50': 3, 'B27B27': 3, 'B29D28': 3, 'C07D497': 3, 'B63B2221': 3, 'C01B5': 3, 'B01J33': 3, 'C03B18': 3, 'B32B2329': 3, 'A62C4': 3, 'B61B1': 3, 'E01B27': 3, 'B41P2213': 3, 'F16K43': 3, 'B63B2025': 3, 'C08F16': 3, 'C05D5': 3, 'C12Y604': 3, 'F16D59': 3, 'A63B1': 3, 'H01J40': 3, 'A61H2001': 3, 'A61G9': 3, 'F02M7': 3, 'F02M19': 3, 'H02B7': 3, 'D06B23': 3, 'F23J3': 3, 'G01K2011': 3, 'F16N21': 3, 'B21D17': 3, 'D03D9': 3, 'B21B15': 3, 'F21L15': 3, 'B22D46': 3, 'G04B13': 3, 'H03B17': 3, 'B28B5': 3, 'F16D9': 3, 'F23K2301': 3, 'F23G2204': 3, 'F16T1': 3, 'B62K2015': 3, 'B27D1': 3, 'B60B30': 3, 'C08L87': 3, 'H03H2011': 3, 'A44B99': 3, 'G09F2023': 3, 'C08F2400': 3, 'B60Q2200': 3, 'B65H67': 3, 'C08J2405': 3, 'C12Y110': 3, 'A45D37': 3, 'F16C2233': 3, 'E02B1': 3, 'E02B5': 3, 'A01G18': 3, 'C08F130': 3, 'E03B2001': 3, 'B66C3': 3, 'C22C16': 3, 'D01G15': 3, 'B27K2240': 3, 'C07H11': 3, 'G01C7': 3, 'B27B19': 3, 'F23D91': 3, 'F01P2005': 3, 'C09B62': 3, 'F16L51': 3, 'F28F2210': 3, 'B04B2001': 3, 'A61H21': 3, 'B31B2170': 3, 'A47B85': 3, 'F15B2013': 3, 'C21C1': 3, 'A45D2001': 3, 'A21C3': 3, 'B30B5': 3, 'H03B21': 3, 'C09J197': 3, 'E06B2007': 3, 'B60B2320': 3, 'A63J25': 3, 'F41J9': 3, 'C12N2529': 3, 'E01C15': 3, 'G05D13': 3, 'A63G1': 3, 'D02J13': 3, 'A47B2031': 3, 'A01B35': 3, 'A43C9': 3, 'B63B2231': 3, 'F24D15': 3, 'H02K51': 3, 'B22D30': 3, 'A47B7': 3, 'F28F23': 3, 'B41K1': 3, 'B01J2204': 3, 'A61H2031': 3, 'A23C13': 3, 'B62B17': 3, 'B65F2250': 3, 'G06E3': 3, 'B23G1': 3, 'C10B27': 3, 'C10C5': 3, 'A44C13': 3, 'B26D9': 3, 'B32B2429': 3, 'H01T2': 3, 'D04H18': 3, 'A41D11': 3, 'A61P31': 3, 'A41D25': 3, 'C07C239': 3, 'C08L85': 3, 'C09J135': 3, 'F02M67': 3, 'C07D331': 3, 'F27B15': 3, 'A23B5': 3, 'A47B1': 3, 'C12Y116': 3, 'H02P2205': 3, 'B41P2235': 3, 'A61H99': 3, 'C08L2310': 3, 'A63H1': 3, 'B65D2583': 3, 'C08G2210': 3, 'C25F1': 3, 'E01B3': 3, 'F26B19': 3, 'F01B17': 3, 'B24D9': 3, 'B63C1': 3, 'A45D2008': 3, 'A41D20': 3, 'F23Q9': 3, 'C22B13': 3, 'A41C5': 3, 'A41H1': 3, 'D01D4': 3, 'B61F3': 3, 'B81B5': 3, 'B29K2715': 3, 'C10G59': 3, 'B29K2707': 3, 'G05D17': 3, 'C07C22': 3, 'B61B12': 3, 'A47B51': 3, 'F23L17': 3, 'C11D13': 3, 'G01N2009': 3, 'C07D281': 3, 'C07J21': 3, 'C11D10': 3, 'F02N3': 3, 'F16N11': 3, 'F15B3': 3, 'F02F2200': 3, 'B60K2016': 3, 'A01M2200': 3, 'H04Q5': 3, 'F01C9': 3, 'C10G17': 3, 'A01D89': 3, 'B21F35': 3, 'F25B2327': 3, 'A01D87': 3, 'C09D15': 3, 'C12N2521': 3, 'B21D45': 3, 'F42B4': 3, 'A47L2601': 3, 'F41B15': 3, 'A01B23': 3, 'B62D43': 3, 'B23K13': 3, 'C07J5': 3, 'B25D2222': 3, 'B61H5': 3, 'A43D25': 3, 'B60K2005': 3, 'C09K2003': 3, 'A01J25': 3, 'C07D201': 3, 'C23F3': 3, 'B21H3': 3, 'C10M143': 3, 'E03F9': 3, 'C05F9': 3, 'H05H2277': 3, 'C04B12': 3, 'A61D17': 3, 'B29K2007': 3, 'A47B17': 3, 'F41A29': 3, 'B03B7': 3, 'B66F19': 3, 'A23K30': 3, 'G01G9': 3, 'F41G9': 3, 'B62D17': 3, 'B60B37': 3, 'B27F7': 3, 'F02P7': 3, 'B21B19': 3, 'B60C99': 3, 'G04G7': 3, 'C08L11': 3, 'C03B2225': 3, 'A47F2005': 3, 'A43B19': 3, 'F27D2007': 3, 'C03B3': 3, 'H01S1': 3, 'B41P2200': 3, 'D05C17': 3, 'H02K57': 3, 'A45F2004': 3, 'G09B11': 3, 'G04G11': 3, 'B27F1': 3, 'F24C14': 3, 'F01D13': 3, 'A47J17': 3, 'F05C2203': 3, 'D05B11': 3, 'H01J2329': 3, 'A22C13': 3, 'B65D49': 3, 'A47B49': 3, 'B41N10': 3, 'C07H9': 3, 'F15C1': 3, 'B29K2223': 3, 'D06F2210': 3, 'F28G9': 3, 'F16B2012': 3, 'A63B6': 3, 'D21J1': 3, 'F01P2031': 3, 'H01H27': 3, 'A47B19': 3, 'A43D11': 3, 'G02F3': 3, 'B65F5': 3, 'G01K2217': 3, 'F41C7': 3, 'F16D31': 3, 'H03H15': 3, 'E05B29': 3, 'B60M3': 3, 'B25B25': 3, 'B63H2011': 3, 'F23Q2': 3, 'B60Q7': 3, 'B63H19': 3, 'F01P2037': 3, 'B66F1': 3, 'E21B2043': 3, 'C09J2401': 3, 'F02D1': 3, 'F16K49': 3, 'F16K13': 3, 'B41P2227': 3, 'B05C7': 3, 'C08F24': 3, 'D06M2400': 3, 'F16H31': 3, 'B25D2216': 3, 'F02P11': 3, 'F23D2212': 3, 'E04F2019': 3, 'F23D23': 3, 'F02M33': 3, 'B60T10': 3, 'E21C37': 3, 'G05D21': 3, 'A63H19': 3, 'B05D2518': 3, 'B41P2215': 3, 'D04H11': 3, 'B29K2019': 3, 'F21S19': 3, 'G21H1': 3, 'B60Q2500': 3, 'B29L2012': 3, 'H01H61': 3, 'F16M5': 3, 'H02B3': 3, 'F16H2035': 3, 'B01D23': 3, 'B65G2811': 3, 'C09D197': 3, 'B61D45': 3, 'H03H5': 3, 'D03D27': 3, 'F25J2250': 3, 'F01N2530': 3, 'D06F2216': 3, 'A23N17': 3, 'B41F11': 3, 'C09D9': 3, 'B23B2224': 3, 'B68C1': 3, 'A47G2033': 3, 'F16J7': 3, 'A44C7': 3, 'F41J2': 3, 'F02B7': 3, 'A41G3': 3, 'G09F2017': 3, 'B30B3': 3, 'F01C13': 3, 'F04D33': 3, 'D05C15': 3, 'F16D15': 3, 'G03H2270': 3, 'F26B7': 3, 'B01J2029': 3, 'B23B2247': 3, 'B62J37': 3, 'G07C15': 3, 'G01Q40': 2, 'H01H2059': 2, 'B23D17': 2, 'A62C33': 2, 'B21B2001': 2, 'H01R3': 2, 'A41F17': 2, 'A63C7': 2, 'E01B1': 2, 'C01D5': 2, 'F16H2049': 2, 'B04C2003': 2, 'G11C2229': 2, 'C01G37': 2, 'C09J107': 2, 'A42C2': 2, 'C08J2339': 2, 'G01G15': 2, 'A61Q90': 2, 'F16F2232': 2, 'B07B15': 2, 'F23Q13': 2, 'G05B6': 2, 'E05F7': 2, 'C12C13': 2, 'B65B15': 2, 'F16D35': 2, 'A63C2201': 2, 'B62M2009': 2, 'C08J2461': 2, 'C08J2315': 2, 'B65D2563': 2, 'B29L2024': 2, 'G01N37': 2, 'G01F7': 2, 'H01F2019': 2, 'A24F7': 2, 'H01H2019': 2, 'H02N15': 2, 'H05K2007': 2, 'F22B33': 2, 'E01B31': 2, 'A01K51': 2, 'C05C5': 2, 'H04W99': 2, 'C01G30': 2, 'B23Q2039': 2, 'F24C5': 2, 'C22C2200': 2, 'B03D3': 2, 'A61G99': 2, 'C08B13': 2, 'B31B2203': 2, 'B22D31': 2, 'A47B11': 2, 'A45B11': 2, 'B22D37': 2, 'F23D2214': 2, 'B24B33': 2, 'B60F5': 2, 'B08B6': 2, 'B65B2230': 2, 'F02B2063': 2, 'B29L2028': 2, 'F23L13': 2, 'D01H5': 2, 'B43M11': 2, 'B32B2386': 2, 'B62K17': 2, 'B22D2': 2, 'G08C25': 2, 'C07C333': 2, 'D05B69': 2, 'D05C9': 2, 'B32B2371': 2, 'A01G15': 2, 'F28F2230': 2, 'C23F2201': 2, 'G01W2001': 2, 'D05C7': 2, 'B42F9': 2, 'G04B3': 2, 'B68G11': 2, 'C09J2461': 2, 'D07B2207': 2, 'A22C29': 2, 'A01D2034': 2, 'E05B51': 2, 'A44B15': 2, 'F16D2129': 2, 'E02D2250': 2, 'B62B2207': 2, 'D05B3': 2, 'D04B7': 2, 'C08J2491': 2, 'F16B29': 2, 'D01H13': 2, 'E01F7': 2, 'A47B2013': 2, 'F02N99': 2, 'H01L1': 2, 'F04F7': 2, 'F01B23': 2, 'F24D10': 2, 'B29K2096': 2, 'G01N2446': 2, 'B65H11': 2, 'F23J2213': 2, 'C09B21': 2, 'F28D2015': 2, 'B65D57': 2, 'B43L13': 2, 'A01G5': 2, 'A01B21': 2, 'A01B5': 2, 'A61G2013': 2, 'B62B15': 2, 'B66F15': 2, 'B43K25': 2, 'B63H2009': 2, 'A63B39': 2, 'F22B31': 2, 'C07C223': 2, 'C03B13': 2, 'F04B5': 2, 'H03F2003': 2, 'F41G5': 2, 'B63B2007': 2, 'E03B11': 2, 'A63C2019': 2, 'F16C2229': 2, 'B21H1': 2, 'B63H3': 2, 'H03B7': 2, 'D06F87': 2, 'F24F2012': 2, 'C09J181': 2, 'B60K41': 2, 'F01P2011': 2, 'B29K2701': 2, 'E01F5': 2, 'A63B2009': 2, 'B42C7': 2, 'F01L2009': 2, 'B62M23': 2, 'F16N25': 2, 'B23C2260': 2, 'B23C2270': 2, 'B23G5': 2, 'H01H39': 2, 'B23F19': 2, 'B01J15': 2, 'A61D99': 2, 'C13K11': 2, 'A47H2001': 2, 'B62K2206': 2, 'A45C2007': 2, 'A63B2067': 2, 'F01M2005': 2, 'G10H5': 2, 'F23B90': 2, 'E04B2005': 2, 'F27D2021': 2, 'B32B39': 2, 'D10B2211': 2, 'B66B15': 2, 'D06N5': 2, 'B43M3': 2, 'A01N29': 2, 'F01N2270': 2, 'B29K2103': 2, 'B63B2022': 2, 'B63B2213': 2, 'C21D5': 2, 'G04D3': 2, 'B23F17': 2, 'A44C3': 2, 'A21B7': 2, 'B23D29': 2, 'B25C11': 2, 'C08J2481': 2, 'C08J2435': 2, 'F23R7': 2, 'H03B2202': 2, 'B63B2201': 2, 'F21L13': 2, 'G01B1': 2, 'B65D2221': 2, 'F15B5': 2, 'B07C7': 2, 'E05B2045': 2, 'B65H83': 2, 'B23D53': 2, 'G01D15': 2, 'A47G2023': 2, 'B43K19': 2, 'B43K21': 2, 'C09B55': 2, 'B29K2713': 2, 'H04L21': 2, 'E21F1': 2, 'G06F2015': 2, 'C10B39': 2, 'F22G1': 2, 'B29K2511': 2, 'D06F81': 2, 'B61F1': 2, 'E04F2013': 2, 'G21C11': 2, 'B65D2201': 2, 'A23V2300': 2, 'F22B3': 2, 'B61F15': 2, 'C06B33': 2, 'H03H2017': 2, 'B26D2003': 2, 'B66B29': 2, 'B22D15': 2, 'E21D15': 2, 'A61D5': 2, 'F23K2401': 2, 'F22D5': 2, 'G07C2011': 2, 'F16H2041': 2, 'C06B43': 2, 'B31B2217': 2, 'A22C9': 2, 'F16D2041': 2, 'B04C11': 2, 'B61D5': 2, 'H01H2237': 2, 'C09B68': 2, 'B65D2211': 2, 'G01W2203': 2, 'C25F5': 2, 'C09B56': 2, 'A61C2202': 2, 'B41K3': 2, 'B41F1': 2, 'B31B17': 2, 'G01G7': 2, 'F23N2033': 2, 'F16N2210': 2, 'B01D2009': 2, 'C07C261': 2, 'F02G2254': 2, 'B21D15': 2, 'E21C50': 2, 'F21L2': 2, 'C12Q2304': 2, 'B60D5': 2, 'G04B27': 2, 'H01H57': 2, 'C07D457': 2, 'D06C23': 2, 'B29K2005': 2, 'B29K2089': 2, 'B23H11': 2, 'A47J33': 2, 'C03C2207': 2, 'E01H10': 2, 'B29K2667': 2, 'B60F2301': 2, 'F23D2208': 2, 'F23D2209': 2, 'B62D39': 2, 'B05D2503': 2, 'B65D2547': 2, 'B64G3': 2, 'G01N2610': 2, 'C40B70': 2, 'B62K2201': 2, 'C12Y105': 2, 'B62D24': 2, 'B29C2073': 2, 'F25D15': 2, 'C12M3': 2, 'H03B15': 2, 'F01B11': 2, 'F02B71': 2, 'A45D6': 2, 'C07J53': 2, 'E01C1': 2, 'E05D2003': 2, 'H02S99': 2, 'B23D2277': 2, 'D03D49': 2, 'A61M2027': 2, 'A63B2055': 2, 'A01M13': 2, 'C09J127': 2, 'D07B2801': 2, 'B25J7': 2, 'B01D43': 2, 'B21B23': 2, 'C07B39': 2, 'B29L2001': 2, 'D01H4': 2, 'F16C2350': 2, 'F27B19': 2, 'B26D11': 2, 'B65D2209': 2, 'B03C11': 2, 'F21K99': 2, 'H02G2200': 2, 'F01P9': 2, 'G01N2430': 2, 'B29K2267': 2, 'A41B2500': 2, 'E02D2300': 2, 'A47F13': 2, 'G06Q2230': 2, 'A61P27': 2, 'A01D42': 2, 'G01K2219': 2, 'C12N2820': 2, 'A61P17': 2, 'B64D10': 2, 'F42C9': 2, 'F41J11': 2, 'A47B2023': 2, 'D06M17': 2, 'B04B2011': 2, 'B21B2003': 2, 'B68G9': 2, 'C12M39': 2, 'C14B1': 2, 'E21B6': 2, 'B65D2539': 2, 'A01M99': 2, 'F16F2238': 2, 'C02F2003': 2, 'G07D13': 2, 'A61H11': 2, 'A01M3': 2, 'C08C2': 2, 'D05B57': 2, 'B65C11': 2, 'C12Y406': 2, 'A22C15': 2, 'B61G3': 2, 'C09B33': 2, 'A23C1': 2, 'A43C13': 2, 'G09F2021': 2, 'C10M115': 2, 'F01N2350': 2, 'B61B7': 2, 'B23B2265': 2, 'C08J2395': 2, 'F28F5': 2, 'H04L2029': 2, 'B66B21': 2, 'C12P15': 2, 'D05B23': 2, 'E02D35': 2, 'B22D47': 2, 'A63J21': 2, 'A01J11': 2, 'F01K19': 2, 'B42C11': 2, 'H01L224': 2, 'B60C2017': 2, 'B21B2015': 2, 'C09J2471': 2, 'A47B63': 2, 'C08J2355': 2, 'B01D2267': 2, 'H01J21': 2, 'D21H5': 2, 'B25H5': 2, 'F16N3': 2, 'A61L28': 2, 'A61H2207': 2, 'C07B35': 2, 'A45B2025': 2, 'A45D42': 2, 'G01V2003': 2, 'A41B3': 2, 'A41F19': 2, 'H01T15': 2, 'A61H2011': 2, 'F02G3': 2, 'B02C9': 2, 'G04F3': 2, 'H05H6': 2, 'E02B13': 2, 'B67D2007': 2, 'B27L7': 2, 'C01G43': 2, 'B61D47': 2, 'B63B11': 2, 'F16N19': 2, 'B01D8': 2, 'B21C3': 2, 'F41A25': 2, 'B61G5': 2, 'A23G7': 2, 'F26B1': 2, 'F16M3': 2, 'C12P11': 2, 'F15B2015': 2, 'C08G67': 2, 'F25B11': 2, 'C23F14': 2, 'E01D22': 2, 'A47B2083': 2, 'H04R2231': 2, 'H04R2207': 2, 'C07D203': 2, 'F23N2005': 2, 'B67B1': 2, 'C13B50': 2, 'B23D79': 2, 'C08F287': 2, 'H02B5': 2, 'H01I21': 2, 'B41P2217': 2, 'A62B21': 2, 'E01B19': 2, 'E03D2009': 2, 'F16F2236': 2, 'D06L3': 2, 'G02B2003': 2, 'C12G2200': 2, 'G10K1': 2, 'E05C5': 2, 'A41H3': 2, 'B29K2031': 2, 'B29C2949': 2, 'B29D12': 2, 'B32B2319': 2, 'B23C2228': 2, 'B60R15': 2, 'B65H55': 2, 'A41F15': 2, 'C23C12': 2, 'E21F5': 2, 'F17C6': 2, 'B07B2230': 2, 'A01J9': 2, 'B67D9': 2, 'F01P2070': 2, 'B65B2039': 2, 'D06F21': 2, 'F41B9': 2, 'F23M11': 2, 'B23D35': 2, 'A63B27': 2, 'B21F23': 2, 'C07C241': 2, 'C08J2347': 2, 'B01J43': 2, 'A61H13': 2, 'B64C17': 2, 'A01K75': 2, 'F41J13': 2, 'C01G21': 2, 'B60V1': 2, 'B60V3': 2, 'B65B17': 2, 'C12Y502': 2, 'F02D25': 2, 'D06H7': 2, 'G04B18': 2, 'A41B2300': 2, 'F01N2230': 2, 'B64D2201': 2, 'C08G85': 2, 'C07J13': 2, 'B23P25': 2, 'H03D13': 2, 'E04G2003': 2, 'B42F21': 2, 'C14C3': 2, 'C10L11': 2, 'C08F234': 2, 'B60B23': 2, 'A61F2006': 2, 'F02N7': 2, 'F24B5': 2, 'B21B25': 2, 'G02F7': 2, 'C07D245': 2, 'F02M2700': 2, 'B27G13': 2, 'B27L11': 2, 'H01H45': 2, 'F04D31': 2, 'A61D3': 2, 'A23C15': 2, 'C03B1': 2, 'H01J45': 2, 'C01G5': 2, 'B27C5': 2, 'F16L2011': 2, 'D06N2213': 2, 'B22C15': 2, 'B21F15': 2, 'A47G2029': 2, 'C21B11': 2, 'C12Q2533': 2, 'A61J2007': 2, 'C21D2261': 2, 'C30B17': 2, 'B61D19': 2, 'D06F59': 2, 'F04B2207': 2, 'E04G25': 2, 'A22C2013': 2, 'F02M29': 2, 'A01F7': 2, 'B21B2261': 2, 'C10B45': 2, 'C10B41': 2, 'G01T5': 2, 'A46B1': 2, 'B63B38': 2, 'C03B20': 2, 'A01C17': 2, 'A01C3': 2, 'G21K7': 2, 'F04B3': 2, 'H01H2057': 2, 'F03B1': 2, 'C08G2280': 2, 'F28D13': 2, 'B62B2204': 2, 'A63D5': 2, 'E01D21': 2, 'B64D2211': 2, 'B60B11': 2, 'B28B21': 2, 'B60T5': 2, 'A01D78': 2, 'A63K3': 2, 'F27D15': 2, 'A23J7': 2, 'F25D16': 2, 'F02G2243': 2, 'B22F2303': 2, 'B65G2209': 2, 'A21C5': 2, 'F16K29': 2, 'B21K5': 2, 'C07C401': 2, 'D04B35': 2, 'B21D9': 2, 'B64C2211': 2, 'G04F13': 2, 'C21C2300': 2, 'B21D25': 2, 'F02B73': 2, 'H03H2021': 2, 'E03F2003': 2, 'F24B13': 2, 'F25J5': 2, 'C08F132': 2, 'A44C11': 2, 'F01D3': 2, 'C08F116': 2, 'G04D7': 2, 'F02B2053': 2, 'H01P9': 2, 'F02G2270': 2, 'H04Q2201': 2, 'B65H81': 2, 'H02K44': 2, 'A47H15': 2, 'B23K5': 2, 'C08J2319': 2, 'C10B31': 2, 'D06H5': 2, 'B23K2001': 2, 'B32B2331': 2, 'B61C7': 2, 'B21B17': 2, 'F23D2213': 2, 'C10M157': 2, 'A47J44': 2, 'B23D15': 2, 'B23F1': 2, 'F41C9': 2, 'G10F1': 2, 'B64C30': 2, 'H03C2200': 2, 'F28D2001': 2, 'B21H7': 2, 'A47L2301': 2, 'B21C9': 2, 'B66C9': 2, 'B04B2013': 2, 'F24S2201': 2, 'C08F289': 2, 'C08F32': 2, 'H04M2017': 2, 'H02P13': 2, 'F02P2017': 2, 'A41H43': 2, 'A61B13': 2, 'H01C13': 2, 'B64F3': 2, 'H01J2211': 2, 'B02C2210': 2, 'F42B19': 2, 'A63B51': 2, 'B61L2027': 2, 'C01G29': 2, 'F25C3': 2, 'G01H5': 2, 'B60W2400': 2, 'F05D2200': 2, 'B01F2009': 2, 'A24B1': 2, 'F16D37': 2, 'F16D2013': 2, 'C03B21': 2, 'C09D147': 2, 'B31B2237': 2, 'E04D2003': 2, 'B22D39': 2, 'B22D45': 2, 'H01J41': 2, 'G21C2003': 2, 'F16J12': 2, 'E21C31': 2, 'B09B2220': 2, 'F02N5': 2, 'G06F2101': 2, 'E04H14': 2, 'G10K13': 2, 'B66C7': 2, 'B23B25': 2, 'B66C11': 2, 'C12Y501': 2, 'F25B35': 2, 'F16H2019': 2, 'C07C2604': 2, 'H05B35': 2, 'A01H6': 2, 'F02P1': 2, 'B32B2410': 2, 'B64C2009': 2, 'G01C2009': 2, 'C09J191': 2, 'B43L7': 2, 'F04C19': 2, 'B01J32': 2, 'A01K73': 2, 'G01Q80': 2, 'F16L7': 2, 'H02K24': 2, 'B63B2241': 2, 'B23G9': 2, 'C14B17': 2, 'F16H2342': 2, 'B27B33': 2, 'B08B2230': 2, 'C10M109': 2, 'G01K2201': 2, 'B30B7': 2, 'A61P29': 2, 'B42F15': 2, 'F01L5': 2, 'H01H2025': 2, 'B41J31': 2, 'G01K2213': 2, 'B32B2590': 2, 'E04H2012': 2, 'A61P11': 2, 'B25B29': 2, 'C12C3': 2, 'A47G5': 2, 'B22F2203': 2, 'H02H6': 2, 'H03L3': 2, 'F16H33': 2, 'F16D2027': 2, 'C01G17': 2, 'A62C8': 2, 'B62D59': 2, 'E01B5': 2, 'F03G2006': 2, 'A47F2010': 2, 'G10L2013': 2, 'D05C11': 2, 'B21C29': 2, 'A61P37': 2, 'D05B35': 2, 'C07B43': 2, 'A01K43': 2, 'C23D5': 2, 'H01C3': 2, 'F27D13': 2, 'A43D111': 2, 'C09J147': 2, 'A62B99': 2, 'B23K25': 2, 'C09J2451': 2, 'E21B2041': 2, 'A47K2003': 2, 'A44C21': 2, 'A61G2220': 2, 'F02G2260': 2, 'C09B19': 2, 'A23C2260': 2, 'F41A7': 2, 'F02M9': 2, 'F25B37': 2, 'B05D2256': 2, 'A63B61': 2, 'B25B33': 2, 'A43D999': 2, 'A47K2210': 2, 'B65D61': 2, 'G06M3': 2, 'B61D33': 2, 'B23C2222': 2, 'C09J143': 2, 'A01K95': 2, 'F23M9': 2, 'C12N2999': 2, 'B65D2588': 2, 'A42C5': 2, 'B23B13': 2, 'B62K2700': 2, 'E04G2001': 2, 'B62H7': 2, 'C12Y115': 2, 'F02B2039': 2, 'C07J75': 2, 'D03J1': 1, 'G08C21': 1, 'A41F5': 1, 'G04G3': 1, 'A63K1': 1, 'A63G25': 1, 'A63G19': 1, 'A22C18': 1, 'C09D141': 1, 'C09D145': 1, 'G04B29': 1, 'G04B31': 1, 'C01G27': 1, 'E05C2007': 1, 'B29L2017': 1, 'C08J2489': 1, 'C08J2431': 1, 'E01H4': 1, 'B03B2009': 1, 'C08F263': 1, 'B61B10': 1, 'B29K2059': 1, 'A47D3': 1, 'F01L2107': 1, 'A63C13': 1, 'E05B59': 1, 'E05B2001': 1, 'G04C5': 1, 'G03G17': 1, 'H01H75': 1, 'C07D499': 1, 'B61D39': 1, 'F16H27': 1, 'H02K2207': 1, 'B27C9': 1, 'A01H17': 1, 'G07D2211': 1, 'B25B19': 1, 'B43L3': 1, 'G05B7': 1, 'C08G2410': 1, 'G06E1': 1, 'C05B1': 1, 'H01H79': 1, 'B41J5': 1, 'B23Q2230': 1, 'B23B7': 1, 'F23D5': 1, 'F23Q25': 1, 'B61H9': 1, 'B23B2210': 1, 'A63B2039': 1, 'B65D2207': 1, 'D05D2205': 1, 'A63B2047': 1, 'A41B7': 1, 'F16D61': 1, 'E05G5': 1, 'C08J2447': 1, 'D06B11': 1, 'A23Y2280': 1, 'F01N2390': 1, 'A44C1': 1, 'E04G2005': 1, 'C08G2270': 1, 'B43M5': 1, 'B27C1': 1, 'G01G1': 1, 'G07B5': 1, 'G07B1': 1, 'B61D37': 1, 'D05B21': 1, 'B29L2005': 1, 'B42F11': 1, 'B68G15': 1, 'H04R21': 1, 'C01G11': 1, 'C09J121': 1, 'A01L15': 1, 'C09J2405': 1, 'E02D37': 1, 'C08J2359': 1, 'D05B37': 1, 'B43K15': 1, 'F02F2007': 1, 'B25C3': 1, 'B29K2061': 1, 'C09B17': 1, 'C12Q2522': 1, 'G01K2215': 1, 'G16H70': 1, 'A47B2096': 1, 'A01L1': 1, 'A01L3': 1, 'G01J2004': 1, 'B23B23': 1, 'E02B2015': 1, 'F02M41': 1, 'G06F2011': 1, 'F02B11': 1, 'B64D2009': 1, 'F01C3': 1, 'E01F3': 1, 'D05B97': 1, 'B03B11': 1, 'B23G2200': 1, 'C22B61': 1, 'B60K2028': 1, 'B02B5': 1, 'E01D2101': 1, 'C09J1': 1, 'H01L2': 1, 'B01J16': 1, 'C11B11': 1, 'C30B21': 1, 'F24D2240': 1, 'F23B80': 1, 'F23B10': 1, 'C09D137': 1, 'B02B3': 1, 'C10M2225': 1, 'C09J115': 1, 'B23H5': 1, 'D06C5': 1, 'F27D2017': 1, 'H01J2229': 1, 'D10B2507': 1, 'F15B2215': 1, 'F16K23': 1, 'B41N6': 1, 'A61B2': 1, 'A61J13': 1, 'A23N7': 1, 'C21C2100': 1, 'D01D7': 1, 'C08L2023': 1, 'B42D2031': 1, 'C09C2220': 1, 'G04B5': 1, 'G21D5': 1, 'C14C11': 1, 'C10M131': 1, 'B01F2013': 1, 'B63B2207': 1, 'B63B2203': 1, 'C08L41': 1, 'B29K2301': 1, 'A01D82': 1, 'B21H5': 1, 'B29K2035': 1, 'B29K2867': 1, 'C08J2439': 1, 'C10M117': 1, 'G10K2200': 1, 'H02N3': 1, 'F25B2347': 1, 'H04J9': 1, 'E02D9': 1, 'A63C3': 1, 'E05B2063': 1, 'A47B71': 1, 'A63J17': 1, 'C02F7': 1, 'B29K2091': 1, 'F25D1': 1, 'B04C1': 1, 'B03B1': 1, 'A61P7': 1, 'D06F13': 1, 'B29K2401': 1, 'A41H37': 1, 'A45B2019': 1, 'H04W1': 1, 'B27B21': 1, 'G04G15': 1, 'F24S2050': 1, 'C10M155': 1, 'H01H2013': 1, 'H04M4': 1, 'G06G5': 1, 'B60K3': 1, 'F22B27': 1, 'B22C5': 1, 'B03B4': 1, 'F16L31': 1, 'E21D1': 1, 'B32B2355': 1, 'B63B2015': 1, 'H01K7': 1, 'B61L99': 1, 'G04C23': 1, 'E01B35': 1, 'B66D2700': 1, 'F24F9': 1, 'C10C1': 1, 'E05B21': 1, 'B65D69': 1, 'B65B2011': 1, 'C08B5': 1, 'B29L2029': 1, 'G01P7': 1, 'C25B5': 1, 'D06B5': 1, 'D06B19': 1, 'D01H7': 1, 'B60Y2302': 1, 'B23D37': 1, 'B23D43': 1, 'A22B1': 1, 'C12N2523': 1, 'B21B2267': 1, 'B21B2265': 1, 'F16N2260': 1, 'F16N17': 1, 'F16N2270': 1, 'B60K2741': 1, 'F16C2310': 1, 'F28G13': 1, 'H01L67': 1, 'H04N2017': 1, 'A61P3': 1, 'B62K7': 1, 'A01M9': 1, 'D06F2232': 1, 'D06F2212': 1, 'H04N60': 1, 'B28B15': 1, 'B67B2201': 1, 'B62J2300': 1, 'B65D2213': 1, 'B63C13': 1, 'A23G2220': 1, 'B60K8': 1, 'B62B11': 1, 'A45B1': 1, 'H04L15': 1, 'F23D2204': 1, 'B63G13': 1, 'H01B15': 1, 'C08G10': 1, 'G05G11': 1, 'B63B2059': 1, 'B62B19': 1, 'A63B2043': 1, 'B07C2301': 1, 'F01N2290': 1, 'A45D4': 1, 'B23C2265': 1, 'G03B25': 1, 'B65G2205': 1, 'H04N20': 1, 'B24B11': 1, 'C10M147': 1, 'B21G1': 1, 'B32B2395': 1, 'F41B13': 1, 'C08J2343': 1, 'F23G2200': 1, 'F23L5': 1, 'F04F10': 1, 'B03C9': 1, 'A61H37': 1, 'F23C2206': 1, 'B29K2913': 1, 'F16H23': 1, 'C10G73': 1, 'B23Q37': 1, 'C08J2403': 1, 'C09J139': 1, 'A01C11': 1, 'C07D293': 1, 'E21D23': 1, 'D21H1': 1, 'A41D10': 1, 'A41B17': 1, 'A61P15': 1, 'A61P5': 1, 'B61L21': 1, 'B23D63': 1, 'A47K4': 1, 'B32B2041': 1, 'F27D25': 1, 'F23J2700': 1, 'F16C2340': 1, 'A43D86': 1, 'B61G1': 1, 'E04G2009': 1, 'C09D193': 1, 'C08L37': 1, 'F41J7': 1, 'B42D13': 1, 'C09J165': 1, 'D01C1': 1, 'C07D517': 1, 'B02C2019': 1, 'G03G8': 1, 'B05D2502': 1, 'B05D2507': 1, 'E21B11': 1, 'C12Q2539': 1, 'C08F271': 1, 'C10M167': 1, 'A47C29': 1, 'D05B63': 1, 'C08F18': 1, 'E01D2': 1, 'A01M19': 1, 'F01L2003': 1, 'B05D2259': 1, 'B60B31': 1, 'A47F8': 1, 'C07C267': 1, 'B26B15': 1, 'F02D2021': 1, 'B64C2203': 1, 'A47B2037': 1, 'A01D7': 1, 'B62J3': 1, 'C03C2205': 1, 'G03H5': 1, 'B62J29': 1, 'H04L13': 1, 'A47J2201': 1, 'F01K1': 1, 'A47D11': 1, 'H04W7': 1, 'B66B2009': 1, 'B31B2241': 1, 'B22C19': 1, 'B22C11': 1, 'C05B15': 1, 'A61K2008': 1, 'F01M3': 1, 'B27G15': 1, 'C08J2465': 1, 'C06C9': 1, 'B61H7': 1, 'C08F261': 1, 'B31B29': 1, 'G07C7': 1, 'D07B2301': 1, 'A62C25': 1, 'C08F267': 1, 'A63B2031': 1, 'A41F3': 1, 'A41F11': 1, 'B63B2019': 1, 'F16B2013': 1, 'C07C337': 1, 'G03B23': 1, 'A23N4': 1, 'A23C2250': 1, 'F16C2314': 1, 'C07D259': 1, 'F16N5': 1, 'B64G4': 1, 'A61B9': 1, 'B23C9': 1, 'B26B17': 1, 'B05C15': 1, 'A61M2011': 1, 'A44B5': 1, 'F27D2005': 1, 'A63G27': 1, 'E02B2201': 1, 'C12Q2549': 1, 'B60R2025': 1, 'C14B15': 1, 'D01D11': 1, 'B31B49': 1, 'C09J2469': 1, 'F23C15': 1, 'B05D2508': 1, 'D04B3': 1, 'B05D2504': 1, 'F01L21': 1, 'F16D2043': 1, 'F04B2015': 1, 'B66B25': 1, 'B61D1': 1, 'B62J13': 1, 'A21D17': 1, 'H04W5': 1, 'A01K59': 1, 'F41F7': 1, 'C08F295': 1, 'C08F301': 1, 'B64D2700': 1, 'C08G2340': 1, 'G01N2410': 1, 'B26B7': 1, 'B61B9': 1, 'A41G7': 1, 'B21F7': 1, 'B29K2675': 1, 'C07C23': 1, 'F16F2234': 1, 'H01H17': 1, 'H01H43': 1, 'B32B2559': 1, 'G05D25': 1, 'F16H2047': 1, 'G01G5': 1, 'H01H2083': 1, 'B61L7': 1, 'C08G2380': 1, 'A01K41': 1, 'B66C2700': 1, 'B62J2001': 1, 'F27D2001': 1, 'H03H2250': 1, 'B61K3': 1, 'E02D23': 1, 'F02M15': 1, 'B44F11': 1, 'B44D2': 1, 'D07B3': 1, 'A01C14': 1, 'C05F1': 1, 'C08J2497': 1, 'D03D23': 1, 'G06F30': 1, 'C12P35': 1, 'C10M127': 1, 'B65C5': 1, 'B60B17': 1, 'C22B58': 1, 'B30B13': 1, 'B29K2201': 1, 'D01G13': 1, 'A01D91': 1, 'E05B61': 1, 'F28F2001': 1, 'B31C1': 1, 'B31C3': 1, 'A63B35': 1, 'C08J2345': 1, 'B62J2006': 1, 'A47B27': 1, 'F28C2001': 1, 'F25C2301': 1, 'G21H5': 1, 'A47B53': 1, 'E21F11': 1, 'E21D5': 1, 'E21C47': 1, 'B28C9': 1, 'F21L2001': 1, 'C08J2443': 1, 'B01D51': 1, 'E05B75': 1, 'B21K7': 1, 'F01B2009': 1, 'B65H21': 1, 'H05H15': 1, 'D06F2220': 1, 'E04H2009': 1, 'B01D7': 1, 'A01B13': 1, 'G04B25': 1, 'G10K5': 1, 'G04B21': 1, 'B21J7': 1, 'G02B2005': 1, 'B65B45': 1, 'B27B13': 1, 'H02N10': 1, 'A63B19': 1, 'H03C7': 1, 'A45D2026': 1, 'A62D2203': 1, 'C09D155': 1, 'C08F38': 1, 'E02F1': 1, 'H01I27': 1, 'H01I29': 1, 'A01D44': 1, 'G09F2027': 1, 'A47F2007': 1, 'B61L2201': 1, 'C07J3': 1, 'B61C15': 1, 'F21W2106': 1, 'D05B39': 1, 'B61C9': 1, 'E02D11': 1, 'C06C15': 1, 'C07D421': 1, 'C14C9': 1, 'F27B21': 1, 'B21C31': 1, 'G05D15': 1, 'C10B51': 1, 'C10B5': 1, 'F16C5': 1, 'B61B5': 1, 'B41F30': 1, 'F28F2220': 1, 'D06H1': 1, 'G03F3': 1, 'B65B2009': 1, 'G01H7': 1, 'B61G11': 1, 'B03B13': 1, 'C14C1': 1, 'B44D5': 1, 'A47B41': 1, 'F21V2008': 1, 'B08B2209': 1, 'B21C35': 1, 'H01H7': 1, 'B65C7': 1, 'B41J1': 1, 'H03H2218': 1, 'F02M2547': 1, 'A01D63': 1, 'B42C3': 1, 'G04F7': 1, 'B67C2011': 1, 'H03F21': 1, 'B29K2907': 1, 'C09B43': 1, 'B05D2505': 1, 'H03D5': 1, 'C09D119': 1, 'C10G61': 1, 'E04G2017': 1, 'F24B15': 1, 'B61K7': 1, 'D05B81': 1, 'C01G7': 1, 'B61G9': 1, 'A01K69': 1, 'B43M99': 1, 'B02C2015': 1, 'F04F13': 1, 'B42C5': 1, 'G06M11': 1, 'B64C33': 1, 'A01K77': 1, 'E04G2025': 1, 'B60F1': 1, 'A47J25': 1, 'C08F126': 1, 'A47H2023': 1, 'F23L11': 1, 'F04C2280': 1, 'F28B3': 1, 'A23C2240': 1, 'C07C329': 1, 'C22C22': 1, 'A47H2201': 1, 'C10B43': 1, 'C12C1': 1, 'A23N5': 1, 'D21G3': 1, 'C10J1': 1, 'C08B16': 1, 'B02C2201': 1, 'G03G11': 1, 'E05F2017': 1, 'B27K2200': 1, 'F21W2103': 1, 'F16H2015': 1, 'B23D33': 1, 'A47F2009': 1, 'H05H5': 1, 'B61H15': 1, 'B23D1': 1, 'H02K26': 1, 'B29D1': 1, 'B64B2201': 1, 'B61K13': 1, 'C08G2220': 1, 'C08L73': 1, 'A01B39': 1, 'E21C29': 1, 'B01D12': 1, 'B65D2301': 1, 'H01L2051': 1, 'B01D49': 1, 'B23Q2003': 1, 'G11C23': 1, 'B60B39': 1, 'A01K9': 1, 'B21B2027': 1, 'A43D119': 1, 'B29D5': 1, 'C10N2040': 1, 'B26F2210': 1, 'A61P1': 1, 'F23M99': 1, 'E04G2021': 1, 'A47J9': 1, 'F02B57': 1, 'F01B13': 1, 'B60W2900': 1, 'E05B43': 1, 'F28F11': 1, 'C13B10': 1, 'A61J2015': 1, 'B32B2601': 1, 'C25C5': 1, 'B29K2901': 1, 'A01D2046': 1, 'F02F5': 1, 'A47B65': 1, 'F01B29': 1, 'F01B31': 1, 'B23K23': 1, 'B05D2701': 1, 'C07D477': 1, 'A01L7': 1, 'F24B7': 1, 'F42B25': 1, 'D06F43': 1, 'H01J2203': 1, 'B62J33': 1, 'B27B25': 1, 'B25D2209': 1, 'D06P7': 1, 'F15B2011': 1, 'D03D51': 1, 'G09F5': 1, 'C12Y108': 1, 'A63B3': 1, 'A47F2003': 1, 'D06F1': 1, 'C01B9': 1, 'D06F79': 1, 'H01H53': 1, 'F23N2039': 1, 'B62J19': 1, 'B61F9': 1, 'A23Y2260': 1, 'E04G19': 1, 'A24F25': 1, 'B31B2221': 1, 'C08B33': 1, 'F02B5': 1, 'A63B2049': 1, 'B21B2263': 1, 'B63H7': 1, 'B01D2101': 1, 'G21D2003': 1, 'C09B26': 1, 'B66C5': 1, 'C12Y107': 1, 'F42C14': 1, 'F24H6': 1, 'F01B21': 1, 'F04D21': 1, 'C10M2221': 1, 'C09B63': 1, 'A61H2009': 1, 'B29K2821': 1, 'D21J3': 1, 'B43M7': 1, 'F04C9': 1, 'C08J2421': 1, 'B21J3': 1, 'D06F2214': 1, 'F16C2210': 1, 'B21K27': 1, 'F24V99': 1, 'B23F15': 1, 'F02M23': 1, 'B64D2037': 1, 'F16N2200': 1, 'B65F7': 1, 'B32B2433': 1, 'G02F2002': 1, 'C09J2407': 1, 'B41P2231': 1, 'F02B69': 1, 'C07C203': 1, 'G04C9': 1, 'B01F2001': 1, 'E01C2013': 1, 'D03C13': 1, 'D03D39': 1, 'A63J2005': 1, 'G03B41': 1, 'A63B2033': 1, 'H01S2302': 1, 'H01L47': 1, 'H04R13': 1, 'F01L25': 1, 'B23F9': 1, 'F25D2327': 1, 'G07B13': 1, 'G01N2027': 1, 'H02K31': 1, 'E02D2200': 1, 'E02D2600': 1, 'B63B2209': 1, 'G01P9': 1, 'B64G5': 1, 'B23Q41': 1, 'F16F6': 1, 'B42C13': 1, 'B05D2506': 1, 'C22C2001': 1, 'A41D17': 1, 'F25C2303': 1, 'B62M17': 1, 'A01D80': 1, 'A01F2025': 1, 'B66B31': 1, 'D05B87': 1, 'B68B1': 1, 'E02D15': 1, 'B21B2273': 1, 'F16D2037': 1, 'H01H2047': 1, 'B61D35': 1, 'B02C2023': 1, 'E01H8': 1, 'H01I23': 1, 'G03B1': 1, 'G03B2207': 1, 'F02B9': 1, 'D03D2700': 1, 'F16M9': 1, 'B62H2003': 1, 'G07B11': 1, 'B23C2230': 1, 'C07C46': 1, 'B29B2013': 1, 'E03F2201': 1, 'H01G17': 1, 'B61H1': 1, 'B41N7': 1, 'F16N9': 1, 'C10B33': 1, 'C08J2387': 1, 'H04M5': 1, 'B22C13': 1, 'G04F8': 1, 'B64D5': 1, 'A62B5': 1, 'F01B25': 1, 'H05C1': 1, 'A47J29': 1, 'H02N99': 1, 'C13B30': 1, 'B29K2627': 1, 'F28D11': 1, 'H03H2240': 1, 'A24F19': 1, 'F22G3': 1, 'F16D2051': 1, 'B63H2016': 1, 'C08L17': 1, 'B23Q2210': 1, 'B24D2203': 1, 'D01D13': 1, 'F16N15': 1, 'A23C7': 1, 'A23K3': 1, 'A01B51': 1, 'B64D2241': 1, 'B64C2220': 1, 'B44C7': 1, 'B64G9': 1, 'B21D21': 1, 'D03D19': 1, 'D21J7': 1, 'B42P2261': 1, 'D06B15': 1, 'B23B37': 1, 'C07D229': 1, 'B65G9': 1, 'H04L64': 1, 'C08F2216': 1, 'F02G2280': 1, 'B65D67': 1, 'F23L1': 1, 'F42B27': 1, 'B63B2043': 1, 'F02M3': 1, 'D01G19': 1, 'B31B37': 1, 'B29K2669': 1, 'E04H2005': 1, 'D04B37': 1, 'E04B2009': 1, 'C09B15': 1, 'F16L49': 1, 'C22C24': 1, 'G01N2600': 1, 'C23F15': 1, 'C22B47': 1, 'B63G7': 1, 'C09J195': 1, 'B23C2224': 1, 'C10B29': 1, 'B63G9': 1, 'F02M13': 1, 'D06B21': 1, 'C12Y504': 1, 'D06F67': 1, 'D06F93': 1, 'A44B6': 1, 'A42B7': 1, 'H03B9': 1, 'A61C2204': 1, 'C10M119': 1, 'E01C2019': 1, 'C09D185': 1, 'A61H2007': 1, 'B29L2016': 1, 'F03H99': 1, 'H04B25': 1, 'B32B2325': 1, 'F23L3': 1, 'C10M165': 1, 'C14B5': 1, 'E01C17': 1, 'F42C13': 1, 'D05B13': 1, 'C22C11': 1, 'G06T2007': 1, 'C07B33': 1, 'F02G2244': 1, 'C12Y118': 1, 'C08J2407': 1, 'B32B2413': 1, 'A47B2095': 1, 'F23B60': 1, 'F42C1': 1, 'G06G3': 1, 'B32B2475': 1, 'G04B39': 1, 'A62D5': 1, 'F25B19': 1, 'F04C5': 1, 'C23G3': 1, 'C09B45': 1, 'A61G2017': 1, 'B26B23': 1, 'F16B2005': 1, 'F28G3': 1, 'F28G7': 1, 'G04B23': 1, 'B65F2230': 1, 'B23G7': 1, 'H03H2': 1, 'B27D5': 1, 'B41N2210': 1, 'D05D2207': 1, 'G05G7': 1, 'C08G2120': 1, 'A62B27': 1, 'B64D3': 1, 'G08B26': 1, 'C08B35': 1, 'A01H15': 1, 'B61L19': 1, 'B02B1': 1, 'B31B7': 1, 'C05B13': 1, 'E04H2004': 1, 'B61C13': 1, 'C21B9': 1, 'C09F1': 1, 'A23C2220': 1, 'H01L12': 1, 'G03B2213': 1, 'A23P2020': 1, 'F16N27': 1, 'H04L2201': 1, 'C04B5': 1, 'B21C33': 1, 'D05B27': 1, 'G03C5': 1, 'A63H9': 1, 'C09J2491': 1, 'F23J11': 1, 'F21V37': 1, 'E01B11': 1, 'D05B15': 1, 'H04I63': 1, 'A46D9': 1, 'B06L11': 1, 'A63G33': 1, 'F22B15': 1, 'C10B3': 1, 'G01R5': 1, 'E05D9': 1, 'E05B69': 1, 'D01B1': 1, 'C09J113': 1, 'G05G25': 1, 'A47G11': 1, 'A63G3': 1, 'B31B41': 1, 'H03G2201': 1, 'A61J2017': 1, 'B42B2': 1, 'E03F11': 1, 'B65D2303': 1, 'C08G4': 1, 'H01H2021': 1, 'C12Y303': 1, 'C12Y404': 1, 'H03F7': 1, 'A24C1': 1, 'B42F17': 1, 'A45B5': 1, 'B67D99': 1, 'G11B3': 1, 'C07B31': 1, 'A47J2203': 1, 'B23D5': 1, 'B21C43': 1, 'C09J2429': 1, 'C23C6': 1, 'A47G2021': 1, 'F16B27': 1, 'H05B31': 1, 'C10B25': 1, 'H04L17': 1, 'B21B2203': 1, 'C10B23': 1, 'B61L17': 1, 'C08H99': 1, 'B21D33': 1, 'F41A31': 1, 'B61L2207': 1, 'F41A13': 1, 'C06C7': 1, 'D01G1': 1, 'D05B65': 1, 'F01B15': 1, 'A45B17': 1, 'A43D117': 1, 'C07C391': 1, 'B60S13': 1, 'A62B31': 1, 'H01H2029': 1, 'B65C2210': 1, 'C08C3': 1, 'B08B2240': 1, 'C08G2390': 1, 'F41B4': 1, 'C09J2481': 1, 'G06J1': 1, 'B22F8': 1, 'A61M2015': 1, 'H03K6': 1, 'B29C2053': 1, 'G05G13': 1, 'B29K2823': 1, 'F16C2237': 1, 'B04B2009': 1, 'B27B1': 1, 'C10B15': 1, 'B23C2235': 1, 'B22C23': 1, 'H01R41': 1, 'C22B25': 1, 'A47B2009': 1, 'C09J169': 1, 'B66C21': 1, 'C08F128': 1, 'D05B55': 1, 'G08B2001': 1, 'F02B45': 1, 'B05D2258': 1, 'F24H7': 1, 'B23G2240': 1, 'B44F5': 1, 'C04B32': 1, 'H05F1': 1, 'A63C2017': 1, 'F25B2315': 1, 'A01B3': 1, 'B43K27': 1, 'H01L63': 1, 'C06C5': 1, 'B66B17': 1, 'D04D11': 1, 'D04D7': 1, 'F16L45': 1, 'B41P2219': 1, 'F25D7': 1, 'C08J2311': 1, 'F23B50': 1, 'D05B93': 1, 'A43C3': 1, 'C21D3': 1, 'A61C2007': 1, 'F22D11': 1, 'A61P19': 1, 'C08F2230': 1, 'G11C21': 1, 'D06F71': 1, 'B43L23': 1, 'C12Y505': 1, 'A01D84': 1, 'B65H41': 1, 'A63G13': 1, 'E01B26': 1, 'H01H29': 1, 'B23H2300': 1, 'F41B6': 1, 'F02N9': 1, 'B21L9': 1, 'C22F3': 1, 'E01B2': 1, 'B65D2255': 1, 'H02P2007': 1, 'D06C29': 1, 'F16C31': 1, 'D06C11': 1, 'F16N37': 1, 'F28F2200': 1, 'F27B2009': 1, 'D03C3': 1, 'D06F89': 1, 'G04C21': 1, 'B42B9': 1, 'G03F17': 1, 'F16C2362': 1, 'A01F21': 1, 'D06C19': 1, 'G09B27': 1, 'F24J2003': 1, 'C09D121': 1, 'A01K81': 1, 'C06B29': 1, 'B62M2025': 1, 'B63B41': 1, 'H01F2021': 1})\n"
     ]
    }
   ],
   "source": [
    "DF2=remove_rare_codes(DF, 20, 0.05)     "
   ]
  },
  {
   "cell_type": "markdown",
   "id": "1e722af1",
   "metadata": {},
   "source": [
    "### Combine the labels of the same patent which was previously exploded and wraped "
   ]
  },
  {
   "cell_type": "code",
   "execution_count": 20,
   "id": "ea099815",
   "metadata": {},
   "outputs": [
    {
     "data": {
      "text/plain": [
       "(97063, 8)"
      ]
     },
     "execution_count": 20,
     "metadata": {},
     "output_type": "execute_result"
    }
   ],
   "source": [
    "# It doesn't matter whether we keep the first or last value for each field, since all exploded rows differ only by the label value\n",
    "DF2_combined=DF2.groupby('patent_number').agg({'ucid': 'last', 'date':'last', 'labels': lambda x: ','.join(map(str, x)),\\\n",
    "                                      'abstract_lang_en_exist':'last', 'description_lang_en_exist': 'last', \\\n",
    "                                        'claims_lang_en_exist':'last', 'patent_number':'last', 'patent_office':'last'})\n",
    "DF2_combined.shape"
   ]
  },
  {
   "cell_type": "code",
   "execution_count": 21,
   "id": "a7aa3a57",
   "metadata": {},
   "outputs": [
    {
     "name": "stdout",
     "output_type": "stream",
     "text": [
      "Number of labels: 7984 and number of combined patents: 97063\n"
     ]
    }
   ],
   "source": [
    "label_counts=Counter(DF2['labels'])\n",
    "print(\"Number of labels:\",len(label_counts), \"and number of combined patents:\", DF2_combined.shape[0])"
   ]
  },
  {
   "cell_type": "code",
   "execution_count": 22,
   "id": "ad1852af",
   "metadata": {},
   "outputs": [],
   "source": [
    "DF2_combined.to_csv('/PATH/WPI-Dataset/EP_US_WO_all_cpc_combined.csv', index=False)"
   ]
  },
  {
   "cell_type": "code",
   "execution_count": 22,
   "id": "7a1be7ed",
   "metadata": {},
   "outputs": [],
   "source": [
    "#DF2_combined = pd.read_csv('F:/PhD/Test collections/WPI-Dataset/EP_US_WO_all_ipcr_thres20_portion5_take1strategy_combined.csv', header=0)\n",
    "#DF2_combined"
   ]
  },
  {
   "cell_type": "markdown",
   "id": "Y8_foMP-A-dc",
   "metadata": {
    "id": "Y8_foMP-A-dc"
   },
   "source": [
    "# Analysis of labels"
   ]
  },
  {
   "cell_type": "markdown",
   "id": "KGphGlN8VHkB",
   "metadata": {
    "id": "KGphGlN8VHkB"
   },
   "source": [
    "### Find the group labels and their frequencies"
   ]
  },
  {
   "cell_type": "code",
   "execution_count": 36,
   "id": "_KZW58RotGYi",
   "metadata": {
    "colab": {
     "base_uri": "https://localhost:8080/",
     "height": 442
    },
    "executionInfo": {
     "elapsed": 119989,
     "status": "ok",
     "timestamp": 1738876062462,
     "user": {
      "displayName": "Eleni Kamateri",
      "userId": "17468520200409985303"
     },
     "user_tz": -120
    },
    "id": "_KZW58RotGYi",
    "outputId": "bf80e312-f1c0-40b7-eb59-fbe66c99a59f"
   },
   "outputs": [
    {
     "name": "stdout",
     "output_type": "stream",
     "text": [
      "(4687, 2) 33582\n"
     ]
    },
    {
     "data": {
      "text/html": [
       "<div>\n",
       "<style scoped>\n",
       "    .dataframe tbody tr th:only-of-type {\n",
       "        vertical-align: middle;\n",
       "    }\n",
       "\n",
       "    .dataframe tbody tr th {\n",
       "        vertical-align: top;\n",
       "    }\n",
       "\n",
       "    .dataframe thead th {\n",
       "        text-align: right;\n",
       "    }\n",
       "</style>\n",
       "<table border=\"1\" class=\"dataframe\">\n",
       "  <thead>\n",
       "    <tr style=\"text-align: right;\">\n",
       "      <th></th>\n",
       "      <th>code</th>\n",
       "      <th>freq</th>\n",
       "    </tr>\n",
       "  </thead>\n",
       "  <tbody>\n",
       "    <tr>\n",
       "      <th>4687</th>\n",
       "      <td>B32B2603</td>\n",
       "      <td>1</td>\n",
       "    </tr>\n",
       "    <tr>\n",
       "      <th>3473</th>\n",
       "      <td>F02D17</td>\n",
       "      <td>1</td>\n",
       "    </tr>\n",
       "    <tr>\n",
       "      <th>3475</th>\n",
       "      <td>C07C15</td>\n",
       "      <td>1</td>\n",
       "    </tr>\n",
       "    <tr>\n",
       "      <th>3476</th>\n",
       "      <td>B64D47</td>\n",
       "      <td>1</td>\n",
       "    </tr>\n",
       "    <tr>\n",
       "      <th>1430</th>\n",
       "      <td>A44C5</td>\n",
       "      <td>1</td>\n",
       "    </tr>\n",
       "    <tr>\n",
       "      <th>...</th>\n",
       "      <td>...</td>\n",
       "      <td>...</td>\n",
       "    </tr>\n",
       "    <tr>\n",
       "      <th>65</th>\n",
       "      <td>H04W4</td>\n",
       "      <td>217</td>\n",
       "    </tr>\n",
       "    <tr>\n",
       "      <th>26</th>\n",
       "      <td>H01L21</td>\n",
       "      <td>224</td>\n",
       "    </tr>\n",
       "    <tr>\n",
       "      <th>167</th>\n",
       "      <td>H04L67</td>\n",
       "      <td>267</td>\n",
       "    </tr>\n",
       "    <tr>\n",
       "      <th>38</th>\n",
       "      <td>G06F3</td>\n",
       "      <td>406</td>\n",
       "    </tr>\n",
       "    <tr>\n",
       "      <th>23</th>\n",
       "      <td>G06F17</td>\n",
       "      <td>417</td>\n",
       "    </tr>\n",
       "  </tbody>\n",
       "</table>\n",
       "<p>4687 rows × 2 columns</p>\n",
       "</div>"
      ],
      "text/plain": [
       "          code  freq\n",
       "4687  B32B2603     1\n",
       "3473    F02D17     1\n",
       "3475    C07C15     1\n",
       "3476    B64D47     1\n",
       "1430     A44C5     1\n",
       "...        ...   ...\n",
       "65       H04W4   217\n",
       "26      H01L21   224\n",
       "167     H04L67   267\n",
       "38       G06F3   406\n",
       "23      G06F17   417\n",
       "\n",
       "[4687 rows x 2 columns]"
      ]
     },
     "execution_count": 36,
     "metadata": {},
     "output_type": "execute_result"
    }
   ],
   "source": [
    "# Split the 'labels' column by commas\n",
    "DF_2=df_test.copy()\n",
    "\n",
    "DF_2['labels'] = DF_2['labels'].str.split(',')\n",
    "\n",
    "# Extract the first part of each label after splitting by '/'\n",
    "DF_2['labels'] = DF_2['labels'].apply(lambda x: [item.split('/')[0] for item in x])\n",
    "DF_2['labels'] = DF_2['labels'].apply(lambda x: [item.replace(\" \", \"\") for item in x])\n",
    "\n",
    "expanded_DF=DF_2['labels'].apply(pd.Series)\n",
    "\n",
    "# Transform 'na' values of the expanded table into empty content cells\n",
    "expanded_DF=expanded_DF.fillna(\"\")\n",
    "\n",
    "# Infer the group label (delete the last I/N character and  empty spaces from the beginning/end - if any)\n",
    "nums=expanded_DF.shape[1]\n",
    "for num in range (nums):\n",
    "    expanded_DF[num]=expanded_DF[num].str.strip()\n",
    "\n",
    "# Create a new table with group labels and their frequencies\n",
    "total_counter = Counter()\n",
    "\n",
    "for num in range(nums):\n",
    "    exec(f'counter_{num} = Counter(expanded_DF[num])')\n",
    "    exec(f'total_counter=total_counter+counter_{num}')\n",
    "\n",
    "code_, freq_ = [], []\n",
    "\n",
    "for code, freq in total_counter.items():\n",
    "    code_.append(code)\n",
    "    freq_.append(freq)\n",
    "\n",
    "DF_codes = pd.DataFrame()\n",
    "DF_codes['code'] = code_\n",
    "DF_codes['freq'] = freq_\n",
    "\n",
    "# Delete empty rows\n",
    "DF_codes=DF_codes[DF_codes['code']!='']\n",
    "\n",
    "# Sort based on freq\n",
    "DF_codes=DF_codes.sort_values(by = 'freq', ascending=True)\n",
    "\n",
    "print(DF_codes.shape, DF_codes['freq'].sum())\n",
    "DF_codes"
   ]
  },
  {
   "cell_type": "markdown",
   "id": "4ElGCgVGfqdD",
   "metadata": {
    "id": "4ElGCgVGfqdD"
   },
   "source": [
    "### Find the subclass labels and their frequencies"
   ]
  },
  {
   "cell_type": "code",
   "execution_count": 37,
   "id": "1f94e940",
   "metadata": {
    "colab": {
     "base_uri": "https://localhost:8080/",
     "height": 442
    },
    "executionInfo": {
     "elapsed": 1901,
     "status": "ok",
     "timestamp": 1738876064355,
     "user": {
      "displayName": "Eleni Kamateri",
      "userId": "17468520200409985303"
     },
     "user_tz": -120
    },
    "id": "1f94e940",
    "outputId": "86ba961b-037c-4a7f-9098-72e4e1ef33e4"
   },
   "outputs": [
    {
     "name": "stdout",
     "output_type": "stream",
     "text": [
      "(561, 4) 33582\n"
     ]
    },
    {
     "data": {
      "text/html": [
       "<div>\n",
       "<style scoped>\n",
       "    .dataframe tbody tr th:only-of-type {\n",
       "        vertical-align: middle;\n",
       "    }\n",
       "\n",
       "    .dataframe tbody tr th {\n",
       "        vertical-align: top;\n",
       "    }\n",
       "\n",
       "    .dataframe thead th {\n",
       "        text-align: right;\n",
       "    }\n",
       "</style>\n",
       "<table border=\"1\" class=\"dataframe\">\n",
       "  <thead>\n",
       "    <tr style=\"text-align: right;\">\n",
       "      <th></th>\n",
       "      <th>code</th>\n",
       "      <th>freq</th>\n",
       "      <th>code_subclass</th>\n",
       "      <th>freq_subclass</th>\n",
       "    </tr>\n",
       "  </thead>\n",
       "  <tbody>\n",
       "    <tr>\n",
       "      <th>0</th>\n",
       "      <td>A63D5</td>\n",
       "      <td>1</td>\n",
       "      <td>A63D</td>\n",
       "      <td>1</td>\n",
       "    </tr>\n",
       "    <tr>\n",
       "      <th>1</th>\n",
       "      <td>B23F17</td>\n",
       "      <td>1</td>\n",
       "      <td>B23F</td>\n",
       "      <td>1</td>\n",
       "    </tr>\n",
       "    <tr>\n",
       "      <th>2</th>\n",
       "      <td>F24T10</td>\n",
       "      <td>1</td>\n",
       "      <td>F24T</td>\n",
       "      <td>1</td>\n",
       "    </tr>\n",
       "    <tr>\n",
       "      <th>3</th>\n",
       "      <td>D01B1</td>\n",
       "      <td>1</td>\n",
       "      <td>D01B</td>\n",
       "      <td>1</td>\n",
       "    </tr>\n",
       "    <tr>\n",
       "      <th>4</th>\n",
       "      <td>C08C19</td>\n",
       "      <td>1</td>\n",
       "      <td>C08C</td>\n",
       "      <td>1</td>\n",
       "    </tr>\n",
       "    <tr>\n",
       "      <th>...</th>\n",
       "      <td>...</td>\n",
       "      <td>...</td>\n",
       "      <td>...</td>\n",
       "      <td>...</td>\n",
       "    </tr>\n",
       "    <tr>\n",
       "      <th>556</th>\n",
       "      <td>A61K2121</td>\n",
       "      <td>1</td>\n",
       "      <td>A61K</td>\n",
       "      <td>990</td>\n",
       "    </tr>\n",
       "    <tr>\n",
       "      <th>557</th>\n",
       "      <td>H04W80</td>\n",
       "      <td>9</td>\n",
       "      <td>H04W</td>\n",
       "      <td>1307</td>\n",
       "    </tr>\n",
       "    <tr>\n",
       "      <th>558</th>\n",
       "      <td>H01L2031</td>\n",
       "      <td>1</td>\n",
       "      <td>H01L</td>\n",
       "      <td>1471</td>\n",
       "    </tr>\n",
       "    <tr>\n",
       "      <th>559</th>\n",
       "      <td>H04L2007</td>\n",
       "      <td>1</td>\n",
       "      <td>H04L</td>\n",
       "      <td>1474</td>\n",
       "    </tr>\n",
       "    <tr>\n",
       "      <th>560</th>\n",
       "      <td>G06F2101</td>\n",
       "      <td>1</td>\n",
       "      <td>G06F</td>\n",
       "      <td>2014</td>\n",
       "    </tr>\n",
       "  </tbody>\n",
       "</table>\n",
       "<p>561 rows × 4 columns</p>\n",
       "</div>"
      ],
      "text/plain": [
       "         code  freq code_subclass  freq_subclass\n",
       "0       A63D5     1          A63D              1\n",
       "1      B23F17     1          B23F              1\n",
       "2      F24T10     1          F24T              1\n",
       "3       D01B1     1          D01B              1\n",
       "4      C08C19     1          C08C              1\n",
       "..        ...   ...           ...            ...\n",
       "556  A61K2121     1          A61K            990\n",
       "557    H04W80     9          H04W           1307\n",
       "558  H01L2031     1          H01L           1471\n",
       "559  H04L2007     1          H04L           1474\n",
       "560  G06F2101     1          G06F           2014\n",
       "\n",
       "[561 rows x 4 columns]"
      ]
     },
     "execution_count": 37,
     "metadata": {},
     "output_type": "execute_result"
    }
   ],
   "source": [
    "DF_subclass=DF_codes.copy()\n",
    "DF_subclass['code_subclass']= None\n",
    "DF_subclass=DF_subclass.reset_index(drop=True)\n",
    "for i in range (DF_subclass['code'].shape[0]):\n",
    "    DF_subclass.loc[i, 'code_subclass']=DF_subclass['code'][i][0:4]\n",
    "DF_subclass['freq_subclass'] = DF_subclass.groupby('code_subclass')['freq'].transform('sum')\n",
    "DF_subclass = DF_subclass.drop_duplicates(subset = [\"code_subclass\"])\n",
    "DF_subclass=DF_subclass.sort_values(by = 'freq_subclass', ascending=True)\n",
    "DF_subclass=DF_subclass.reset_index(drop=True)\n",
    "\n",
    "print(DF_subclass.shape, DF_subclass['freq_subclass'].sum())\n",
    "DF_subclass"
   ]
  },
  {
   "cell_type": "markdown",
   "id": "dc24e2a9",
   "metadata": {},
   "source": [
    "### Plot the distribution of patents per section label"
   ]
  },
  {
   "cell_type": "code",
   "execution_count": 25,
   "id": "4ca1337e",
   "metadata": {},
   "outputs": [
    {
     "name": "stderr",
     "output_type": "stream",
     "text": [
      "No handles with labels found to put in legend.\n"
     ]
    },
    {
     "name": "stdout",
     "output_type": "stream",
     "text": [
      "(8, 6) 337846\n"
     ]
    },
    {
     "data": {
      "image/png": "[encoded data removed]",
      "text/plain": [
       "<Figure size 360x360 with 1 Axes>"
      ]
     },
     "metadata": {
      "needs_background": "light"
     },
     "output_type": "display_data"
    }
   ],
   "source": [
    "# Prepare the plot: labels_section vs number_patents\n",
    "DF_plot1_c=DF_subclass.copy()\n",
    "DF_plot1_c['code_section']= None\n",
    "DF_plot1_c=DF_plot1_c.reset_index(drop=True)\n",
    "for i in range (DF_plot1_c['code'].shape[0]):\n",
    "    DF_plot1_c.loc[i, 'code_section']=DF_plot1_c['code'][i][0:1]\n",
    "DF_plot1_c['freq_section'] = DF_plot1_c.groupby('code_section')['freq_subclass'].transform('sum')\n",
    "DF_plot1_c = DF_plot1_c.drop_duplicates(subset = [\"code_section\"])\n",
    "DF_plot1_c=DF_plot1_c.sort_values(by = 'code_section', ascending=True)\n",
    "DF_plot1_c=DF_plot1_c.reset_index(drop=True)\n",
    "\n",
    "print(DF_plot1_c.shape, DF_plot1_c['freq_section'].sum())\n",
    "\n",
    "x = DF_plot1_c['code_section']\n",
    "y = DF_plot1_c['freq_section']\n",
    "\n",
    "fig, ax = plt.subplots(figsize=(5,5))         # Sample figsize in inches\n",
    "\n",
    "plt.bar(x,y)#,label=\"\")\n",
    "\n",
    "plt.xlabel(\"section label\")\n",
    "plt.ylabel(\"number of patents\")\n",
    "plt.title(\"\")\n",
    "plt.legend()\n",
    "plt.show()"
   ]
  },
  {
   "cell_type": "code",
   "execution_count": 26,
   "id": "49bdbddd",
   "metadata": {},
   "outputs": [
    {
     "name": "stdout",
     "output_type": "stream",
     "text": [
      "Counter({'US': 73109, 'EP': 12197, 'WO': 11757})\n"
     ]
    },
    {
     "data": {
      "image/png": "[encoded data removed]",
      "text/plain": [
       "<Figure size 432x288 with 1 Axes>"
      ]
     },
     "metadata": {
      "needs_background": "light"
     },
     "output_type": "display_data"
    }
   ],
   "source": [
    "print(Counter(DF2_combined['patent_office']))\n",
    "plot1 = Counter(DF2_combined['patent_office'])\n",
    "plt.bar(plot1.keys(), plot1.values())\n",
    "plt.show()"
   ]
  },
  {
   "cell_type": "code",
   "execution_count": 27,
   "id": "5729a1d5",
   "metadata": {},
   "outputs": [
    {
     "data": {
      "image/png": "[encoded data removed]",
      "text/plain": [
       "<Figure size 1008x432 with 1 Axes>"
      ]
     },
     "metadata": {
      "needs_background": "light"
     },
     "output_type": "display_data"
    }
   ],
   "source": [
    "DF2_combined['date']=DF2_combined['date'].astype(str)\n",
    "\n",
    "DF2_combined['month'] = DF2_combined['date'].str[:6]\n",
    "plot2 = Counter(DF2_combined['month'])\n",
    "\n",
    "# Sort by date\n",
    "plot2_sorted = dict(sorted(plot2.items()))\n",
    "\n",
    "# Convert keys to 'YYYY-MM' format\n",
    "labels = [f\"{x[:4]}-{x[4:]}\" for x in plot2_sorted.keys()]\n",
    "values = list(plot2_sorted.values())\n",
    "\n",
    "# Plot\n",
    "plt.figure(figsize=(14, 6))\n",
    "plt.bar(labels, values, color='skyblue')\n",
    "plt.xticks(rotation=45, ha='right')\n",
    "plt.xlabel('Date (YYYY-MM)')\n",
    "plt.ylabel('Number of Entries')\n",
    "plt.title('Distribution of Entries Over Time')\n",
    "plt.tight_layout()\n",
    "plt.show()"
   ]
  },
  {
   "cell_type": "code",
   "execution_count": 29,
   "id": "f68ba065",
   "metadata": {},
   "outputs": [
    {
     "name": "stdout",
     "output_type": "stream",
     "text": [
      "(77199, 9) (10013, 9) (9851, 9)\n"
     ]
    }
   ],
   "source": [
    "from skmultilearn.model_selection import iterative_train_test_split\n",
    "mlb = MultiLabelBinarizer()\n",
    "\n",
    "def balanced_split(df, mlb, test_size=0.1):\n",
    "    ind = np.expand_dims(np.arange(len(df)), axis=1)\n",
    "    mlb.fit_transform(df[\"labels\"])\n",
    "    labels = mlb.transform(df[\"labels\"])\n",
    "    ind_train, _, ind_test, _ = iterative_train_test_split(\n",
    "        ind, labels, test_size\n",
    "    )\n",
    "    return df.iloc[ind_train[:, 0]], df.iloc[ind_test[:, 0]]\n",
    "\n",
    "\n",
    "df_train, df_valid_test = balanced_split(DF2_combined, mlb, test_size=0.2)\n",
    "df_valid, df_test = balanced_split(df_valid_test, mlb, test_size=0.5)\n",
    "print(df_train.shape, df_valid.shape, df_test.shape)"
   ]
  },
  {
   "cell_type": "code",
   "execution_count": 32,
   "id": "1c2956f4",
   "metadata": {},
   "outputs": [
    {
     "name": "stdout",
     "output_type": "stream",
     "text": [
      "Train subclasses: 619 Train groups: 7729\n"
     ]
    }
   ],
   "source": [
    "DF_subclass_list_train_s=DF_subclass['code_subclass'].tolist()\n",
    "DF_subclass_list_train_g=DF_codes['code'].tolist()\n",
    "\n",
    "print(\"Train subclasses:\", len(DF_subclass_list_train_s), \"Train groups:\", len(DF_subclass_list_train_g))"
   ]
  },
  {
   "cell_type": "code",
   "execution_count": 35,
   "id": "9318458e",
   "metadata": {},
   "outputs": [
    {
     "name": "stdout",
     "output_type": "stream",
     "text": [
      "Valid subclasses: 562 Valid groups: 4752\n"
     ]
    }
   ],
   "source": [
    "DF_subclass_list_valid_s=DF_subclass['code_subclass'].tolist()\n",
    "DF_subclass_list_valid_g=DF_codes['code'].tolist()\n",
    "\n",
    "print(\"Valid subclasses:\", len(DF_subclass_list_valid_s), \"Valid groups:\", len(DF_subclass_list_valid_g))"
   ]
  },
  {
   "cell_type": "code",
   "execution_count": 38,
   "id": "cb0f60aa",
   "metadata": {},
   "outputs": [
    {
     "name": "stdout",
     "output_type": "stream",
     "text": [
      "Test subclasses: 561 Test groups: 4687\n"
     ]
    }
   ],
   "source": [
    "DF_subclass_list_test_s=DF_subclass['code_subclass'].tolist()\n",
    "DF_subclass_list_test_g=DF_codes['code'].tolist()\n",
    "\n",
    "print(\"Test subclasses:\", len(DF_subclass_list_test_s), \"Test groups:\", len(DF_subclass_list_test_g))"
   ]
  },
  {
   "cell_type": "code",
   "execution_count": 28,
   "id": "ceb67838",
   "metadata": {},
   "outputs": [
    {
     "name": "stdout",
     "output_type": "stream",
     "text": [
      "All subclasses: 621 All groups: 7984\n"
     ]
    }
   ],
   "source": [
    "DF_subclass_list_all_s=DF_subclass['code_subclass'].tolist()\n",
    "DF_subclass_list_all_g=DF_codes['code'].tolist()\n",
    "\n",
    "print(\"All subclasses:\", len(DF_subclass_list_all_s), \"All groups:\", len(DF_subclass_list_all_g))"
   ]
  },
  {
   "cell_type": "markdown",
   "id": "8763c6c4",
   "metadata": {},
   "source": [
    "### Differences"
   ]
  },
  {
   "cell_type": "markdown",
   "id": "4431e2fb",
   "metadata": {},
   "source": [
    "#### Group"
   ]
  },
  {
   "cell_type": "code",
   "execution_count": 39,
   "id": "d4f895dd",
   "metadata": {},
   "outputs": [
    {
     "name": "stdout",
     "output_type": "stream",
     "text": [
      "In valid but not in train set: 143\n",
      "In train but not in valid set: 3120\n"
     ]
    }
   ],
   "source": [
    "diff1 = list(set(DF_subclass_list_valid_g) - set(DF_subclass_list_train_g))\n",
    "print(\"In valid but not in train set:\", len(diff1))\n",
    "diff2 = list(set(DF_subclass_list_train_g) - set(DF_subclass_list_valid_g))\n",
    "print(\"In train but not in valid set:\", len(diff2))"
   ]
  },
  {
   "cell_type": "code",
   "execution_count": 40,
   "id": "7b39901b",
   "metadata": {},
   "outputs": [
    {
     "name": "stdout",
     "output_type": "stream",
     "text": [
      "In test but not in train set: 138\n",
      "In train but not in test set: 3180\n"
     ]
    }
   ],
   "source": [
    "diff1 = list(set(DF_subclass_list_test_g) - set(DF_subclass_list_train_g))\n",
    "print(\"In test but not in train set:\", len(diff1))\n",
    "diff2 = list(set(DF_subclass_list_train_g) - set(DF_subclass_list_test_g))\n",
    "print(\"In train but not in test set:\", len(diff2))"
   ]
  },
  {
   "cell_type": "markdown",
   "id": "864afc54",
   "metadata": {},
   "source": [
    "#### Subclass"
   ]
  },
  {
   "cell_type": "code",
   "execution_count": 41,
   "id": "1679ad64",
   "metadata": {},
   "outputs": [
    {
     "name": "stdout",
     "output_type": "stream",
     "text": [
      "In valid but not in train set: 1\n",
      "In train but not in valid set: 58\n"
     ]
    }
   ],
   "source": [
    "diff1 = list(set(DF_subclass_list_valid_s) - set(DF_subclass_list_train_s))\n",
    "print(\"In valid but not in train set:\", len(diff1))\n",
    "diff2 = list(set(DF_subclass_list_train_s) - set(DF_subclass_list_valid_s))\n",
    "print(\"In train but not in valid set:\", len(diff2))"
   ]
  },
  {
   "cell_type": "code",
   "execution_count": 42,
   "id": "36462eb8",
   "metadata": {},
   "outputs": [
    {
     "name": "stdout",
     "output_type": "stream",
     "text": [
      "In test but not in train set: 1\n",
      "In train but not in test set: 59\n"
     ]
    }
   ],
   "source": [
    "diff1 = list(set(DF_subclass_list_test_s) - set(DF_subclass_list_train_s))\n",
    "print(\"In test but not in train set:\", len(diff1))\n",
    "diff2 = list(set(DF_subclass_list_train_s) - set(DF_subclass_list_test_s))\n",
    "print(\"In train but not in test set:\", len(diff2))"
   ]
  },
  {
   "cell_type": "code",
   "execution_count": 43,
   "id": "26c8cf58",
   "metadata": {},
   "outputs": [],
   "source": [
    "df_train.to_csv('/PATH/WPI-Dataset/EP_US_WO_all_cpc_train.csv', index=False)\n",
    "df_valid.to_csv('/PATH/WPI-Dataset/EP_US_WO_all_cpc_valid.csv', index=False)\n",
    "df_test.to_csv('/PATH/WPI-Dataset/EP_US_WO_all_cpc_test.csv', index=False)"
   ]
  },
  {
   "cell_type": "code",
   "execution_count": null,
   "id": "1b56c1dd",
   "metadata": {},
   "outputs": [],
   "source": []
  }
 ],
 "metadata": {
  "colab": {
   "provenance": [
    {
     "file_id": "1zGbAMn-XSm6d8IebnDcsFzs0Tzayw7Ea",
     "timestamp": 1738226091508
    },
    {
     "file_id": "1osBOU0-CVQo6a77vQTFPjv_O7gDdgh_-",
     "timestamp": 1737980282687
    },
    {
     "file_id": "1mr4EiAzpelueg6H1MNvENO3257L_4qlb",
     "timestamp": 1737933478756
    }
   ]
  },
  "kernelspec": {
   "display_name": "Python 3",
   "language": "python",
   "name": "python3"
  },
  "language_info": {
   "codemirror_mode": {
    "name": "ipython",
    "version": 3
   },
   "file_extension": ".py",
   "mimetype": "text/x-python",
   "name": "python",
   "nbconvert_exporter": "python",
   "pygments_lexer": "ipython3",
   "version": "3.6.13"
  }
 },
 "nbformat": 4,
 "nbformat_minor": 5
}
