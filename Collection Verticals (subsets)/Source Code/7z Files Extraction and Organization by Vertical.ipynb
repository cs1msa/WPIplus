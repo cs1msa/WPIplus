{
 "cells": [
  {
   "cell_type": "markdown",
   "id": "6e11efe6",
   "metadata": {},
   "source": [
    "*Licensed under the MIT License. See LICENSE-CODE in the repository root for details.*\n",
    "\n",
    "*Copyright (c) 2025 Eleni Kamateri*\n",
    "\n",
    "### Extracting 7z Files into Seperate Folders\n",
    "\n",
    "This code extracts 7z files from the origin path into separate folders (EP, WO, US, CN, JP and KR) within the destination folder"
   ]
  },
  {
   "cell_type": "markdown",
   "id": "a88e2848",
   "metadata": {},
   "source": [
    "### Install the necessary libraries before running the script"
   ]
  },
  {
   "cell_type": "code",
   "execution_count": null,
   "id": "08333711",
   "metadata": {},
   "outputs": [],
   "source": [
    "#!pip install pyunpack \n",
    "#!pip install patool "
   ]
  },
  {
   "cell_type": "markdown",
   "id": "b2086956",
   "metadata": {},
   "source": [
    "### Import all required libraries for the script"
   ]
  },
  {
   "cell_type": "code",
   "execution_count": 2,
   "id": "e84a4a33",
   "metadata": {},
   "outputs": [],
   "source": [
    "from pyunpack import Archive\n",
    "import numpy as np\n",
    "import pandas as pd\n",
    "import os\n",
    "from bs4 import BeautifulSoup"
   ]
  },
  {
   "cell_type": "markdown",
   "id": "5ea8fbe4",
   "metadata": {},
   "source": [
    "### Set the required parameters for the script"
   ]
  },
  {
   "cell_type": "code",
   "execution_count": 3,
   "id": "22baab87",
   "metadata": {},
   "outputs": [],
   "source": [
    "# Set the path of the origin folder containg the 7z files to be extracted\n",
    "wpi_origin_path=\"/YOUR_PATH/WPI-Dataset/7z\" \n",
    "\n",
    "# Set the path of the destination folder\n",
    "wpi_destination_path = \"/YOUR_PATH/WPI-Dataset\""
   ]
  },
  {
   "cell_type": "markdown",
   "id": "c1cd2a50",
   "metadata": {},
   "source": [
    "### Execute the extraction process"
   ]
  },
  {
   "cell_type": "code",
   "execution_count": 4,
   "id": "070adc2f",
   "metadata": {},
   "outputs": [
    {
     "name": "stdout",
     "output_type": "stream",
     "text": [
      "CN20140101.7z\n",
      "EP20140101.7z\n",
      "EP20140108.7z\n",
      "EP20140115.7z\n",
      "JP20140109.7z\n",
      "KR20140106.7z\n"
     ]
    }
   ],
   "source": [
    "for folder_7z in os.listdir(wpi_origin_path): #CC    \n",
    "    print(folder_7z)\n",
    "    Archive(wpi_origin_path+\"/\"+folder_7z).extractall(wpi_destination_path)"
   ]
  },
  {
   "cell_type": "code",
   "execution_count": null,
   "id": "689c6de6",
   "metadata": {},
   "outputs": [],
   "source": []
  }
 ],
 "metadata": {
  "kernelspec": {
   "display_name": "Python 3",
   "language": "python",
   "name": "python3"
  },
  "language_info": {
   "codemirror_mode": {
    "name": "ipython",
    "version": 3
   },
   "file_extension": ".py",
   "mimetype": "text/x-python",
   "name": "python",
   "nbconvert_exporter": "python",
   "pygments_lexer": "ipython3",
   "version": "3.6.13"
  }
 },
 "nbformat": 4,
 "nbformat_minor": 5
}
