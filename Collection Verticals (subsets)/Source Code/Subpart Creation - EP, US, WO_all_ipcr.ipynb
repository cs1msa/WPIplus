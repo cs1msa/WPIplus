{
 "cells": [
  {
   "cell_type": "markdown",
   "id": "hguRr7BD5F3q",
   "metadata": {
    "id": "hguRr7BD5F3q"
   },
   "source": [
    "### Import required libraries"
   ]
  },
  {
   "cell_type": "code",
   "execution_count": 4,
   "id": "Ab8Fy261ZeM9",
   "metadata": {
    "id": "Ab8Fy261ZeM9"
   },
   "outputs": [],
   "source": [
    "import pandas as pd\n",
    "import numpy as np\n",
    "from collections import Counter\n",
    "import matplotlib.pyplot as plt\n",
    "from sklearn.utils import shuffle\n",
    "from sklearn.preprocessing import MultiLabelBinarizer"
   ]
  },
  {
   "cell_type": "markdown",
   "id": "652a3e7d",
   "metadata": {},
   "source": [
    "### Set required parameters"
   ]
  },
  {
   "cell_type": "code",
   "execution_count": 5,
   "id": "863e56e7",
   "metadata": {},
   "outputs": [],
   "source": [
    "csv_file_path_EP='/PATH/WPI-Dataset/EP_csv_file_for_wpi_analysis.csv'\n",
    "csv_file_path_US='/PATH/WPI-Dataset/US_csv_file_for_wpi_analysis.csv'\n",
    "csv_file_path_WO='/PATH/WPI-Dataset/WO_csv_file_for_wpi_analysis.csv'\n",
    "sep=0 #0:semicolon (;), 1: comma (,)\n",
    "classification_selection=1 #1: ipcr, 2:cpc"
   ]
  },
  {
   "cell_type": "markdown",
   "id": "jlSog7u95S6P",
   "metadata": {
    "id": "jlSog7u95S6P"
   },
   "source": [
    "### Import CSV files for EP, US, WO and concat them\n",
    "\n",
    "Each CSV file contains the XML file name, UCID, date, and classification labels for each patent, along with boolean indicators (1 or 0) specifying whether the patent includes an abstract, description, or claims section."
   ]
  },
  {
   "cell_type": "code",
   "execution_count": 6,
   "id": "266af9c0",
   "metadata": {
    "colab": {
     "base_uri": "https://localhost:8080/",
     "height": 206
    },
    "executionInfo": {
     "elapsed": 2615,
     "status": "ok",
     "timestamp": 1738875912146,
     "user": {
      "displayName": "Eleni Kamateri",
      "userId": "17468520200409985303"
     },
     "user_tz": -120
    },
    "id": "266af9c0",
    "outputId": "1a0de3fe-c730-4c5b-8b6e-494422642c08"
   },
   "outputs": [
    {
     "name": "stdout",
     "output_type": "stream",
     "text": [
      "Patents from EP: 552439\n",
      "Patents from US: 1397703\n",
      "Patents from WO: 462789\n",
      "Patents from EP, US and WO are 2412931\n"
     ]
    }
   ],
   "source": [
    "if sep==0:\n",
    "    DF1 = pd.read_csv(csv_file_path_EP, header=0, delimiter=\";\") #, nrows=1000)\n",
    "    DF2 = pd.read_csv(csv_file_path_US, header=0, delimiter=\";\") #, nrows=1000)\n",
    "    DF3 = pd.read_csv(csv_file_path_WO, header=0, delimiter=\";\") #, nrows=1000)\n",
    "elif sep==1:\n",
    "    DF1 = pd.read_csv(csv_file_path_EP, header=0) #, nrows=1000)\n",
    "    DF2 = pd.read_csv(csv_file_path_US, header=0) #, nrows=1000)\n",
    "    DF3 = pd.read_csv(csv_file_path_WO, header=0) #, nrows=1000)\n",
    "else:\n",
    "    print(\"Please provide a valid value for sep\")\n",
    "\n",
    "DF=pd.concat([DF1, DF2], axis=0)\n",
    "DF=pd.concat([DF, DF3], axis=0)\n",
    "print(\"Patents from EP:\", DF1.shape[0])\n",
    "print(\"Patents from US:\",DF2.shape[0])\n",
    "print(\"Patents from WO:\", DF3.shape[0])\n",
    "print(\"Patents from EP, US and WO are\", DF.shape[0])\n",
    "del DF1, DF2, DF3    "
   ]
  },
  {
   "cell_type": "markdown",
   "id": "08b88b18",
   "metadata": {},
   "source": [
    "### Expand the concatenated DataFrame with the patent number and patent office"
   ]
  },
  {
   "cell_type": "code",
   "execution_count": 7,
   "id": "0ab9924f",
   "metadata": {},
   "outputs": [
    {
     "data": {
      "text/html": [
       "<div>\n",
       "<style scoped>\n",
       "    .dataframe tbody tr th:only-of-type {\n",
       "        vertical-align: middle;\n",
       "    }\n",
       "\n",
       "    .dataframe tbody tr th {\n",
       "        vertical-align: top;\n",
       "    }\n",
       "\n",
       "    .dataframe thead th {\n",
       "        text-align: right;\n",
       "    }\n",
       "</style>\n",
       "<table border=\"1\" class=\"dataframe\">\n",
       "  <thead>\n",
       "    <tr style=\"text-align: right;\">\n",
       "      <th></th>\n",
       "      <th>Unnamed: 0</th>\n",
       "      <th>xml_file_name</th>\n",
       "      <th>ucid</th>\n",
       "      <th>date</th>\n",
       "      <th>main_classification</th>\n",
       "      <th>further_classification</th>\n",
       "      <th>classification_ipcr</th>\n",
       "      <th>classification_cpc</th>\n",
       "      <th>abstract_lang_en_exist</th>\n",
       "      <th>description_lang_en_exist</th>\n",
       "      <th>claims_lang_en_exist</th>\n",
       "      <th>patent_number</th>\n",
       "      <th>patent_office</th>\n",
       "    </tr>\n",
       "  </thead>\n",
       "  <tbody>\n",
       "    <tr>\n",
       "      <th>0</th>\n",
       "      <td>0</td>\n",
       "      <td>EP-2677851-A1.xml</td>\n",
       "      <td>EP-2677851-A1</td>\n",
       "      <td>20140101.0</td>\n",
       "      <td>NaN</td>\n",
       "      <td>NaN</td>\n",
       "      <td>A01B  79/02        20060101AFI20120911BHEP    ...</td>\n",
       "      <td>A01B  79/005       20130101 LI20150420BHEP    ...</td>\n",
       "      <td>1.0</td>\n",
       "      <td>1.0</td>\n",
       "      <td>1.0</td>\n",
       "      <td>2677851</td>\n",
       "      <td>EP</td>\n",
       "    </tr>\n",
       "  </tbody>\n",
       "</table>\n",
       "</div>"
      ],
      "text/plain": [
       "   Unnamed: 0      xml_file_name           ucid        date  \\\n",
       "0           0  EP-2677851-A1.xml  EP-2677851-A1  20140101.0   \n",
       "\n",
       "  main_classification further_classification  \\\n",
       "0                 NaN                    NaN   \n",
       "\n",
       "                                 classification_ipcr  \\\n",
       "0  A01B  79/02        20060101AFI20120911BHEP    ...   \n",
       "\n",
       "                                  classification_cpc  abstract_lang_en_exist  \\\n",
       "0  A01B  79/005       20130101 LI20150420BHEP    ...                     1.0   \n",
       "\n",
       "   description_lang_en_exist  claims_lang_en_exist patent_number patent_office  \n",
       "0                        1.0                   1.0       2677851            EP  "
      ]
     },
     "execution_count": 7,
     "metadata": {},
     "output_type": "execute_result"
    }
   ],
   "source": [
    "DF['patent_number']=DF['xml_file_name'].str.split(\".\").str[0]\n",
    "DF['patent_number']=DF['patent_number'].str.split(\"-\").str[1:2]\n",
    "DF['patent_number']=DF['patent_number'].str.join('')\n",
    "\n",
    "DF['patent_office']=DF['xml_file_name'].str[:2]\n",
    "\n",
    "DF.head(1)"
   ]
  },
  {
   "cell_type": "code",
   "execution_count": 8,
   "id": "c2414d1d",
   "metadata": {},
   "outputs": [
    {
     "name": "stdout",
     "output_type": "stream",
     "text": [
      "Counter({'US': 1397703, 'EP': 552439, 'WO': 462789})\n"
     ]
    },
    {
     "data": {
      "image/png": "[encoded data removed]",
      "text/plain": [
       "<Figure size 432x288 with 1 Axes>"
      ]
     },
     "metadata": {
      "needs_background": "light"
     },
     "output_type": "display_data"
    }
   ],
   "source": [
    "print(Counter(DF['patent_office']))\n",
    "plot1 = Counter(DF['patent_office'])\n",
    "plt.bar(plot1.keys(), plot1.values())\n",
    "plt.show()"
   ]
  },
  {
   "cell_type": "markdown",
   "id": "T0KBdSGl5k_B",
   "metadata": {
    "id": "T0KBdSGl5k_B"
   },
   "source": [
    "### Remove label column which is not needed"
   ]
  },
  {
   "cell_type": "code",
   "execution_count": 9,
   "id": "628856b0",
   "metadata": {
    "colab": {
     "base_uri": "https://localhost:8080/",
     "height": 188
    },
    "executionInfo": {
     "elapsed": 9164,
     "status": "ok",
     "timestamp": 1738875921308,
     "user": {
      "displayName": "Eleni Kamateri",
      "userId": "17468520200409985303"
     },
     "user_tz": -120
    },
    "id": "628856b0",
    "outputId": "ac5b993b-8db6-479c-d35e-590fadcde79b",
    "scrolled": true
   },
   "outputs": [
    {
     "data": {
      "text/html": [
       "<div>\n",
       "<style scoped>\n",
       "    .dataframe tbody tr th:only-of-type {\n",
       "        vertical-align: middle;\n",
       "    }\n",
       "\n",
       "    .dataframe tbody tr th {\n",
       "        vertical-align: top;\n",
       "    }\n",
       "\n",
       "    .dataframe thead th {\n",
       "        text-align: right;\n",
       "    }\n",
       "</style>\n",
       "<table border=\"1\" class=\"dataframe\">\n",
       "  <thead>\n",
       "    <tr style=\"text-align: right;\">\n",
       "      <th></th>\n",
       "      <th>Unnamed: 0</th>\n",
       "      <th>xml_file_name</th>\n",
       "      <th>ucid</th>\n",
       "      <th>date</th>\n",
       "      <th>labels</th>\n",
       "      <th>abstract_lang_en_exist</th>\n",
       "      <th>description_lang_en_exist</th>\n",
       "      <th>claims_lang_en_exist</th>\n",
       "      <th>patent_number</th>\n",
       "      <th>patent_office</th>\n",
       "    </tr>\n",
       "  </thead>\n",
       "  <tbody>\n",
       "    <tr>\n",
       "      <th>0</th>\n",
       "      <td>0</td>\n",
       "      <td>EP-2677851-A1.xml</td>\n",
       "      <td>EP-2677851-A1</td>\n",
       "      <td>20140101.0</td>\n",
       "      <td>A01B  79/02        20060101AFI20120911BHEP    ...</td>\n",
       "      <td>1.0</td>\n",
       "      <td>1.0</td>\n",
       "      <td>1.0</td>\n",
       "      <td>2677851</td>\n",
       "      <td>EP</td>\n",
       "    </tr>\n",
       "  </tbody>\n",
       "</table>\n",
       "</div>"
      ],
      "text/plain": [
       "   Unnamed: 0      xml_file_name           ucid        date  \\\n",
       "0           0  EP-2677851-A1.xml  EP-2677851-A1  20140101.0   \n",
       "\n",
       "                                              labels  abstract_lang_en_exist  \\\n",
       "0  A01B  79/02        20060101AFI20120911BHEP    ...                     1.0   \n",
       "\n",
       "   description_lang_en_exist  claims_lang_en_exist patent_number patent_office  \n",
       "0                        1.0                   1.0       2677851            EP  "
      ]
     },
     "execution_count": 9,
     "metadata": {},
     "output_type": "execute_result"
    }
   ],
   "source": [
    "if classification_selection==1:\n",
    "    DF=DF.rename(columns={'classification_ipcr': 'labels'})\n",
    "    if 'main_classification' in DF.columns:\n",
    "        del DF['main_classification']\n",
    "    if 'further_classification' in DF.columns:\n",
    "        del DF['further_classification']\n",
    "    if 'classification_cpc' in DF.columns:\n",
    "        del DF['classification_cpc'] \n",
    "elif classification_selection==2:\n",
    "    DF=DF.rename(columns={'classification_cpc': 'labels'})\n",
    "    if 'main_classification' in DF.columns:\n",
    "        del DF['main_classification']\n",
    "    if 'further_classification' in DF.columns:\n",
    "        del DF['further_classification']\n",
    "    if 'classification_ipcr' in DF.columns:\n",
    "        del DF['classification_ipcr'] \n",
    "else:\n",
    "    print(\"Please provide a valid value for classification_selection\")\n",
    "DF.head(1)"
   ]
  },
  {
   "cell_type": "code",
   "execution_count": 10,
   "id": "122b48bf",
   "metadata": {},
   "outputs": [],
   "source": [
    "#pd.set_option(\"max_colwidth\",None)\n",
    "#pd.set_option(\"max_rows\", None)"
   ]
  },
  {
   "cell_type": "markdown",
   "id": "714caea8",
   "metadata": {},
   "source": [
    "### VP - Unify all different versions of a patent into one single patent"
   ]
  },
  {
   "cell_type": "code",
   "execution_count": 11,
   "id": "69379dd7",
   "metadata": {},
   "outputs": [
    {
     "data": {
      "text/plain": [
       "(1806834, 8)"
      ]
     },
     "execution_count": 11,
     "metadata": {},
     "output_type": "execute_result"
    }
   ],
   "source": [
    "# make abstract, description and claims values int\n",
    "cols_to_replace = ['abstract_lang_en_exist', 'description_lang_en_exist', 'claims_lang_en_exist']\n",
    "DF[cols_to_replace] = DF[cols_to_replace].astype(int)\n",
    "\n",
    "# if these columns have a zero, make it an empty cell, \n",
    "#then, group according to the patent number keeping the latest non empty entry\n",
    "DF['abstract_lang_en_exist'] = DF['abstract_lang_en_exist'].replace({0:np.nan})\n",
    "DF['description_lang_en_exist'] = DF['description_lang_en_exist'].replace({0:np.nan})\n",
    "DF['claims_lang_en_exist'] = DF['claims_lang_en_exist'].replace({0:np.nan})\n",
    "DF=DF.groupby('patent_number').agg({'ucid': lambda x: ','.join(map(str, x)), 'date':'first', \\\n",
    "                                    'labels':'last','abstract_lang_en_exist':'last', 'description_lang_en_exist': 'last', \\\n",
    "                                        'claims_lang_en_exist':'last', 'patent_number':'last', 'patent_office': 'last'})\n",
    "\n",
    "# create a help column and keep patents having all textual sections completed\n",
    "DF['adc_exist']= None\n",
    "DF['adc_exist']=DF['abstract_lang_en_exist']+DF['description_lang_en_exist']+DF['claims_lang_en_exist']\n",
    "DF=DF[DF['adc_exist']==3]\n",
    "DF = DF.reset_index(drop=True)\n",
    "del DF['adc_exist']\n",
    "\n",
    "DF.shape"
   ]
  },
  {
   "cell_type": "code",
   "execution_count": 7,
   "id": "8c512edd",
   "metadata": {},
   "outputs": [
    {
     "data": {
      "text/plain": [
       "Counter({'EP': 159498,\n",
       "         'EP,EP': 66583,\n",
       "         'WO': 189023,\n",
       "         'WO,WO': 28423,\n",
       "         'WO,WO,WO': 1336,\n",
       "         'US': 1360789,\n",
       "         'WO,WO,WO,WO': 35,\n",
       "         'WO,WO,WO,WO,WO': 2,\n",
       "         'EP,EP,EP': 1134,\n",
       "         'EP,EP,EP,EP': 11})"
      ]
     },
     "execution_count": 7,
     "metadata": {},
     "output_type": "execute_result"
    }
   ],
   "source": [
    "# confirmed that same patent numbers do not contain across different patent officies\n",
    "# Counter(DF['patent_office'])"
   ]
  },
  {
   "cell_type": "markdown",
   "id": "9fee74e1",
   "metadata": {},
   "source": [
    "### Remove single patents that do not have labels"
   ]
  },
  {
   "cell_type": "code",
   "execution_count": 12,
   "id": "09261862",
   "metadata": {},
   "outputs": [
    {
     "data": {
      "text/plain": [
       "(1805999, 8)"
      ]
     },
     "execution_count": 12,
     "metadata": {},
     "output_type": "execute_result"
    }
   ],
   "source": [
    "DF['labels']=DF['labels'].fillna(\"\")\n",
    "DF=DF[DF['labels']!='']\n",
    "DF.shape"
   ]
  },
  {
   "cell_type": "markdown",
   "id": "7fe5a97d",
   "metadata": {},
   "source": [
    "### Suffle the remaining patents"
   ]
  },
  {
   "cell_type": "code",
   "execution_count": 13,
   "id": "5a3b5ab2",
   "metadata": {},
   "outputs": [],
   "source": [
    "DF = shuffle(DF, random_state=42)"
   ]
  },
  {
   "cell_type": "markdown",
   "id": "2623692d",
   "metadata": {},
   "source": [
    "### Transform labels into groups and remove duplicates"
   ]
  },
  {
   "cell_type": "code",
   "execution_count": 14,
   "id": "57d73075",
   "metadata": {},
   "outputs": [
    {
     "data": {
      "text/html": [
       "<div>\n",
       "<style scoped>\n",
       "    .dataframe tbody tr th:only-of-type {\n",
       "        vertical-align: middle;\n",
       "    }\n",
       "\n",
       "    .dataframe tbody tr th {\n",
       "        vertical-align: top;\n",
       "    }\n",
       "\n",
       "    .dataframe thead th {\n",
       "        text-align: right;\n",
       "    }\n",
       "</style>\n",
       "<table border=\"1\" class=\"dataframe\">\n",
       "  <thead>\n",
       "    <tr style=\"text-align: right;\">\n",
       "      <th></th>\n",
       "      <th>ucid</th>\n",
       "      <th>date</th>\n",
       "      <th>labels</th>\n",
       "      <th>abstract_lang_en_exist</th>\n",
       "      <th>description_lang_en_exist</th>\n",
       "      <th>claims_lang_en_exist</th>\n",
       "      <th>patent_number</th>\n",
       "      <th>patent_office</th>\n",
       "    </tr>\n",
       "  </thead>\n",
       "  <tbody>\n",
       "    <tr>\n",
       "      <th>196022</th>\n",
       "      <td>US-20140186131-A1</td>\n",
       "      <td>20140703.0</td>\n",
       "      <td>[B23G1]</td>\n",
       "      <td>1.0</td>\n",
       "      <td>1.0</td>\n",
       "      <td>1.0</td>\n",
       "      <td>20140186131</td>\n",
       "      <td>US</td>\n",
       "    </tr>\n",
       "    <tr>\n",
       "      <th>492404</th>\n",
       "      <td>WO-2014205350-A1</td>\n",
       "      <td>20141224.0</td>\n",
       "      <td>[H04L29]</td>\n",
       "      <td>1.0</td>\n",
       "      <td>1.0</td>\n",
       "      <td>1.0</td>\n",
       "      <td>2014205350</td>\n",
       "      <td>WO</td>\n",
       "    </tr>\n",
       "    <tr>\n",
       "      <th>614094</th>\n",
       "      <td>US-20150113465-A1</td>\n",
       "      <td>20150423.0</td>\n",
       "      <td>[G06F3]</td>\n",
       "      <td>1.0</td>\n",
       "      <td>1.0</td>\n",
       "      <td>1.0</td>\n",
       "      <td>20150113465</td>\n",
       "      <td>US</td>\n",
       "    </tr>\n",
       "    <tr>\n",
       "      <th>1576990</th>\n",
       "      <td>US-8994316-B2</td>\n",
       "      <td>20150331.0</td>\n",
       "      <td>[H02P8]</td>\n",
       "      <td>1.0</td>\n",
       "      <td>1.0</td>\n",
       "      <td>1.0</td>\n",
       "      <td>8994316</td>\n",
       "      <td>US</td>\n",
       "    </tr>\n",
       "    <tr>\n",
       "      <th>1697812</th>\n",
       "      <td>US-9116355-B2</td>\n",
       "      <td>20150825.0</td>\n",
       "      <td>[G02B23, A42B3]</td>\n",
       "      <td>1.0</td>\n",
       "      <td>1.0</td>\n",
       "      <td>1.0</td>\n",
       "      <td>9116355</td>\n",
       "      <td>US</td>\n",
       "    </tr>\n",
       "  </tbody>\n",
       "</table>\n",
       "</div>"
      ],
      "text/plain": [
       "                      ucid        date           labels  \\\n",
       "196022   US-20140186131-A1  20140703.0          [B23G1]   \n",
       "492404    WO-2014205350-A1  20141224.0         [H04L29]   \n",
       "614094   US-20150113465-A1  20150423.0          [G06F3]   \n",
       "1576990      US-8994316-B2  20150331.0          [H02P8]   \n",
       "1697812      US-9116355-B2  20150825.0  [G02B23, A42B3]   \n",
       "\n",
       "         abstract_lang_en_exist  description_lang_en_exist  \\\n",
       "196022                      1.0                        1.0   \n",
       "492404                      1.0                        1.0   \n",
       "614094                      1.0                        1.0   \n",
       "1576990                     1.0                        1.0   \n",
       "1697812                     1.0                        1.0   \n",
       "\n",
       "         claims_lang_en_exist patent_number patent_office  \n",
       "196022                    1.0   20140186131            US  \n",
       "492404                    1.0    2014205350            WO  \n",
       "614094                    1.0   20150113465            US  \n",
       "1576990                   1.0       8994316            US  \n",
       "1697812                   1.0       9116355            US  "
      ]
     },
     "execution_count": 14,
     "metadata": {},
     "output_type": "execute_result"
    }
   ],
   "source": [
    "DF['labels'] = DF['labels'].str.split(',')\n",
    "DF['labels'] = DF['labels'].apply(lambda x: [item.split('/')[0] for item in x])\n",
    "DF['labels'] = DF['labels'].apply(lambda x: [item.replace(\" \", \"\") for item in x])\n",
    "DF['labels'] = DF['labels'].apply(lambda x: list(dict.fromkeys(x)))\n",
    "DF.head(5)"
   ]
  },
  {
   "cell_type": "markdown",
   "id": "1cc61e65",
   "metadata": {},
   "source": [
    "### Transform labels containing only the subclass part into subclasses"
   ]
  },
  {
   "cell_type": "code",
   "execution_count": 15,
   "id": "0c7ce427",
   "metadata": {},
   "outputs": [
    {
     "data": {
      "text/html": [
       "<div>\n",
       "<style scoped>\n",
       "    .dataframe tbody tr th:only-of-type {\n",
       "        vertical-align: middle;\n",
       "    }\n",
       "\n",
       "    .dataframe tbody tr th {\n",
       "        vertical-align: top;\n",
       "    }\n",
       "\n",
       "    .dataframe thead th {\n",
       "        text-align: right;\n",
       "    }\n",
       "</style>\n",
       "<table border=\"1\" class=\"dataframe\">\n",
       "  <thead>\n",
       "    <tr style=\"text-align: right;\">\n",
       "      <th></th>\n",
       "      <th>ucid</th>\n",
       "      <th>date</th>\n",
       "      <th>labels</th>\n",
       "      <th>abstract_lang_en_exist</th>\n",
       "      <th>description_lang_en_exist</th>\n",
       "      <th>claims_lang_en_exist</th>\n",
       "      <th>patent_number</th>\n",
       "      <th>patent_office</th>\n",
       "    </tr>\n",
       "  </thead>\n",
       "  <tbody>\n",
       "    <tr>\n",
       "      <th>1265246</th>\n",
       "      <td>US-8679735-B2</td>\n",
       "      <td>20140325.0</td>\n",
       "      <td>[A01N1, A01N20060101SI20051110RMEP, C12N5]</td>\n",
       "      <td>1.0</td>\n",
       "      <td>1.0</td>\n",
       "      <td>1.0</td>\n",
       "      <td>8679735</td>\n",
       "      <td>US</td>\n",
       "    </tr>\n",
       "  </tbody>\n",
       "</table>\n",
       "</div>"
      ],
      "text/plain": [
       "                  ucid        date  \\\n",
       "1265246  US-8679735-B2  20140325.0   \n",
       "\n",
       "                                             labels  abstract_lang_en_exist  \\\n",
       "1265246  [A01N1, A01N20060101SI20051110RMEP, C12N5]                     1.0   \n",
       "\n",
       "         description_lang_en_exist  claims_lang_en_exist patent_number  \\\n",
       "1265246                        1.0                   1.0       8679735   \n",
       "\n",
       "        patent_office  \n",
       "1265246            US  "
      ]
     },
     "execution_count": 15,
     "metadata": {},
     "output_type": "execute_result"
    }
   ],
   "source": [
    "#E.g. A01N20060101SI20051110RMEP comes from A01N 20060101S I20051110RMEP which contains only a subclass\n",
    "target_substring = \"RMEP\" \n",
    "DF[DF['labels'].apply(lambda label_list: any(target_substring in str(item) for item in label_list))].head(1)"
   ]
  },
  {
   "cell_type": "code",
   "execution_count": 16,
   "id": "9c18b7f2",
   "metadata": {},
   "outputs": [
    {
     "data": {
      "text/html": [
       "<div>\n",
       "<style scoped>\n",
       "    .dataframe tbody tr th:only-of-type {\n",
       "        vertical-align: middle;\n",
       "    }\n",
       "\n",
       "    .dataframe tbody tr th {\n",
       "        vertical-align: top;\n",
       "    }\n",
       "\n",
       "    .dataframe thead th {\n",
       "        text-align: right;\n",
       "    }\n",
       "</style>\n",
       "<table border=\"1\" class=\"dataframe\">\n",
       "  <thead>\n",
       "    <tr style=\"text-align: right;\">\n",
       "      <th></th>\n",
       "      <th>ucid</th>\n",
       "      <th>date</th>\n",
       "      <th>labels</th>\n",
       "      <th>abstract_lang_en_exist</th>\n",
       "      <th>description_lang_en_exist</th>\n",
       "      <th>claims_lang_en_exist</th>\n",
       "      <th>patent_number</th>\n",
       "      <th>patent_office</th>\n",
       "    </tr>\n",
       "  </thead>\n",
       "  <tbody>\n",
       "  </tbody>\n",
       "</table>\n",
       "</div>"
      ],
      "text/plain": [
       "Empty DataFrame\n",
       "Columns: [ucid, date, labels, abstract_lang_en_exist, description_lang_en_exist, claims_lang_en_exist, patent_number, patent_office]\n",
       "Index: []"
      ]
     },
     "execution_count": 16,
     "metadata": {},
     "output_type": "execute_result"
    }
   ],
   "source": [
    "def tranform_into_subclass(label_string):\n",
    "    if \"RMEP\" in label_string:\n",
    "        return label_string[:4]\n",
    "    else:\n",
    "        return label_string\n",
    "    \n",
    "DF['labels'] = DF['labels'].apply(lambda label_list: [tranform_into_subclass(item) for item in label_list])\n",
    "\n",
    "target_substring = \"RMEP\" \n",
    "DF[DF['labels'].apply(lambda label_list: any(target_substring in str(item) for item in label_list))].head(1)"
   ]
  },
  {
   "cell_type": "markdown",
   "id": "feaeaf0e",
   "metadata": {},
   "source": [
    "### Explode and wrap each label in a list"
   ]
  },
  {
   "cell_type": "code",
   "execution_count": 17,
   "id": "490a1e34",
   "metadata": {},
   "outputs": [
    {
     "data": {
      "text/html": [
       "<div>\n",
       "<style scoped>\n",
       "    .dataframe tbody tr th:only-of-type {\n",
       "        vertical-align: middle;\n",
       "    }\n",
       "\n",
       "    .dataframe tbody tr th {\n",
       "        vertical-align: top;\n",
       "    }\n",
       "\n",
       "    .dataframe thead th {\n",
       "        text-align: right;\n",
       "    }\n",
       "</style>\n",
       "<table border=\"1\" class=\"dataframe\">\n",
       "  <thead>\n",
       "    <tr style=\"text-align: right;\">\n",
       "      <th></th>\n",
       "      <th>ucid</th>\n",
       "      <th>date</th>\n",
       "      <th>labels</th>\n",
       "      <th>abstract_lang_en_exist</th>\n",
       "      <th>description_lang_en_exist</th>\n",
       "      <th>claims_lang_en_exist</th>\n",
       "      <th>patent_number</th>\n",
       "      <th>patent_office</th>\n",
       "    </tr>\n",
       "  </thead>\n",
       "  <tbody>\n",
       "    <tr>\n",
       "      <th>0</th>\n",
       "      <td>US-20140186131-A1</td>\n",
       "      <td>20140703.0</td>\n",
       "      <td>B23G1</td>\n",
       "      <td>1.0</td>\n",
       "      <td>1.0</td>\n",
       "      <td>1.0</td>\n",
       "      <td>20140186131</td>\n",
       "      <td>US</td>\n",
       "    </tr>\n",
       "    <tr>\n",
       "      <th>1</th>\n",
       "      <td>WO-2014205350-A1</td>\n",
       "      <td>20141224.0</td>\n",
       "      <td>H04L29</td>\n",
       "      <td>1.0</td>\n",
       "      <td>1.0</td>\n",
       "      <td>1.0</td>\n",
       "      <td>2014205350</td>\n",
       "      <td>WO</td>\n",
       "    </tr>\n",
       "    <tr>\n",
       "      <th>2</th>\n",
       "      <td>US-20150113465-A1</td>\n",
       "      <td>20150423.0</td>\n",
       "      <td>G06F3</td>\n",
       "      <td>1.0</td>\n",
       "      <td>1.0</td>\n",
       "      <td>1.0</td>\n",
       "      <td>20150113465</td>\n",
       "      <td>US</td>\n",
       "    </tr>\n",
       "    <tr>\n",
       "      <th>3</th>\n",
       "      <td>US-8994316-B2</td>\n",
       "      <td>20150331.0</td>\n",
       "      <td>H02P8</td>\n",
       "      <td>1.0</td>\n",
       "      <td>1.0</td>\n",
       "      <td>1.0</td>\n",
       "      <td>8994316</td>\n",
       "      <td>US</td>\n",
       "    </tr>\n",
       "    <tr>\n",
       "      <th>4</th>\n",
       "      <td>US-9116355-B2</td>\n",
       "      <td>20150825.0</td>\n",
       "      <td>G02B23</td>\n",
       "      <td>1.0</td>\n",
       "      <td>1.0</td>\n",
       "      <td>1.0</td>\n",
       "      <td>9116355</td>\n",
       "      <td>US</td>\n",
       "    </tr>\n",
       "    <tr>\n",
       "      <th>5</th>\n",
       "      <td>US-9116355-B2</td>\n",
       "      <td>20150825.0</td>\n",
       "      <td>A42B3</td>\n",
       "      <td>1.0</td>\n",
       "      <td>1.0</td>\n",
       "      <td>1.0</td>\n",
       "      <td>9116355</td>\n",
       "      <td>US</td>\n",
       "    </tr>\n",
       "  </tbody>\n",
       "</table>\n",
       "</div>"
      ],
      "text/plain": [
       "                ucid        date  labels  abstract_lang_en_exist  \\\n",
       "0  US-20140186131-A1  20140703.0   B23G1                     1.0   \n",
       "1   WO-2014205350-A1  20141224.0  H04L29                     1.0   \n",
       "2  US-20150113465-A1  20150423.0   G06F3                     1.0   \n",
       "3      US-8994316-B2  20150331.0   H02P8                     1.0   \n",
       "4      US-9116355-B2  20150825.0  G02B23                     1.0   \n",
       "5      US-9116355-B2  20150825.0   A42B3                     1.0   \n",
       "\n",
       "   description_lang_en_exist  claims_lang_en_exist patent_number patent_office  \n",
       "0                        1.0                   1.0   20140186131            US  \n",
       "1                        1.0                   1.0    2014205350            WO  \n",
       "2                        1.0                   1.0   20150113465            US  \n",
       "3                        1.0                   1.0       8994316            US  \n",
       "4                        1.0                   1.0       9116355            US  \n",
       "5                        1.0                   1.0       9116355            US  "
      ]
     },
     "execution_count": 17,
     "metadata": {},
     "output_type": "execute_result"
    }
   ],
   "source": [
    "DF = DF.explode('labels').reset_index(drop=True)\n",
    "DF['labels'] = DF['labels'].astype(str)\n",
    "DF.head(6)"
   ]
  },
  {
   "cell_type": "markdown",
   "id": "d7d55903",
   "metadata": {},
   "source": [
    "### Remove labels of Y section (starting from \"Y\")"
   ]
  },
  {
   "cell_type": "code",
   "execution_count": 18,
   "id": "fa11eb8f",
   "metadata": {},
   "outputs": [
    {
     "name": "stdout",
     "output_type": "stream",
     "text": [
      "Before removing Y labels: 3757217\n",
      "After removing Y labels: 3757156\n"
     ]
    }
   ],
   "source": [
    "print(\"Before removing Y labels:\", DF.shape[0])\n",
    "DF=DF[~DF['labels'].str.startswith(\"Y\")]\n",
    "print(\"After removing Y labels:\", DF.shape[0])"
   ]
  },
  {
   "cell_type": "markdown",
   "id": "309bba0e",
   "metadata": {},
   "source": [
    "### Remove codes under a threshold and keep a portion\n",
    "Follows the \"Take at least 1\" strategy for low-frequency labels"
   ]
  },
  {
   "cell_type": "code",
   "execution_count": 19,
   "id": "531ad84e",
   "metadata": {},
   "outputs": [],
   "source": [
    "def remove_rare_codes(trainDF, down_threshold, portion):\n",
    "    \n",
    "    print(\"Size of initial data:\", trainDF.shape)\n",
    "    \n",
    "    label_counts=Counter(trainDF['labels'])\n",
    "    \n",
    "    valid_labels = {label for label, count in label_counts.items() if count >= down_threshold}\n",
    "    filtered_df = trainDF[trainDF['labels'].isin(valid_labels)].copy()    \n",
    "    label_counts_valid=Counter(filtered_df['labels'])\n",
    "\n",
    "    trainDF = pd.DataFrame()\n",
    "\n",
    "    for code, freq in label_counts_valid.items():    \n",
    "        label_sum=0                      \n",
    "        new_freq=int(freq*portion)\n",
    "        \n",
    "        # Take at least 1 strategy\n",
    "        if new_freq==0:\n",
    "            new_freq=1\n",
    "\n",
    "        code_specific_rows = filtered_df[filtered_df['labels'] == code]\n",
    "        code_specific_rows =code_specific_rows.head(new_freq)\n",
    "                \n",
    "        trainDF=pd.concat([trainDF, code_specific_rows])\n",
    "        #print(trainDF.shape)\n",
    "    \n",
    "    print(\"Size of final data:\", trainDF.shape)\n",
    "    \n",
    "    label_counts_validated=Counter(trainDF['labels'])\n",
    "    print(label_counts_validated) \n",
    "    \n",
    "    return trainDF"
   ]
  },
  {
   "cell_type": "markdown",
   "id": "d1e62adf",
   "metadata": {},
   "source": [
    "### The down threshold was set to 20 and 5% sampling portion was applied."
   ]
  },
  {
   "cell_type": "code",
   "execution_count": null,
   "id": "241db14d",
   "metadata": {},
   "outputs": [],
   "source": [
    "DF2=remove_rare_codes(DF, 20, 0.05)     "
   ]
  },
  {
   "cell_type": "markdown",
   "id": "1e722af1",
   "metadata": {},
   "source": [
    "### Combine the labels of the same patent which was previously exploded and wraped "
   ]
  },
  {
   "cell_type": "code",
   "execution_count": 24,
   "id": "ea099815",
   "metadata": {},
   "outputs": [
    {
     "data": {
      "text/plain": [
       "(93589, 8)"
      ]
     },
     "execution_count": 24,
     "metadata": {},
     "output_type": "execute_result"
    }
   ],
   "source": [
    "# It doesn't matter whether we keep the first or last value for each field, since all exploded rows differ only by the label value\n",
    "DF2_combined=DF2.groupby('patent_number').agg({'ucid': 'last', 'date':'last', 'labels': lambda x: ','.join(map(str, x)),\\\n",
    "                                      'abstract_lang_en_exist':'last', 'description_lang_en_exist': 'last', \\\n",
    "                                        'claims_lang_en_exist':'last', 'patent_number':'last', 'patent_office':'last'})\n",
    "DF2_combined.shape"
   ]
  },
  {
   "cell_type": "code",
   "execution_count": 44,
   "id": "a7aa3a57",
   "metadata": {},
   "outputs": [
    {
     "name": "stdout",
     "output_type": "stream",
     "text": [
      "Number of labels: 5392 and number of combined patents: 93589\n"
     ]
    }
   ],
   "source": [
    "label_counts=Counter(DF2['labels'])\n",
    "print(\"Number of labels:\",len(label_counts), \"and number of combined patents:\", DF2_combined.shape[0])"
   ]
  },
  {
   "cell_type": "code",
   "execution_count": 40,
   "id": "ad1852af",
   "metadata": {},
   "outputs": [],
   "source": [
    "DF2_combined.to_csv('/PATH/WPI-Dataset/EP_US_WO_all_ipcr_combined.csv', index=False)"
   ]
  },
  {
   "cell_type": "code",
   "execution_count": 22,
   "id": "7a1be7ed",
   "metadata": {},
   "outputs": [],
   "source": [
    "#DF2_combined = pd.read_csv('F:/PhD/Test collections/WPI-Dataset/EP_US_WO_all_ipcr_thres20_portion5_take1strategy_combined.csv', header=0)\n",
    "#DF2_combined"
   ]
  },
  {
   "cell_type": "markdown",
   "id": "Y8_foMP-A-dc",
   "metadata": {
    "id": "Y8_foMP-A-dc"
   },
   "source": [
    "# Analysis of labels"
   ]
  },
  {
   "cell_type": "markdown",
   "id": "KGphGlN8VHkB",
   "metadata": {
    "id": "KGphGlN8VHkB"
   },
   "source": [
    "### Find the group labels and their frequencies"
   ]
  },
  {
   "cell_type": "code",
   "execution_count": 43,
   "id": "_KZW58RotGYi",
   "metadata": {
    "colab": {
     "base_uri": "https://localhost:8080/",
     "height": 442
    },
    "executionInfo": {
     "elapsed": 119989,
     "status": "ok",
     "timestamp": 1738876062462,
     "user": {
      "displayName": "Eleni Kamateri",
      "userId": "17468520200409985303"
     },
     "user_tz": -120
    },
    "id": "_KZW58RotGYi",
    "outputId": "bf80e312-f1c0-40b7-eb59-fbe66c99a59f"
   },
   "outputs": [
    {
     "name": "stdout",
     "output_type": "stream",
     "text": [
      "(5392, 2) 184609\n"
     ]
    },
    {
     "data": {
      "text/html": [
       "<div>\n",
       "<style scoped>\n",
       "    .dataframe tbody tr th:only-of-type {\n",
       "        vertical-align: middle;\n",
       "    }\n",
       "\n",
       "    .dataframe tbody tr th {\n",
       "        vertical-align: top;\n",
       "    }\n",
       "\n",
       "    .dataframe thead th {\n",
       "        text-align: right;\n",
       "    }\n",
       "</style>\n",
       "<table border=\"1\" class=\"dataframe\">\n",
       "  <thead>\n",
       "    <tr style=\"text-align: right;\">\n",
       "      <th></th>\n",
       "      <th>code</th>\n",
       "      <th>freq</th>\n",
       "    </tr>\n",
       "  </thead>\n",
       "  <tbody>\n",
       "    <tr>\n",
       "      <th>5392</th>\n",
       "      <td>C12C1</td>\n",
       "      <td>1</td>\n",
       "    </tr>\n",
       "    <tr>\n",
       "      <th>4029</th>\n",
       "      <td>C07D521</td>\n",
       "      <td>1</td>\n",
       "    </tr>\n",
       "    <tr>\n",
       "      <th>4028</th>\n",
       "      <td>F16J12</td>\n",
       "      <td>1</td>\n",
       "    </tr>\n",
       "    <tr>\n",
       "      <th>4026</th>\n",
       "      <td>B43K27</td>\n",
       "      <td>1</td>\n",
       "    </tr>\n",
       "    <tr>\n",
       "      <th>4025</th>\n",
       "      <td>G04B21</td>\n",
       "      <td>1</td>\n",
       "    </tr>\n",
       "    <tr>\n",
       "      <th>...</th>\n",
       "      <td>...</td>\n",
       "      <td>...</td>\n",
       "    </tr>\n",
       "    <tr>\n",
       "      <th>99</th>\n",
       "      <td>H04L12</td>\n",
       "      <td>2243</td>\n",
       "    </tr>\n",
       "    <tr>\n",
       "      <th>1</th>\n",
       "      <td>A61K31</td>\n",
       "      <td>2455</td>\n",
       "    </tr>\n",
       "    <tr>\n",
       "      <th>194</th>\n",
       "      <td>H04L29</td>\n",
       "      <td>2729</td>\n",
       "    </tr>\n",
       "    <tr>\n",
       "      <th>15</th>\n",
       "      <td>G06F3</td>\n",
       "      <td>3086</td>\n",
       "    </tr>\n",
       "    <tr>\n",
       "      <th>229</th>\n",
       "      <td>G06F17</td>\n",
       "      <td>3294</td>\n",
       "    </tr>\n",
       "  </tbody>\n",
       "</table>\n",
       "<p>5392 rows × 2 columns</p>\n",
       "</div>"
      ],
      "text/plain": [
       "         code  freq\n",
       "5392    C12C1     1\n",
       "4029  C07D521     1\n",
       "4028   F16J12     1\n",
       "4026   B43K27     1\n",
       "4025   G04B21     1\n",
       "...       ...   ...\n",
       "99     H04L12  2243\n",
       "1      A61K31  2455\n",
       "194    H04L29  2729\n",
       "15      G06F3  3086\n",
       "229    G06F17  3294\n",
       "\n",
       "[5392 rows x 2 columns]"
      ]
     },
     "execution_count": 43,
     "metadata": {},
     "output_type": "execute_result"
    }
   ],
   "source": [
    "# Split the 'labels' column by commas\n",
    "DF_2=DF2_combined.copy()\n",
    "\n",
    "DF_2['labels'] = DF_2['labels'].str.split(',')\n",
    "\n",
    "# Extract the first part of each label after splitting by '/'\n",
    "DF_2['labels'] = DF_2['labels'].apply(lambda x: [item.split('/')[0] for item in x])\n",
    "DF_2['labels'] = DF_2['labels'].apply(lambda x: [item.replace(\" \", \"\") for item in x])\n",
    "\n",
    "expanded_DF=DF_2['labels'].apply(pd.Series)\n",
    "\n",
    "# Transform 'na' values of the expanded table into empty content cells\n",
    "expanded_DF=expanded_DF.fillna(\"\")\n",
    "\n",
    "# Infer the group label (delete the last I/N character and  empty spaces from the beginning/end - if any)\n",
    "nums=expanded_DF.shape[1]\n",
    "for num in range (nums):\n",
    "    expanded_DF[num]=expanded_DF[num].str.strip()\n",
    "\n",
    "# Create a new table with group labels and their frequencies\n",
    "total_counter = Counter()\n",
    "\n",
    "for num in range(nums):\n",
    "    exec(f'counter_{num} = Counter(expanded_DF[num])')\n",
    "    exec(f'total_counter=total_counter+counter_{num}')\n",
    "\n",
    "code_, freq_ = [], []\n",
    "\n",
    "for code, freq in total_counter.items():\n",
    "    code_.append(code)\n",
    "    freq_.append(freq)\n",
    "\n",
    "DF_codes = pd.DataFrame()\n",
    "DF_codes['code'] = code_\n",
    "DF_codes['freq'] = freq_\n",
    "\n",
    "# Delete empty rows\n",
    "DF_codes=DF_codes[DF_codes['code']!='']\n",
    "\n",
    "# Sort based on freq\n",
    "DF_codes=DF_codes.sort_values(by = 'freq', ascending=True)\n",
    "\n",
    "print(DF_codes.shape, DF_codes['freq'].sum())\n",
    "DF_codes"
   ]
  },
  {
   "cell_type": "markdown",
   "id": "4ElGCgVGfqdD",
   "metadata": {
    "id": "4ElGCgVGfqdD"
   },
   "source": [
    "### Find the subclass labels and their frequencies"
   ]
  },
  {
   "cell_type": "code",
   "execution_count": 44,
   "id": "1f94e940",
   "metadata": {
    "colab": {
     "base_uri": "https://localhost:8080/",
     "height": 442
    },
    "executionInfo": {
     "elapsed": 1901,
     "status": "ok",
     "timestamp": 1738876064355,
     "user": {
      "displayName": "Eleni Kamateri",
      "userId": "17468520200409985303"
     },
     "user_tz": -120
    },
    "id": "1f94e940",
    "outputId": "86ba961b-037c-4a7f-9098-72e4e1ef33e4"
   },
   "outputs": [
    {
     "name": "stdout",
     "output_type": "stream",
     "text": [
      "(602, 4) 184609\n"
     ]
    },
    {
     "data": {
      "text/html": [
       "<div>\n",
       "<style scoped>\n",
       "    .dataframe tbody tr th:only-of-type {\n",
       "        vertical-align: middle;\n",
       "    }\n",
       "\n",
       "    .dataframe tbody tr th {\n",
       "        vertical-align: top;\n",
       "    }\n",
       "\n",
       "    .dataframe thead th {\n",
       "        text-align: right;\n",
       "    }\n",
       "</style>\n",
       "<table border=\"1\" class=\"dataframe\">\n",
       "  <thead>\n",
       "    <tr style=\"text-align: right;\">\n",
       "      <th></th>\n",
       "      <th>code</th>\n",
       "      <th>freq</th>\n",
       "      <th>code_subclass</th>\n",
       "      <th>freq_subclass</th>\n",
       "    </tr>\n",
       "  </thead>\n",
       "  <tbody>\n",
       "    <tr>\n",
       "      <th>0</th>\n",
       "      <td>D03J1</td>\n",
       "      <td>1</td>\n",
       "      <td>D03J</td>\n",
       "      <td>1</td>\n",
       "    </tr>\n",
       "    <tr>\n",
       "      <th>1</th>\n",
       "      <td>C23D5</td>\n",
       "      <td>1</td>\n",
       "      <td>C23D</td>\n",
       "      <td>1</td>\n",
       "    </tr>\n",
       "    <tr>\n",
       "      <th>2</th>\n",
       "      <td>A42C5</td>\n",
       "      <td>1</td>\n",
       "      <td>A42C</td>\n",
       "      <td>1</td>\n",
       "    </tr>\n",
       "    <tr>\n",
       "      <th>3</th>\n",
       "      <td>D04D7</td>\n",
       "      <td>1</td>\n",
       "      <td>D04D</td>\n",
       "      <td>1</td>\n",
       "    </tr>\n",
       "    <tr>\n",
       "      <th>4</th>\n",
       "      <td>G03D5</td>\n",
       "      <td>1</td>\n",
       "      <td>G03D</td>\n",
       "      <td>1</td>\n",
       "    </tr>\n",
       "    <tr>\n",
       "      <th>...</th>\n",
       "      <td>...</td>\n",
       "      <td>...</td>\n",
       "      <td>...</td>\n",
       "      <td>...</td>\n",
       "    </tr>\n",
       "    <tr>\n",
       "      <th>597</th>\n",
       "      <td>H04W99</td>\n",
       "      <td>2</td>\n",
       "      <td>H04W</td>\n",
       "      <td>7167</td>\n",
       "    </tr>\n",
       "    <tr>\n",
       "      <th>598</th>\n",
       "      <td>H04L13</td>\n",
       "      <td>1</td>\n",
       "      <td>H04L</td>\n",
       "      <td>7250</td>\n",
       "    </tr>\n",
       "    <tr>\n",
       "      <th>599</th>\n",
       "      <td>A61K103</td>\n",
       "      <td>1</td>\n",
       "      <td>A61K</td>\n",
       "      <td>7491</td>\n",
       "    </tr>\n",
       "    <tr>\n",
       "      <th>600</th>\n",
       "      <td>H01L</td>\n",
       "      <td>2</td>\n",
       "      <td>H01L</td>\n",
       "      <td>8261</td>\n",
       "    </tr>\n",
       "    <tr>\n",
       "      <th>601</th>\n",
       "      <td>G06F8</td>\n",
       "      <td>4</td>\n",
       "      <td>G06F</td>\n",
       "      <td>14670</td>\n",
       "    </tr>\n",
       "  </tbody>\n",
       "</table>\n",
       "<p>602 rows × 4 columns</p>\n",
       "</div>"
      ],
      "text/plain": [
       "        code  freq code_subclass  freq_subclass\n",
       "0      D03J1     1          D03J              1\n",
       "1      C23D5     1          C23D              1\n",
       "2      A42C5     1          A42C              1\n",
       "3      D04D7     1          D04D              1\n",
       "4      G03D5     1          G03D              1\n",
       "..       ...   ...           ...            ...\n",
       "597   H04W99     2          H04W           7167\n",
       "598   H04L13     1          H04L           7250\n",
       "599  A61K103     1          A61K           7491\n",
       "600     H01L     2          H01L           8261\n",
       "601    G06F8     4          G06F          14670\n",
       "\n",
       "[602 rows x 4 columns]"
      ]
     },
     "execution_count": 44,
     "metadata": {},
     "output_type": "execute_result"
    }
   ],
   "source": [
    "DF_subclass=DF_codes.copy()\n",
    "DF_subclass['code_subclass']= None\n",
    "DF_subclass=DF_subclass.reset_index(drop=True)\n",
    "for i in range (DF_subclass['code'].shape[0]):\n",
    "    DF_subclass.loc[i, 'code_subclass']=DF_subclass['code'][i][0:4]\n",
    "DF_subclass['freq_subclass'] = DF_subclass.groupby('code_subclass')['freq'].transform('sum')\n",
    "DF_subclass = DF_subclass.drop_duplicates(subset = [\"code_subclass\"])\n",
    "DF_subclass=DF_subclass.sort_values(by = 'freq_subclass', ascending=True)\n",
    "DF_subclass=DF_subclass.reset_index(drop=True)\n",
    "\n",
    "print(DF_subclass.shape, DF_subclass['freq_subclass'].sum())\n",
    "DF_subclass"
   ]
  },
  {
   "cell_type": "markdown",
   "id": "dc24e2a9",
   "metadata": {},
   "source": [
    "### Plot the distribution of patents per section label"
   ]
  },
  {
   "cell_type": "code",
   "execution_count": 34,
   "id": "4ca1337e",
   "metadata": {},
   "outputs": [
    {
     "name": "stderr",
     "output_type": "stream",
     "text": [
      "No handles with labels found to put in legend.\n"
     ]
    },
    {
     "name": "stdout",
     "output_type": "stream",
     "text": [
      "(8, 6) 184609\n"
     ]
    },
    {
     "data": {
      "image/png": "[encoded data removed]",
      "text/plain": [
       "<Figure size 360x360 with 1 Axes>"
      ]
     },
     "metadata": {
      "needs_background": "light"
     },
     "output_type": "display_data"
    }
   ],
   "source": [
    "# Prepare the plot: labels_section vs number_patents\n",
    "DF_plot1_c=DF_subclass.copy()\n",
    "DF_plot1_c['code_section']= None\n",
    "DF_plot1_c=DF_plot1_c.reset_index(drop=True)\n",
    "for i in range (DF_plot1_c['code'].shape[0]):\n",
    "    DF_plot1_c.loc[i, 'code_section']=DF_plot1_c['code'][i][0:1]\n",
    "DF_plot1_c['freq_section'] = DF_plot1_c.groupby('code_section')['freq_subclass'].transform('sum')\n",
    "DF_plot1_c = DF_plot1_c.drop_duplicates(subset = [\"code_section\"])\n",
    "DF_plot1_c=DF_plot1_c.sort_values(by = 'code_section', ascending=True)\n",
    "DF_plot1_c=DF_plot1_c.reset_index(drop=True)\n",
    "\n",
    "print(DF_plot1_c.shape, DF_plot1_c['freq_section'].sum())\n",
    "\n",
    "x = DF_plot1_c['code_section']\n",
    "y = DF_plot1_c['freq_section']\n",
    "\n",
    "fig, ax = plt.subplots(figsize=(5,5))         # Sample figsize in inches\n",
    "\n",
    "plt.bar(x,y)#,label=\"\")\n",
    "\n",
    "plt.xlabel(\"section label\")\n",
    "plt.ylabel(\"number of patents\")\n",
    "plt.title(\"\")\n",
    "plt.legend()\n",
    "plt.show()"
   ]
  },
  {
   "cell_type": "code",
   "execution_count": 30,
   "id": "49bdbddd",
   "metadata": {},
   "outputs": [
    {
     "name": "stdout",
     "output_type": "stream",
     "text": [
      "Counter({'US': 70245, 'EP': 11990, 'WO': 11354})\n"
     ]
    },
    {
     "data": {
      "image/png": "[encoded data removed]",
      "text/plain": [
       "<Figure size 432x288 with 1 Axes>"
      ]
     },
     "metadata": {
      "needs_background": "light"
     },
     "output_type": "display_data"
    }
   ],
   "source": [
    "print(Counter(DF2_combined['patent_office']))\n",
    "plot1 = Counter(DF2_combined['patent_office'])\n",
    "plt.bar(plot1.keys(), plot1.values())\n",
    "plt.show()"
   ]
  },
  {
   "cell_type": "code",
   "execution_count": 31,
   "id": "5729a1d5",
   "metadata": {},
   "outputs": [
    {
     "data": {
      "image/png": "[encoded data removed]",
      "text/plain": [
       "<Figure size 1008x432 with 1 Axes>"
      ]
     },
     "metadata": {
      "needs_background": "light"
     },
     "output_type": "display_data"
    }
   ],
   "source": [
    "DF2_combined['date']=DF2_combined['date'].astype(str)\n",
    "\n",
    "DF2_combined['month'] = DF2_combined['date'].str[:6]\n",
    "plot2 = Counter(DF2_combined['month'])\n",
    "\n",
    "# Sort by date\n",
    "plot2_sorted = dict(sorted(plot2.items()))\n",
    "\n",
    "# Convert keys to 'YYYY-MM' format\n",
    "labels = [f\"{x[:4]}-{x[4:]}\" for x in plot2_sorted.keys()]\n",
    "values = list(plot2_sorted.values())\n",
    "\n",
    "# Plot\n",
    "plt.figure(figsize=(14, 6))\n",
    "plt.bar(labels, values, color='skyblue')\n",
    "plt.xticks(rotation=45, ha='right')\n",
    "plt.xlabel('Date (YYYY-MM)')\n",
    "plt.ylabel('Number of Entries')\n",
    "plt.title('Distribution of Entries Over Time')\n",
    "plt.tight_layout()\n",
    "plt.show()"
   ]
  },
  {
   "cell_type": "code",
   "execution_count": 32,
   "id": "f68ba065",
   "metadata": {},
   "outputs": [
    {
     "name": "stdout",
     "output_type": "stream",
     "text": [
      "(71407, 9) (11065, 9) (11117, 9)\n"
     ]
    }
   ],
   "source": [
    "from skmultilearn.model_selection import iterative_train_test_split\n",
    "mlb = MultiLabelBinarizer()\n",
    "\n",
    "def balanced_split(df, mlb, test_size=0.1):\n",
    "    ind = np.expand_dims(np.arange(len(df)), axis=1)\n",
    "    mlb.fit_transform(df[\"labels\"])\n",
    "    labels = mlb.transform(df[\"labels\"])\n",
    "    ind_train, _, ind_test, _ = iterative_train_test_split(\n",
    "        ind, labels, test_size\n",
    "    )\n",
    "    return df.iloc[ind_train[:, 0]], df.iloc[ind_test[:, 0]]\n",
    "\n",
    "\n",
    "df_train, df_valid_test = balanced_split(DF2_combined, mlb, test_size=0.2)\n",
    "df_valid, df_test = balanced_split(df_valid_test, mlb, test_size=0.5)\n",
    "print(df_train.shape, df_valid.shape, df_test.shape)"
   ]
  },
  {
   "cell_type": "code",
   "execution_count": 42,
   "id": "1c2956f4",
   "metadata": {},
   "outputs": [
    {
     "name": "stdout",
     "output_type": "stream",
     "text": [
      "Train subclasses: 598 Train groups: 5201\n"
     ]
    }
   ],
   "source": [
    "DF_subclass_list_train_s=DF_subclass['code_subclass'].tolist()\n",
    "DF_subclass_list_train_g=DF_codes['code'].tolist()\n",
    "\n",
    "print(\"Train subclasses:\", len(DF_subclass_list_train_s), \"Train groups:\", len(DF_subclass_list_train_g))"
   ]
  },
  {
   "cell_type": "code",
   "execution_count": 49,
   "id": "87850ef8",
   "metadata": {},
   "outputs": [
    {
     "name": "stdout",
     "output_type": "stream",
     "text": [
      "Valid subclasses: 534 Valid groups: 2904\n"
     ]
    }
   ],
   "source": [
    "DF_subclass_list_valid_s=DF_subclass['code_subclass'].tolist()\n",
    "DF_subclass_list_valid_g=DF_codes['code'].tolist()\n",
    "\n",
    "print(\"Valid subclasses:\", len(DF_subclass_list_valid_s), \"Valid groups:\", len(DF_subclass_list_valid_g))"
   ]
  },
  {
   "cell_type": "code",
   "execution_count": 39,
   "id": "cb0f60aa",
   "metadata": {},
   "outputs": [
    {
     "name": "stdout",
     "output_type": "stream",
     "text": [
      "Test subclasses: 534 Test groups: 2911\n"
     ]
    }
   ],
   "source": [
    "DF_subclass_list_test_s=DF_subclass['code_subclass'].tolist()\n",
    "DF_subclass_list_test_g=DF_codes['code'].tolist()\n",
    "\n",
    "print(\"Test subclasses:\", len(DF_subclass_list_test_s), \"Test groups:\", len(DF_subclass_list_test_g))"
   ]
  },
  {
   "cell_type": "code",
   "execution_count": 48,
   "id": "ceb67838",
   "metadata": {},
   "outputs": [
    {
     "name": "stdout",
     "output_type": "stream",
     "text": [
      "All subclasses: 602 All groups: 5392\n"
     ]
    }
   ],
   "source": [
    "DF_subclass_list_all_s=DF_subclass['code_subclass'].tolist()\n",
    "DF_subclass_list_all_g=DF_codes['code'].tolist()\n",
    "\n",
    "print(\"All subclasses:\", len(DF_subclass_list_all_s), \"All groups:\", len(DF_subclass_list_all_g))"
   ]
  },
  {
   "cell_type": "markdown",
   "id": "a723f39e",
   "metadata": {},
   "source": [
    "### Differences"
   ]
  },
  {
   "cell_type": "markdown",
   "id": "e60be5a7",
   "metadata": {},
   "source": [
    "#### Group"
   ]
  },
  {
   "cell_type": "code",
   "execution_count": 51,
   "id": "de054d16",
   "metadata": {},
   "outputs": [
    {
     "name": "stdout",
     "output_type": "stream",
     "text": [
      "In valid but not in train set: 114\n",
      "In train but not in valid set: 2411\n"
     ]
    }
   ],
   "source": [
    "diff1 = list(set(DF_subclass_list_valid_g) - set(DF_subclass_list_train_g))\n",
    "print(\"In valid but not in train set:\", len(diff1))\n",
    "diff2 = list(set(DF_subclass_list_train_g) - set(DF_subclass_list_valid_g))\n",
    "print(\"In train but not in valid set:\", len(diff2))"
   ]
  },
  {
   "cell_type": "code",
   "execution_count": 50,
   "id": "7b39901b",
   "metadata": {},
   "outputs": [
    {
     "name": "stdout",
     "output_type": "stream",
     "text": [
      "In test but not in train set: 94\n",
      "In train but not in test set: 2384\n"
     ]
    }
   ],
   "source": [
    "diff1 = list(set(DF_subclass_list_test_g) - set(DF_subclass_list_train_g))\n",
    "print(\"In test but not in train set:\", len(diff1))\n",
    "diff2 = list(set(DF_subclass_list_train_g) - set(DF_subclass_list_test_g))\n",
    "print(\"In train but not in test set:\", len(diff2))"
   ]
  },
  {
   "cell_type": "markdown",
   "id": "a63cacd4",
   "metadata": {},
   "source": [
    "#### Subclass"
   ]
  },
  {
   "cell_type": "code",
   "execution_count": 54,
   "id": "1679ad64",
   "metadata": {},
   "outputs": [
    {
     "name": "stdout",
     "output_type": "stream",
     "text": [
      "In valid but not in train set: 1\n",
      "In train but not in valid set: 65\n"
     ]
    }
   ],
   "source": [
    "diff1 = list(set(DF_subclass_list_valid_s) - set(DF_subclass_list_train_s))\n",
    "print(\"In valid but not in train set:\", len(diff1))\n",
    "diff2 = list(set(DF_subclass_list_train_s) - set(DF_subclass_list_valid_s))\n",
    "print(\"In train but not in valid set:\", len(diff2))"
   ]
  },
  {
   "cell_type": "code",
   "execution_count": 55,
   "id": "36462eb8",
   "metadata": {},
   "outputs": [
    {
     "name": "stdout",
     "output_type": "stream",
     "text": [
      "In test but not in train set: 1\n",
      "In train but not in test set: 65\n"
     ]
    }
   ],
   "source": [
    "diff1 = list(set(DF_subclass_list_test_s) - set(DF_subclass_list_train_s))\n",
    "print(\"In test but not in train set:\", len(diff1))\n",
    "diff2 = list(set(DF_subclass_list_train_s) - set(DF_subclass_list_test_s))\n",
    "print(\"In train but not in test set:\", len(diff2))"
   ]
  },
  {
   "cell_type": "code",
   "execution_count": 56,
   "id": "be65dff3",
   "metadata": {},
   "outputs": [],
   "source": [
    "df_train.to_csv('/PATH/WPI-Dataset/EP_US_WO_all_ipcr_train.csv', index=False)\n",
    "df_valid.to_csv('/PATH/WPI-Dataset/EP_US_WO_all_ipcr_valid.csv', index=False)\n",
    "df_test.to_csv('/PATH/WPI-Dataset/EP_US_WO_all_ipcr_test.csv', index=False)"
   ]
  },
  {
   "cell_type": "code",
   "execution_count": null,
   "id": "df887998",
   "metadata": {},
   "outputs": [],
   "source": []
  }
 ],
 "metadata": {
  "colab": {
   "provenance": [
    {
     "file_id": "1zGbAMn-XSm6d8IebnDcsFzs0Tzayw7Ea",
     "timestamp": 1738226091508
    },
    {
     "file_id": "1osBOU0-CVQo6a77vQTFPjv_O7gDdgh_-",
     "timestamp": 1737980282687
    },
    {
     "file_id": "1mr4EiAzpelueg6H1MNvENO3257L_4qlb",
     "timestamp": 1737933478756
    }
   ]
  },
  "kernelspec": {
   "display_name": "Python 3",
   "language": "python",
   "name": "python3"
  },
  "language_info": {
   "codemirror_mode": {
    "name": "ipython",
    "version": 3
   },
   "file_extension": ".py",
   "mimetype": "text/x-python",
   "name": "python",
   "nbconvert_exporter": "python",
   "pygments_lexer": "ipython3",
   "version": "3.6.13"
  }
 },
 "nbformat": 4,
 "nbformat_minor": 5
}
